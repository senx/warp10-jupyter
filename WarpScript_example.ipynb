{
 "cells": [
  {
   "cell_type": "markdown",
   "metadata": {},
   "source": [
    "### This notebook shows how to use cell magics with WarpScript code "
   ]
  },
  {
   "cell_type": "markdown",
   "metadata": {},
   "source": [
    "The extension is contained in the python file `warpscript_cellmagic.py`. Require py4j python library.<br/>\n",
    "It can be placed in your Jupyter extension's folder or loaded as in the following cell."
   ]
  },
  {
   "cell_type": "code",
   "execution_count": 1,
   "metadata": {},
   "outputs": [],
   "source": [
    "%load_ext warpscript_cellmagic"
   ]
  },
  {
   "cell_type": "markdown",
   "metadata": {},
   "source": [
    "The cell magic `%%warpscript` executes Warp Script code on a JVM through a gateway.<br/>\n",
    "The reference of the Warp Script stack is stored under a variable that can be reused in this notebook.<br/>"
   ]
  },
  {
   "cell_type": "markdown",
   "metadata": {},
   "source": [
    "```\n",
    "%%warpscript [--stack STACK] [--address ADDRESS] [--port PORT]\n",
    "\n",
    "optional arguments:\n",
    "  --stack STACK, -s STACK\n",
    "                        The variable that store the resulting WarpScript\n",
    "                        stack. For each connection, a new variable name\n",
    "                        creates a new stack. Default to \"stack_<gateway_id>\".\n",
    "  --address ADDRESS, -a ADDRESS\n",
    "                        The ip address of the gateway connected to the Warp10\n",
    "                        platform or Warp Script module. Default to 127.0.0.1.\n",
    "  --port PORT, -p PORT  The corresponding port of the gateway. Default to\n",
    "                        25333.\n",
    "```"
   ]
  },
  {
   "cell_type": "code",
   "execution_count": 2,
   "metadata": {},
   "outputs": [
    {
     "name": "stdout",
     "output_type": "stream",
     "text": [
      "A connection with 127.0.0.1:25333 has been created.\n",
      "A WarpScript stack stored under the variable \"stack_0\" has been created.\n",
      "The content of the cell has been executed on the stack \"stack_0\".\n"
     ]
    }
   ],
   "source": [
    "%%warpscript\n",
    "'hello' 'a' STORE\n",
    "50"
   ]
  },
  {
   "cell_type": "code",
   "execution_count": 3,
   "metadata": {},
   "outputs": [
    {
     "name": "stdout",
     "output_type": "stream",
     "text": [
      "Variable   Type          Data/Info\n",
      "----------------------------------\n",
      "stack_0    JavaObject    io.warp10.script.MemoryWarpScriptStack@298d2f4\n"
     ]
    }
   ],
   "source": [
    "%whos"
   ]
  },
  {
   "cell_type": "markdown",
   "metadata": {},
   "source": [
    "stack_0 contains a java object. Its methods can be accessed. <br/>\n",
    "We can use the pop method to extract the top of the stack."
   ]
  },
  {
   "cell_type": "code",
   "execution_count": 4,
   "metadata": {},
   "outputs": [
    {
     "data": {
      "text/plain": [
       "50"
      ]
     },
     "execution_count": 4,
     "metadata": {},
     "output_type": "execute_result"
    }
   ],
   "source": [
    "stack_0.pop()"
   ]
  },
  {
   "cell_type": "markdown",
   "metadata": {},
   "source": [
    "We can use the load method to retrieve a value stored by the stack."
   ]
  },
  {
   "cell_type": "code",
   "execution_count": 5,
   "metadata": {},
   "outputs": [
    {
     "data": {
      "text/plain": [
       "'hello'"
      ]
     },
     "execution_count": 5,
     "metadata": {},
     "output_type": "execute_result"
    }
   ],
   "source": [
    "stack_0.load('a')"
   ]
  },
  {
   "cell_type": "markdown",
   "metadata": {},
   "source": [
    "A same WarpScript stack can be reused."
   ]
  },
  {
   "cell_type": "code",
   "execution_count": 6,
   "metadata": {},
   "outputs": [
    {
     "name": "stdout",
     "output_type": "stream",
     "text": [
      "The content of the cell has been executed on the stack \"stack_0\".\n"
     ]
    }
   ],
   "source": [
    "%%warpscript\n",
    "$a"
   ]
  },
  {
   "cell_type": "code",
   "execution_count": 7,
   "metadata": {},
   "outputs": [
    {
     "data": {
      "text/plain": [
       "'hello'"
      ]
     },
     "execution_count": 7,
     "metadata": {},
     "output_type": "execute_result"
    }
   ],
   "source": [
    "stack_0.pop()"
   ]
  },
  {
   "cell_type": "markdown",
   "metadata": {},
   "source": [
    "A connection can hold mutiple WarpScript stacks."
   ]
  },
  {
   "cell_type": "code",
   "execution_count": 8,
   "metadata": {},
   "outputs": [
    {
     "name": "stdout",
     "output_type": "stream",
     "text": [
      "A WarpScript stack stored under the variable \"another_stack\" has been created.\n",
      "The content of the cell has been executed on the stack \"another_stack\".\n"
     ]
    }
   ],
   "source": [
    "%%warpscript --stack another_stack\n",
    "50 100"
   ]
  },
  {
   "cell_type": "code",
   "execution_count": 9,
   "metadata": {},
   "outputs": [
    {
     "name": "stdout",
     "output_type": "stream",
     "text": [
      "The content of the cell has been executed on the stack \"another_stack\".\n"
     ]
    }
   ],
   "source": [
    "%%warpscript -s another_stack\n",
    "+"
   ]
  },
  {
   "cell_type": "code",
   "execution_count": 10,
   "metadata": {},
   "outputs": [
    {
     "data": {
      "text/plain": [
       "150"
      ]
     },
     "execution_count": 10,
     "metadata": {},
     "output_type": "execute_result"
    }
   ],
   "source": [
    "another_stack.pop()"
   ]
  }
 ],
 "metadata": {
  "kernelspec": {
   "display_name": "Python 3",
   "language": "python",
   "name": "python3"
  },
  "language_info": {
   "codemirror_mode": {
    "name": "ipython",
    "version": 3
   },
   "file_extension": ".py",
   "mimetype": "text/x-python",
   "name": "python",
   "nbconvert_exporter": "python",
   "pygments_lexer": "ipython3",
   "version": "3.6.6"
  },
  "toc": {
   "base_numbering": 1,
   "nav_menu": {},
   "number_sections": false,
   "sideBar": false,
   "skip_h1_title": false,
   "title_cell": "Table of Contents",
   "title_sidebar": "Contents",
   "toc_cell": false,
   "toc_position": {},
   "toc_section_display": false,
   "toc_window_display": false
  }
 },
 "nbformat": 4,
 "nbformat_minor": 2
}
