{
 "cells": [
  {
   "cell_type": "markdown",
   "metadata": {},
   "source": [
    "### This notebook shows how to make a Pandas DataFrame from WarpScript GTS"
   ]
  },
  {
   "cell_type": "markdown",
   "metadata": {},
   "source": [
    "### 1. From a single GTS to a DataFrame"
   ]
  },
  {
   "cell_type": "code",
   "execution_count": 1,
   "metadata": {},
   "outputs": [
    {
     "name": "stdout",
     "output_type": "stream",
     "text": [
      "Created `%%w` as an alias for `%%warpscript`.\n"
     ]
    }
   ],
   "source": [
    "%load_ext warpscript_cellmagic\n",
    "%alias_magic w warpscript"
   ]
  },
  {
   "cell_type": "markdown",
   "metadata": {},
   "source": [
    "We will need pandas and pickle libraries."
   ]
  },
  {
   "cell_type": "code",
   "execution_count": 2,
   "metadata": {},
   "outputs": [],
   "source": [
    "import pandas as pd\n",
    "import pickle as pkl"
   ]
  },
  {
   "cell_type": "markdown",
   "metadata": {},
   "source": [
    "We first create a random GTS."
   ]
  },
  {
   "cell_type": "code",
   "execution_count": 3,
   "metadata": {},
   "outputs": [
    {
     "name": "stdout",
     "output_type": "stream",
     "text": [
      "Starting connection with 127.0.0.1:25333.\n",
      "Creating a new WarpScript stack accessible under variable \"s\".\n",
      "top: \t<GTS with 10 values>\n",
      "\n"
     ]
    }
   ],
   "source": [
    "%%w -s s\n",
    "NEWGTS 'randGTS' RENAME 1 10 <% h RAND RAND NaN RAND ADDVALUE %> FOR"
   ]
  },
  {
   "cell_type": "markdown",
   "metadata": {},
   "source": [
    "In order to make a GTS understood by a python interpreter, we store its content in a map and pickle it as a dict.<br/>\n",
    "The following macro does this."
   ]
  },
  {
   "cell_type": "code",
   "execution_count": 4,
   "metadata": {},
   "outputs": [
    {
     "name": "stdout",
     "output_type": "stream",
     "text": [
      "top: \t<GTS with 10 values>\n",
      "\n"
     ]
    }
   ],
   "source": [
    "%%w -s s\n",
    "<%\n",
    "    # Documenting the macro\n",
    "    'GTS BOOLEAN @GTStoPickledDict' DOC\n",
    "\n",
    "    # Check there is two arguments on the stack\n",
    "    <% DEPTH 2 < %> <% 'Macro takes two arguments' MSGFAIL %> IFT\n",
    "        \n",
    "    # Check that top is a boolean indicating whether to use GTS classname or selector\n",
    "    <% 1 PICK TYPEOF 'BOOLEAN' != %> <% 'First argument must be a boolean indicating whether to use GTS selector (true) or classname (false)' MSGFAIL %> IFT\n",
    "    \n",
    "    # Check that second argument is a GTS\n",
    "    <% 2 PICK TYPEOF 'GTS' != %> <% 'Second argument must be a GTS' MSGFAIL %> IFT\n",
    "    \n",
    "    # Store the arguments\n",
    "    'withSelector' STORE\n",
    "    'gts' STORE\n",
    "    \n",
    "    # Make name\n",
    "    $gts <% $withSelector %> <% TOSELECTOR %> <% NAME %> IFTE\n",
    "    'name' STORE\n",
    "    \n",
    "    # macro: check not all NaN (for locations and elevations)\n",
    "    <% UNIQUE DUP SIZE 1 == SWAP 0 GET ISNaN && %> 'isAllNaN' STORE\n",
    "        \n",
    "    # Return pickled dict for pandas\n",
    "    {\n",
    "        # ticks\n",
    "        'timestamps' $gts TICKS\n",
    "        \n",
    "        # locations\n",
    "        $gts LOCATIONS 'lon' STORE 'lat' STORE\n",
    "        <% $lat @isAllNaN ! %> <% $name '.lat' + $lat %> IFT\n",
    "        <% $lon @isAllNaN ! %> <% $name '.lon' + $lon %> IFT\n",
    "        \n",
    "        # elevations\n",
    "        $gts ELEVATIONS 'elev' STORE\n",
    "        <% $elev @isAllNaN ! %> <% $name '.elev' + $elev %> IFT\n",
    "        \n",
    "        # values        \n",
    "        $name $gts VALUES\n",
    "    }\n",
    "    ->PICKLE\n",
    "%>\n",
    "'GTStoPickledDict' STORE"
   ]
  },
  {
   "cell_type": "markdown",
   "metadata": {},
   "source": [
    "We evaluate the macro on the random GTS that was left on the stack.<br/>\n",
    "Setting the first argument to false means we drop its labels for its pickled representation."
   ]
  },
  {
   "cell_type": "code",
   "execution_count": 5,
   "metadata": {},
   "outputs": [
    {
     "name": "stdout",
     "output_type": "stream",
     "text": [
      "top: \tb'\\x80\\x02}q\\x00(X\\n\\x00\\x00\\x00timestampsq\\x01]q\\x02(I3600000000\\nI7200000000\\nI10800000000\\nI14400000000\\nI18000000000\\nI21600000000\\nI25200000000\\nI28800000000\\nI32400000000\\nI36000000000\\neX\\x0b\\x00\\x00\\x00randGTS.latq\\x03]q\\x04(G?\\xd9\\xe9N\\x81\\x00\\x00\\x00G?\\xe9z\\xd1\\xe5\\x00\\x00\\x00G?\\xb3\\x9d\\x83\\xf8\\x00\\x00\\x00G?\\xed\\xe8\\x9e\\x88\\x00\\x00\\x00G?\\xd5\\xbc J\\x00\\x00\\x00G?\\x99X{@\\x00\\x00\\x00G?\\xd7\\x0e}\\xf3\\x00\\x00\\x00G?\\xe63_m\\x80\\x00\\x00G?\\xbc\\x83\\xfb\\xdc\\x00\\x00\\x00G?\\xcd\\xd7\\x90\\xd4\\x00\\x00\\x00eX\\x0b\\x00\\x00\\x00randGTS.lonq\\x05]q\\x06(G?\\xec2\\xc2\\x85\\x00\\x00\\x00G?\\xc5\\x19=\\xd0\\x00\\x00\\x00G?\\xc7\\xf5*\\xc8\\x00\\x00\\x00G?\\xab\\xe8\\xd3\\xa0\\x00\\x00\\x00G?\\xdc\\xcd\\xb62\\x00\\x00\\x00G?\\xe8\\x0fb\\xfd\\x00\\x00\\x00G?\\xe5\\xce&2\\x00\\x00\\x00G?\\xe2\\x1e\\xfa\\xa7\\x00\\x00\\x00G?\\xdd\\x14\\xb1\\xc2\\x00\\x00\\x00G?\\xd9\\x03\\xa0\\x8e\\x00\\x00\\x00eX\\x07\\x00\\x00\\x00randGTSq\\x07]q\\x08(G?\\xcaA\\xc1\\x1d\\x8be8G?\\xd5\\xf3b\\x9e\\xd1\\xba\\xb0G?\\xday\\xd5(\\xa2\\x1f\\xb4G?\\xe2\\x08Z\\x8a\\xe0<\\x8dG?\\xe0\\xb3@\\xdf\\x85\\xf6\\xb4G?\\xee\\xc92\\x1b8\\x1e\\x9eG?\\xef\\xf9\\x89t\\xe7\\x00\\x8dG?\\xd9\\x9e\\xdd7\\x9cL\\xd2G?\\xc1C\\xff\\x81\\x9a\\xfeHG?\\xedN\\x9a?\\x11\\xf7Veu.'\n",
      "\n"
     ]
    }
   ],
   "source": [
    "%%w -s s\n",
    "false\n",
    "@GTStoPickledDict"
   ]
  },
  {
   "cell_type": "markdown",
   "metadata": {},
   "source": [
    "We then load the dict from its pickled representation and create a pandas dataframe with it."
   ]
  },
  {
   "cell_type": "code",
   "execution_count": 6,
   "metadata": {},
   "outputs": [
    {
     "data": {
      "text/html": [
       "<div>\n",
       "<style scoped>\n",
       "    .dataframe tbody tr th:only-of-type {\n",
       "        vertical-align: middle;\n",
       "    }\n",
       "\n",
       "    .dataframe tbody tr th {\n",
       "        vertical-align: top;\n",
       "    }\n",
       "\n",
       "    .dataframe thead th {\n",
       "        text-align: right;\n",
       "    }\n",
       "</style>\n",
       "<table border=\"1\" class=\"dataframe\">\n",
       "  <thead>\n",
       "    <tr style=\"text-align: right;\">\n",
       "      <th></th>\n",
       "      <th>timestamps</th>\n",
       "      <th>randGTS.lat</th>\n",
       "      <th>randGTS.lon</th>\n",
       "      <th>randGTS</th>\n",
       "    </tr>\n",
       "  </thead>\n",
       "  <tbody>\n",
       "    <tr>\n",
       "      <th>0</th>\n",
       "      <td>3600000000</td>\n",
       "      <td>0.404865</td>\n",
       "      <td>0.881196</td>\n",
       "      <td>0.205132</td>\n",
       "    </tr>\n",
       "    <tr>\n",
       "      <th>1</th>\n",
       "      <td>7200000000</td>\n",
       "      <td>0.796243</td>\n",
       "      <td>0.164833</td>\n",
       "      <td>0.342980</td>\n",
       "    </tr>\n",
       "    <tr>\n",
       "      <th>2</th>\n",
       "      <td>10800000000</td>\n",
       "      <td>0.076622</td>\n",
       "      <td>0.187169</td>\n",
       "      <td>0.413686</td>\n",
       "    </tr>\n",
       "    <tr>\n",
       "      <th>3</th>\n",
       "      <td>14400000000</td>\n",
       "      <td>0.934646</td>\n",
       "      <td>0.054511</td>\n",
       "      <td>0.563520</td>\n",
       "    </tr>\n",
       "    <tr>\n",
       "      <th>4</th>\n",
       "      <td>18000000000</td>\n",
       "      <td>0.339607</td>\n",
       "      <td>0.450056</td>\n",
       "      <td>0.521882</td>\n",
       "    </tr>\n",
       "    <tr>\n",
       "      <th>5</th>\n",
       "      <td>21600000000</td>\n",
       "      <td>0.024752</td>\n",
       "      <td>0.751878</td>\n",
       "      <td>0.962060</td>\n",
       "    </tr>\n",
       "    <tr>\n",
       "      <th>6</th>\n",
       "      <td>25200000000</td>\n",
       "      <td>0.360260</td>\n",
       "      <td>0.681415</td>\n",
       "      <td>0.999211</td>\n",
       "    </tr>\n",
       "    <tr>\n",
       "      <th>7</th>\n",
       "      <td>28800000000</td>\n",
       "      <td>0.693771</td>\n",
       "      <td>0.566282</td>\n",
       "      <td>0.400321</td>\n",
       "    </tr>\n",
       "    <tr>\n",
       "      <th>8</th>\n",
       "      <td>32400000000</td>\n",
       "      <td>0.111389</td>\n",
       "      <td>0.454388</td>\n",
       "      <td>0.134888</td>\n",
       "    </tr>\n",
       "    <tr>\n",
       "      <th>9</th>\n",
       "      <td>36000000000</td>\n",
       "      <td>0.233141</td>\n",
       "      <td>0.390846</td>\n",
       "      <td>0.915845</td>\n",
       "    </tr>\n",
       "  </tbody>\n",
       "</table>\n",
       "</div>"
      ],
      "text/plain": [
       "    timestamps  randGTS.lat  randGTS.lon   randGTS\n",
       "0   3600000000     0.404865     0.881196  0.205132\n",
       "1   7200000000     0.796243     0.164833  0.342980\n",
       "2  10800000000     0.076622     0.187169  0.413686\n",
       "3  14400000000     0.934646     0.054511  0.563520\n",
       "4  18000000000     0.339607     0.450056  0.521882\n",
       "5  21600000000     0.024752     0.751878  0.962060\n",
       "6  25200000000     0.360260     0.681415  0.999211\n",
       "7  28800000000     0.693771     0.566282  0.400321\n",
       "8  32400000000     0.111389     0.454388  0.134888\n",
       "9  36000000000     0.233141     0.390846  0.915845"
      ]
     },
     "execution_count": 6,
     "metadata": {},
     "output_type": "execute_result"
    }
   ],
   "source": [
    "gts1 = s.pop()\n",
    "df1 = pd.DataFrame.from_dict(pkl.loads(gts1))\n",
    "df1"
   ]
  },
  {
   "cell_type": "markdown",
   "metadata": {},
   "source": [
    "In the following example, we choose to keep label information."
   ]
  },
  {
   "cell_type": "code",
   "execution_count": 7,
   "metadata": {},
   "outputs": [
    {
     "name": "stdout",
     "output_type": "stream",
     "text": [
      "top: \tb'\\x80\\x02}q\\x00(X\\n\\x00\\x00\\x00timestampsq\\x01]q\\x02(I3600000000\\nI7200000000\\nI10800000000\\nI14400000000\\nI18000000000\\nI21600000000\\nI25200000000\\nI28800000000\\nI32400000000\\nI36000000000\\neX\"\\x00\\x00\\x00randGTS{key1=info1,key2=info2}.latq\\x03]q\\x04(G?\\x93#b\\xd0\\x00\\x00\\x00G?\\xcb\\xee\\xdcd\\x00\\x00\\x00G?\\xee4\\xcdv\\x00\\x00\\x00G?\\xef\\x94\\xf5\\xf3\\x80\\x00\\x00G?\\xef?Jm\\x80\\x00\\x00G?\\xc6\\xbe\\x15\\xca\\x00\\x00\\x00G?\\xc93\\xdc\\xd6\\x00\\x00\\x00G?\\xe0\\xa5T\\xb9\\x00\\x00\\x00G?\\xca\\x97\\xd6\\x0e\\x00\\x00\\x00G?\\xdc\\xa0L\\x8d\\x00\\x00\\x00eX\"\\x00\\x00\\x00randGTS{key1=info1,key2=info2}.lonq\\x05]q\\x06(G?\\xbfm7x\\x00\\x00\\x00G?\\xe82Cr\\x00\\x00\\x00G?\\xe0f\\xc7\\x94\\x00\\x00\\x00G?\\xdc\\x1b\\xbaJ\\x00\\x00\\x00G?\\xc4-K\\xdc\\x00\\x00\\x00G?\\xc1\\x8f\\xc3\\x14\\x00\\x00\\x00G?\\xdb6\\x14@\\x00\\x00\\x00G?\\xed\\xb6C\\xf7\\x00\\x00\\x00G?\\xe6\\x9a\\xa1&\\x00\\x00\\x00G?\\xb1#\\x9c \\x00\\x00\\x00eX\\x1e\\x00\\x00\\x00randGTS{key1=info1,key2=info2}q\\x07]q\\x08(G?\\xddJR6\\xdfe\\xf4G?\\xe6mu\\x96\\xd5T(G?}(98\\x14p\\x80G?\\xbf\\xc2\\x19\\xab\\xea\\xe1\\x08G?j\\x84\\xea\\xdaz3\\x00G?\\xe6\\xb8\\x81\\xfb\\x03{\\x8dG?\\xec\\x82\\xdd82\\x0c\\\\G?\\xd69R\\xa0B\\x0f\\x1cG?\\xbb\\x8d\\xc9\\xa2\\xf7\\n\\x18G?\\xe6c\\x84Rn{\\xe2eu.'\n",
      "\n"
     ]
    }
   ],
   "source": [
    "%%w -s s\n",
    "NEWGTS 'randGTS' RENAME 1 10 <% h RAND RAND NaN RAND ADDVALUE %> FOR\n",
    "{ 'key1' 'info1' 'key2' 'info2' } RELABEL\n",
    "true\n",
    "@GTStoPickledDict"
   ]
  },
  {
   "cell_type": "code",
   "execution_count": 8,
   "metadata": {},
   "outputs": [
    {
     "data": {
      "text/html": [
       "<div>\n",
       "<style scoped>\n",
       "    .dataframe tbody tr th:only-of-type {\n",
       "        vertical-align: middle;\n",
       "    }\n",
       "\n",
       "    .dataframe tbody tr th {\n",
       "        vertical-align: top;\n",
       "    }\n",
       "\n",
       "    .dataframe thead th {\n",
       "        text-align: right;\n",
       "    }\n",
       "</style>\n",
       "<table border=\"1\" class=\"dataframe\">\n",
       "  <thead>\n",
       "    <tr style=\"text-align: right;\">\n",
       "      <th></th>\n",
       "      <th>timestamps</th>\n",
       "      <th>randGTS{key1=info1,key2=info2}.lat</th>\n",
       "      <th>randGTS{key1=info1,key2=info2}.lon</th>\n",
       "      <th>randGTS{key1=info1,key2=info2}</th>\n",
       "    </tr>\n",
       "  </thead>\n",
       "  <tbody>\n",
       "    <tr>\n",
       "      <th>0</th>\n",
       "      <td>3600000000</td>\n",
       "      <td>0.018690</td>\n",
       "      <td>0.122760</td>\n",
       "      <td>0.457661</td>\n",
       "    </tr>\n",
       "    <tr>\n",
       "      <th>1</th>\n",
       "      <td>7200000000</td>\n",
       "      <td>0.218227</td>\n",
       "      <td>0.756136</td>\n",
       "      <td>0.700862</td>\n",
       "    </tr>\n",
       "    <tr>\n",
       "      <th>2</th>\n",
       "      <td>10800000000</td>\n",
       "      <td>0.943946</td>\n",
       "      <td>0.512546</td>\n",
       "      <td>0.007118</td>\n",
       "    </tr>\n",
       "    <tr>\n",
       "      <th>3</th>\n",
       "      <td>14400000000</td>\n",
       "      <td>0.986934</td>\n",
       "      <td>0.439192</td>\n",
       "      <td>0.124055</td>\n",
       "    </tr>\n",
       "    <tr>\n",
       "      <th>4</th>\n",
       "      <td>18000000000</td>\n",
       "      <td>0.976476</td>\n",
       "      <td>0.157632</td>\n",
       "      <td>0.003237</td>\n",
       "    </tr>\n",
       "    <tr>\n",
       "      <th>5</th>\n",
       "      <td>21600000000</td>\n",
       "      <td>0.177676</td>\n",
       "      <td>0.137200</td>\n",
       "      <td>0.710023</td>\n",
       "    </tr>\n",
       "    <tr>\n",
       "      <th>6</th>\n",
       "      <td>25200000000</td>\n",
       "      <td>0.196895</td>\n",
       "      <td>0.425176</td>\n",
       "      <td>0.890975</td>\n",
       "    </tr>\n",
       "    <tr>\n",
       "      <th>7</th>\n",
       "      <td>28800000000</td>\n",
       "      <td>0.520182</td>\n",
       "      <td>0.928499</td>\n",
       "      <td>0.347249</td>\n",
       "    </tr>\n",
       "    <tr>\n",
       "      <th>8</th>\n",
       "      <td>32400000000</td>\n",
       "      <td>0.207759</td>\n",
       "      <td>0.706376</td>\n",
       "      <td>0.107632</td>\n",
       "    </tr>\n",
       "    <tr>\n",
       "      <th>9</th>\n",
       "      <td>36000000000</td>\n",
       "      <td>0.447284</td>\n",
       "      <td>0.066950</td>\n",
       "      <td>0.699648</td>\n",
       "    </tr>\n",
       "  </tbody>\n",
       "</table>\n",
       "</div>"
      ],
      "text/plain": [
       "    timestamps  randGTS{key1=info1,key2=info2}.lat  \\\n",
       "0   3600000000                            0.018690   \n",
       "1   7200000000                            0.218227   \n",
       "2  10800000000                            0.943946   \n",
       "3  14400000000                            0.986934   \n",
       "4  18000000000                            0.976476   \n",
       "5  21600000000                            0.177676   \n",
       "6  25200000000                            0.196895   \n",
       "7  28800000000                            0.520182   \n",
       "8  32400000000                            0.207759   \n",
       "9  36000000000                            0.447284   \n",
       "\n",
       "   randGTS{key1=info1,key2=info2}.lon  randGTS{key1=info1,key2=info2}  \n",
       "0                            0.122760                        0.457661  \n",
       "1                            0.756136                        0.700862  \n",
       "2                            0.512546                        0.007118  \n",
       "3                            0.439192                        0.124055  \n",
       "4                            0.157632                        0.003237  \n",
       "5                            0.137200                        0.710023  \n",
       "6                            0.425176                        0.890975  \n",
       "7                            0.928499                        0.347249  \n",
       "8                            0.706376                        0.107632  \n",
       "9                            0.066950                        0.699648  "
      ]
     },
     "execution_count": 8,
     "metadata": {},
     "output_type": "execute_result"
    }
   ],
   "source": [
    "gts2 = s.pop()\n",
    "df2 = pd.DataFrame.from_dict(pkl.loads(gts2))\n",
    "df2"
   ]
  },
  {
   "cell_type": "markdown",
   "metadata": {},
   "source": [
    "We can also not use geo information."
   ]
  },
  {
   "cell_type": "code",
   "execution_count": 9,
   "metadata": {},
   "outputs": [
    {
     "name": "stdout",
     "output_type": "stream",
     "text": [
      "top: \tb'\\x80\\x02}q\\x00(X\\n\\x00\\x00\\x00timestampsq\\x01]q\\x02(I7200000000\\nI10800000000\\nI14400000000\\nI18000000000\\nI21600000000\\nI25200000000\\nI28800000000\\nI32400000000\\nI36000000000\\nI39600000000\\neX\\x06\\x00\\x00\\x00randTSq\\x03]q\\x04(G?\\xb7Qq\\xe3E\\xed0G?\\x98PcL\\x08\\xc6\\xa0G?\\xdd\\x94\\xfa\\x1e\\xd1\\x85TG?\\xe7\\x93^\\xe6:\\xcc\\xfeG?\\xef\\xa6\\xf5\\x8a\\x07\\x95HG?\\xca\\xe5\\x11@\\x0c\\x0clG?\\x9c_E\\xfb\\xfa\\x9c@G?\\xed\\xd4^\\xd5-\\r\\x90G?\\xa0\\x8f\\xf98\\xf4\\xff\\x10G?\\xcc\\xdb,\\xdf\\xee\\x7f\\xa8eu.'\n",
      "\n"
     ]
    }
   ],
   "source": [
    "%%w -s s\n",
    "NEWGTS 'randTS' RENAME 2 11 <% h NaN NaN NaN RAND ADDVALUE %> FOR\n",
    "false\n",
    "@GTStoPickledDict"
   ]
  },
  {
   "cell_type": "code",
   "execution_count": 10,
   "metadata": {},
   "outputs": [
    {
     "data": {
      "text/html": [
       "<div>\n",
       "<style scoped>\n",
       "    .dataframe tbody tr th:only-of-type {\n",
       "        vertical-align: middle;\n",
       "    }\n",
       "\n",
       "    .dataframe tbody tr th {\n",
       "        vertical-align: top;\n",
       "    }\n",
       "\n",
       "    .dataframe thead th {\n",
       "        text-align: right;\n",
       "    }\n",
       "</style>\n",
       "<table border=\"1\" class=\"dataframe\">\n",
       "  <thead>\n",
       "    <tr style=\"text-align: right;\">\n",
       "      <th></th>\n",
       "      <th>timestamps</th>\n",
       "      <th>randTS</th>\n",
       "    </tr>\n",
       "  </thead>\n",
       "  <tbody>\n",
       "    <tr>\n",
       "      <th>0</th>\n",
       "      <td>7200000000</td>\n",
       "      <td>0.091087</td>\n",
       "    </tr>\n",
       "    <tr>\n",
       "      <th>1</th>\n",
       "      <td>10800000000</td>\n",
       "      <td>0.023744</td>\n",
       "    </tr>\n",
       "    <tr>\n",
       "      <th>2</th>\n",
       "      <td>14400000000</td>\n",
       "      <td>0.462218</td>\n",
       "    </tr>\n",
       "    <tr>\n",
       "      <th>3</th>\n",
       "      <td>18000000000</td>\n",
       "      <td>0.736740</td>\n",
       "    </tr>\n",
       "    <tr>\n",
       "      <th>4</th>\n",
       "      <td>21600000000</td>\n",
       "      <td>0.989131</td>\n",
       "    </tr>\n",
       "    <tr>\n",
       "      <th>5</th>\n",
       "      <td>25200000000</td>\n",
       "      <td>0.210116</td>\n",
       "    </tr>\n",
       "    <tr>\n",
       "      <th>6</th>\n",
       "      <td>28800000000</td>\n",
       "      <td>0.027707</td>\n",
       "    </tr>\n",
       "    <tr>\n",
       "      <th>7</th>\n",
       "      <td>32400000000</td>\n",
       "      <td>0.932174</td>\n",
       "    </tr>\n",
       "    <tr>\n",
       "      <th>8</th>\n",
       "      <td>36000000000</td>\n",
       "      <td>0.032348</td>\n",
       "    </tr>\n",
       "    <tr>\n",
       "      <th>9</th>\n",
       "      <td>39600000000</td>\n",
       "      <td>0.225439</td>\n",
       "    </tr>\n",
       "  </tbody>\n",
       "</table>\n",
       "</div>"
      ],
      "text/plain": [
       "    timestamps    randTS\n",
       "0   7200000000  0.091087\n",
       "1  10800000000  0.023744\n",
       "2  14400000000  0.462218\n",
       "3  18000000000  0.736740\n",
       "4  21600000000  0.989131\n",
       "5  25200000000  0.210116\n",
       "6  28800000000  0.027707\n",
       "7  32400000000  0.932174\n",
       "8  36000000000  0.032348\n",
       "9  39600000000  0.225439"
      ]
     },
     "execution_count": 10,
     "metadata": {},
     "output_type": "execute_result"
    }
   ],
   "source": [
    "gts3 = s.pop()\n",
    "df3 = pd.DataFrame.from_dict(pkl.loads(gts3))\n",
    "df3"
   ]
  },
  {
   "cell_type": "markdown",
   "metadata": {},
   "source": [
    "### 2. Revert a DataFrame to a GTS"
   ]
  },
  {
   "cell_type": "markdown",
   "metadata": {},
   "source": [
    "To revert a DataFrame to a GTS, we first need to convert the DataFrame into a dict."
   ]
  },
  {
   "cell_type": "code",
   "execution_count": 11,
   "metadata": {},
   "outputs": [
    {
     "data": {
      "text/plain": [
       "{'timestamps': [3600000000,\n",
       "  7200000000,\n",
       "  10800000000,\n",
       "  14400000000,\n",
       "  18000000000,\n",
       "  21600000000,\n",
       "  25200000000,\n",
       "  28800000000,\n",
       "  32400000000,\n",
       "  36000000000],\n",
       " 'randGTS.lat': [0.40486490819603205,\n",
       "  0.7962426636368036,\n",
       "  0.0766222458332777,\n",
       "  0.9346459060907364,\n",
       "  0.33960730768740177,\n",
       "  0.02475159242749214,\n",
       "  0.3602595208212733,\n",
       "  0.6937710894271731,\n",
       "  0.11138891335576773,\n",
       "  0.23314104415476322],\n",
       " 'randGTS.lon': [0.8811962697654963,\n",
       "  0.16483280807733536,\n",
       "  0.1871694065630436,\n",
       "  0.054510701447725296,\n",
       "  0.4500556457787752,\n",
       "  0.7518782559782267,\n",
       "  0.6814146973192692,\n",
       "  0.5662816297262907,\n",
       "  0.45438808389008045,\n",
       "  0.39084638468921185],\n",
       " 'randGTS': [0.20513166372874436,\n",
       "  0.3429800559014593,\n",
       "  0.4136860749063047,\n",
       "  0.5635197365208043,\n",
       "  0.5218815198602074,\n",
       "  0.962060025370153,\n",
       "  0.999211052250773,\n",
       "  0.4003212969848394,\n",
       "  0.13488763645544766,\n",
       "  0.9158450347747287]}"
      ]
     },
     "execution_count": 11,
     "metadata": {},
     "output_type": "execute_result"
    }
   ],
   "source": [
    "gts1b = df1.to_dict('list')\n",
    "gts1b"
   ]
  },
  {
   "cell_type": "markdown",
   "metadata": {},
   "source": [
    "We can push this dict directly onto the stack, since it will be automatically converted in the JVM."
   ]
  },
  {
   "cell_type": "code",
   "execution_count": 12,
   "metadata": {},
   "outputs": [
    {
     "data": {
      "text/plain": [
       "top: \t{'randGTS.lat': [0.40486490819603205, 0.7962426636368036, 0.0766222458332777, 0.9346459060907364, 0.33960730768740177, 0.02475159242749214, 0.3602595208212733, 0.6937710894271731, 0.11138891335576773, 0.23314104415476322], 'timestamps': [3600000000, 7200000000, 10800000000, 14400000000, 18000000000, 21600000000, 25200000000, 28800000000, 32400000000, 36000000000], 'randGTS': [0.20513166372874436, 0.3429800559014593, 0.4136860749063047, 0.5635197365208043, 0.5218815198602074, 0.962060025370153, 0.999211052250773, 0.4003212969848394, 0.13488763645544766, 0.9158450347747287], 'randGTS.lon': [0.8811962697654963, 0.16483280807733536, 0.1871694065630436, 0.054510701447725296, 0.4500556457787752, 0.7518782559782267, 0.6814146973192692, 0.5662816297262907, 0.45438808389008045, 0.39084638468921185]}"
      ]
     },
     "execution_count": 12,
     "metadata": {},
     "output_type": "execute_result"
    }
   ],
   "source": [
    "s.push(gts1b)\n",
    "s"
   ]
  },
  {
   "cell_type": "markdown",
   "metadata": {},
   "source": [
    "Now we can use the lists contained in this map to populate a GTS."
   ]
  },
  {
   "cell_type": "code",
   "execution_count": 13,
   "metadata": {},
   "outputs": [
    {
     "name": "stdout",
     "output_type": "stream",
     "text": [
      "top: \t<GTS with 10 values>\n",
      "\n"
     ]
    }
   ],
   "source": [
    "%%w -s s\n",
    "'dict' STORE\n",
    "$dict 'timestamps' GET\n",
    "$dict 'randGTS.lat' GET\n",
    "$dict 'randGTS.lon' GET\n",
    "[] // no elevation\n",
    "$dict 'randGTS' GET\n",
    "MAKEGTS 'randGTS' RENAME"
   ]
  },
  {
   "cell_type": "code",
   "execution_count": 14,
   "metadata": {},
   "outputs": [
    {
     "name": "stdout",
     "output_type": "stream",
     "text": [
      "randGTS{}\n",
      "=3600000000/0.40486490819603205:0.8811962697654963/ 0.20513166372874436\n",
      "=7200000000/0.7962426636368036:0.16483280807733536/ 0.3429800559014593\n",
      "=10800000000/0.0766222458332777:0.1871694065630436/ 0.4136860749063047\n",
      "=14400000000/0.9346459060907364:0.054510701447725296/ 0.5635197365208043\n",
      "=18000000000/0.33960730768740177:0.4500556457787752/ 0.5218815198602074\n",
      "=21600000000/0.02475159242749214:0.7518782559782267/ 0.962060025370153\n",
      "=25200000000/0.3602595208212733:0.6814146973192692/ 0.999211052250773\n",
      "=28800000000/0.6937710894271731:0.5662816297262907/ 0.4003212969848394\n",
      "=32400000000/0.11138891335576773:0.45438808389008045/ 0.13488763645544766\n",
      "=36000000000/0.23314104415476322:0.39084638468921185/ 0.9158450347747287\n",
      "\n"
     ]
    }
   ],
   "source": [
    "print(s.pop().toString())"
   ]
  },
  {
   "cell_type": "markdown",
   "metadata": {},
   "source": [
    "### 3. From a list of GTS to a DataFrame"
   ]
  },
  {
   "cell_type": "markdown",
   "metadata": {},
   "source": [
    "When converting a list of GTS to a DataFrame, we need to handle missing values in the resulting DataFrame since the<br/>\n",
    "GTS can have different timestamps. It is more efficient to do that in WarpScript, as done in by following macro."
   ]
  },
  {
   "cell_type": "code",
   "execution_count": 15,
   "metadata": {},
   "outputs": [
    {
     "name": "stdout",
     "output_type": "stream",
     "text": [
      "Creating a new WarpScript stack accessible under variable \"s\".\n",
      "\n"
     ]
    }
   ],
   "source": [
    "%%w -s s -o\n",
    "<%\n",
    "    # Documenting the macro\n",
    "    '[GTS] BOOLEAN @ListGTStoPickledDict' DOC\n",
    "\n",
    "    # Check there is two arguments on the stack\n",
    "    <% DEPTH 2 < %> <% 'Macro takes two arguments' MSGFAIL %> IFT\n",
    "        \n",
    "    # Check that top is a boolean indicating whether to use GTS classname or selector\n",
    "    <% 1 PICK TYPEOF 'BOOLEAN' != %> <% 'First argument must be a boolean indicating whether to use GTS selector (true) or classname (false)' MSGFAIL %> IFT\n",
    "    \n",
    "    # Check that second argument is a list of GTS\n",
    "    <% 2 PICK TYPEOF 'LIST' != %> <% 'Second argument must be a List of GTS' MSGFAIL %> IFT\n",
    "    2 PICK <% <% TYPEOF 'GTS' != %> <% 'Second argument is a list that has an element that is not a GTS' MSGFAIL %> IFT %> FOREACH\n",
    "    \n",
    "    # Store the arguments\n",
    "    'withSelector' STORE\n",
    "    'gtsList' STORE\n",
    "    \n",
    "    # make tickbase of all GTS\n",
    "    $gtsList TICKS 'ticks' STORE\n",
    "    $ticks [] [] [] $ticks MAKEGTS 'baseGTS' STORE\n",
    "    \n",
    "    # macro: check not all NaN (for locations and elevations)\n",
    "    <% UNIQUE DUP SIZE 1 == SWAP 0 GET ISNaN && %> 'isAllNaN' STORE\n",
    "        \n",
    "    # Return pickled dict for pandas\n",
    "    {\n",
    "        # ticks\n",
    "        'timestamps' $ticks\n",
    "        \n",
    "        # loop over list of GTS\n",
    "        $gtsList\n",
    "        <%\n",
    "            'gts' STORE\n",
    "            \n",
    "            # Make name\n",
    "            $gts <% $withSelector %> <% TOSELECTOR %> <% NAME %> IFTE\n",
    "            'name' STORE\n",
    "        \n",
    "            # Put on the same tick base and fill missing values with NaN\n",
    "            [ $gts true mapper.replace 0 0 0 ] MAP\n",
    "            'mask' STORE\n",
    "            [ $mask [ $baseGTS ] [] op.negmask ] APPLY\n",
    "            [ SWAP NaN mapper.replace 0 0 0 ] MAP\n",
    "            0 GET 'residualSeries' STORE\n",
    "            [ $gts $residualSeries ] MERGE SORT\n",
    "            'gts' STORE\n",
    "        \n",
    "            # locations\n",
    "            $gts LOCATIONS 'lon' STORE 'lat' STORE\n",
    "            <% $lat @isAllNaN ! %> <% $name '.lat' + $lat %> IFT\n",
    "            <% $lon @isAllNaN ! %> <% $name '.lon' + $lon %> IFT\n",
    "        \n",
    "            # elevations\n",
    "            $gts ELEVATIONS 'elev' STORE\n",
    "            <% $elev @isAllNaN ! %> <% $name '.elev' + $elev %> IFT\n",
    "        \n",
    "            # values        \n",
    "            $name $gts VALUES\n",
    "        %>\n",
    "        FOREACH\n",
    "    }\n",
    "    ->PICKLE\n",
    "%>\n",
    "'ListGTStoPickledDict' STORE"
   ]
  },
  {
   "cell_type": "markdown",
   "metadata": {},
   "source": [
    "We apply the macro ListGTStoPickledDict similarly than GTStoPickledDict,<br/>\n",
    "except that it takes a list of GTS instead of a single GTS as second argument."
   ]
  },
  {
   "cell_type": "code",
   "execution_count": 16,
   "metadata": {},
   "outputs": [
    {
     "name": "stdout",
     "output_type": "stream",
     "text": [
      "top: \tb'\\x80\\x02}q\\x00(X\\n\\x00\\x00\\x00timestampsq\\x01]q\\x02(I3600000000\\nI7200000000\\nI10800000000\\nI14400000000\\nI18000000000\\nI21600000000\\nI25200000000\\nI28800000000\\nI32400000000\\nI36000000000\\nI39600000000\\neX\\x0b\\x00\\x00\\x00randGTS.latq\\x03]q\\x04(G?\\xe0\\xcd\\xff1\\x00\\x00\\x00G?\\xe5\\xf2A\\xd4\\x00\\x00\\x00G?\\xdf\\x04\\xba\\xd6\\x00\\x00\\x00G?\\xdfL:\\x96\\x00\\x00\\x00G?\\xc6\\x12\\xe9H\\x00\\x00\\x00G?\\xaa\\xd8(0\\x00\\x00\\x00G?\\x95\\xad\\x9c\\xa0\\x00\\x00\\x00G?\\xdb\\x10Eb\\x00\\x00\\x00G?\\xd9h;\\xd9\\x00\\x00\\x00G?\\xe6(\\xf5Z\\x80\\x00\\x00G\\x7f\\xf8\\x00\\x00\\x00\\x00\\x00\\x00eX\\x0b\\x00\\x00\\x00randGTS.lonq\\x05]q\\x06(G?\\xday\\xf4\\x0e\\x00\\x00\\x00G?\\xe5\\xb81\\x10\\x00\\x00\\x00G?\\xe6qY[\\x00\\x00\\x00G?\\xc66\\xec\\xa8\\x00\\x00\\x00G?\\xd9,\\xc0r\\x00\\x00\\x00G?\\xd1!\\x016\\x00\\x00\\x00G?\\xc90\\xa3\\x04\\x00\\x00\\x00G?\\xc8\\xee\\x94\\xdc\\x00\\x00\\x00G?\\xdf\\x87\\x14\\x18\\x00\\x00\\x00G?\\xe1\\xb38l\\x00\\x00\\x00G\\x7f\\xf8\\x00\\x00\\x00\\x00\\x00\\x00eX\\x07\\x00\\x00\\x00randGTSq\\x07]q\\x08(G?\\xa1\\x13!\\xeb\\xe1S\\xd0G?\\xbf\"\\xf7\\x07<.pG?\\xed\\x19=\\r7q\\xf8G?\\xe49P\\x9e!#\\xd1G?\\xda\\n\\xb8Nn\\x1a:G?\\xeck\\x97\\x9a\\xfd\\xb7\\xa2G?\\xd2\\xfa\\x10_\\xc3j\\xe8G?\\xd4\\xb1)\\xf2\\xb49\\x08G?\\xe0\\xcf[m\\x86\\xa0\\x14G?\\xea\\xd7\\x0b\\x86\\x96\\x99\\xaeG\\x7f\\xf8\\x00\\x00\\x00\\x00\\x00\\x00eX\\x06\\x00\\x00\\x00randTSq\\t]q\\n(G\\x7f\\xf8\\x00\\x00\\x00\\x00\\x00\\x00G?\\xebq\\x0b?(4\\x84G?\\xd9\\xd8\\x97\\xf0\\xb4\\x0c\\xdeG?\\xe5\\t\\xde\\x8e\\xafG\\tG?\\xd6^w5\\x99\\x1c\\xf0G?\\xee`\\xf4\\x8fq\\xb0\\xb1G?\\xe5>\\xbbt\\xba\\x97vG?\\xeaFH\\xa4[\\xfb\\x8fG?\\xe1\\x8a_\\xee\\x19\\xb7\\tG?\\xe2\\xc1\\x12\\x89]\\x14\\xb4G?\\xe1`\\x19a\\x88\\n\\x19eX\\x08\\x00\\x00\\x00stringTSq\\x0b]q\\x0c(X\\x03\\x00\\x00\\x00NaNq\\rh\\rh\\rh\\rX\\x08\\x00\\x00\\x00a stringq\\x0eh\\x0eh\\x0eh\\x0eh\\rh\\rh\\reu.'\n",
      "\n"
     ]
    }
   ],
   "source": [
    "%%w -s s\n",
    "[ NEWGTS 'randGTS' RENAME 1 10 <% h RAND RAND NaN RAND ADDVALUE %> FOR\n",
    "  NEWGTS 'randTS' RENAME 2 11 <% h NaN NaN NaN RAND ADDVALUE %> FOR\n",
    "  NEWGTS 'stringTS' RENAME 5 8 <% h NaN NaN NaN 'a string' ADDVALUE %> FOR ]\n",
    "false\n",
    "@ListGTStoPickledDict"
   ]
  },
  {
   "cell_type": "code",
   "execution_count": 17,
   "metadata": {},
   "outputs": [
    {
     "data": {
      "text/html": [
       "<div>\n",
       "<style scoped>\n",
       "    .dataframe tbody tr th:only-of-type {\n",
       "        vertical-align: middle;\n",
       "    }\n",
       "\n",
       "    .dataframe tbody tr th {\n",
       "        vertical-align: top;\n",
       "    }\n",
       "\n",
       "    .dataframe thead th {\n",
       "        text-align: right;\n",
       "    }\n",
       "</style>\n",
       "<table border=\"1\" class=\"dataframe\">\n",
       "  <thead>\n",
       "    <tr style=\"text-align: right;\">\n",
       "      <th></th>\n",
       "      <th>timestamps</th>\n",
       "      <th>randGTS.lat</th>\n",
       "      <th>randGTS.lon</th>\n",
       "      <th>randGTS</th>\n",
       "      <th>randTS</th>\n",
       "      <th>stringTS</th>\n",
       "    </tr>\n",
       "  </thead>\n",
       "  <tbody>\n",
       "    <tr>\n",
       "      <th>0</th>\n",
       "      <td>3600000000</td>\n",
       "      <td>0.525146</td>\n",
       "      <td>0.413693</td>\n",
       "      <td>0.033349</td>\n",
       "      <td>NaN</td>\n",
       "      <td>NaN</td>\n",
       "    </tr>\n",
       "    <tr>\n",
       "      <th>1</th>\n",
       "      <td>7200000000</td>\n",
       "      <td>0.685822</td>\n",
       "      <td>0.678734</td>\n",
       "      <td>0.121627</td>\n",
       "      <td>0.857549</td>\n",
       "      <td>NaN</td>\n",
       "    </tr>\n",
       "    <tr>\n",
       "      <th>2</th>\n",
       "      <td>10800000000</td>\n",
       "      <td>0.484664</td>\n",
       "      <td>0.701337</td>\n",
       "      <td>0.909331</td>\n",
       "      <td>0.403845</td>\n",
       "      <td>NaN</td>\n",
       "    </tr>\n",
       "    <tr>\n",
       "      <th>3</th>\n",
       "      <td>14400000000</td>\n",
       "      <td>0.489028</td>\n",
       "      <td>0.173551</td>\n",
       "      <td>0.631996</td>\n",
       "      <td>0.657455</td>\n",
       "      <td>NaN</td>\n",
       "    </tr>\n",
       "    <tr>\n",
       "      <th>4</th>\n",
       "      <td>18000000000</td>\n",
       "      <td>0.172452</td>\n",
       "      <td>0.393356</td>\n",
       "      <td>0.406904</td>\n",
       "      <td>0.349516</td>\n",
       "      <td>a string</td>\n",
       "    </tr>\n",
       "    <tr>\n",
       "      <th>5</th>\n",
       "      <td>21600000000</td>\n",
       "      <td>0.052430</td>\n",
       "      <td>0.267639</td>\n",
       "      <td>0.888134</td>\n",
       "      <td>0.949335</td>\n",
       "      <td>a string</td>\n",
       "    </tr>\n",
       "    <tr>\n",
       "      <th>6</th>\n",
       "      <td>25200000000</td>\n",
       "      <td>0.021170</td>\n",
       "      <td>0.196797</td>\n",
       "      <td>0.296513</td>\n",
       "      <td>0.663908</td>\n",
       "      <td>a string</td>\n",
       "    </tr>\n",
       "    <tr>\n",
       "      <th>7</th>\n",
       "      <td>28800000000</td>\n",
       "      <td>0.422868</td>\n",
       "      <td>0.194781</td>\n",
       "      <td>0.323313</td>\n",
       "      <td>0.821080</td>\n",
       "      <td>a string</td>\n",
       "    </tr>\n",
       "    <tr>\n",
       "      <th>8</th>\n",
       "      <td>32400000000</td>\n",
       "      <td>0.396987</td>\n",
       "      <td>0.492620</td>\n",
       "      <td>0.525312</td>\n",
       "      <td>0.548141</td>\n",
       "      <td>NaN</td>\n",
       "    </tr>\n",
       "    <tr>\n",
       "      <th>9</th>\n",
       "      <td>36000000000</td>\n",
       "      <td>0.692500</td>\n",
       "      <td>0.553127</td>\n",
       "      <td>0.838751</td>\n",
       "      <td>0.586068</td>\n",
       "      <td>NaN</td>\n",
       "    </tr>\n",
       "    <tr>\n",
       "      <th>10</th>\n",
       "      <td>39600000000</td>\n",
       "      <td>NaN</td>\n",
       "      <td>NaN</td>\n",
       "      <td>NaN</td>\n",
       "      <td>0.542981</td>\n",
       "      <td>NaN</td>\n",
       "    </tr>\n",
       "  </tbody>\n",
       "</table>\n",
       "</div>"
      ],
      "text/plain": [
       "     timestamps  randGTS.lat  randGTS.lon   randGTS    randTS  stringTS\n",
       "0    3600000000     0.525146     0.413693  0.033349       NaN       NaN\n",
       "1    7200000000     0.685822     0.678734  0.121627  0.857549       NaN\n",
       "2   10800000000     0.484664     0.701337  0.909331  0.403845       NaN\n",
       "3   14400000000     0.489028     0.173551  0.631996  0.657455       NaN\n",
       "4   18000000000     0.172452     0.393356  0.406904  0.349516  a string\n",
       "5   21600000000     0.052430     0.267639  0.888134  0.949335  a string\n",
       "6   25200000000     0.021170     0.196797  0.296513  0.663908  a string\n",
       "7   28800000000     0.422868     0.194781  0.323313  0.821080  a string\n",
       "8   32400000000     0.396987     0.492620  0.525312  0.548141       NaN\n",
       "9   36000000000     0.692500     0.553127  0.838751  0.586068       NaN\n",
       "10  39600000000          NaN          NaN       NaN  0.542981       NaN"
      ]
     },
     "execution_count": 17,
     "metadata": {},
     "output_type": "execute_result"
    }
   ],
   "source": [
    "listGts = s.pop()\n",
    "df4 = pd.DataFrame.from_dict(pkl.loads(listGts))\n",
    "df4"
   ]
  }
 ],
 "metadata": {
  "kernelspec": {
   "display_name": "Python 3",
   "language": "python",
   "name": "python3"
  },
  "language_info": {
   "codemirror_mode": {
    "name": "ipython",
    "version": 3
   },
   "file_extension": ".py",
   "mimetype": "text/x-python",
   "name": "python",
   "nbconvert_exporter": "python",
   "pygments_lexer": "ipython3",
   "version": "3.6.6"
  },
  "toc": {
   "base_numbering": 1,
   "nav_menu": {},
   "number_sections": false,
   "sideBar": false,
   "skip_h1_title": false,
   "title_cell": "Table of Contents",
   "title_sidebar": "Contents",
   "toc_cell": false,
   "toc_position": {},
   "toc_section_display": false,
   "toc_window_display": false
  }
 },
 "nbformat": 4,
 "nbformat_minor": 2
}
