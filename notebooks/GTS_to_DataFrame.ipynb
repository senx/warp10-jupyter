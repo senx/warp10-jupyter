{
 "cells": [
  {
   "cell_type": "markdown",
   "metadata": {},
   "source": [
    "### This notebook shows how to make a Pandas DataFrame from WarpScript GTS"
   ]
  },
  {
   "cell_type": "markdown",
   "metadata": {},
   "source": [
    "### 1. From a single GTS to a DataFrame"
   ]
  },
  {
   "cell_type": "code",
   "execution_count": 1,
   "metadata": {},
   "outputs": [
    {
     "name": "stdout",
     "output_type": "stream",
     "text": [
      "Created `%%w` as an alias for `%%warpscript`.\n"
     ]
    }
   ],
   "source": [
    "%load_ext warpscript_cellmagic\n",
    "%alias_magic w warpscript"
   ]
  },
  {
   "cell_type": "markdown",
   "metadata": {},
   "source": [
    "We will need pandas and pickle libraries."
   ]
  },
  {
   "cell_type": "code",
   "execution_count": 2,
   "metadata": {},
   "outputs": [],
   "source": [
    "import pandas as pd\n",
    "import pickle as pkl"
   ]
  },
  {
   "cell_type": "markdown",
   "metadata": {},
   "source": [
    "We first create a random GTS."
   ]
  },
  {
   "cell_type": "code",
   "execution_count": 3,
   "metadata": {},
   "outputs": [
    {
     "name": "stdout",
     "output_type": "stream",
     "text": [
      "Starting connection with 127.0.0.1:25333.\n",
      "Creating a new WarpScript stack accessible under variable \"s\".\n",
      "top: \t<GTS with 10 values>\n",
      "\n"
     ]
    }
   ],
   "source": [
    "%%w -s s\n",
    "NEWGTS 'randGTS' RENAME 1 10 <% h RAND RAND NaN RAND ADDVALUE %> FOR"
   ]
  },
  {
   "cell_type": "markdown",
   "metadata": {},
   "source": [
    "In order to make a GTS understood by a python interpreter, we store its content in a map and pickle it as a dict.<br/>\n",
    "The following macro does this."
   ]
  },
  {
   "cell_type": "code",
   "execution_count": 4,
   "metadata": {},
   "outputs": [
    {
     "name": "stdout",
     "output_type": "stream",
     "text": [
      "top: \t<GTS with 10 values>\n",
      "\n"
     ]
    }
   ],
   "source": [
    "%%w -s s\n",
    "<%\n",
    "    # Documenting the macro\n",
    "    'GTS BOOLEAN @GTStoPickledDict' DOC\n",
    "\n",
    "    # Check there is two arguments on the stack\n",
    "    <% DEPTH 2 < %> <% 'Macro takes two arguments' MSGFAIL %> IFT\n",
    "        \n",
    "    # Check that top is a boolean indicating whether to use GTS classname or selector\n",
    "    <% 1 PICK TYPEOF 'BOOLEAN' != %> <% 'First argument must be a boolean indicating whether to use GTS selector (true) or classname (false)' MSGFAIL %> IFT\n",
    "    \n",
    "    # Check that second argument is a GTS\n",
    "    <% 2 PICK TYPEOF 'GTS' != %> <% 'Second argument must be a GTS' MSGFAIL %> IFT\n",
    "    \n",
    "    # Store the arguments\n",
    "    'withSelector' STORE\n",
    "    'gts' STORE\n",
    "    \n",
    "    # Make name\n",
    "    $gts <% $withSelector %> <% TOSELECTOR %> <% NAME %> IFTE\n",
    "    'name' STORE\n",
    "    \n",
    "    # macro: check not all NaN (for locations and elevations)\n",
    "    <% UNIQUE DUP SIZE 1 == SWAP 0 GET ISNaN && %> 'isAllNaN' STORE\n",
    "        \n",
    "    # Return pickled dict for pandas\n",
    "    {\n",
    "        # ticks\n",
    "        'timestamps' $gts TICKS\n",
    "        \n",
    "        # locations\n",
    "        $gts LOCATIONS 'lon' STORE 'lat' STORE\n",
    "        <% $lat @isAllNaN ! %> <% $name '.lat' + $lat %> IFT\n",
    "        <% $lon @isAllNaN ! %> <% $name '.lon' + $lon %> IFT\n",
    "        \n",
    "        # elevations\n",
    "        $gts ELEVATIONS 'elev' STORE\n",
    "        <% $elev @isAllNaN ! %> <% $name '.elev' + $elev %> IFT\n",
    "        \n",
    "        # values        \n",
    "        $name $gts VALUES\n",
    "    }\n",
    "    ->PICKLE\n",
    "%>\n",
    "'GTStoPickledDict' STORE"
   ]
  },
  {
   "cell_type": "markdown",
   "metadata": {},
   "source": [
    "We evaluate the macro on the random GTS that was left on the stack.<br/>\n",
    "Setting the first argument to false means we drop its labels for its pickled representation."
   ]
  },
  {
   "cell_type": "code",
   "execution_count": 5,
   "metadata": {},
   "outputs": [
    {
     "name": "stdout",
     "output_type": "stream",
     "text": [
      "top: \tb'\\x80\\x02}q\\x00(X\\n\\x00\\x00\\x00timestampsq\\x01]q\\x02(I3600000000\\nI7200000000\\nI10800000000\\nI14400000000\\nI18000000000\\nI21600000000\\nI25200000000\\nI28800000000\\nI32400000000\\nI36000000000\\neX\\x0b\\x00\\x00\\x00randGTS.latq\\x03]q\\x04(G?\\xedt\\xe2m\\x00\\x00\\x00G?\\xdd\\xfbI\\xac\\x00\\x00\\x00G?\\xed\\x82\\xb0\\x82\\x00\\x00\\x00G?\\xe5\\xc0\\x9a\\xd2\\x80\\x00\\x00G?\\xd8u\\x7fk\\x00\\x00\\x00G?\\xde\\xf9p\\x1d\\x00\\x00\\x00G?\\xef\\x0b\\x93`\\x00\\x00\\x00G?\\xaa\\nK\\x90\\x00\\x00\\x00G?\\xcd\\x03\\xfa0\\x00\\x00\\x00G?\\xc2W\\x05\\n\\x00\\x00\\x00eX\\x0b\\x00\\x00\\x00randGTS.lonq\\x05]q\\x06(G?\\xcap$$\\x00\\x00\\x00G?\\xc2\\xef\\n\\xa8\\x00\\x00\\x00G?\\xcd1\\xfa \\x00\\x00\\x00G?\\xe54\\x95l\\x00\\x00\\x00G?\\xeb\\x8d\\x14\\x9d\\x00\\x00\\x00G?\\xd7\\xdd\\x10(\\x00\\x00\\x00G?\\xe9?f#\\x00\\x00\\x00G?\\xd0mm\\xd8\\x00\\x00\\x00G?\\xe4\\xe9h\\x03\\x00\\x00\\x00G?\\xed=\\x8c\\xeb\\x00\\x00\\x00eX\\x07\\x00\\x00\\x00randGTSq\\x07]q\\x08(G?\\xeb\\xad_\\xc1\\xc7\\xcd\\xd9G?\\xd2\\xfc_\\x14\\xb28\\x86G?\\xe5\\xa7\\x0f\\xc6J\\xaa\\xdbG?\\xd1{\\x8b\\nIAnG?\\xe5\\xe6\\x85\\x16\\n\\x05\\xfeG?\\xee,\\x08p\\xa2\\xeb\\x85G?\\xc9\\x060F\\xdd\\xbd\\xbcG?\\xdb>n\\x1e\\x9e\\xdb\\xecG?\\x81koV\\xb86\\x80G?\\xe6i\\xa8\\xbd8n\\xf0eu.'\n",
      "\n"
     ]
    }
   ],
   "source": [
    "%%w -s s\n",
    "false\n",
    "@GTStoPickledDict"
   ]
  },
  {
   "cell_type": "markdown",
   "metadata": {},
   "source": [
    "We then load the dict from its pickled representation and create a pandas dataframe with it."
   ]
  },
  {
   "cell_type": "code",
   "execution_count": 6,
   "metadata": {},
   "outputs": [
    {
     "data": {
      "text/html": [
       "<div>\n",
       "<style scoped>\n",
       "    .dataframe tbody tr th:only-of-type {\n",
       "        vertical-align: middle;\n",
       "    }\n",
       "\n",
       "    .dataframe tbody tr th {\n",
       "        vertical-align: top;\n",
       "    }\n",
       "\n",
       "    .dataframe thead th {\n",
       "        text-align: right;\n",
       "    }\n",
       "</style>\n",
       "<table border=\"1\" class=\"dataframe\">\n",
       "  <thead>\n",
       "    <tr style=\"text-align: right;\">\n",
       "      <th></th>\n",
       "      <th>timestamps</th>\n",
       "      <th>randGTS.lat</th>\n",
       "      <th>randGTS.lon</th>\n",
       "      <th>randGTS</th>\n",
       "    </tr>\n",
       "  </thead>\n",
       "  <tbody>\n",
       "    <tr>\n",
       "      <th>0</th>\n",
       "      <td>3600000000</td>\n",
       "      <td>0.920518</td>\n",
       "      <td>0.206547</td>\n",
       "      <td>0.864914</td>\n",
       "    </tr>\n",
       "    <tr>\n",
       "      <th>1</th>\n",
       "      <td>7200000000</td>\n",
       "      <td>0.468462</td>\n",
       "      <td>0.147920</td>\n",
       "      <td>0.296654</td>\n",
       "    </tr>\n",
       "    <tr>\n",
       "      <th>2</th>\n",
       "      <td>10800000000</td>\n",
       "      <td>0.922203</td>\n",
       "      <td>0.228088</td>\n",
       "      <td>0.676643</td>\n",
       "    </tr>\n",
       "    <tr>\n",
       "      <th>3</th>\n",
       "      <td>14400000000</td>\n",
       "      <td>0.679761</td>\n",
       "      <td>0.662669</td>\n",
       "      <td>0.273165</td>\n",
       "    </tr>\n",
       "    <tr>\n",
       "      <th>4</th>\n",
       "      <td>18000000000</td>\n",
       "      <td>0.382171</td>\n",
       "      <td>0.860972</td>\n",
       "      <td>0.684390</td>\n",
       "    </tr>\n",
       "    <tr>\n",
       "      <th>5</th>\n",
       "      <td>21600000000</td>\n",
       "      <td>0.483974</td>\n",
       "      <td>0.372868</td>\n",
       "      <td>0.942875</td>\n",
       "    </tr>\n",
       "    <tr>\n",
       "      <th>6</th>\n",
       "      <td>25200000000</td>\n",
       "      <td>0.970163</td>\n",
       "      <td>0.788989</td>\n",
       "      <td>0.195501</td>\n",
       "    </tr>\n",
       "    <tr>\n",
       "      <th>7</th>\n",
       "      <td>28800000000</td>\n",
       "      <td>0.050860</td>\n",
       "      <td>0.256679</td>\n",
       "      <td>0.425685</td>\n",
       "    </tr>\n",
       "    <tr>\n",
       "      <th>8</th>\n",
       "      <td>32400000000</td>\n",
       "      <td>0.226684</td>\n",
       "      <td>0.653492</td>\n",
       "      <td>0.008506</td>\n",
       "    </tr>\n",
       "    <tr>\n",
       "      <th>9</th>\n",
       "      <td>36000000000</td>\n",
       "      <td>0.143281</td>\n",
       "      <td>0.913763</td>\n",
       "      <td>0.700398</td>\n",
       "    </tr>\n",
       "  </tbody>\n",
       "</table>\n",
       "</div>"
      ],
      "text/plain": [
       "    timestamps  randGTS.lat  randGTS.lon   randGTS\n",
       "0   3600000000     0.920518     0.206547  0.864914\n",
       "1   7200000000     0.468462     0.147920  0.296654\n",
       "2  10800000000     0.922203     0.228088  0.676643\n",
       "3  14400000000     0.679761     0.662669  0.273165\n",
       "4  18000000000     0.382171     0.860972  0.684390\n",
       "5  21600000000     0.483974     0.372868  0.942875\n",
       "6  25200000000     0.970163     0.788989  0.195501\n",
       "7  28800000000     0.050860     0.256679  0.425685\n",
       "8  32400000000     0.226684     0.653492  0.008506\n",
       "9  36000000000     0.143281     0.913763  0.700398"
      ]
     },
     "execution_count": 6,
     "metadata": {},
     "output_type": "execute_result"
    }
   ],
   "source": [
    "gts1 = s.pop()\n",
    "df1 = pd.DataFrame.from_dict(pkl.loads(gts1))\n",
    "df1"
   ]
  },
  {
   "cell_type": "markdown",
   "metadata": {},
   "source": [
    "In the following example, we choose to keep label information."
   ]
  },
  {
   "cell_type": "code",
   "execution_count": 7,
   "metadata": {},
   "outputs": [
    {
     "name": "stdout",
     "output_type": "stream",
     "text": [
      "top: \tb'\\x80\\x02}q\\x00(X\\n\\x00\\x00\\x00timestampsq\\x01]q\\x02(I3600000000\\nI7200000000\\nI10800000000\\nI14400000000\\nI18000000000\\nI21600000000\\nI25200000000\\nI28800000000\\nI32400000000\\nI36000000000\\neX\"\\x00\\x00\\x00randGTS{key1=info1,key2=info2}.latq\\x03]q\\x04(G?\\xe9\\xd2\\xde\\x80\\x00\\x00\\x00G?\\xeb\\xf1\\xe5\\x85\\x00\\x00\\x00G?\\xdao\\xc0\\x1f\\x00\\x00\\x00G?\\xe8\\xb6N\\xf8\\x80\\x00\\x00G?\\xda\\xbd\\x9bn\\x00\\x00\\x00G?\\xdc\\x9c\\x97U\\x00\\x00\\x00G?^\\xf8C\\x00\\x00\\x00\\x00G?\\xd9\\x1dQi\\x00\\x00\\x00G?\\xd2\\xc6\\x9d\\xb6\\x00\\x00\\x00G?\\xdc\\xe0SF\\x00\\x00\\x00eX\"\\x00\\x00\\x00randGTS{key1=info1,key2=info2}.lonq\\x05]q\\x06(G?\\xe9s\\xca\\xc6\\x00\\x00\\x00G?\\xc0\\xc8_\\x04\\x00\\x00\\x00G?\\xe7\\xe2\\xed\\xae\\x00\\x00\\x00G?\\xea\\x90)\\xb3\\x00\\x00\\x00G?\\xd0W\\x80r\\x00\\x00\\x00G?\\xeb\\xe1\\xe7\\x93\\x00\\x00\\x00G?\\xd5\\xbci\\xc4\\x00\\x00\\x00G?\\xd3;\\xeb \\x00\\x00\\x00G?\\xed2\\rv\\x00\\x00\\x00G?\\xc7\\xc7e4\\x00\\x00\\x00eX\\x1e\\x00\\x00\\x00randGTS{key1=info1,key2=info2}q\\x07]q\\x08(G?\\xab\\xde\\xe1\\xc2\\xa1A\\xd0G?\\xd4\\xd9\\'\\x11\\xba\\xc0lG?\\xe6\\xa6\\n\\xde\\xb9\\xd2;G?\\xef@b\\x1a\\xf5\\xfc9G?\\xec\\x9a{\\x0c\\x87\\xa5 G?\\xe52\\x86\\x0cZ\\xa0WG?\\xd1\\xe0\\xb6\\x97\\x9a\\x006G?\\xda\\xbc\\xac\\xfe\\x1b0\\xdcG?\\xde\\xd1\\xd5\\xd8\\xb3V\\x1eG?\\xef~\\xa5C\\xe7L\\\\eu.'\n",
      "\n"
     ]
    }
   ],
   "source": [
    "%%w -s s\n",
    "NEWGTS 'randGTS' RENAME 1 10 <% h RAND RAND NaN RAND ADDVALUE %> FOR\n",
    "{ 'key1' 'info1' 'key2' 'info2' } RELABEL\n",
    "true\n",
    "@GTStoPickledDict"
   ]
  },
  {
   "cell_type": "code",
   "execution_count": 8,
   "metadata": {},
   "outputs": [
    {
     "data": {
      "text/html": [
       "<div>\n",
       "<style scoped>\n",
       "    .dataframe tbody tr th:only-of-type {\n",
       "        vertical-align: middle;\n",
       "    }\n",
       "\n",
       "    .dataframe tbody tr th {\n",
       "        vertical-align: top;\n",
       "    }\n",
       "\n",
       "    .dataframe thead th {\n",
       "        text-align: right;\n",
       "    }\n",
       "</style>\n",
       "<table border=\"1\" class=\"dataframe\">\n",
       "  <thead>\n",
       "    <tr style=\"text-align: right;\">\n",
       "      <th></th>\n",
       "      <th>timestamps</th>\n",
       "      <th>randGTS{key1=info1,key2=info2}.lat</th>\n",
       "      <th>randGTS{key1=info1,key2=info2}.lon</th>\n",
       "      <th>randGTS{key1=info1,key2=info2}</th>\n",
       "    </tr>\n",
       "  </thead>\n",
       "  <tbody>\n",
       "    <tr>\n",
       "      <th>0</th>\n",
       "      <td>3600000000</td>\n",
       "      <td>0.806991</td>\n",
       "      <td>0.795385</td>\n",
       "      <td>0.054435</td>\n",
       "    </tr>\n",
       "    <tr>\n",
       "      <th>1</th>\n",
       "      <td>7200000000</td>\n",
       "      <td>0.873278</td>\n",
       "      <td>0.131115</td>\n",
       "      <td>0.325754</td>\n",
       "    </tr>\n",
       "    <tr>\n",
       "      <th>2</th>\n",
       "      <td>10800000000</td>\n",
       "      <td>0.413071</td>\n",
       "      <td>0.746451</td>\n",
       "      <td>0.707769</td>\n",
       "    </tr>\n",
       "    <tr>\n",
       "      <th>3</th>\n",
       "      <td>14400000000</td>\n",
       "      <td>0.772254</td>\n",
       "      <td>0.830098</td>\n",
       "      <td>0.976609</td>\n",
       "    </tr>\n",
       "    <tr>\n",
       "      <th>4</th>\n",
       "      <td>18000000000</td>\n",
       "      <td>0.417823</td>\n",
       "      <td>0.255341</td>\n",
       "      <td>0.893858</td>\n",
       "    </tr>\n",
       "    <tr>\n",
       "      <th>5</th>\n",
       "      <td>21600000000</td>\n",
       "      <td>0.447058</td>\n",
       "      <td>0.871326</td>\n",
       "      <td>0.662417</td>\n",
       "    </tr>\n",
       "    <tr>\n",
       "      <th>6</th>\n",
       "      <td>25200000000</td>\n",
       "      <td>0.001890</td>\n",
       "      <td>0.339625</td>\n",
       "      <td>0.279340</td>\n",
       "    </tr>\n",
       "    <tr>\n",
       "      <th>7</th>\n",
       "      <td>28800000000</td>\n",
       "      <td>0.392414</td>\n",
       "      <td>0.300532</td>\n",
       "      <td>0.417766</td>\n",
       "    </tr>\n",
       "    <tr>\n",
       "      <th>8</th>\n",
       "      <td>32400000000</td>\n",
       "      <td>0.293373</td>\n",
       "      <td>0.912360</td>\n",
       "      <td>0.481557</td>\n",
       "    </tr>\n",
       "    <tr>\n",
       "      <th>9</th>\n",
       "      <td>36000000000</td>\n",
       "      <td>0.451192</td>\n",
       "      <td>0.185773</td>\n",
       "      <td>0.984210</td>\n",
       "    </tr>\n",
       "  </tbody>\n",
       "</table>\n",
       "</div>"
      ],
      "text/plain": [
       "    timestamps  randGTS{key1=info1,key2=info2}.lat  \\\n",
       "0   3600000000                            0.806991   \n",
       "1   7200000000                            0.873278   \n",
       "2  10800000000                            0.413071   \n",
       "3  14400000000                            0.772254   \n",
       "4  18000000000                            0.417823   \n",
       "5  21600000000                            0.447058   \n",
       "6  25200000000                            0.001890   \n",
       "7  28800000000                            0.392414   \n",
       "8  32400000000                            0.293373   \n",
       "9  36000000000                            0.451192   \n",
       "\n",
       "   randGTS{key1=info1,key2=info2}.lon  randGTS{key1=info1,key2=info2}  \n",
       "0                            0.795385                        0.054435  \n",
       "1                            0.131115                        0.325754  \n",
       "2                            0.746451                        0.707769  \n",
       "3                            0.830098                        0.976609  \n",
       "4                            0.255341                        0.893858  \n",
       "5                            0.871326                        0.662417  \n",
       "6                            0.339625                        0.279340  \n",
       "7                            0.300532                        0.417766  \n",
       "8                            0.912360                        0.481557  \n",
       "9                            0.185773                        0.984210  "
      ]
     },
     "execution_count": 8,
     "metadata": {},
     "output_type": "execute_result"
    }
   ],
   "source": [
    "gts2 = s.pop()\n",
    "df2 = pd.DataFrame.from_dict(pkl.loads(gts2))\n",
    "df2"
   ]
  },
  {
   "cell_type": "markdown",
   "metadata": {},
   "source": [
    "We can also not use geo information."
   ]
  },
  {
   "cell_type": "code",
   "execution_count": 9,
   "metadata": {},
   "outputs": [
    {
     "name": "stdout",
     "output_type": "stream",
     "text": [
      "top: \tb'\\x80\\x02}q\\x00(X\\n\\x00\\x00\\x00timestampsq\\x01]q\\x02(I7200000000\\nI10800000000\\nI14400000000\\nI18000000000\\nI21600000000\\nI25200000000\\nI28800000000\\nI32400000000\\nI36000000000\\nI39600000000\\neX\\x06\\x00\\x00\\x00randTSq\\x03]q\\x04(G?\\xb4\\xe4\\xcd2\\xd2L\\xa0G?\\xc9?\\xbe\\xf6\\xf4\\x03\\x84G?\\xed\\xcf\\x12 \\x1c]\\xd3G?\\xcd\\xa8\\x97\\x92=\\x9f\\x04G?\\xa1\\x0bn\\xd6:\\x00\\xa0G?\\xd0CD\\xfa\\xa2\\x9c\\x0cG?\\xe8\\xb8>:\\x00e\\xc4G?\\xed\\x80\\x92O\\x12\\xdf\\xe0G?\\xda\\xce\\xaf\\xd1\\xe2U\\xe6G?\\xee\\x0e\\xcc<\\xe3\\xa7\\xfeeu.'\n",
      "\n"
     ]
    }
   ],
   "source": [
    "%%w -s s\n",
    "NEWGTS 'randTS' RENAME 2 11 <% h NaN NaN NaN RAND ADDVALUE %> FOR\n",
    "false\n",
    "@GTStoPickledDict"
   ]
  },
  {
   "cell_type": "code",
   "execution_count": 10,
   "metadata": {},
   "outputs": [
    {
     "data": {
      "text/html": [
       "<div>\n",
       "<style scoped>\n",
       "    .dataframe tbody tr th:only-of-type {\n",
       "        vertical-align: middle;\n",
       "    }\n",
       "\n",
       "    .dataframe tbody tr th {\n",
       "        vertical-align: top;\n",
       "    }\n",
       "\n",
       "    .dataframe thead th {\n",
       "        text-align: right;\n",
       "    }\n",
       "</style>\n",
       "<table border=\"1\" class=\"dataframe\">\n",
       "  <thead>\n",
       "    <tr style=\"text-align: right;\">\n",
       "      <th></th>\n",
       "      <th>timestamps</th>\n",
       "      <th>randTS</th>\n",
       "    </tr>\n",
       "  </thead>\n",
       "  <tbody>\n",
       "    <tr>\n",
       "      <th>0</th>\n",
       "      <td>7200000000</td>\n",
       "      <td>0.081616</td>\n",
       "    </tr>\n",
       "    <tr>\n",
       "      <th>1</th>\n",
       "      <td>10800000000</td>\n",
       "      <td>0.197258</td>\n",
       "    </tr>\n",
       "    <tr>\n",
       "      <th>2</th>\n",
       "      <td>14400000000</td>\n",
       "      <td>0.931527</td>\n",
       "    </tr>\n",
       "    <tr>\n",
       "      <th>3</th>\n",
       "      <td>18000000000</td>\n",
       "      <td>0.231708</td>\n",
       "    </tr>\n",
       "    <tr>\n",
       "      <th>4</th>\n",
       "      <td>21600000000</td>\n",
       "      <td>0.033290</td>\n",
       "    </tr>\n",
       "    <tr>\n",
       "      <th>5</th>\n",
       "      <td>25200000000</td>\n",
       "      <td>0.254106</td>\n",
       "    </tr>\n",
       "    <tr>\n",
       "      <th>6</th>\n",
       "      <td>28800000000</td>\n",
       "      <td>0.772491</td>\n",
       "    </tr>\n",
       "    <tr>\n",
       "      <th>7</th>\n",
       "      <td>32400000000</td>\n",
       "      <td>0.921945</td>\n",
       "    </tr>\n",
       "    <tr>\n",
       "      <th>8</th>\n",
       "      <td>36000000000</td>\n",
       "      <td>0.418865</td>\n",
       "    </tr>\n",
       "    <tr>\n",
       "      <th>9</th>\n",
       "      <td>39600000000</td>\n",
       "      <td>0.939306</td>\n",
       "    </tr>\n",
       "  </tbody>\n",
       "</table>\n",
       "</div>"
      ],
      "text/plain": [
       "    timestamps    randTS\n",
       "0   7200000000  0.081616\n",
       "1  10800000000  0.197258\n",
       "2  14400000000  0.931527\n",
       "3  18000000000  0.231708\n",
       "4  21600000000  0.033290\n",
       "5  25200000000  0.254106\n",
       "6  28800000000  0.772491\n",
       "7  32400000000  0.921945\n",
       "8  36000000000  0.418865\n",
       "9  39600000000  0.939306"
      ]
     },
     "execution_count": 10,
     "metadata": {},
     "output_type": "execute_result"
    }
   ],
   "source": [
    "gts3 = s.pop()\n",
    "df3 = pd.DataFrame.from_dict(pkl.loads(gts3))\n",
    "df3"
   ]
  },
  {
   "cell_type": "markdown",
   "metadata": {},
   "source": [
    "### 2. Revert a DataFrame to a GTS"
   ]
  },
  {
   "cell_type": "markdown",
   "metadata": {},
   "source": [
    "To revert a DataFrame to a GTS, we first need to convert the DataFrame into a dict."
   ]
  },
  {
   "cell_type": "code",
   "execution_count": 11,
   "metadata": {},
   "outputs": [
    {
     "data": {
      "text/plain": [
       "{'timestamps': [3600000000,\n",
       "  7200000000,\n",
       "  10800000000,\n",
       "  14400000000,\n",
       "  18000000000,\n",
       "  21600000000,\n",
       "  25200000000,\n",
       "  28800000000,\n",
       "  32400000000,\n",
       "  36000000000],\n",
       " 'randGTS.lat': [0.9205181244760752,\n",
       "  0.46846238896250725,\n",
       "  0.9222033061087132,\n",
       "  0.6797613250091672,\n",
       "  0.3821714920923114,\n",
       "  0.48397448379546404,\n",
       "  0.9701630473136902,\n",
       "  0.05085979588329792,\n",
       "  0.22668387740850449,\n",
       "  0.14328062999993563],\n",
       " 'randGTS.lon': [0.20654727704823017,\n",
       "  0.14791997149586678,\n",
       "  0.2280876785516739,\n",
       "  0.6626689061522484,\n",
       "  0.8609717432409525,\n",
       "  0.3728676214814186,\n",
       "  0.7889891322702169,\n",
       "  0.2566790208220482,\n",
       "  0.6534919794648886,\n",
       "  0.9137634839862585],\n",
       " 'randGTS': [0.8649138245368092,\n",
       "  0.2966535284148296,\n",
       "  0.6766432640918895,\n",
       "  0.27316547398097313,\n",
       "  0.6843896322681642,\n",
       "  0.9428751182489213,\n",
       "  0.19550136051428335,\n",
       "  0.42568543424880434,\n",
       "  0.008505697092029196,\n",
       "  0.700397843905618]}"
      ]
     },
     "execution_count": 11,
     "metadata": {},
     "output_type": "execute_result"
    }
   ],
   "source": [
    "gts1b = df1.to_dict('list')\n",
    "gts1b"
   ]
  },
  {
   "cell_type": "markdown",
   "metadata": {},
   "source": [
    "We can push this dict directly onto the stack, since it will be automatically converted in the JVM."
   ]
  },
  {
   "cell_type": "code",
   "execution_count": 12,
   "metadata": {},
   "outputs": [
    {
     "data": {
      "text/plain": [
       "top: \t{'randGTS.lat': [0.9205181244760752, 0.46846238896250725, 0.9222033061087132, 0.6797613250091672, 0.3821714920923114, 0.48397448379546404, 0.9701630473136902, 0.05085979588329792, 0.22668387740850449, 0.14328062999993563], 'timestamps': [3600000000, 7200000000, 10800000000, 14400000000, 18000000000, 21600000000, 25200000000, 28800000000, 32400000000, 36000000000], 'randGTS': [0.8649138245368092, 0.2966535284148296, 0.6766432640918895, 0.27316547398097313, 0.6843896322681642, 0.9428751182489213, 0.19550136051428335, 0.42568543424880434, 0.008505697092029196, 0.700397843905618], 'randGTS.lon': [0.20654727704823017, 0.14791997149586678, 0.2280876785516739, 0.6626689061522484, 0.8609717432409525, 0.3728676214814186, 0.7889891322702169, 0.2566790208220482, 0.6534919794648886, 0.9137634839862585]}"
      ]
     },
     "execution_count": 12,
     "metadata": {},
     "output_type": "execute_result"
    }
   ],
   "source": [
    "s.push(gts1b)\n",
    "s"
   ]
  },
  {
   "cell_type": "markdown",
   "metadata": {},
   "source": [
    "Now we can use the lists contained in this map to populate a GTS."
   ]
  },
  {
   "cell_type": "code",
   "execution_count": 13,
   "metadata": {},
   "outputs": [
    {
     "name": "stdout",
     "output_type": "stream",
     "text": [
      "top: \t<GTS with 10 values>\n",
      "\n"
     ]
    }
   ],
   "source": [
    "%%w -s s\n",
    "'dict' STORE\n",
    "$dict 'timestamps' GET\n",
    "$dict 'randGTS.lat' GET\n",
    "$dict 'randGTS.lon' GET\n",
    "[] // no elevation\n",
    "$dict 'randGTS' GET\n",
    "MAKEGTS 'randGTS' RENAME"
   ]
  },
  {
   "cell_type": "code",
   "execution_count": 14,
   "metadata": {},
   "outputs": [
    {
     "name": "stdout",
     "output_type": "stream",
     "text": [
      "randGTS{}\n",
      "=3600000000/0.9205181244760752:0.20654727704823017/ 0.8649138245368092\n",
      "=7200000000/0.46846238896250725:0.14791997149586678/ 0.2966535284148296\n",
      "=10800000000/0.9222033061087132:0.2280876785516739/ 0.6766432640918895\n",
      "=14400000000/0.6797613250091672:0.6626689061522484/ 0.27316547398097313\n",
      "=18000000000/0.3821714920923114:0.8609717432409525/ 0.6843896322681642\n",
      "=21600000000/0.48397448379546404:0.3728676214814186/ 0.9428751182489213\n",
      "=25200000000/0.9701630473136902:0.7889891322702169/ 0.19550136051428335\n",
      "=28800000000/0.05085979588329792:0.2566790208220482/ 0.42568543424880434\n",
      "=32400000000/0.22668387740850449:0.6534919794648886/ 0.008505697092029196\n",
      "=36000000000/0.14328062999993563:0.9137634839862585/ 0.700397843905618\n",
      "\n"
     ]
    }
   ],
   "source": [
    "print(s.pop().toString())"
   ]
  },
  {
   "cell_type": "markdown",
   "metadata": {},
   "source": [
    "### 3. From a list of GTS to a DataFrame"
   ]
  },
  {
   "cell_type": "markdown",
   "metadata": {},
   "source": [
    "When converting a list of GTS to a DataFrame, we need to handle missing values in the resulting DataFrame since the<br/>\n",
    "GTS can have different timestamps. It is more efficient to do that in WarpScript, as done in by following macro."
   ]
  },
  {
   "cell_type": "code",
   "execution_count": 15,
   "metadata": {},
   "outputs": [
    {
     "name": "stdout",
     "output_type": "stream",
     "text": [
      "Creating a new WarpScript stack accessible under variable \"s\".\n",
      "\n"
     ]
    }
   ],
   "source": [
    "%%w -s s -o\n",
    "<%\n",
    "    # Documenting the macro\n",
    "    '[GTS] BOOLEAN @ListGTStoPickledDict' DOC\n",
    "\n",
    "    # Check there is two arguments on the stack\n",
    "    <% DEPTH 2 < %> <% 'Macro takes two arguments' MSGFAIL %> IFT\n",
    "        \n",
    "    # Check that top is a boolean indicating whether to use GTS classname or selector\n",
    "    <% 1 PICK TYPEOF 'BOOLEAN' != %> <% 'First argument must be a boolean indicating whether to use GTS selector (true) or classname (false)' MSGFAIL %> IFT\n",
    "    \n",
    "    # Check that second argument is a list of GTS\n",
    "    <% 2 PICK TYPEOF 'LIST' != %> <% 'Second argument must be a List of GTS' MSGFAIL %> IFT\n",
    "    2 PICK <% <% TYPEOF 'GTS' != %> <% 'Second argument is a list that has an element that is not a GTS' MSGFAIL %> IFT %> FOREACH\n",
    "    \n",
    "    # Store the arguments\n",
    "    'withSelector' STORE\n",
    "    'gtsList' STORE\n",
    "    \n",
    "    # make tickbase of all GTS\n",
    "    $gtsList TICKS 'ticks' STORE\n",
    "    $ticks [] [] [] $ticks MAKEGTS 'baseGTS' STORE\n",
    "    \n",
    "    # macro: check not all NaN (for locations and elevations)\n",
    "    <% UNIQUE DUP SIZE 1 == SWAP 0 GET ISNaN && %> 'isAllNaN' STORE\n",
    "        \n",
    "    # Return pickled dict for pandas\n",
    "    {\n",
    "        # ticks\n",
    "        'timestamps' $ticks\n",
    "        \n",
    "        # loop over list of GTS\n",
    "        $gtsList\n",
    "        <%\n",
    "            'gts' STORE\n",
    "            \n",
    "            # Make name\n",
    "            $gts <% $withSelector %> <% TOSELECTOR %> <% NAME %> IFTE\n",
    "            'name' STORE\n",
    "        \n",
    "            # Put on the same tick base and fill missing values with NaN\n",
    "            [ $gts true mapper.replace 0 0 0 ] MAP\n",
    "            'mask' STORE\n",
    "            [ $mask [ $baseGTS ] [] op.negmask ] APPLY\n",
    "            [ SWAP NaN mapper.replace 0 0 0 ] MAP\n",
    "            0 GET 'residualSeries' STORE\n",
    "            [ $gts $residualSeries ] MERGE SORT\n",
    "            'gts' STORE\n",
    "        \n",
    "            # locations\n",
    "            $gts LOCATIONS 'lon' STORE 'lat' STORE\n",
    "            <% $lat @isAllNaN ! %> <% $name '.lat' + $lat %> IFT\n",
    "            <% $lon @isAllNaN ! %> <% $name '.lon' + $lon %> IFT\n",
    "        \n",
    "            # elevations\n",
    "            $gts ELEVATIONS 'elev' STORE\n",
    "            <% $elev @isAllNaN ! %> <% $name '.elev' + $elev %> IFT\n",
    "        \n",
    "            # values        \n",
    "            $name $gts VALUES\n",
    "        %>\n",
    "        FOREACH\n",
    "    }\n",
    "    ->PICKLE\n",
    "%>\n",
    "'ListGTStoPickledDict' STORE"
   ]
  },
  {
   "cell_type": "markdown",
   "metadata": {},
   "source": [
    "We apply the macro ListGTStoPickledDict similarly than GTStoPickledDict,<br/>\n",
    "except that it takes a list of GTS instead of a single GTS as second argument."
   ]
  },
  {
   "cell_type": "code",
   "execution_count": 16,
   "metadata": {},
   "outputs": [
    {
     "name": "stdout",
     "output_type": "stream",
     "text": [
      "top: \tb\"\\x80\\x02}q\\x00(X\\n\\x00\\x00\\x00timestampsq\\x01]q\\x02(I3600000000\\nI7200000000\\nI10800000000\\nI14400000000\\nI18000000000\\nI21600000000\\nI25200000000\\nI28800000000\\nI32400000000\\nI36000000000\\nI39600000000\\neX\\x0b\\x00\\x00\\x00randGTS.latq\\x03]q\\x04(G?\\xc1!Sz\\x00\\x00\\x00G?\\xdd/\\x14T\\x00\\x00\\x00G?\\xcc,\\\\\\x10\\x00\\x00\\x00G?\\xe5\\xa3[\\xc5\\x80\\x00\\x00G?\\xed\\x0b\\xf3\\x89\\x00\\x00\\x00G?\\xe2y\\xe7n\\x00\\x00\\x00G?\\xd1\\xde\\xcdB\\x00\\x00\\x00G?\\xe1\\x9dd\\x99\\x80\\x00\\x00G?\\xdaO\\x95y\\x00\\x00\\x00G?\\xdb24Q\\x00\\x00\\x00G\\x7f\\xf8\\x00\\x00\\x00\\x00\\x00\\x00eX\\x0b\\x00\\x00\\x00randGTS.lonq\\x05]q\\x06(G?\\xdf\\x8f\\xd1\\x16\\x00\\x00\\x00G?\\xec\\x8c{\\xae\\x00\\x00\\x00G?\\xba\\xec\\xbdh\\x00\\x00\\x00G?\\xe0J2\\xdc\\x00\\x00\\x00G?\\xe6\\x10G\\xdd\\x00\\x00\\x00G?\\xe3l,'\\x00\\x00\\x00G?\\xdd\\x9f\\xa2d\\x00\\x00\\x00G?\\xc0j\\xc3\\xd0\\x00\\x00\\x00G?\\xe6\\xacf\\x04\\x00\\x00\\x00G?\\xe4\\x06\\xa3\\xe7\\x00\\x00\\x00G\\x7f\\xf8\\x00\\x00\\x00\\x00\\x00\\x00eX\\x07\\x00\\x00\\x00randGTSq\\x07]q\\x08(G?\\xc7\\x9f\\xd5@\\xd2%\\x98G?\\xa6\\xfe\\x82\\xbc\\x80G\\xd0G?\\xde\\x19\\xf1\\x1bn\\x16\\xd2G?\\xd1\\x01b\\xbb\\x81\\x9axG?\\xd4Y\\xc8\\x13\\x98Z\\xf2G?\\xcc\\xb0\\xb7Yv#\\xe0G?\\xe7;E\\x17f\\xad\\xc2G?\\xc1s\\xf62\\x1e\\x7fxG?\\xec\\xfayI\\xe1#qG?\\x924\\xc9\\x9c\\xeaF@G\\x7f\\xf8\\x00\\x00\\x00\\x00\\x00\\x00eX\\x06\\x00\\x00\\x00randTSq\\t]q\\n(G\\x7f\\xf8\\x00\\x00\\x00\\x00\\x00\\x00G?\\xecz\\r\\xac,\\xcd\\xc1G?\\xd7\\xfc_Pt\\x9e\\xaaG?\\xd3\\xe3b~\\xde\\xe8\\xdeG?\\xd5\\xd3\\\\u\\xf5k6G?\\xcce\\x1a8\\x11/\\xfcG?\\xebs \\x01\\xe5\\xe8}G?\\xc4\\xcfA\\xcf\\x87L\\xf0G?\\xd0%\\x1b\\x0f\\xe6zTG?\\xd1\\xe6\\xcb\\xba\\x7f/\\x1aG?\\xe8%V\\xb8~\\xb8\\xd7eX\\x08\\x00\\x00\\x00stringTSq\\x0b]q\\x0c(X\\x03\\x00\\x00\\x00NaNq\\rh\\rh\\rh\\rX\\x08\\x00\\x00\\x00a stringq\\x0eh\\x0eh\\x0eh\\x0eh\\rh\\rh\\reu.\"\n",
      "\n"
     ]
    }
   ],
   "source": [
    "%%w -s s\n",
    "[ NEWGTS 'randGTS' RENAME 1 10 <% h RAND RAND NaN RAND ADDVALUE %> FOR\n",
    "  NEWGTS 'randTS' RENAME 2 11 <% h NaN NaN NaN RAND ADDVALUE %> FOR\n",
    "  NEWGTS 'stringTS' RENAME 5 8 <% h NaN NaN NaN 'a string' ADDVALUE %> FOR ]\n",
    "false\n",
    "@ListGTStoPickledDict"
   ]
  },
  {
   "cell_type": "code",
   "execution_count": 17,
   "metadata": {},
   "outputs": [
    {
     "data": {
      "text/html": [
       "<div>\n",
       "<style scoped>\n",
       "    .dataframe tbody tr th:only-of-type {\n",
       "        vertical-align: middle;\n",
       "    }\n",
       "\n",
       "    .dataframe tbody tr th {\n",
       "        vertical-align: top;\n",
       "    }\n",
       "\n",
       "    .dataframe thead th {\n",
       "        text-align: right;\n",
       "    }\n",
       "</style>\n",
       "<table border=\"1\" class=\"dataframe\">\n",
       "  <thead>\n",
       "    <tr style=\"text-align: right;\">\n",
       "      <th></th>\n",
       "      <th>timestamps</th>\n",
       "      <th>randGTS.lat</th>\n",
       "      <th>randGTS.lon</th>\n",
       "      <th>randGTS</th>\n",
       "      <th>randTS</th>\n",
       "      <th>stringTS</th>\n",
       "    </tr>\n",
       "  </thead>\n",
       "  <tbody>\n",
       "    <tr>\n",
       "      <th>0</th>\n",
       "      <td>3600000000</td>\n",
       "      <td>0.133830</td>\n",
       "      <td>0.493153</td>\n",
       "      <td>0.184565</td>\n",
       "      <td>NaN</td>\n",
       "      <td>NaN</td>\n",
       "    </tr>\n",
       "    <tr>\n",
       "      <th>1</th>\n",
       "      <td>7200000000</td>\n",
       "      <td>0.455998</td>\n",
       "      <td>0.892149</td>\n",
       "      <td>0.044911</td>\n",
       "      <td>0.889899</td>\n",
       "      <td>NaN</td>\n",
       "    </tr>\n",
       "    <tr>\n",
       "      <th>2</th>\n",
       "      <td>10800000000</td>\n",
       "      <td>0.220104</td>\n",
       "      <td>0.105175</td>\n",
       "      <td>0.470333</td>\n",
       "      <td>0.374779</td>\n",
       "      <td>NaN</td>\n",
       "    </tr>\n",
       "    <tr>\n",
       "      <th>3</th>\n",
       "      <td>14400000000</td>\n",
       "      <td>0.676191</td>\n",
       "      <td>0.509057</td>\n",
       "      <td>0.265710</td>\n",
       "      <td>0.310753</td>\n",
       "      <td>NaN</td>\n",
       "    </tr>\n",
       "    <tr>\n",
       "      <th>4</th>\n",
       "      <td>18000000000</td>\n",
       "      <td>0.907709</td>\n",
       "      <td>0.689487</td>\n",
       "      <td>0.317980</td>\n",
       "      <td>0.341025</td>\n",
       "      <td>a string</td>\n",
       "    </tr>\n",
       "    <tr>\n",
       "      <th>5</th>\n",
       "      <td>21600000000</td>\n",
       "      <td>0.577381</td>\n",
       "      <td>0.606955</td>\n",
       "      <td>0.224143</td>\n",
       "      <td>0.221835</td>\n",
       "      <td>a string</td>\n",
       "    </tr>\n",
       "    <tr>\n",
       "      <th>6</th>\n",
       "      <td>25200000000</td>\n",
       "      <td>0.279224</td>\n",
       "      <td>0.462868</td>\n",
       "      <td>0.725985</td>\n",
       "      <td>0.857803</td>\n",
       "      <td>a string</td>\n",
       "    </tr>\n",
       "    <tr>\n",
       "      <th>7</th>\n",
       "      <td>28800000000</td>\n",
       "      <td>0.550463</td>\n",
       "      <td>0.128258</td>\n",
       "      <td>0.136351</td>\n",
       "      <td>0.162575</td>\n",
       "      <td>a string</td>\n",
       "    </tr>\n",
       "    <tr>\n",
       "      <th>8</th>\n",
       "      <td>32400000000</td>\n",
       "      <td>0.411107</td>\n",
       "      <td>0.708545</td>\n",
       "      <td>0.905575</td>\n",
       "      <td>0.252265</td>\n",
       "      <td>NaN</td>\n",
       "    </tr>\n",
       "    <tr>\n",
       "      <th>9</th>\n",
       "      <td>36000000000</td>\n",
       "      <td>0.424939</td>\n",
       "      <td>0.625811</td>\n",
       "      <td>0.017779</td>\n",
       "      <td>0.279712</td>\n",
       "      <td>NaN</td>\n",
       "    </tr>\n",
       "    <tr>\n",
       "      <th>10</th>\n",
       "      <td>39600000000</td>\n",
       "      <td>NaN</td>\n",
       "      <td>NaN</td>\n",
       "      <td>NaN</td>\n",
       "      <td>0.754558</td>\n",
       "      <td>NaN</td>\n",
       "    </tr>\n",
       "  </tbody>\n",
       "</table>\n",
       "</div>"
      ],
      "text/plain": [
       "     timestamps  randGTS.lat  randGTS.lon   randGTS    randTS  stringTS\n",
       "0    3600000000     0.133830     0.493153  0.184565       NaN       NaN\n",
       "1    7200000000     0.455998     0.892149  0.044911  0.889899       NaN\n",
       "2   10800000000     0.220104     0.105175  0.470333  0.374779       NaN\n",
       "3   14400000000     0.676191     0.509057  0.265710  0.310753       NaN\n",
       "4   18000000000     0.907709     0.689487  0.317980  0.341025  a string\n",
       "5   21600000000     0.577381     0.606955  0.224143  0.221835  a string\n",
       "6   25200000000     0.279224     0.462868  0.725985  0.857803  a string\n",
       "7   28800000000     0.550463     0.128258  0.136351  0.162575  a string\n",
       "8   32400000000     0.411107     0.708545  0.905575  0.252265       NaN\n",
       "9   36000000000     0.424939     0.625811  0.017779  0.279712       NaN\n",
       "10  39600000000          NaN          NaN       NaN  0.754558       NaN"
      ]
     },
     "execution_count": 17,
     "metadata": {},
     "output_type": "execute_result"
    }
   ],
   "source": [
    "listGts = s.pop()\n",
    "df4 = pd.DataFrame.from_dict(pkl.loads(listGts))\n",
    "df4"
   ]
  }
 ],
 "metadata": {
  "kernelspec": {
   "display_name": "Python 3",
   "language": "python",
   "name": "python3"
  },
  "language_info": {
   "codemirror_mode": {
    "name": "ipython",
    "version": 3
   },
   "file_extension": ".py",
   "mimetype": "text/x-python",
   "name": "python",
   "nbconvert_exporter": "python",
   "pygments_lexer": "ipython3",
   "version": "3.6.6"
  },
  "toc": {
   "base_numbering": 1,
   "nav_menu": {},
   "number_sections": false,
   "sideBar": false,
   "skip_h1_title": false,
   "title_cell": "Table of Contents",
   "title_sidebar": "Contents",
   "toc_cell": false,
   "toc_position": {},
   "toc_section_display": false,
   "toc_window_display": false
  }
 },
 "nbformat": 4,
 "nbformat_minor": 2
}
