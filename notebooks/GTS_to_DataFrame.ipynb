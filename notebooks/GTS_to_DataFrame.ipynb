{
 "cells": [
  {
   "cell_type": "markdown",
   "metadata": {},
   "source": [
    "### This notebook shows how to make a Pandas DataFrame from WarpScript GTS"
   ]
  },
  {
   "cell_type": "markdown",
   "metadata": {},
   "source": [
    "### 1. From a single GTS to a DataFrame"
   ]
  },
  {
   "cell_type": "code",
   "execution_count": 1,
   "metadata": {},
   "outputs": [
    {
     "name": "stdout",
     "output_type": "stream",
     "text": [
      "Created `%%w` as an alias for `%%warpscript`.\n"
     ]
    }
   ],
   "source": [
    "%load_ext warpscript_cellmagic\n",
    "%alias_magic w warpscript"
   ]
  },
  {
   "cell_type": "markdown",
   "metadata": {},
   "source": [
    "We will need pandas and pickle libraries."
   ]
  },
  {
   "cell_type": "code",
   "execution_count": 2,
   "metadata": {},
   "outputs": [],
   "source": [
    "import pandas as pd\n",
    "import pickle as pkl"
   ]
  },
  {
   "cell_type": "markdown",
   "metadata": {},
   "source": [
    "We first create a random GTS."
   ]
  },
  {
   "cell_type": "code",
   "execution_count": 3,
   "metadata": {},
   "outputs": [
    {
     "name": "stdout",
     "output_type": "stream",
     "text": [
      "Starting connection with 127.0.0.1:25333.\n",
      "Creating a new WarpScript stack accessible under variable \"s\".\n",
      "top: \t<GTS with 10 values>\n",
      "\n"
     ]
    }
   ],
   "source": [
    "%%w -s s\n",
    "NEWGTS 'randGTS' RENAME 1 10 <% h RAND RAND NaN RAND ADDVALUE %> FOR"
   ]
  },
  {
   "cell_type": "markdown",
   "metadata": {},
   "source": [
    "In order to make a GTS understood by a python interpreter, we store its content in a map of lists and pickle it as a dict.<br/>\n",
    "The macro `GTStoPickledDict` does this. To load it, you can place the file `macros/GTStoPickledDict.mc2`<br/>\n",
    "in the macro folder of the Warp 10 platform you are sending requests to, or you can execute the following cell."
   ]
  },
  {
   "cell_type": "code",
   "execution_count": 4,
   "metadata": {},
   "outputs": [
    {
     "name": "stdout",
     "output_type": "stream",
     "text": [
      "top: \t<GTS with 10 values>\n",
      "\n"
     ]
    }
   ],
   "source": [
    "%%w -s s\n",
    "<%\n",
    "    # Documenting the macro\n",
    "    'GTS BOOLEAN @GTStoPickledDict' DOC\n",
    "\n",
    "    # Check there is two arguments on the stack\n",
    "    <% DEPTH 2 < %> <% 'Macro takes two arguments' MSGFAIL %> IFT\n",
    "        \n",
    "    # Check that top is a boolean indicating whether to use GTS classname or selector\n",
    "    <% 1 PICK TYPEOF 'BOOLEAN' != %> <% 'First argument must be a boolean indicating whether to use GTS selector (true) or classname (false)' MSGFAIL %> IFT\n",
    "    \n",
    "    # Check that second argument is a GTS\n",
    "    <% 2 PICK TYPEOF 'GTS' != %> <% 'Second argument must be a GTS' MSGFAIL %> IFT\n",
    "    \n",
    "    # Store the arguments\n",
    "    'withSelector' STORE\n",
    "    'gts' STORE\n",
    "    \n",
    "    # Make name\n",
    "    $gts <% $withSelector %> <% TOSELECTOR %> <% NAME %> IFTE\n",
    "    'name' STORE\n",
    "    \n",
    "    # macro: check not all NaN (for locations and elevations)\n",
    "    <% UNIQUE DUP SIZE 1 == SWAP 0 GET ISNaN && %> 'isAllNaN' STORE\n",
    "        \n",
    "    # Return pickled dict for pandas\n",
    "    {\n",
    "        # ticks\n",
    "        'timestamps' $gts TICKLIST\n",
    "        \n",
    "        # locations\n",
    "        $gts LOCATIONS 'lon' STORE 'lat' STORE\n",
    "        <% $lat @isAllNaN ! %> <% $name '.lat' + $lat %> IFT\n",
    "        <% $lon @isAllNaN ! %> <% $name '.lon' + $lon %> IFT\n",
    "        \n",
    "        # elevations\n",
    "        $gts ELEVATIONS 'elev' STORE\n",
    "        <% $elev @isAllNaN ! %> <% $name '.elev' + $elev %> IFT\n",
    "        \n",
    "        # values        \n",
    "        $name $gts VALUES\n",
    "    }\n",
    "    ->PICKLE\n",
    "%>\n",
    "'GTStoPickledDict' STORE"
   ]
  },
  {
   "cell_type": "markdown",
   "metadata": {},
   "source": [
    "We evaluate the macro on the random GTS that was left on the stack.<br/>\n",
    "Setting the first argument to false means we drop its labels for its pickled representation."
   ]
  },
  {
   "cell_type": "code",
   "execution_count": 5,
   "metadata": {},
   "outputs": [
    {
     "name": "stdout",
     "output_type": "stream",
     "text": [
      "top: \tb'\\x80\\x02}q\\x00(X\\n\\x00\\x00\\x00timestampsq\\x01]q\\x02(I3600000000\\nI7200000000\\nI10800000000\\nI14400000000\\nI18000000000\\nI21600000000\\nI25200000000\\nI28800000000\\nI32400000000\\nI36000000000\\neX\\x0b\\x00\\x00\\x00randGTS.latq\\x03]q\\x04(G?\\xe6\\x94\\x9cm\\x00\\x00\\x00G?\\xe3\\x0e\\xb1\\xe8\\x80\\x00\\x00G?\\xd0aXE\\x00\\x00\\x00G?\\xefMz\\x11\\x80\\x00\\x00G?\\xc4:`\\xd8\\x00\\x00\\x00G?\\xeeoC\\t\\x80\\x00\\x00G?\\xe0\\x01F\\xfa\\x80\\x00\\x00G?\\xd9t\\xf42\\x00\\x00\\x00G?\\xec\\x93\\x14%\\x80\\x00\\x00G?\\xe6\\xe2i\\x7f\\x00\\x00\\x00eX\\x0b\\x00\\x00\\x00randGTS.lonq\\x05]q\\x06(G?\\xe6i\\xf8\\xf0\\x00\\x00\\x00G?\\xd2;\\xcb\\xaa\\x00\\x00\\x00G?\\xeb\\xb8[\\xee\\x00\\x00\\x00G?\\xe0\\xa4\\x10h\\x00\\x00\\x00G?\\xdd\\xaa]\\xda\\x00\\x00\\x00G?\\xce\\r\\xc8\\x84\\x00\\x00\\x00G?\\xb5\\r\\xb7\\x80\\x00\\x00\\x00G?\\xe8\\xd9y+\\x00\\x00\\x00G?\\xe6\\xb4\\x1f\\xbb\\x00\\x00\\x00G?\\xe6\\xfeO\\xd7\\x00\\x00\\x00eX\\x07\\x00\\x00\\x00randGTSq\\x07]q\\x08(G?\\xea\\xf1y\\x9e\\xb2g\\xf8G?\\xc1x\\xaf\\xb0\\xe9{4G?\\xe0\\xe9\\x12\\xc7\\x8b\\x1c\\x06G?\\xed\\xbb\\x04m*>\\xe0G?\\xe4>b\\xcd<NrG?\\xdc\\x8a:\\x88~\\xdd\\x86G?\\xd4<\\x8b\\xbd\\xbe\\xf6BG?\\xe5j\\xa7\\x9f&v\\xc5G?\\xec\\xb2\\x19D\\x8d\\xf6<G?\\xe7\\x1e\\xe3\\x17M\\xd5\\x1beu.'\n",
      "\n"
     ]
    }
   ],
   "source": [
    "%%w -s s\n",
    "false\n",
    "@GTStoPickledDict"
   ]
  },
  {
   "cell_type": "markdown",
   "metadata": {},
   "source": [
    "We then load the dict from its pickled representation and create a pandas dataframe with it."
   ]
  },
  {
   "cell_type": "code",
   "execution_count": 6,
   "metadata": {},
   "outputs": [
    {
     "data": {
      "text/html": [
       "<div>\n",
       "<style scoped>\n",
       "    .dataframe tbody tr th:only-of-type {\n",
       "        vertical-align: middle;\n",
       "    }\n",
       "\n",
       "    .dataframe tbody tr th {\n",
       "        vertical-align: top;\n",
       "    }\n",
       "\n",
       "    .dataframe thead th {\n",
       "        text-align: right;\n",
       "    }\n",
       "</style>\n",
       "<table border=\"1\" class=\"dataframe\">\n",
       "  <thead>\n",
       "    <tr style=\"text-align: right;\">\n",
       "      <th></th>\n",
       "      <th>timestamps</th>\n",
       "      <th>randGTS.lat</th>\n",
       "      <th>randGTS.lon</th>\n",
       "      <th>randGTS</th>\n",
       "    </tr>\n",
       "  </thead>\n",
       "  <tbody>\n",
       "    <tr>\n",
       "      <th>0</th>\n",
       "      <td>3600000000</td>\n",
       "      <td>0.705641</td>\n",
       "      <td>0.700436</td>\n",
       "      <td>0.841977</td>\n",
       "    </tr>\n",
       "    <tr>\n",
       "      <th>1</th>\n",
       "      <td>7200000000</td>\n",
       "      <td>0.595544</td>\n",
       "      <td>0.284900</td>\n",
       "      <td>0.136496</td>\n",
       "    </tr>\n",
       "    <tr>\n",
       "      <th>2</th>\n",
       "      <td>10800000000</td>\n",
       "      <td>0.255941</td>\n",
       "      <td>0.866255</td>\n",
       "      <td>0.528451</td>\n",
       "    </tr>\n",
       "    <tr>\n",
       "      <th>3</th>\n",
       "      <td>14400000000</td>\n",
       "      <td>0.978208</td>\n",
       "      <td>0.520027</td>\n",
       "      <td>0.929079</td>\n",
       "    </tr>\n",
       "    <tr>\n",
       "      <th>4</th>\n",
       "      <td>18000000000</td>\n",
       "      <td>0.158032</td>\n",
       "      <td>0.463523</td>\n",
       "      <td>0.632615</td>\n",
       "    </tr>\n",
       "    <tr>\n",
       "      <th>5</th>\n",
       "      <td>21600000000</td>\n",
       "      <td>0.951082</td>\n",
       "      <td>0.234796</td>\n",
       "      <td>0.445937</td>\n",
       "    </tr>\n",
       "    <tr>\n",
       "      <th>6</th>\n",
       "      <td>25200000000</td>\n",
       "      <td>0.500156</td>\n",
       "      <td>0.082241</td>\n",
       "      <td>0.316195</td>\n",
       "    </tr>\n",
       "    <tr>\n",
       "      <th>7</th>\n",
       "      <td>28800000000</td>\n",
       "      <td>0.397763</td>\n",
       "      <td>0.776547</td>\n",
       "      <td>0.669269</td>\n",
       "    </tr>\n",
       "    <tr>\n",
       "      <th>8</th>\n",
       "      <td>32400000000</td>\n",
       "      <td>0.892954</td>\n",
       "      <td>0.709488</td>\n",
       "      <td>0.896741</td>\n",
       "    </tr>\n",
       "    <tr>\n",
       "      <th>9</th>\n",
       "      <td>36000000000</td>\n",
       "      <td>0.715138</td>\n",
       "      <td>0.718544</td>\n",
       "      <td>0.722520</td>\n",
       "    </tr>\n",
       "  </tbody>\n",
       "</table>\n",
       "</div>"
      ],
      "text/plain": [
       "    timestamps  randGTS.lat  randGTS.lon   randGTS\n",
       "0   3600000000     0.705641     0.700436  0.841977\n",
       "1   7200000000     0.595544     0.284900  0.136496\n",
       "2  10800000000     0.255941     0.866255  0.528451\n",
       "3  14400000000     0.978208     0.520027  0.929079\n",
       "4  18000000000     0.158032     0.463523  0.632615\n",
       "5  21600000000     0.951082     0.234796  0.445937\n",
       "6  25200000000     0.500156     0.082241  0.316195\n",
       "7  28800000000     0.397763     0.776547  0.669269\n",
       "8  32400000000     0.892954     0.709488  0.896741\n",
       "9  36000000000     0.715138     0.718544  0.722520"
      ]
     },
     "execution_count": 6,
     "metadata": {},
     "output_type": "execute_result"
    }
   ],
   "source": [
    "gts1 = s.pop()\n",
    "df1 = pd.DataFrame.from_dict(pkl.loads(gts1))\n",
    "df1"
   ]
  },
  {
   "cell_type": "markdown",
   "metadata": {},
   "source": [
    "In the following example, we choose to keep label information."
   ]
  },
  {
   "cell_type": "code",
   "execution_count": 7,
   "metadata": {},
   "outputs": [
    {
     "name": "stdout",
     "output_type": "stream",
     "text": [
      "top: \tb'\\x80\\x02}q\\x00(X\\n\\x00\\x00\\x00timestampsq\\x01]q\\x02(I3600000000\\nI7200000000\\nI10800000000\\nI14400000000\\nI18000000000\\nI21600000000\\nI25200000000\\nI28800000000\\nI32400000000\\nI36000000000\\neX\"\\x00\\x00\\x00randGTS{key1=info1,key2=info2}.latq\\x03]q\\x04(G?\\xa8y\\xd0\\xe8\\x00\\x00\\x00G?\\xa9`F\\xb8\\x00\\x00\\x00G?\\xeb!}\\x19\\x00\\x00\\x00G?\\xe6l\\xdd\\x10\\x80\\x00\\x00G?\\xdb\\x98\\x92\\xaa\\x00\\x00\\x00G?\\xd8[\\x85\\x16\\x00\\x00\\x00G?\\xc1\\x17\\x97\\xf4\\x00\\x00\\x00G?\\xef\\xa1\\xe7\\x13\\x80\\x00\\x00G?\\xdb\\xfcw\\xd9\\x00\\x00\\x00G?\\xe1\\x99\\xf9\\xe9\\x80\\x00\\x00eX\"\\x00\\x00\\x00randGTS{key1=info1,key2=info2}.lonq\\x05]q\\x06(G?\\xde\\xf2c^\\x00\\x00\\x00G?\\xd3}yP\\x00\\x00\\x00G?\\x8a\\xc22\\x00\\x00\\x00\\x00G?\\xea&\\xae\\x89\\x00\\x00\\x00G?\\xd7\\x0ec\\x0e\\x00\\x00\\x00G?\\xe5d\\xf0\\xd1\\x00\\x00\\x00G?\\xed\\xb0\\xbd\\x1a\\x00\\x00\\x00G?\\xe3\\xf3\\xa0\\xdf\\x00\\x00\\x00G?\\xd8F\\xb4t\\x00\\x00\\x00G?\\xc3A\\xb1\\x18\\x00\\x00\\x00eX\\x1e\\x00\\x00\\x00randGTS{key1=info1,key2=info2}q\\x07]q\\x08(G?\\xd91\\xd6$%g\\xf8G?\\xe9K\\xe2lfL\\x8dG?\\xeb-\\xc6\\xa3\\xe4c\\xd0G?\\xdf\\x03\\xa2\\xda.\\xf8\\xaeG?\\xda\\xe6\\xbc\\x95\\x0e\\xf1\\x00G?\\xd1\\x0fC3\\xb3^nG?\\xd9\\x82\\xf2/\\xf6\\xf0\\xbeG?\\xc4\\xbc.-\\x98\\x97\\x0cG?\\xd4{\\xdc\\xa9QZ\\xb6G?\\xcex*\\xf3%]\\xc4eu.'\n",
      "\n"
     ]
    }
   ],
   "source": [
    "%%w -s s\n",
    "NEWGTS 'randGTS' RENAME 1 10 <% h RAND RAND NaN RAND ADDVALUE %> FOR\n",
    "{ 'key1' 'info1' 'key2' 'info2' } RELABEL\n",
    "true\n",
    "@GTStoPickledDict"
   ]
  },
  {
   "cell_type": "code",
   "execution_count": 8,
   "metadata": {},
   "outputs": [
    {
     "data": {
      "text/html": [
       "<div>\n",
       "<style scoped>\n",
       "    .dataframe tbody tr th:only-of-type {\n",
       "        vertical-align: middle;\n",
       "    }\n",
       "\n",
       "    .dataframe tbody tr th {\n",
       "        vertical-align: top;\n",
       "    }\n",
       "\n",
       "    .dataframe thead th {\n",
       "        text-align: right;\n",
       "    }\n",
       "</style>\n",
       "<table border=\"1\" class=\"dataframe\">\n",
       "  <thead>\n",
       "    <tr style=\"text-align: right;\">\n",
       "      <th></th>\n",
       "      <th>timestamps</th>\n",
       "      <th>randGTS{key1=info1,key2=info2}.lat</th>\n",
       "      <th>randGTS{key1=info1,key2=info2}.lon</th>\n",
       "      <th>randGTS{key1=info1,key2=info2}</th>\n",
       "    </tr>\n",
       "  </thead>\n",
       "  <tbody>\n",
       "    <tr>\n",
       "      <th>0</th>\n",
       "      <td>3600000000</td>\n",
       "      <td>0.047804</td>\n",
       "      <td>0.483544</td>\n",
       "      <td>0.393667</td>\n",
       "    </tr>\n",
       "    <tr>\n",
       "      <th>1</th>\n",
       "      <td>7200000000</td>\n",
       "      <td>0.049563</td>\n",
       "      <td>0.304533</td>\n",
       "      <td>0.790513</td>\n",
       "    </tr>\n",
       "    <tr>\n",
       "      <th>2</th>\n",
       "      <td>10800000000</td>\n",
       "      <td>0.847838</td>\n",
       "      <td>0.013066</td>\n",
       "      <td>0.849338</td>\n",
       "    </tr>\n",
       "    <tr>\n",
       "      <th>3</th>\n",
       "      <td>14400000000</td>\n",
       "      <td>0.700789</td>\n",
       "      <td>0.817222</td>\n",
       "      <td>0.484597</td>\n",
       "    </tr>\n",
       "    <tr>\n",
       "      <th>4</th>\n",
       "      <td>18000000000</td>\n",
       "      <td>0.431187</td>\n",
       "      <td>0.360253</td>\n",
       "      <td>0.420333</td>\n",
       "    </tr>\n",
       "    <tr>\n",
       "      <th>5</th>\n",
       "      <td>21600000000</td>\n",
       "      <td>0.380586</td>\n",
       "      <td>0.668572</td>\n",
       "      <td>0.266557</td>\n",
       "    </tr>\n",
       "    <tr>\n",
       "      <th>6</th>\n",
       "      <td>25200000000</td>\n",
       "      <td>0.133533</td>\n",
       "      <td>0.927825</td>\n",
       "      <td>0.398617</td>\n",
       "    </tr>\n",
       "    <tr>\n",
       "      <th>7</th>\n",
       "      <td>28800000000</td>\n",
       "      <td>0.988514</td>\n",
       "      <td>0.623490</td>\n",
       "      <td>0.161993</td>\n",
       "    </tr>\n",
       "    <tr>\n",
       "      <th>8</th>\n",
       "      <td>32400000000</td>\n",
       "      <td>0.437284</td>\n",
       "      <td>0.379315</td>\n",
       "      <td>0.320060</td>\n",
       "    </tr>\n",
       "    <tr>\n",
       "      <th>9</th>\n",
       "      <td>36000000000</td>\n",
       "      <td>0.550046</td>\n",
       "      <td>0.150442</td>\n",
       "      <td>0.238042</td>\n",
       "    </tr>\n",
       "  </tbody>\n",
       "</table>\n",
       "</div>"
      ],
      "text/plain": [
       "    timestamps  randGTS{key1=info1,key2=info2}.lat  \\\n",
       "0   3600000000                            0.047804   \n",
       "1   7200000000                            0.049563   \n",
       "2  10800000000                            0.847838   \n",
       "3  14400000000                            0.700789   \n",
       "4  18000000000                            0.431187   \n",
       "5  21600000000                            0.380586   \n",
       "6  25200000000                            0.133533   \n",
       "7  28800000000                            0.988514   \n",
       "8  32400000000                            0.437284   \n",
       "9  36000000000                            0.550046   \n",
       "\n",
       "   randGTS{key1=info1,key2=info2}.lon  randGTS{key1=info1,key2=info2}  \n",
       "0                            0.483544                        0.393667  \n",
       "1                            0.304533                        0.790513  \n",
       "2                            0.013066                        0.849338  \n",
       "3                            0.817222                        0.484597  \n",
       "4                            0.360253                        0.420333  \n",
       "5                            0.668572                        0.266557  \n",
       "6                            0.927825                        0.398617  \n",
       "7                            0.623490                        0.161993  \n",
       "8                            0.379315                        0.320060  \n",
       "9                            0.150442                        0.238042  "
      ]
     },
     "execution_count": 8,
     "metadata": {},
     "output_type": "execute_result"
    }
   ],
   "source": [
    "gts2 = s.pop()\n",
    "df2 = pd.DataFrame.from_dict(pkl.loads(gts2))\n",
    "df2"
   ]
  },
  {
   "cell_type": "markdown",
   "metadata": {},
   "source": [
    "We can also not use geo information."
   ]
  },
  {
   "cell_type": "code",
   "execution_count": 9,
   "metadata": {},
   "outputs": [
    {
     "name": "stdout",
     "output_type": "stream",
     "text": [
      "top: \tb'\\x80\\x02}q\\x00(X\\n\\x00\\x00\\x00timestampsq\\x01]q\\x02(I7200000000\\nI10800000000\\nI14400000000\\nI18000000000\\nI21600000000\\nI25200000000\\nI28800000000\\nI32400000000\\nI36000000000\\nI39600000000\\neX\\x06\\x00\\x00\\x00randTSq\\x03]q\\x04(G?\\xea\\xe8\\xad\\\\\\xbe\\xdb7G?\\xe5?\\xf0\\xa0\\x8a\\x19\\xf8G?\\xd6\\xa15\\xa9\\x1e\\xcc`G?\\xde\\x16\\xba\\x11,l\\x00G?\\xc9\\xa1\\xb2$\\x8e/\\xa4G?\\xe2\\x06\\x93\\x13O\\x89\\x02G?\\xdek \\x8e\\xd4\\xf7\\xacG?\\xe5@\\xf0\\xd7\\x07\\xa2zG?\\xb5M\\x0f\\x08\\xe8\\x87\\xd8G?\\xdf\\x19\\x07\\x04\\n\\xc8\\xaceu.'\n",
      "\n"
     ]
    }
   ],
   "source": [
    "%%w -s s\n",
    "NEWGTS 'randTS' RENAME 2 11 <% h NaN NaN NaN RAND ADDVALUE %> FOR\n",
    "false\n",
    "@GTStoPickledDict"
   ]
  },
  {
   "cell_type": "code",
   "execution_count": 10,
   "metadata": {},
   "outputs": [
    {
     "data": {
      "text/html": [
       "<div>\n",
       "<style scoped>\n",
       "    .dataframe tbody tr th:only-of-type {\n",
       "        vertical-align: middle;\n",
       "    }\n",
       "\n",
       "    .dataframe tbody tr th {\n",
       "        vertical-align: top;\n",
       "    }\n",
       "\n",
       "    .dataframe thead th {\n",
       "        text-align: right;\n",
       "    }\n",
       "</style>\n",
       "<table border=\"1\" class=\"dataframe\">\n",
       "  <thead>\n",
       "    <tr style=\"text-align: right;\">\n",
       "      <th></th>\n",
       "      <th>timestamps</th>\n",
       "      <th>randTS</th>\n",
       "    </tr>\n",
       "  </thead>\n",
       "  <tbody>\n",
       "    <tr>\n",
       "      <th>0</th>\n",
       "      <td>7200000000</td>\n",
       "      <td>0.840903</td>\n",
       "    </tr>\n",
       "    <tr>\n",
       "      <th>1</th>\n",
       "      <td>10800000000</td>\n",
       "      <td>0.664055</td>\n",
       "    </tr>\n",
       "    <tr>\n",
       "      <th>2</th>\n",
       "      <td>14400000000</td>\n",
       "      <td>0.353589</td>\n",
       "    </tr>\n",
       "    <tr>\n",
       "      <th>3</th>\n",
       "      <td>18000000000</td>\n",
       "      <td>0.470137</td>\n",
       "    </tr>\n",
       "    <tr>\n",
       "      <th>4</th>\n",
       "      <td>21600000000</td>\n",
       "      <td>0.200247</td>\n",
       "    </tr>\n",
       "    <tr>\n",
       "      <th>5</th>\n",
       "      <td>25200000000</td>\n",
       "      <td>0.563303</td>\n",
       "    </tr>\n",
       "    <tr>\n",
       "      <th>6</th>\n",
       "      <td>28800000000</td>\n",
       "      <td>0.475289</td>\n",
       "    </tr>\n",
       "    <tr>\n",
       "      <th>7</th>\n",
       "      <td>32400000000</td>\n",
       "      <td>0.664177</td>\n",
       "    </tr>\n",
       "    <tr>\n",
       "      <th>8</th>\n",
       "      <td>36000000000</td>\n",
       "      <td>0.083207</td>\n",
       "    </tr>\n",
       "    <tr>\n",
       "      <th>9</th>\n",
       "      <td>39600000000</td>\n",
       "      <td>0.485903</td>\n",
       "    </tr>\n",
       "  </tbody>\n",
       "</table>\n",
       "</div>"
      ],
      "text/plain": [
       "    timestamps    randTS\n",
       "0   7200000000  0.840903\n",
       "1  10800000000  0.664055\n",
       "2  14400000000  0.353589\n",
       "3  18000000000  0.470137\n",
       "4  21600000000  0.200247\n",
       "5  25200000000  0.563303\n",
       "6  28800000000  0.475289\n",
       "7  32400000000  0.664177\n",
       "8  36000000000  0.083207\n",
       "9  39600000000  0.485903"
      ]
     },
     "execution_count": 10,
     "metadata": {},
     "output_type": "execute_result"
    }
   ],
   "source": [
    "gts3 = s.pop()\n",
    "df3 = pd.DataFrame.from_dict(pkl.loads(gts3))\n",
    "df3"
   ]
  },
  {
   "cell_type": "markdown",
   "metadata": {},
   "source": [
    "### 2. Revert a DataFrame to a GTS"
   ]
  },
  {
   "cell_type": "markdown",
   "metadata": {},
   "source": [
    "To revert a DataFrame to a GTS, we first need to convert the DataFrame into a dict."
   ]
  },
  {
   "cell_type": "code",
   "execution_count": 11,
   "metadata": {},
   "outputs": [
    {
     "data": {
      "text/plain": [
       "{'timestamps': [3600000000,\n",
       "  7200000000,\n",
       "  10800000000,\n",
       "  14400000000,\n",
       "  18000000000,\n",
       "  21600000000,\n",
       "  25200000000,\n",
       "  28800000000,\n",
       "  32400000000,\n",
       "  36000000000],\n",
       " 'randGTS.lat': [0.705640995875001,\n",
       "  0.5955438176169991,\n",
       "  0.2559414552524686,\n",
       "  0.9782076207920909,\n",
       "  0.15803156420588493,\n",
       "  0.9510817704722285,\n",
       "  0.5001559155061841,\n",
       "  0.3977632988244295,\n",
       "  0.8929539425298572,\n",
       "  0.7151381950825453],\n",
       " 'randGTS.lon': [0.7004360854625702,\n",
       "  0.2848996315151453,\n",
       "  0.866254772990942,\n",
       "  0.5200273543596268,\n",
       "  0.4635233525186777,\n",
       "  0.23479563184082508,\n",
       "  0.08224055171012878,\n",
       "  0.776547035202384,\n",
       "  0.7094877865165472,\n",
       "  0.7185439299792051],\n",
       " 'randGTS': [0.8419769382046516,\n",
       "  0.1364955533817579,\n",
       "  0.5284513375598869,\n",
       "  0.9290792591218313,\n",
       "  0.6326154716975465,\n",
       "  0.4459368069614914,\n",
       "  0.3161954262721772,\n",
       "  0.6692693813708607,\n",
       "  0.8967405642467337,\n",
       "  0.7225203948170561]}"
      ]
     },
     "execution_count": 11,
     "metadata": {},
     "output_type": "execute_result"
    }
   ],
   "source": [
    "gts1b = df1.to_dict('list')\n",
    "gts1b"
   ]
  },
  {
   "cell_type": "markdown",
   "metadata": {},
   "source": [
    "We can push this dict directly onto the stack, since it will be automatically converted in the JVM."
   ]
  },
  {
   "cell_type": "code",
   "execution_count": 12,
   "metadata": {},
   "outputs": [
    {
     "data": {
      "text/plain": [
       "top: \t{'randGTS.lat': [0.705640995875001, 0.5955438176169991, 0.2559414552524686, 0.9782076207920909, 0.15803156420588493, 0.9510817704722285, 0.5001559155061841, 0.3977632988244295, 0.8929539425298572, 0.7151381950825453], 'timestamps': [3600000000, 7200000000, 10800000000, 14400000000, 18000000000, 21600000000, 25200000000, 28800000000, 32400000000, 36000000000], 'randGTS': [0.8419769382046516, 0.1364955533817579, 0.5284513375598869, 0.9290792591218313, 0.6326154716975465, 0.4459368069614914, 0.3161954262721772, 0.6692693813708607, 0.8967405642467337, 0.7225203948170561], 'randGTS.lon': [0.7004360854625702, 0.2848996315151453, 0.866254772990942, 0.5200273543596268, 0.4635233525186777, 0.23479563184082508, 0.08224055171012878, 0.776547035202384, 0.7094877865165472, 0.7185439299792051]}"
      ]
     },
     "execution_count": 12,
     "metadata": {},
     "output_type": "execute_result"
    }
   ],
   "source": [
    "s.push(gts1b)\n",
    "s"
   ]
  },
  {
   "cell_type": "markdown",
   "metadata": {},
   "source": [
    "Now we can use the lists contained in this map to populate a GTS."
   ]
  },
  {
   "cell_type": "code",
   "execution_count": 13,
   "metadata": {},
   "outputs": [
    {
     "name": "stdout",
     "output_type": "stream",
     "text": [
      "top: \t<GTS with 10 values>\n",
      "\n"
     ]
    }
   ],
   "source": [
    "%%w -s s\n",
    "'dict' STORE\n",
    "$dict 'timestamps' GET\n",
    "$dict 'randGTS.lat' GET\n",
    "$dict 'randGTS.lon' GET\n",
    "[] // no elevation\n",
    "$dict 'randGTS' GET\n",
    "MAKEGTS 'randGTS' RENAME"
   ]
  },
  {
   "cell_type": "code",
   "execution_count": 14,
   "metadata": {},
   "outputs": [
    {
     "name": "stdout",
     "output_type": "stream",
     "text": [
      "randGTS{}\n",
      "=3600000000/0.705640995875001:0.7004360854625702/ 0.8419769382046516\n",
      "=7200000000/0.5955438176169991:0.2848996315151453/ 0.1364955533817579\n",
      "=10800000000/0.2559414552524686:0.866254772990942/ 0.5284513375598869\n",
      "=14400000000/0.9782076207920909:0.5200273543596268/ 0.9290792591218313\n",
      "=18000000000/0.15803156420588493:0.4635233525186777/ 0.6326154716975465\n",
      "=21600000000/0.9510817704722285:0.23479563184082508/ 0.4459368069614914\n",
      "=25200000000/0.5001559155061841:0.08224055171012878/ 0.3161954262721772\n",
      "=28800000000/0.3977632988244295:0.776547035202384/ 0.6692693813708607\n",
      "=32400000000/0.8929539425298572:0.7094877865165472/ 0.8967405642467337\n",
      "=36000000000/0.7151381950825453:0.7185439299792051/ 0.7225203948170561\n",
      "\n"
     ]
    }
   ],
   "source": [
    "print(s.pop().toString())"
   ]
  },
  {
   "cell_type": "markdown",
   "metadata": {},
   "source": [
    "### 3. From a list of GTS to a DataFrame"
   ]
  },
  {
   "cell_type": "markdown",
   "metadata": {},
   "source": [
    "We want to put every GTS of a list in a same DataFrame with a single `timestamps` column.<br/>\n",
    "Since every GTS don't have values for the same timestamps, we need to handle missing values,<br/>\n",
    "and we need to make the assumption that each GTS can have at most one value per timestamp.<br/>\n",
    "It is more efficient to do that in WarpScript, as done in by the macro `ListGTStoPickledDict`."
   ]
  },
  {
   "cell_type": "code",
   "execution_count": 15,
   "metadata": {},
   "outputs": [
    {
     "name": "stdout",
     "output_type": "stream",
     "text": [
      "Creating a new WarpScript stack accessible under variable \"s\".\n",
      "\n"
     ]
    }
   ],
   "source": [
    "%%w -s s -o\n",
    "<%\n",
    "    # Documenting the macro\n",
    "    '[GTS] BOOLEAN @ListGTStoPickledDict' DOC\n",
    "\n",
    "    # Check there is two arguments on the stack\n",
    "    <% DEPTH 2 < %> <% 'Macro takes two arguments' MSGFAIL %> IFT\n",
    "        \n",
    "    # Check that top is a boolean indicating whether to use GTS classname or selector\n",
    "    <% 1 PICK TYPEOF 'BOOLEAN' != %> <% 'First argument must be a boolean indicating whether to use GTS selector (true) or classname (false)' MSGFAIL %> IFT\n",
    "    \n",
    "    # Check that second argument is a list of GTS\n",
    "    <% 2 PICK TYPEOF 'LIST' != %> <% 'Second argument must be a List of GTS' MSGFAIL %> IFT\n",
    "    2 PICK <% <% TYPEOF 'GTS' != %> <% 'Second argument is a list that has an element that is not a GTS' MSGFAIL %> IFT %> FOREACH\n",
    "    \n",
    "    # Store the arguments\n",
    "    'withSelector' STORE\n",
    "    'gtsList' STORE\n",
    "    \n",
    "    # make tickbase of all GTS\n",
    "    $gtsList TICKS 'ticks' STORE\n",
    "    $ticks [] [] [] $ticks MAKEGTS 'baseGTS' STORE\n",
    "    \n",
    "    # macro: check not all NaN (for locations and elevations)\n",
    "    <% UNIQUE DUP SIZE 1 == SWAP 0 GET ISNaN && %> 'isAllNaN' STORE\n",
    "        \n",
    "    # Return pickled dict for pandas\n",
    "    {\n",
    "        # ticks\n",
    "        'timestamps' $ticks\n",
    "        \n",
    "        # loop over list of GTS\n",
    "        $gtsList\n",
    "        <%\n",
    "            'gts' STORE\n",
    "            \n",
    "            # Make name\n",
    "            $gts <% $withSelector %> <% TOSELECTOR %> <% NAME %> IFTE\n",
    "            'name' STORE\n",
    "        \n",
    "            # Put on the same tick base and fill missing values with NaN\n",
    "            [ $gts true mapper.replace 0 0 0 ] MAP\n",
    "            'mask' STORE\n",
    "            [ $mask [ $baseGTS ] [] op.negmask ] APPLY\n",
    "            [ SWAP NaN mapper.replace 0 0 0 ] MAP\n",
    "            0 GET 'residualSeries' STORE\n",
    "            [ $gts $residualSeries ] MERGE SORT\n",
    "            'gts' STORE\n",
    "        \n",
    "            # locations\n",
    "            $gts LOCATIONS 'lon' STORE 'lat' STORE\n",
    "            <% $lat @isAllNaN ! %> <% $name '.lat' + $lat %> IFT\n",
    "            <% $lon @isAllNaN ! %> <% $name '.lon' + $lon %> IFT\n",
    "        \n",
    "            # elevations\n",
    "            $gts ELEVATIONS 'elev' STORE\n",
    "            <% $elev @isAllNaN ! %> <% $name '.elev' + $elev %> IFT\n",
    "        \n",
    "            # values        \n",
    "            $name $gts VALUES\n",
    "        %>\n",
    "        FOREACH\n",
    "    }\n",
    "    ->PICKLE\n",
    "%>\n",
    "'ListGTStoPickledDict' STORE"
   ]
  },
  {
   "cell_type": "markdown",
   "metadata": {},
   "source": [
    "We apply the macro `ListGTStoPickledDict` similarly than `GTStoPickledDict`,<br/>\n",
    "except that it takes a list of GTS instead of a single GTS as second argument."
   ]
  },
  {
   "cell_type": "code",
   "execution_count": 16,
   "metadata": {},
   "outputs": [
    {
     "name": "stdout",
     "output_type": "stream",
     "text": [
      "top: \tb'\\x80\\x02}q\\x00(X\\n\\x00\\x00\\x00timestampsq\\x01]q\\x02(I3600000000\\nI7200000000\\nI10800000000\\nI14400000000\\nI18000000000\\nI21600000000\\nI25200000000\\nI28800000000\\nI32400000000\\nI36000000000\\nI39600000000\\neX\\x0b\\x00\\x00\\x00randGTS.latq\\x03]q\\x04(G?\\xd2 c\\xe2\\x00\\x00\\x00G?\\xe1\\xde{\\xf5\\x80\\x00\\x00G?\\xe1\\x13\\x1a\\x9b\\x80\\x00\\x00G?\\xeaD~\\xde\\x80\\x00\\x00G?\\xd8\\xf0\\x07\\x0e\\x00\\x00\\x00G?\\xec/5\\x8e\\x00\\x00\\x00G?\\xe7\\xf5\\xda\\xd3\\x80\\x00\\x00G?\\xbb\\xc8\\x82\\xa8\\x00\\x00\\x00G?\\xe5C\\xf2\\x16\\x80\\x00\\x00G?\\xe1Sr]\\x80\\x00\\x00G\\x7f\\xf8\\x00\\x00\\x00\\x00\\x00\\x00eX\\x0b\\x00\\x00\\x00randGTS.lonq\\x05]q\\x06(G?\\x9b\\xb6\\xe2\\x00\\x00\\x00\\x00G?\\xebL\\x93\\x8c\\x00\\x00\\x00G?\\xbe\\xe5)x\\x00\\x00\\x00G?\\x9d%0`\\x00\\x00\\x00G?\\x91M\\xfe\\xc0\\x00\\x00\\x00G?\\xd3\\x97\\xf6@\\x00\\x00\\x00G?\\xa8g\\x84\\xb0\\x00\\x00\\x00G?\\xe5I\\xbe\\x1f\\x00\\x00\\x00G?\\xef9\\x1e>\\x00\\x00\\x00G?\\xe8ww\\xe9\\x00\\x00\\x00G\\x7f\\xf8\\x00\\x00\\x00\\x00\\x00\\x00eX\\x07\\x00\\x00\\x00randGTSq\\x07]q\\x08(G?\\xd8\\xb1\\x0bsg:@G?\\xe0\\x9fAkD\\x1e\\xe2G?\\xe3(\\xee\\x14\\xf3\\x95\\xb8G?\\xdd\\xe5\\xbd\\'g{\\xe6G?\\xea^\\xaf\\xb9K\\xde}G?\\xda8\\x1c\\xf1O\\xf3\\x80G?\\xb8\\x052k\\xd6\\r\\x90G?\\x9cy\\x90\\xeb\\xda\\xab@G?\\xe7\\xdc\\xb1a\\xf5I<G?\\xe8\\x18[\\xbd\\xc6w\\xfdG\\x7f\\xf8\\x00\\x00\\x00\\x00\\x00\\x00eX\\x06\\x00\\x00\\x00randTSq\\t]q\\n(G\\x7f\\xf8\\x00\\x00\\x00\\x00\\x00\\x00G?\\xe2\\xa6\\x96\\xee\\xd3C\\x1aG?\\xe0>T\\\\\\xd1\\xa9\\x90G?\\xe0l)\\x0eP\\xf7\\xeeG?\\xd1\\xe7y\\xd9\\xb7;\"G?\\xc9\\x173C\\xe9\\x94\\xe0G?\\xe8\\x12S\\xaeH\\x8b\\xe9G?\\xd7{\\x02\\x06\\xe7FbG?\\xe9!\\xbe\\xb3m\\xee\\x0eG?\\xe91\\x1a\\x7fr\\xe7\\x0eG?\\xdb\\\\pc\\x9dt~eX\\x08\\x00\\x00\\x00stringTSq\\x0b]q\\x0c(X\\x03\\x00\\x00\\x00NaNq\\rh\\rh\\rh\\rX\\x08\\x00\\x00\\x00a stringq\\x0eh\\x0eh\\x0eh\\x0eh\\rh\\rh\\reu.'\n",
      "\n"
     ]
    }
   ],
   "source": [
    "%%w -s s\n",
    "[ NEWGTS 'randGTS' RENAME 1 10 <% h RAND RAND NaN RAND ADDVALUE %> FOR\n",
    "  NEWGTS 'randTS' RENAME 2 11 <% h NaN NaN NaN RAND ADDVALUE %> FOR\n",
    "  NEWGTS 'stringTS' RENAME 5 8 <% h NaN NaN NaN 'a string' ADDVALUE %> FOR ]\n",
    "false\n",
    "@ListGTStoPickledDict"
   ]
  },
  {
   "cell_type": "markdown",
   "metadata": {},
   "source": [
    "Contrary to our first example with a single GTS, the following cell will raise<br/>\n",
    "an error if a GTS of the list has a timestamp with multiple values."
   ]
  },
  {
   "cell_type": "code",
   "execution_count": 17,
   "metadata": {},
   "outputs": [
    {
     "data": {
      "text/html": [
       "<div>\n",
       "<style scoped>\n",
       "    .dataframe tbody tr th:only-of-type {\n",
       "        vertical-align: middle;\n",
       "    }\n",
       "\n",
       "    .dataframe tbody tr th {\n",
       "        vertical-align: top;\n",
       "    }\n",
       "\n",
       "    .dataframe thead th {\n",
       "        text-align: right;\n",
       "    }\n",
       "</style>\n",
       "<table border=\"1\" class=\"dataframe\">\n",
       "  <thead>\n",
       "    <tr style=\"text-align: right;\">\n",
       "      <th></th>\n",
       "      <th>timestamps</th>\n",
       "      <th>randGTS.lat</th>\n",
       "      <th>randGTS.lon</th>\n",
       "      <th>randGTS</th>\n",
       "      <th>randTS</th>\n",
       "      <th>stringTS</th>\n",
       "    </tr>\n",
       "  </thead>\n",
       "  <tbody>\n",
       "    <tr>\n",
       "      <th>0</th>\n",
       "      <td>3600000000</td>\n",
       "      <td>0.283227</td>\n",
       "      <td>0.027065</td>\n",
       "      <td>0.385806</td>\n",
       "      <td>NaN</td>\n",
       "      <td>NaN</td>\n",
       "    </tr>\n",
       "    <tr>\n",
       "      <th>1</th>\n",
       "      <td>7200000000</td>\n",
       "      <td>0.558409</td>\n",
       "      <td>0.853098</td>\n",
       "      <td>0.519440</td>\n",
       "      <td>0.582836</td>\n",
       "      <td>NaN</td>\n",
       "    </tr>\n",
       "    <tr>\n",
       "      <th>2</th>\n",
       "      <td>10800000000</td>\n",
       "      <td>0.533582</td>\n",
       "      <td>0.120684</td>\n",
       "      <td>0.598746</td>\n",
       "      <td>0.507609</td>\n",
       "      <td>NaN</td>\n",
       "    </tr>\n",
       "    <tr>\n",
       "      <th>3</th>\n",
       "      <td>14400000000</td>\n",
       "      <td>0.820861</td>\n",
       "      <td>0.028462</td>\n",
       "      <td>0.467147</td>\n",
       "      <td>0.513203</td>\n",
       "      <td>NaN</td>\n",
       "    </tr>\n",
       "    <tr>\n",
       "      <th>4</th>\n",
       "      <td>18000000000</td>\n",
       "      <td>0.389650</td>\n",
       "      <td>0.016899</td>\n",
       "      <td>0.824058</td>\n",
       "      <td>0.279753</td>\n",
       "      <td>a string</td>\n",
       "    </tr>\n",
       "    <tr>\n",
       "      <th>5</th>\n",
       "      <td>21600000000</td>\n",
       "      <td>0.880763</td>\n",
       "      <td>0.306150</td>\n",
       "      <td>0.409675</td>\n",
       "      <td>0.196021</td>\n",
       "      <td>a string</td>\n",
       "    </tr>\n",
       "    <tr>\n",
       "      <th>6</th>\n",
       "      <td>25200000000</td>\n",
       "      <td>0.748762</td>\n",
       "      <td>0.047665</td>\n",
       "      <td>0.093829</td>\n",
       "      <td>0.752237</td>\n",
       "      <td>a string</td>\n",
       "    </tr>\n",
       "    <tr>\n",
       "      <th>7</th>\n",
       "      <td>28800000000</td>\n",
       "      <td>0.108528</td>\n",
       "      <td>0.665252</td>\n",
       "      <td>0.027807</td>\n",
       "      <td>0.366883</td>\n",
       "      <td>a string</td>\n",
       "    </tr>\n",
       "    <tr>\n",
       "      <th>8</th>\n",
       "      <td>32400000000</td>\n",
       "      <td>0.664544</td>\n",
       "      <td>0.975722</td>\n",
       "      <td>0.745690</td>\n",
       "      <td>0.785369</td>\n",
       "      <td>NaN</td>\n",
       "    </tr>\n",
       "    <tr>\n",
       "      <th>9</th>\n",
       "      <td>36000000000</td>\n",
       "      <td>0.541436</td>\n",
       "      <td>0.764584</td>\n",
       "      <td>0.752973</td>\n",
       "      <td>0.787244</td>\n",
       "      <td>NaN</td>\n",
       "    </tr>\n",
       "    <tr>\n",
       "      <th>10</th>\n",
       "      <td>39600000000</td>\n",
       "      <td>NaN</td>\n",
       "      <td>NaN</td>\n",
       "      <td>NaN</td>\n",
       "      <td>0.427517</td>\n",
       "      <td>NaN</td>\n",
       "    </tr>\n",
       "  </tbody>\n",
       "</table>\n",
       "</div>"
      ],
      "text/plain": [
       "     timestamps  randGTS.lat  randGTS.lon   randGTS    randTS  stringTS\n",
       "0    3600000000     0.283227     0.027065  0.385806       NaN       NaN\n",
       "1    7200000000     0.558409     0.853098  0.519440  0.582836       NaN\n",
       "2   10800000000     0.533582     0.120684  0.598746  0.507609       NaN\n",
       "3   14400000000     0.820861     0.028462  0.467147  0.513203       NaN\n",
       "4   18000000000     0.389650     0.016899  0.824058  0.279753  a string\n",
       "5   21600000000     0.880763     0.306150  0.409675  0.196021  a string\n",
       "6   25200000000     0.748762     0.047665  0.093829  0.752237  a string\n",
       "7   28800000000     0.108528     0.665252  0.027807  0.366883  a string\n",
       "8   32400000000     0.664544     0.975722  0.745690  0.785369       NaN\n",
       "9   36000000000     0.541436     0.764584  0.752973  0.787244       NaN\n",
       "10  39600000000          NaN          NaN       NaN  0.427517       NaN"
      ]
     },
     "execution_count": 17,
     "metadata": {},
     "output_type": "execute_result"
    }
   ],
   "source": [
    "listGts = s.pop()\n",
    "df4 = pd.DataFrame.from_dict(pkl.loads(listGts))\n",
    "df4"
   ]
  }
 ],
 "metadata": {
  "kernelspec": {
   "display_name": "Python 3",
   "language": "python",
   "name": "python3"
  },
  "language_info": {
   "codemirror_mode": {
    "name": "ipython",
    "version": 3
   },
   "file_extension": ".py",
   "mimetype": "text/x-python",
   "name": "python",
   "nbconvert_exporter": "python",
   "pygments_lexer": "ipython3",
   "version": "3.6.6"
  },
  "toc": {
   "base_numbering": 1,
   "nav_menu": {},
   "number_sections": false,
   "sideBar": false,
   "skip_h1_title": false,
   "title_cell": "Table of Contents",
   "title_sidebar": "Contents",
   "toc_cell": false,
   "toc_position": {},
   "toc_section_display": false,
   "toc_window_display": false
  }
 },
 "nbformat": 4,
 "nbformat_minor": 2
}
