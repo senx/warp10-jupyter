{
 "cells": [
  {
   "cell_type": "markdown",
   "metadata": {},
   "source": [
    "### This notebook shows how to make a Pandas DataFrame from WarpScript GTS"
   ]
  },
  {
   "cell_type": "markdown",
   "metadata": {},
   "source": [
    "### 1. From a single GTS to a DataFrame"
   ]
  },
  {
   "cell_type": "code",
   "execution_count": 1,
   "metadata": {},
   "outputs": [
    {
     "name": "stdout",
     "output_type": "stream",
     "text": [
      "Created `%%w` as an alias for `%%warpscript`.\n"
     ]
    }
   ],
   "source": [
    "%load_ext warpscript_cellmagic\n",
    "%alias_magic w warpscript"
   ]
  },
  {
   "cell_type": "markdown",
   "metadata": {},
   "source": [
    "We will need pandas and pickle libraries."
   ]
  },
  {
   "cell_type": "code",
   "execution_count": 2,
   "metadata": {},
   "outputs": [],
   "source": [
    "import pandas as pd\n",
    "import pickle as pkl"
   ]
  },
  {
   "cell_type": "markdown",
   "metadata": {},
   "source": [
    "We first create a random GTS."
   ]
  },
  {
   "cell_type": "code",
   "execution_count": 3,
   "metadata": {},
   "outputs": [
    {
     "name": "stdout",
     "output_type": "stream",
     "text": [
      "Starting connection with 127.0.0.1:25333.\n",
      "Creating a new WarpScript stack accessible under variable \"s\".\n",
      "top: \t<GTS with 10 values>\n",
      "\n"
     ]
    }
   ],
   "source": [
    "%%w -s s\n",
    "NEWGTS 'randGTS' RENAME 1 10 <% h RAND RAND NaN RAND ADDVALUE %> FOR"
   ]
  },
  {
   "cell_type": "markdown",
   "metadata": {},
   "source": [
    "In order to make a GTS understood by a python interpreter, we store its content in a map of lists and pickle it as a dict.<br/>\n",
    "The macro `GTStoPickledDict` does this. To load it, you can place the file `macros/GTStoPickledDict.mc2`<br/>\n",
    "in the macro folder of the Warp 10 platform you are sending requests to, or you can execute the following cell."
   ]
  },
  {
   "cell_type": "code",
   "execution_count": 4,
   "metadata": {},
   "outputs": [
    {
     "name": "stdout",
     "output_type": "stream",
     "text": [
      "top: \t<GTS with 10 values>\n",
      "\n"
     ]
    }
   ],
   "source": [
    "%%w -s s\n",
    "<%\n",
    "    # Documenting the macro\n",
    "    'GTS BOOLEAN @GTStoPickledDict' DOC\n",
    "\n",
    "    # Check there is two arguments on the stack\n",
    "    <% DEPTH 2 < %> <% 'Macro takes two arguments' MSGFAIL %> IFT\n",
    "        \n",
    "    # Check that top is a boolean indicating whether to use GTS classname or selector\n",
    "    <% 1 PICK TYPEOF 'BOOLEAN' != %> <% 'First argument must be a boolean indicating whether to use GTS selector (true) or classname (false)' MSGFAIL %> IFT\n",
    "    \n",
    "    # Check that second argument is a GTS\n",
    "    <% 2 PICK TYPEOF 'GTS' != %> <% 'Second argument must be a GTS' MSGFAIL %> IFT\n",
    "    \n",
    "    # Store the arguments\n",
    "    'withSelector' STORE\n",
    "    'gts' STORE\n",
    "    \n",
    "    # Make name\n",
    "    $gts <% $withSelector %> <% TOSELECTOR %> <% NAME %> IFTE\n",
    "    'name' STORE\n",
    "    \n",
    "    # macro: check not all NaN (for locations and elevations)\n",
    "    <% UNIQUE DUP SIZE 1 == SWAP 0 GET ISNaN && %> 'isAllNaN' STORE\n",
    "        \n",
    "    # Return pickled dict for pandas\n",
    "    {\n",
    "        # ticks\n",
    "        'timestamps' $gts TICKLIST\n",
    "        \n",
    "        # locations\n",
    "        $gts LOCATIONS 'lon' STORE 'lat' STORE\n",
    "        <% $lat @isAllNaN ! %> <% $name '.lat' + $lat %> IFT\n",
    "        <% $lon @isAllNaN ! %> <% $name '.lon' + $lon %> IFT\n",
    "        \n",
    "        # elevations\n",
    "        $gts ELEVATIONS 'elev' STORE\n",
    "        <% $elev @isAllNaN ! %> <% $name '.elev' + $elev %> IFT\n",
    "        \n",
    "        # values        \n",
    "        $name $gts VALUES\n",
    "    }\n",
    "    ->PICKLE\n",
    "%>\n",
    "'GTStoPickledDict' STORE"
   ]
  },
  {
   "cell_type": "markdown",
   "metadata": {},
   "source": [
    "We evaluate the macro on the random GTS that was left on the stack.<br/>\n",
    "Setting the first argument to false means we drop its labels for its pickled representation."
   ]
  },
  {
   "cell_type": "code",
   "execution_count": 5,
   "metadata": {},
   "outputs": [
    {
     "name": "stdout",
     "output_type": "stream",
     "text": [
      "top: \tb'\\x80\\x02}q\\x00(X\\n\\x00\\x00\\x00timestampsq\\x01]q\\x02(I3600000000\\nI7200000000\\nI10800000000\\nI14400000000\\nI18000000000\\nI21600000000\\nI25200000000\\nI28800000000\\nI32400000000\\nI36000000000\\neX\\x0b\\x00\\x00\\x00randGTS.latq\\x03]q\\x04(G?\\xe2\\xc3\\x14,\\x80\\x00\\x00G?\\xe0a\\xe7\\x88\\x00\\x00\\x00G?\\xd3CO\\xc3\\x00\\x00\\x00G?\\xea_\\xd9\\xbb\\x00\\x00\\x00G?\\xd4:A\\x07\\x00\\x00\\x00G?\\x93h\\xb0\\x10\\x00\\x00\\x00G?\\xe7\\x12\\xed\\x0e\\x80\\x00\\x00G?\\xe2\\xecz`\\x80\\x00\\x00G?\\xca\\xbe\\xcc\\xf0\\x00\\x00\\x00G?}K[\\x00\\x00\\x00\\x00eX\\x0b\\x00\\x00\\x00randGTS.lonq\\x05]q\\x06(G?\\xe6\\xac,/\\x00\\x00\\x00G?\\xe8\\x0cq\\xf1\\x00\\x00\\x00G?\\xee\\x1f:j\\x00\\x00\\x00G?\\xe3\\x05\\x14\\x01\\x00\\x00\\x00G?\\xd5\\xd6-\\xc8\\x00\\x00\\x00G?\\xdcb\\x06\\xc6\\x00\\x00\\x00G?\\xe1)[j\\x00\\x00\\x00G?\\xea\\xac\\x01\\xa1\\x00\\x00\\x00G?\\xe4Y\\x97U\\x00\\x00\\x00G?\\xd8.q\\x0c\\x00\\x00\\x00eX\\x07\\x00\\x00\\x00randGTSq\\x07]q\\x08(G?\\xe9R\\xd0JzK\\xa7G?\\xe5\\x00\\xa09\\x9f|\\xa3G?\\xe1\\xa8\\x16\\x8b\\xd9UDG?\\xca\\xb7q<A\\tpG?\\xd9\\xd3\\x7f\\x8b\\xef\\xcd\\xceG?\\xc0\\xf4\\xc9\\xff\\x7f\\xa6\\\\G?\\xe2\\xe2\\x0c\\xe7\\xa9\\x8b\\x07G?\\xce,\\x866\\xf3+\\xdcG?\\xdb\\xc9\\xce\\xcea\\x9cTG?\\xd3.\\x1c\\xe9L\\xd8\\x92eu.'\n",
      "\n"
     ]
    }
   ],
   "source": [
    "%%w -s s\n",
    "false\n",
    "@GTStoPickledDict"
   ]
  },
  {
   "cell_type": "markdown",
   "metadata": {},
   "source": [
    "We then load the dict from its pickled representation and create a pandas dataframe with it."
   ]
  },
  {
   "cell_type": "code",
   "execution_count": 6,
   "metadata": {},
   "outputs": [
    {
     "data": {
      "text/html": [
       "<div>\n",
       "<style scoped>\n",
       "    .dataframe tbody tr th:only-of-type {\n",
       "        vertical-align: middle;\n",
       "    }\n",
       "\n",
       "    .dataframe tbody tr th {\n",
       "        vertical-align: top;\n",
       "    }\n",
       "\n",
       "    .dataframe thead th {\n",
       "        text-align: right;\n",
       "    }\n",
       "</style>\n",
       "<table border=\"1\" class=\"dataframe\">\n",
       "  <thead>\n",
       "    <tr style=\"text-align: right;\">\n",
       "      <th></th>\n",
       "      <th>timestamps</th>\n",
       "      <th>randGTS.lat</th>\n",
       "      <th>randGTS.lon</th>\n",
       "      <th>randGTS</th>\n",
       "    </tr>\n",
       "  </thead>\n",
       "  <tbody>\n",
       "    <tr>\n",
       "      <th>0</th>\n",
       "      <td>3600000000</td>\n",
       "      <td>0.586313</td>\n",
       "      <td>0.708517</td>\n",
       "      <td>0.791359</td>\n",
       "    </tr>\n",
       "    <tr>\n",
       "      <th>1</th>\n",
       "      <td>7200000000</td>\n",
       "      <td>0.511951</td>\n",
       "      <td>0.751519</td>\n",
       "      <td>0.656326</td>\n",
       "    </tr>\n",
       "    <tr>\n",
       "      <th>2</th>\n",
       "      <td>10800000000</td>\n",
       "      <td>0.300983</td>\n",
       "      <td>0.941312</td>\n",
       "      <td>0.551769</td>\n",
       "    </tr>\n",
       "    <tr>\n",
       "      <th>3</th>\n",
       "      <td>14400000000</td>\n",
       "      <td>0.824201</td>\n",
       "      <td>0.594370</td>\n",
       "      <td>0.208723</td>\n",
       "    </tr>\n",
       "    <tr>\n",
       "      <th>4</th>\n",
       "      <td>18000000000</td>\n",
       "      <td>0.316056</td>\n",
       "      <td>0.341197</td>\n",
       "      <td>0.403534</td>\n",
       "    </tr>\n",
       "    <tr>\n",
       "      <th>5</th>\n",
       "      <td>21600000000</td>\n",
       "      <td>0.018954</td>\n",
       "      <td>0.443483</td>\n",
       "      <td>0.132470</td>\n",
       "    </tr>\n",
       "    <tr>\n",
       "      <th>6</th>\n",
       "      <td>25200000000</td>\n",
       "      <td>0.721060</td>\n",
       "      <td>0.536298</td>\n",
       "      <td>0.590094</td>\n",
       "    </tr>\n",
       "    <tr>\n",
       "      <th>7</th>\n",
       "      <td>28800000000</td>\n",
       "      <td>0.591367</td>\n",
       "      <td>0.833497</td>\n",
       "      <td>0.235734</td>\n",
       "    </tr>\n",
       "    <tr>\n",
       "      <th>8</th>\n",
       "      <td>32400000000</td>\n",
       "      <td>0.208948</td>\n",
       "      <td>0.635936</td>\n",
       "      <td>0.434192</td>\n",
       "    </tr>\n",
       "    <tr>\n",
       "      <th>9</th>\n",
       "      <td>36000000000</td>\n",
       "      <td>0.007152</td>\n",
       "      <td>0.377835</td>\n",
       "      <td>0.299690</td>\n",
       "    </tr>\n",
       "  </tbody>\n",
       "</table>\n",
       "</div>"
      ],
      "text/plain": [
       "    timestamps  randGTS.lat  randGTS.lon   randGTS\n",
       "0   3600000000     0.586313     0.708517  0.791359\n",
       "1   7200000000     0.511951     0.751519  0.656326\n",
       "2  10800000000     0.300983     0.941312  0.551769\n",
       "3  14400000000     0.824201     0.594370  0.208723\n",
       "4  18000000000     0.316056     0.341197  0.403534\n",
       "5  21600000000     0.018954     0.443483  0.132470\n",
       "6  25200000000     0.721060     0.536298  0.590094\n",
       "7  28800000000     0.591367     0.833497  0.235734\n",
       "8  32400000000     0.208948     0.635936  0.434192\n",
       "9  36000000000     0.007152     0.377835  0.299690"
      ]
     },
     "execution_count": 6,
     "metadata": {},
     "output_type": "execute_result"
    }
   ],
   "source": [
    "gts1 = s.pop()\n",
    "df1 = pd.DataFrame.from_dict(pkl.loads(gts1))\n",
    "df1"
   ]
  },
  {
   "cell_type": "markdown",
   "metadata": {},
   "source": [
    "In the following example, we choose to keep label information."
   ]
  },
  {
   "cell_type": "code",
   "execution_count": 7,
   "metadata": {},
   "outputs": [
    {
     "name": "stdout",
     "output_type": "stream",
     "text": [
      "top: \tb'\\x80\\x02}q\\x00(X\\n\\x00\\x00\\x00timestampsq\\x01]q\\x02(I3600000000\\nI7200000000\\nI10800000000\\nI14400000000\\nI18000000000\\nI21600000000\\nI25200000000\\nI28800000000\\nI32400000000\\nI36000000000\\neX\"\\x00\\x00\\x00randGTS{key1=info1,key2=info2}.latq\\x03]q\\x04(G?\\xbc\\xcd\\x8c\\\\\\x00\\x00\\x00G?\\xe4\\xac\\x91\\x87\\x80\\x00\\x00G?\\xdaE\\xff\\n\\x00\\x00\\x00G?\\xc1/\\xc0\\xa4\\x00\\x00\\x00G?\\xd4vD\\xd6\\x00\\x00\\x00G?\\xb7\\x85\\xc1\\xec\\x00\\x00\\x00G?\\xea\\xfe ]\\x00\\x00\\x00G?\\xe2\\xc6c\\x9d\\x80\\x00\\x00G?\\x9e/\\xac`\\x00\\x00\\x00G?\\xe3\\x15j\\xa1\\x80\\x00\\x00eX\"\\x00\\x00\\x00randGTS{key1=info1,key2=info2}.lonq\\x05]q\\x06(G?\\xe4\\x8f\\xb1}\\x00\\x00\\x00G?\\xe4\\xac\\xf0\\x8a\\x00\\x00\\x00G?\\xef\\xbf8\\xac\\x00\\x00\\x00G?\\xef\\x8e\\xd5\\xe5\\x00\\x00\\x00G?\\xe8\\x153\\xae\\x00\\x00\\x00G?\\xd9\\x0f`,\\x00\\x00\\x00G?\\xebh\\x9fU\\x00\\x00\\x00G?\\x9de,`\\x00\\x00\\x00G?\\xe4\\xfc\\x19!\\x00\\x00\\x00G?\\xe9\\x9bn\\xfa\\x00\\x00\\x00eX\\x1e\\x00\\x00\\x00randGTS{key1=info1,key2=info2}q\\x07]q\\x08(G?\\xc0x\\xd8\\x9d\\xe9\\x02\\xccG?\\xedqUi\\x1f,\\x0eG?\\xdb\\r\\xf6\\x1apsvG?\\xe2\\xe7\\xbd\\xf9\\x94\\x8b\\x81G?\\xd8\\xa0\\xcew\\xd3\\xdfFG?\\xe3\\x12\\x0f@0\\x1bEG?\\xe4q\\xd7\\x0e\\x82\\xb3\\x8eG?\\xd3\\xdd\\x1e\\xb3;\\x8b\\xe4G?\\xee\\x95;|\\xa1\\x8d\\xb4G?\\xdd\\x07k!\\x02\\xd2Feu.'\n",
      "\n"
     ]
    }
   ],
   "source": [
    "%%w -s s\n",
    "NEWGTS 'randGTS' RENAME 1 10 <% h RAND RAND NaN RAND ADDVALUE %> FOR\n",
    "{ 'key1' 'info1' 'key2' 'info2' } RELABEL\n",
    "true\n",
    "@GTStoPickledDict"
   ]
  },
  {
   "cell_type": "code",
   "execution_count": 8,
   "metadata": {},
   "outputs": [
    {
     "data": {
      "text/html": [
       "<div>\n",
       "<style scoped>\n",
       "    .dataframe tbody tr th:only-of-type {\n",
       "        vertical-align: middle;\n",
       "    }\n",
       "\n",
       "    .dataframe tbody tr th {\n",
       "        vertical-align: top;\n",
       "    }\n",
       "\n",
       "    .dataframe thead th {\n",
       "        text-align: right;\n",
       "    }\n",
       "</style>\n",
       "<table border=\"1\" class=\"dataframe\">\n",
       "  <thead>\n",
       "    <tr style=\"text-align: right;\">\n",
       "      <th></th>\n",
       "      <th>timestamps</th>\n",
       "      <th>randGTS{key1=info1,key2=info2}.lat</th>\n",
       "      <th>randGTS{key1=info1,key2=info2}.lon</th>\n",
       "      <th>randGTS{key1=info1,key2=info2}</th>\n",
       "    </tr>\n",
       "  </thead>\n",
       "  <tbody>\n",
       "    <tr>\n",
       "      <th>0</th>\n",
       "      <td>3600000000</td>\n",
       "      <td>0.112511</td>\n",
       "      <td>0.642541</td>\n",
       "      <td>0.128688</td>\n",
       "    </tr>\n",
       "    <tr>\n",
       "      <th>1</th>\n",
       "      <td>7200000000</td>\n",
       "      <td>0.646065</td>\n",
       "      <td>0.646111</td>\n",
       "      <td>0.920085</td>\n",
       "    </tr>\n",
       "    <tr>\n",
       "      <th>2</th>\n",
       "      <td>10800000000</td>\n",
       "      <td>0.410522</td>\n",
       "      <td>0.992092</td>\n",
       "      <td>0.422727</td>\n",
       "    </tr>\n",
       "    <tr>\n",
       "      <th>3</th>\n",
       "      <td>14400000000</td>\n",
       "      <td>0.134270</td>\n",
       "      <td>0.986186</td>\n",
       "      <td>0.590789</td>\n",
       "    </tr>\n",
       "    <tr>\n",
       "      <th>4</th>\n",
       "      <td>18000000000</td>\n",
       "      <td>0.319719</td>\n",
       "      <td>0.752588</td>\n",
       "      <td>0.384815</td>\n",
       "    </tr>\n",
       "    <tr>\n",
       "      <th>5</th>\n",
       "      <td>21600000000</td>\n",
       "      <td>0.091885</td>\n",
       "      <td>0.391563</td>\n",
       "      <td>0.595955</td>\n",
       "    </tr>\n",
       "    <tr>\n",
       "      <th>6</th>\n",
       "      <td>25200000000</td>\n",
       "      <td>0.843521</td>\n",
       "      <td>0.856521</td>\n",
       "      <td>0.638896</td>\n",
       "    </tr>\n",
       "    <tr>\n",
       "      <th>7</th>\n",
       "      <td>28800000000</td>\n",
       "      <td>0.586717</td>\n",
       "      <td>0.028706</td>\n",
       "      <td>0.310371</td>\n",
       "    </tr>\n",
       "    <tr>\n",
       "      <th>8</th>\n",
       "      <td>32400000000</td>\n",
       "      <td>0.029479</td>\n",
       "      <td>0.655774</td>\n",
       "      <td>0.955717</td>\n",
       "    </tr>\n",
       "    <tr>\n",
       "      <th>9</th>\n",
       "      <td>36000000000</td>\n",
       "      <td>0.596364</td>\n",
       "      <td>0.800224</td>\n",
       "      <td>0.453578</td>\n",
       "    </tr>\n",
       "  </tbody>\n",
       "</table>\n",
       "</div>"
      ],
      "text/plain": [
       "    timestamps  randGTS{key1=info1,key2=info2}.lat  \\\n",
       "0   3600000000                            0.112511   \n",
       "1   7200000000                            0.646065   \n",
       "2  10800000000                            0.410522   \n",
       "3  14400000000                            0.134270   \n",
       "4  18000000000                            0.319719   \n",
       "5  21600000000                            0.091885   \n",
       "6  25200000000                            0.843521   \n",
       "7  28800000000                            0.586717   \n",
       "8  32400000000                            0.029479   \n",
       "9  36000000000                            0.596364   \n",
       "\n",
       "   randGTS{key1=info1,key2=info2}.lon  randGTS{key1=info1,key2=info2}  \n",
       "0                            0.642541                        0.128688  \n",
       "1                            0.646111                        0.920085  \n",
       "2                            0.992092                        0.422727  \n",
       "3                            0.986186                        0.590789  \n",
       "4                            0.752588                        0.384815  \n",
       "5                            0.391563                        0.595955  \n",
       "6                            0.856521                        0.638896  \n",
       "7                            0.028706                        0.310371  \n",
       "8                            0.655774                        0.955717  \n",
       "9                            0.800224                        0.453578  "
      ]
     },
     "execution_count": 8,
     "metadata": {},
     "output_type": "execute_result"
    }
   ],
   "source": [
    "gts2 = s.pop()\n",
    "df2 = pd.DataFrame.from_dict(pkl.loads(gts2))\n",
    "df2"
   ]
  },
  {
   "cell_type": "markdown",
   "metadata": {},
   "source": [
    "We can also not use geo information."
   ]
  },
  {
   "cell_type": "code",
   "execution_count": 9,
   "metadata": {},
   "outputs": [
    {
     "name": "stdout",
     "output_type": "stream",
     "text": [
      "top: \tb'\\x80\\x02}q\\x00(X\\n\\x00\\x00\\x00timestampsq\\x01]q\\x02(I7200000000\\nI10800000000\\nI14400000000\\nI18000000000\\nI21600000000\\nI25200000000\\nI28800000000\\nI32400000000\\nI36000000000\\nI39600000000\\neX\\x06\\x00\\x00\\x00randTSq\\x03]q\\x04(G?\\xdb\\x99(\\xd5\\x92`\\xc8G?\\xe0.!\\x7f\\xa4\\xd5\\xe6G?\\xd7T\\xc3>\\xc0\\xef\\\\G?\\xb8\\xfb\\x02\\x8ap\\x11XG?\\xd1\\xe4]\\xeb\\x03\\x8a\\xe4G?\\xec\\xd4\\x16\\x934\\x0b\\x14G?\\xddfx}k\\xb7vG?\\xd8t\\x01\\x81\\x9c\\xf4\\xdeG?\\xdeO%\\x10S\\x92\\xfcG?\\xd5\\xd5A\\x15i\\x8a\\x86eu.'\n",
      "\n"
     ]
    }
   ],
   "source": [
    "%%w -s s\n",
    "NEWGTS 'randTS' RENAME 2 11 <% h NaN NaN NaN RAND ADDVALUE %> FOR\n",
    "false\n",
    "@GTStoPickledDict"
   ]
  },
  {
   "cell_type": "code",
   "execution_count": 10,
   "metadata": {},
   "outputs": [
    {
     "data": {
      "text/html": [
       "<div>\n",
       "<style scoped>\n",
       "    .dataframe tbody tr th:only-of-type {\n",
       "        vertical-align: middle;\n",
       "    }\n",
       "\n",
       "    .dataframe tbody tr th {\n",
       "        vertical-align: top;\n",
       "    }\n",
       "\n",
       "    .dataframe thead th {\n",
       "        text-align: right;\n",
       "    }\n",
       "</style>\n",
       "<table border=\"1\" class=\"dataframe\">\n",
       "  <thead>\n",
       "    <tr style=\"text-align: right;\">\n",
       "      <th></th>\n",
       "      <th>timestamps</th>\n",
       "      <th>randTS</th>\n",
       "    </tr>\n",
       "  </thead>\n",
       "  <tbody>\n",
       "    <tr>\n",
       "      <th>0</th>\n",
       "      <td>7200000000</td>\n",
       "      <td>0.431223</td>\n",
       "    </tr>\n",
       "    <tr>\n",
       "      <th>1</th>\n",
       "      <td>10800000000</td>\n",
       "      <td>0.505631</td>\n",
       "    </tr>\n",
       "    <tr>\n",
       "      <th>2</th>\n",
       "      <td>14400000000</td>\n",
       "      <td>0.364549</td>\n",
       "    </tr>\n",
       "    <tr>\n",
       "      <th>3</th>\n",
       "      <td>18000000000</td>\n",
       "      <td>0.097580</td>\n",
       "    </tr>\n",
       "    <tr>\n",
       "      <th>4</th>\n",
       "      <td>21600000000</td>\n",
       "      <td>0.279563</td>\n",
       "    </tr>\n",
       "    <tr>\n",
       "      <th>5</th>\n",
       "      <td>25200000000</td>\n",
       "      <td>0.900890</td>\n",
       "    </tr>\n",
       "    <tr>\n",
       "      <th>6</th>\n",
       "      <td>28800000000</td>\n",
       "      <td>0.459379</td>\n",
       "    </tr>\n",
       "    <tr>\n",
       "      <th>7</th>\n",
       "      <td>32400000000</td>\n",
       "      <td>0.382080</td>\n",
       "    </tr>\n",
       "    <tr>\n",
       "      <th>8</th>\n",
       "      <td>36000000000</td>\n",
       "      <td>0.473581</td>\n",
       "    </tr>\n",
       "    <tr>\n",
       "      <th>9</th>\n",
       "      <td>39600000000</td>\n",
       "      <td>0.341141</td>\n",
       "    </tr>\n",
       "  </tbody>\n",
       "</table>\n",
       "</div>"
      ],
      "text/plain": [
       "    timestamps    randTS\n",
       "0   7200000000  0.431223\n",
       "1  10800000000  0.505631\n",
       "2  14400000000  0.364549\n",
       "3  18000000000  0.097580\n",
       "4  21600000000  0.279563\n",
       "5  25200000000  0.900890\n",
       "6  28800000000  0.459379\n",
       "7  32400000000  0.382080\n",
       "8  36000000000  0.473581\n",
       "9  39600000000  0.341141"
      ]
     },
     "execution_count": 10,
     "metadata": {},
     "output_type": "execute_result"
    }
   ],
   "source": [
    "gts3 = s.pop()\n",
    "df3 = pd.DataFrame.from_dict(pkl.loads(gts3))\n",
    "df3"
   ]
  },
  {
   "cell_type": "markdown",
   "metadata": {},
   "source": [
    "### 2. Revert a DataFrame to a GTS"
   ]
  },
  {
   "cell_type": "markdown",
   "metadata": {},
   "source": [
    "To revert a DataFrame to a GTS, we first need to convert the DataFrame into a dict."
   ]
  },
  {
   "cell_type": "code",
   "execution_count": 11,
   "metadata": {},
   "outputs": [
    {
     "data": {
      "text/plain": [
       "{'timestamps': [3600000000,\n",
       "  7200000000,\n",
       "  10800000000,\n",
       "  14400000000,\n",
       "  18000000000,\n",
       "  21600000000,\n",
       "  25200000000,\n",
       "  28800000000,\n",
       "  32400000000,\n",
       "  36000000000],\n",
       " 'randGTS.lat': [0.5863133305683732,\n",
       "  0.5119512230157852,\n",
       "  0.3009833721444011,\n",
       "  0.824200501665473,\n",
       "  0.3160555427893996,\n",
       "  0.018954039551317692,\n",
       "  0.7210603030398488,\n",
       "  0.5913669476285577,\n",
       "  0.2089477702975273,\n",
       "  0.007151942700147629],\n",
       " 'randGTS.lon': [0.708517162129283,\n",
       "  0.7515191752463579,\n",
       "  0.9413120336830616,\n",
       "  0.5943698901683092,\n",
       "  0.3411974385380745,\n",
       "  0.4434830602258444,\n",
       "  0.5362984724342823,\n",
       "  0.8334968704730272,\n",
       "  0.6359364185482264,\n",
       "  0.37783456966280937],\n",
       " 'randGTS': [0.7913590864794643,\n",
       "  0.6563264012765057,\n",
       "  0.5517685634064624,\n",
       "  0.20872321550457285,\n",
       "  0.40353382745453537,\n",
       "  0.13247036910552168,\n",
       "  0.5900940441755161,\n",
       "  0.23573377307033538,\n",
       "  0.4341923728411008,\n",
       "  0.29968951018543877]}"
      ]
     },
     "execution_count": 11,
     "metadata": {},
     "output_type": "execute_result"
    }
   ],
   "source": [
    "gts1b = df1.to_dict('list')\n",
    "gts1b"
   ]
  },
  {
   "cell_type": "markdown",
   "metadata": {},
   "source": [
    "We can push this dict directly onto the stack, since it will be automatically converted in the JVM."
   ]
  },
  {
   "cell_type": "code",
   "execution_count": 12,
   "metadata": {},
   "outputs": [
    {
     "data": {
      "text/plain": [
       "top: \t{'randGTS.lat': [0.5863133305683732, 0.5119512230157852, 0.3009833721444011, 0.824200501665473, 0.3160555427893996, 0.018954039551317692, 0.7210603030398488, 0.5913669476285577, 0.2089477702975273, 0.007151942700147629], 'timestamps': [3600000000, 7200000000, 10800000000, 14400000000, 18000000000, 21600000000, 25200000000, 28800000000, 32400000000, 36000000000], 'randGTS': [0.7913590864794643, 0.6563264012765057, 0.5517685634064624, 0.20872321550457285, 0.40353382745453537, 0.13247036910552168, 0.5900940441755161, 0.23573377307033538, 0.4341923728411008, 0.29968951018543877], 'randGTS.lon': [0.708517162129283, 0.7515191752463579, 0.9413120336830616, 0.5943698901683092, 0.3411974385380745, 0.4434830602258444, 0.5362984724342823, 0.8334968704730272, 0.6359364185482264, 0.37783456966280937]}"
      ]
     },
     "execution_count": 12,
     "metadata": {},
     "output_type": "execute_result"
    }
   ],
   "source": [
    "s.push(gts1b)\n",
    "s"
   ]
  },
  {
   "cell_type": "markdown",
   "metadata": {},
   "source": [
    "Now we can use the lists contained in this map to populate a GTS."
   ]
  },
  {
   "cell_type": "code",
   "execution_count": 13,
   "metadata": {},
   "outputs": [
    {
     "name": "stdout",
     "output_type": "stream",
     "text": [
      "top: \t<GTS with 10 values>\n",
      "\n"
     ]
    }
   ],
   "source": [
    "%%w -s s\n",
    "'dict' STORE\n",
    "$dict 'timestamps' GET\n",
    "$dict 'randGTS.lat' GET\n",
    "$dict 'randGTS.lon' GET\n",
    "[] // no elevation\n",
    "$dict 'randGTS' GET\n",
    "MAKEGTS 'randGTS' RENAME"
   ]
  },
  {
   "cell_type": "code",
   "execution_count": 14,
   "metadata": {},
   "outputs": [
    {
     "name": "stdout",
     "output_type": "stream",
     "text": [
      "randGTS{}\n",
      "=3600000000/0.5863133305683732:0.708517162129283/ 0.7913590864794643\n",
      "=7200000000/0.5119512230157852:0.7515191752463579/ 0.6563264012765057\n",
      "=10800000000/0.3009833721444011:0.9413120336830616/ 0.5517685634064624\n",
      "=14400000000/0.824200501665473:0.5943698901683092/ 0.20872321550457285\n",
      "=18000000000/0.3160555427893996:0.3411974385380745/ 0.40353382745453537\n",
      "=21600000000/0.018954039551317692:0.4434830602258444/ 0.13247036910552168\n",
      "=25200000000/0.7210603030398488:0.5362984724342823/ 0.5900940441755161\n",
      "=28800000000/0.5913669476285577:0.8334968704730272/ 0.23573377307033538\n",
      "=32400000000/0.2089477702975273:0.6359364185482264/ 0.4341923728411008\n",
      "=36000000000/0.007151942700147629:0.37783456966280937/ 0.29968951018543877\n",
      "\n"
     ]
    }
   ],
   "source": [
    "print(s.pop().toString())"
   ]
  },
  {
   "cell_type": "markdown",
   "metadata": {},
   "source": [
    "### 3. From a list of GTS to a DataFrame"
   ]
  },
  {
   "cell_type": "markdown",
   "metadata": {},
   "source": [
    "We want to put every GTS of a list in a same DataFrame with a single `timestamps` column.<br/>\n",
    "Since every GTS don't have values for the same timestamps, we need to handle missing values,<br/>\n",
    "and we need to make the assumption that each GTS can have at most one value per timestamp.<br/>\n",
    "It is more efficient to do that in WarpScript, as done by the macro `ListGTStoPickledDict`."
   ]
  },
  {
   "cell_type": "code",
   "execution_count": 15,
   "metadata": {},
   "outputs": [
    {
     "name": "stdout",
     "output_type": "stream",
     "text": [
      "Creating a new WarpScript stack accessible under variable \"s\".\n",
      "\n"
     ]
    }
   ],
   "source": [
    "%%w -s s -o\n",
    "<%\n",
    "    # Documenting the macro\n",
    "    '[GTS] BOOLEAN @ListGTStoPickledDict' DOC\n",
    "\n",
    "    # Check there is two arguments on the stack\n",
    "    <% DEPTH 2 < %> <% 'Macro takes two arguments' MSGFAIL %> IFT\n",
    "        \n",
    "    # Check that top is a boolean indicating whether to use GTS classname or selector\n",
    "    <% 1 PICK TYPEOF 'BOOLEAN' != %> <% 'First argument must be a boolean indicating whether to use GTS selector (true) or classname (false)' MSGFAIL %> IFT\n",
    "    \n",
    "    # Check that second argument is a list of GTS\n",
    "    <% 2 PICK TYPEOF 'LIST' != %> <% 'Second argument must be a List of GTS' MSGFAIL %> IFT\n",
    "    2 PICK <% <% TYPEOF 'GTS' != %> <% 'Second argument is a list that has an element that is not a GTS' MSGFAIL %> IFT %> FOREACH\n",
    "    \n",
    "    # Store the arguments\n",
    "    'withSelector' STORE\n",
    "    'gtsList' STORE\n",
    "    \n",
    "    # make tickbase of all GTS\n",
    "    $gtsList TICKS 'ticks' STORE\n",
    "    $ticks [] [] [] $ticks MAKEGTS 'baseGTS' STORE\n",
    "    \n",
    "    # macro: check not all NaN (for locations and elevations)\n",
    "    <% UNIQUE DUP SIZE 1 == SWAP 0 GET ISNaN && %> 'isAllNaN' STORE\n",
    "        \n",
    "    # Return pickled dict for pandas\n",
    "    {\n",
    "        # ticks\n",
    "        'timestamps' $ticks\n",
    "        \n",
    "        # loop over list of GTS\n",
    "        $gtsList\n",
    "        <%\n",
    "            'gts' STORE\n",
    "            \n",
    "            # Make name\n",
    "            $gts <% $withSelector %> <% TOSELECTOR %> <% NAME %> IFTE\n",
    "            'name' STORE\n",
    "        \n",
    "            # Put on the same tick base and fill missing values with NaN\n",
    "            [ $gts true mapper.replace 0 0 0 ] MAP\n",
    "            'mask' STORE\n",
    "            [ $mask [ $baseGTS ] [] op.negmask ] APPLY\n",
    "            [ SWAP NaN mapper.replace 0 0 0 ] MAP\n",
    "            0 GET 'residualSeries' STORE\n",
    "            [ $gts $residualSeries ] MERGE SORT\n",
    "            'gts' STORE\n",
    "        \n",
    "            # locations\n",
    "            $gts LOCATIONS 'lon' STORE 'lat' STORE\n",
    "            <% $lat @isAllNaN ! %> <% $name '.lat' + $lat %> IFT\n",
    "            <% $lon @isAllNaN ! %> <% $name '.lon' + $lon %> IFT\n",
    "        \n",
    "            # elevations\n",
    "            $gts ELEVATIONS 'elev' STORE\n",
    "            <% $elev @isAllNaN ! %> <% $name '.elev' + $elev %> IFT\n",
    "        \n",
    "            # values        \n",
    "            $name $gts VALUES\n",
    "        %>\n",
    "        FOREACH\n",
    "    }\n",
    "    ->PICKLE\n",
    "%>\n",
    "'ListGTStoPickledDict' STORE"
   ]
  },
  {
   "cell_type": "markdown",
   "metadata": {},
   "source": [
    "We apply the macro `ListGTStoPickledDict` similarly than `GTStoPickledDict`,<br/>\n",
    "except that it takes a list of GTS instead of a single GTS as second argument."
   ]
  },
  {
   "cell_type": "code",
   "execution_count": 16,
   "metadata": {},
   "outputs": [
    {
     "name": "stdout",
     "output_type": "stream",
     "text": [
      "top: \tb'\\x80\\x02}q\\x00(X\\n\\x00\\x00\\x00timestampsq\\x01]q\\x02(I3600000000\\nI7200000000\\nI10800000000\\nI14400000000\\nI18000000000\\nI21600000000\\nI25200000000\\nI28800000000\\nI32400000000\\nI36000000000\\nI39600000000\\neX\\x0b\\x00\\x00\\x00randGTS.latq\\x03]q\\x04(G?\\xe0\\xc6@\\xe8\\x00\\x00\\x00G?\\xc6J\\x96T\\x00\\x00\\x00G?\\xdfj]s\\x00\\x00\\x00G?\\xd2\\x8f\\x86\\xf5\\x00\\x00\\x00G?\\x99[\\xbe\\x90\\x00\\x00\\x00G?\\xea\\x11\\xf2K\\x00\\x00\\x00G?\\xe4;G\\xbb\\x80\\x00\\x00G?\\xd0\\xbd\\xf3\\xe3\\x00\\x00\\x00G?\\xee\\xbfpO\\x80\\x00\\x00G?\\xee}\\x96s\\x00\\x00\\x00G\\x7f\\xf8\\x00\\x00\\x00\\x00\\x00\\x00eX\\x0b\\x00\\x00\\x00randGTS.lonq\\x05]q\\x06(G?\\xc8\\xf94\\x8c\\x00\\x00\\x00G?\\xc5\\xb1\\x83\\x10\\x00\\x00\\x00G?\\xc7\\x86q\\x00\\x00\\x00\\x00G?\\xb6\\xbe0(\\x00\\x00\\x00G?\\xefe\\xe9\\xdc\\x00\\x00\\x00G?\\xd6\\x06\\xc3\\xb6\\x00\\x00\\x00G?\\xc4\\xd9\\xf2L\\x00\\x00\\x00G?\\xe1x}\\x80\\x00\\x00\\x00G?\\xebmH/\\x00\\x00\\x00G?cq?\\x00\\x00\\x00\\x00G\\x7f\\xf8\\x00\\x00\\x00\\x00\\x00\\x00eX\\x07\\x00\\x00\\x00randGTSq\\x07]q\\x08(G?\\xebK\\x8d\\xce\\xa0\\xa9\\xc8G?\\xdc\\xac\\x1b\\xe3\\xe6/\\\\G?\\xc6\\x8a\\x15BaCtG?\\xedt:\\x8dK\\x97\\x93G?\\xe0J\\x10L\\xb7\\xfdFG?\\xc9\\xc2\\x0b\\xb4$\\xa7\\xf0G?\\xee\\xf8\\x100\\xac\\xa8\\xf3G?\\xdd\\xb4\\x00\\x0f\\xfb\\xb2\\xd8G?\\xea\\x9d6\\xb7\\xa9\\x89.G?\\xd2\\x95\\xce\\xcc\\x82V\\x88G\\x7f\\xf8\\x00\\x00\\x00\\x00\\x00\\x00eX\\x06\\x00\\x00\\x00randTSq\\t]q\\n(G\\x7f\\xf8\\x00\\x00\\x00\\x00\\x00\\x00G?\\xd6=Gw\\xfc\\x9d\\xe2G?\\xb1\\x86-\\x1e.\\xfcpG?\\xef\\x14m\\x12nK\\xdeG?\\xe4??I\\r\\x96\\xebG?\\xca\\xcaT.\\x9e\\xc3\\x04G?\\xaa1|g\\x0c\\xfa G?\\xba\\x9bu\\x92\\x14B\\xd8G?\\xe8\\xa8\\xd9\\x06~\\xb6\\xf0G?\\xd4,\\x18\\x1fy4\\x9aG?\\xdcz\\xeb\\xd3\\xae\\xaefeX\\x08\\x00\\x00\\x00stringTSq\\x0b]q\\x0c(X\\x03\\x00\\x00\\x00NaNq\\rh\\rh\\rh\\rX\\x08\\x00\\x00\\x00a stringq\\x0eh\\x0eh\\x0eh\\x0eh\\rh\\rh\\reu.'\n",
      "\n"
     ]
    }
   ],
   "source": [
    "%%w -s s\n",
    "[ NEWGTS 'randGTS' RENAME 1 10 <% h RAND RAND NaN RAND ADDVALUE %> FOR\n",
    "  NEWGTS 'randTS' RENAME 2 11 <% h NaN NaN NaN RAND ADDVALUE %> FOR\n",
    "  NEWGTS 'stringTS' RENAME 5 8 <% h NaN NaN NaN 'a string' ADDVALUE %> FOR ]\n",
    "false\n",
    "@ListGTStoPickledDict"
   ]
  },
  {
   "cell_type": "markdown",
   "metadata": {},
   "source": [
    "Contrary to our first example with a single GTS, the following cell will raise<br/>\n",
    "an error if a GTS of the list has a timestamp with multiple values."
   ]
  },
  {
   "cell_type": "code",
   "execution_count": 17,
   "metadata": {},
   "outputs": [
    {
     "data": {
      "text/html": [
       "<div>\n",
       "<style scoped>\n",
       "    .dataframe tbody tr th:only-of-type {\n",
       "        vertical-align: middle;\n",
       "    }\n",
       "\n",
       "    .dataframe tbody tr th {\n",
       "        vertical-align: top;\n",
       "    }\n",
       "\n",
       "    .dataframe thead th {\n",
       "        text-align: right;\n",
       "    }\n",
       "</style>\n",
       "<table border=\"1\" class=\"dataframe\">\n",
       "  <thead>\n",
       "    <tr style=\"text-align: right;\">\n",
       "      <th></th>\n",
       "      <th>timestamps</th>\n",
       "      <th>randGTS.lat</th>\n",
       "      <th>randGTS.lon</th>\n",
       "      <th>randGTS</th>\n",
       "      <th>randTS</th>\n",
       "      <th>stringTS</th>\n",
       "    </tr>\n",
       "  </thead>\n",
       "  <tbody>\n",
       "    <tr>\n",
       "      <th>0</th>\n",
       "      <td>3600000000</td>\n",
       "      <td>0.524201</td>\n",
       "      <td>0.195105</td>\n",
       "      <td>0.852973</td>\n",
       "      <td>NaN</td>\n",
       "      <td>NaN</td>\n",
       "    </tr>\n",
       "    <tr>\n",
       "      <th>1</th>\n",
       "      <td>7200000000</td>\n",
       "      <td>0.174151</td>\n",
       "      <td>0.169480</td>\n",
       "      <td>0.448005</td>\n",
       "      <td>0.347490</td>\n",
       "      <td>NaN</td>\n",
       "    </tr>\n",
       "    <tr>\n",
       "      <th>2</th>\n",
       "      <td>10800000000</td>\n",
       "      <td>0.490867</td>\n",
       "      <td>0.183790</td>\n",
       "      <td>0.176089</td>\n",
       "      <td>0.068454</td>\n",
       "      <td>NaN</td>\n",
       "    </tr>\n",
       "    <tr>\n",
       "      <th>3</th>\n",
       "      <td>14400000000</td>\n",
       "      <td>0.290010</td>\n",
       "      <td>0.088840</td>\n",
       "      <td>0.920438</td>\n",
       "      <td>0.971243</td>\n",
       "      <td>NaN</td>\n",
       "    </tr>\n",
       "    <tr>\n",
       "      <th>4</th>\n",
       "      <td>18000000000</td>\n",
       "      <td>0.024764</td>\n",
       "      <td>0.981191</td>\n",
       "      <td>0.509041</td>\n",
       "      <td>0.632721</td>\n",
       "      <td>a string</td>\n",
       "    </tr>\n",
       "    <tr>\n",
       "      <th>5</th>\n",
       "      <td>21600000000</td>\n",
       "      <td>0.814691</td>\n",
       "      <td>0.344163</td>\n",
       "      <td>0.201234</td>\n",
       "      <td>0.209300</td>\n",
       "      <td>a string</td>\n",
       "    </tr>\n",
       "    <tr>\n",
       "      <th>6</th>\n",
       "      <td>25200000000</td>\n",
       "      <td>0.632236</td>\n",
       "      <td>0.162901</td>\n",
       "      <td>0.967781</td>\n",
       "      <td>0.051159</td>\n",
       "      <td>a string</td>\n",
       "    </tr>\n",
       "    <tr>\n",
       "      <th>7</th>\n",
       "      <td>28800000000</td>\n",
       "      <td>0.261594</td>\n",
       "      <td>0.545958</td>\n",
       "      <td>0.464111</td>\n",
       "      <td>0.103935</td>\n",
       "      <td>a string</td>\n",
       "    </tr>\n",
       "    <tr>\n",
       "      <th>8</th>\n",
       "      <td>32400000000</td>\n",
       "      <td>0.960869</td>\n",
       "      <td>0.857090</td>\n",
       "      <td>0.831691</td>\n",
       "      <td>0.770611</td>\n",
       "      <td>NaN</td>\n",
       "    </tr>\n",
       "    <tr>\n",
       "      <th>9</th>\n",
       "      <td>36000000000</td>\n",
       "      <td>0.952831</td>\n",
       "      <td>0.002373</td>\n",
       "      <td>0.290394</td>\n",
       "      <td>0.315191</td>\n",
       "      <td>NaN</td>\n",
       "    </tr>\n",
       "    <tr>\n",
       "      <th>10</th>\n",
       "      <td>39600000000</td>\n",
       "      <td>NaN</td>\n",
       "      <td>NaN</td>\n",
       "      <td>NaN</td>\n",
       "      <td>0.445003</td>\n",
       "      <td>NaN</td>\n",
       "    </tr>\n",
       "  </tbody>\n",
       "</table>\n",
       "</div>"
      ],
      "text/plain": [
       "     timestamps  randGTS.lat  randGTS.lon   randGTS    randTS  stringTS\n",
       "0    3600000000     0.524201     0.195105  0.852973       NaN       NaN\n",
       "1    7200000000     0.174151     0.169480  0.448005  0.347490       NaN\n",
       "2   10800000000     0.490867     0.183790  0.176089  0.068454       NaN\n",
       "3   14400000000     0.290010     0.088840  0.920438  0.971243       NaN\n",
       "4   18000000000     0.024764     0.981191  0.509041  0.632721  a string\n",
       "5   21600000000     0.814691     0.344163  0.201234  0.209300  a string\n",
       "6   25200000000     0.632236     0.162901  0.967781  0.051159  a string\n",
       "7   28800000000     0.261594     0.545958  0.464111  0.103935  a string\n",
       "8   32400000000     0.960869     0.857090  0.831691  0.770611       NaN\n",
       "9   36000000000     0.952831     0.002373  0.290394  0.315191       NaN\n",
       "10  39600000000          NaN          NaN       NaN  0.445003       NaN"
      ]
     },
     "execution_count": 17,
     "metadata": {},
     "output_type": "execute_result"
    }
   ],
   "source": [
    "listGts = s.pop()\n",
    "df4 = pd.DataFrame.from_dict(pkl.loads(listGts))\n",
    "df4"
   ]
  }
 ],
 "metadata": {
  "kernelspec": {
   "display_name": "Python 3",
   "language": "python",
   "name": "python3"
  },
  "language_info": {
   "codemirror_mode": {
    "name": "ipython",
    "version": 3
   },
   "file_extension": ".py",
   "mimetype": "text/x-python",
   "name": "python",
   "nbconvert_exporter": "python",
   "pygments_lexer": "ipython3",
   "version": "3.6.6"
  },
  "toc": {
   "base_numbering": 1,
   "nav_menu": {},
   "number_sections": false,
   "sideBar": false,
   "skip_h1_title": false,
   "title_cell": "Table of Contents",
   "title_sidebar": "Contents",
   "toc_cell": false,
   "toc_position": {},
   "toc_section_display": false,
   "toc_window_display": false
  }
 },
 "nbformat": 4,
 "nbformat_minor": 2
}
