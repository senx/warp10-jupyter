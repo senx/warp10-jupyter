{
 "cells": [
  {
   "cell_type": "markdown",
   "metadata": {},
   "source": [
    "### This notebook shows how to make a Pandas DataFrame from WarpScript GTS"
   ]
  },
  {
   "cell_type": "markdown",
   "metadata": {},
   "source": [
    "### 1. From a single GTS to a DataFrame"
   ]
  },
  {
   "cell_type": "code",
   "execution_count": 1,
   "metadata": {},
   "outputs": [
    {
     "name": "stdout",
     "output_type": "stream",
     "text": [
      "Created `%%w` as an alias for `%%warpscript`.\n"
     ]
    }
   ],
   "source": [
    "%load_ext warpscript_cellmagic\n",
    "%alias_magic w warpscript"
   ]
  },
  {
   "cell_type": "markdown",
   "metadata": {},
   "source": [
    "We will need pandas and pickle libraries."
   ]
  },
  {
   "cell_type": "code",
   "execution_count": 2,
   "metadata": {},
   "outputs": [],
   "source": [
    "import pandas as pd\n",
    "import pickle as pkl"
   ]
  },
  {
   "cell_type": "markdown",
   "metadata": {},
   "source": [
    "We first create a random GTS."
   ]
  },
  {
   "cell_type": "code",
   "execution_count": 3,
   "metadata": {},
   "outputs": [
    {
     "name": "stdout",
     "output_type": "stream",
     "text": [
      "Starting connection with 127.0.0.1:25333.\n",
      "Creating a new WarpScript stack accessible under variable \"s\".\n",
      "top: \t<GTS with 10 values>\n",
      "\n"
     ]
    }
   ],
   "source": [
    "%%w -s s\n",
    "NEWGTS 'randGTS' RENAME 1 10 <% h RAND RAND NaN RAND ADDVALUE %> FOR"
   ]
  },
  {
   "cell_type": "markdown",
   "metadata": {},
   "source": [
    "In order to make a GTS understood by a python interpreter, we store its content in a map of lists and pickle it as a dict.<br/>\n",
    "The macro `GTStoPickledDict` does this. To load it, you can place the file `macros/GTStoPickledDict.mc2` in the macro<br/>\n",
    "folder of the Warp10 platform you are sending requests to, or you can execute the following cell."
   ]
  },
  {
   "cell_type": "code",
   "execution_count": 4,
   "metadata": {},
   "outputs": [
    {
     "name": "stdout",
     "output_type": "stream",
     "text": [
      "top: \t<GTS with 10 values>\n",
      "\n"
     ]
    }
   ],
   "source": [
    "%%w -s s\n",
    "<%\n",
    "    # Documenting the macro\n",
    "    'GTS BOOLEAN @GTStoPickledDict' DOC\n",
    "\n",
    "    # Check there is two arguments on the stack\n",
    "    <% DEPTH 2 < %> <% 'Macro takes two arguments' MSGFAIL %> IFT\n",
    "        \n",
    "    # Check that top is a boolean indicating whether to use GTS classname or selector\n",
    "    <% 1 PICK TYPEOF 'BOOLEAN' != %> <% 'First argument must be a boolean indicating whether to use GTS selector (true) or classname (false)' MSGFAIL %> IFT\n",
    "    \n",
    "    # Check that second argument is a GTS\n",
    "    <% 2 PICK TYPEOF 'GTS' != %> <% 'Second argument must be a GTS' MSGFAIL %> IFT\n",
    "    \n",
    "    # Store the arguments\n",
    "    'withSelector' STORE\n",
    "    'gts' STORE\n",
    "    \n",
    "    # Make name\n",
    "    $gts <% $withSelector %> <% TOSELECTOR %> <% NAME %> IFTE\n",
    "    'name' STORE\n",
    "    \n",
    "    # macro: check not all NaN (for locations and elevations)\n",
    "    <% UNIQUE DUP SIZE 1 == SWAP 0 GET ISNaN && %> 'isAllNaN' STORE\n",
    "        \n",
    "    # Return pickled dict for pandas\n",
    "    {\n",
    "        # ticks\n",
    "        'timestamps' $gts TICKLIST\n",
    "        \n",
    "        # locations\n",
    "        $gts LOCATIONS 'lon' STORE 'lat' STORE\n",
    "        <% $lat @isAllNaN ! %> <% $name '.lat' + $lat %> IFT\n",
    "        <% $lon @isAllNaN ! %> <% $name '.lon' + $lon %> IFT\n",
    "        \n",
    "        # elevations\n",
    "        $gts ELEVATIONS 'elev' STORE\n",
    "        <% $elev @isAllNaN ! %> <% $name '.elev' + $elev %> IFT\n",
    "        \n",
    "        # values        \n",
    "        $name $gts VALUES\n",
    "    }\n",
    "    ->PICKLE\n",
    "%>\n",
    "'GTStoPickledDict' STORE"
   ]
  },
  {
   "cell_type": "markdown",
   "metadata": {},
   "source": [
    "We evaluate the macro on the random GTS that was left on the stack.<br/>\n",
    "Setting the first argument to false means we drop its labels for its pickled representation."
   ]
  },
  {
   "cell_type": "code",
   "execution_count": 5,
   "metadata": {},
   "outputs": [
    {
     "name": "stdout",
     "output_type": "stream",
     "text": [
      "top: \tb'\\x80\\x02}q\\x00(X\\n\\x00\\x00\\x00timestampsq\\x01]q\\x02(I3600000000\\nI7200000000\\nI10800000000\\nI14400000000\\nI18000000000\\nI21600000000\\nI25200000000\\nI28800000000\\nI32400000000\\nI36000000000\\neX\\x0b\\x00\\x00\\x00randGTS.latq\\x03]q\\x04(G?\\xd1rc(\\x00\\x00\\x00G?\\xe2\\xb2z\\x0c\\x00\\x00\\x00G?\\xe3Y/\\x89\\x80\\x00\\x00G?\\xe3\\xcc5\\xcc\\x00\\x00\\x00G?\\xb5\\xf0e\\x1c\\x00\\x00\\x00G?\\xe4cIF\\x80\\x00\\x00G?\\xe6Ry\\x00\\x00\\x00\\x00G?\\xe2m2(\\x80\\x00\\x00G?\\xe7\\xcc\\xbeF\\x80\\x00\\x00G?\\xecJ\\x08\\\\\\x80\\x00\\x00eX\\x0b\\x00\\x00\\x00randGTS.lonq\\x05]q\\x06(G?\\xd9Df\\x00\\x00\\x00\\x00G?\\xda!Bd\\x00\\x00\\x00G?\\xe6\\xb5\\xbcw\\x00\\x00\\x00G?\\xef\\x1b\\x01\\xb5\\x00\\x00\\x00G?\\xd2\\x06\\xf6Z\\x00\\x00\\x00G?\\xe9\\x9b\\xed\\xe4\\x00\\x00\\x00G?\\xdfC\\rr\\x00\\x00\\x00G?\\xdc\\x02\\x16\\x9e\\x00\\x00\\x00G?\\xe6@e\\x08\\x00\\x00\\x00G?\\xd7,\\x82:\\x00\\x00\\x00eX\\x07\\x00\\x00\\x00randGTSq\\x07]q\\x08(G?\\xda\\x8b\\xb3\\xbf\\xa9\\xcf\\xbcG?\\xd0\\xb3\\xb9fk\\xd8\\xaaG?\\xdc\\xcc\\xa4a\\xbb\\xb5\\x8aG?\\xe5\\xa7\\xa9\\xdam`nG?\\xe1\\x96\\x8bA\\x0b\\xac\\xafG?\\xc9`4\\x8a@\\xb6\\\\G?\\xcf0\\x93>\\x99\\x18\\xa4G?\\xc4WqR\\xca\\xf7\\xb4G?\\xe3\\x18 \\xe1\\x80_^G?\\xd3\\x9a#I\\xde\\xe2Zeu.'\n",
      "\n"
     ]
    }
   ],
   "source": [
    "%%w -s s\n",
    "false\n",
    "@GTStoPickledDict"
   ]
  },
  {
   "cell_type": "markdown",
   "metadata": {},
   "source": [
    "We then load the dict from its pickled representation and create a pandas dataframe with it."
   ]
  },
  {
   "cell_type": "code",
   "execution_count": 6,
   "metadata": {},
   "outputs": [
    {
     "data": {
      "text/html": [
       "<div>\n",
       "<style scoped>\n",
       "    .dataframe tbody tr th:only-of-type {\n",
       "        vertical-align: middle;\n",
       "    }\n",
       "\n",
       "    .dataframe tbody tr th {\n",
       "        vertical-align: top;\n",
       "    }\n",
       "\n",
       "    .dataframe thead th {\n",
       "        text-align: right;\n",
       "    }\n",
       "</style>\n",
       "<table border=\"1\" class=\"dataframe\">\n",
       "  <thead>\n",
       "    <tr style=\"text-align: right;\">\n",
       "      <th></th>\n",
       "      <th>timestamps</th>\n",
       "      <th>randGTS.lat</th>\n",
       "      <th>randGTS.lon</th>\n",
       "      <th>randGTS</th>\n",
       "    </tr>\n",
       "  </thead>\n",
       "  <tbody>\n",
       "    <tr>\n",
       "      <th>0</th>\n",
       "      <td>3600000000</td>\n",
       "      <td>0.272607</td>\n",
       "      <td>0.394800</td>\n",
       "      <td>0.414777</td>\n",
       "    </tr>\n",
       "    <tr>\n",
       "      <th>1</th>\n",
       "      <td>7200000000</td>\n",
       "      <td>0.584287</td>\n",
       "      <td>0.408280</td>\n",
       "      <td>0.260969</td>\n",
       "    </tr>\n",
       "    <tr>\n",
       "      <th>2</th>\n",
       "      <td>10800000000</td>\n",
       "      <td>0.604637</td>\n",
       "      <td>0.709685</td>\n",
       "      <td>0.449990</td>\n",
       "    </tr>\n",
       "    <tr>\n",
       "      <th>3</th>\n",
       "      <td>14400000000</td>\n",
       "      <td>0.618678</td>\n",
       "      <td>0.972047</td>\n",
       "      <td>0.676717</td>\n",
       "    </tr>\n",
       "    <tr>\n",
       "      <th>4</th>\n",
       "      <td>18000000000</td>\n",
       "      <td>0.085699</td>\n",
       "      <td>0.281675</td>\n",
       "      <td>0.549627</td>\n",
       "    </tr>\n",
       "    <tr>\n",
       "      <th>5</th>\n",
       "      <td>21600000000</td>\n",
       "      <td>0.637120</td>\n",
       "      <td>0.800284</td>\n",
       "      <td>0.198248</td>\n",
       "    </tr>\n",
       "    <tr>\n",
       "      <th>6</th>\n",
       "      <td>25200000000</td>\n",
       "      <td>0.697567</td>\n",
       "      <td>0.488468</td>\n",
       "      <td>0.243670</td>\n",
       "    </tr>\n",
       "    <tr>\n",
       "      <th>7</th>\n",
       "      <td>28800000000</td>\n",
       "      <td>0.575830</td>\n",
       "      <td>0.437627</td>\n",
       "      <td>0.158919</td>\n",
       "    </tr>\n",
       "    <tr>\n",
       "      <th>8</th>\n",
       "      <td>32400000000</td>\n",
       "      <td>0.743743</td>\n",
       "      <td>0.695361</td>\n",
       "      <td>0.596695</td>\n",
       "    </tr>\n",
       "    <tr>\n",
       "      <th>9</th>\n",
       "      <td>36000000000</td>\n",
       "      <td>0.884037</td>\n",
       "      <td>0.362092</td>\n",
       "      <td>0.306283</td>\n",
       "    </tr>\n",
       "  </tbody>\n",
       "</table>\n",
       "</div>"
      ],
      "text/plain": [
       "    timestamps  randGTS.lat  randGTS.lon   randGTS\n",
       "0   3600000000     0.272607     0.394800  0.414777\n",
       "1   7200000000     0.584287     0.408280  0.260969\n",
       "2  10800000000     0.604637     0.709685  0.449990\n",
       "3  14400000000     0.618678     0.972047  0.676717\n",
       "4  18000000000     0.085699     0.281675  0.549627\n",
       "5  21600000000     0.637120     0.800284  0.198248\n",
       "6  25200000000     0.697567     0.488468  0.243670\n",
       "7  28800000000     0.575830     0.437627  0.158919\n",
       "8  32400000000     0.743743     0.695361  0.596695\n",
       "9  36000000000     0.884037     0.362092  0.306283"
      ]
     },
     "execution_count": 6,
     "metadata": {},
     "output_type": "execute_result"
    }
   ],
   "source": [
    "gts1 = s.pop()\n",
    "df1 = pd.DataFrame.from_dict(pkl.loads(gts1))\n",
    "df1"
   ]
  },
  {
   "cell_type": "markdown",
   "metadata": {},
   "source": [
    "In the following example, we choose to keep label information."
   ]
  },
  {
   "cell_type": "code",
   "execution_count": 7,
   "metadata": {},
   "outputs": [
    {
     "name": "stdout",
     "output_type": "stream",
     "text": [
      "top: \tb'\\x80\\x02}q\\x00(X\\n\\x00\\x00\\x00timestampsq\\x01]q\\x02(I3600000000\\nI7200000000\\nI10800000000\\nI14400000000\\nI18000000000\\nI21600000000\\nI25200000000\\nI28800000000\\nI32400000000\\nI36000000000\\neX\"\\x00\\x00\\x00randGTS{key1=info1,key2=info2}.latq\\x03]q\\x04(G?\\xc7 \\x01\\x9a\\x00\\x00\\x00G?\\xef\\xd1-\\x87\\x00\\x00\\x00G?\\xe8\\xda\\xf1\\xc7\\x80\\x00\\x00G?\\xee\\xc5|\\xae\\x00\\x00\\x00G?\\xe3<m\\xa4\\x80\\x00\\x00G?\\xecu\\x83\\xf9\\x00\\x00\\x00G?\\xe3\\xec9\\x82\\x80\\x00\\x00G?\\xee\\xee\\xcfu\\x80\\x00\\x00G?\\xe1\\xd1*\\xf2\\x00\\x00\\x00G?\\xc7M\\xcb\\x0c\\x00\\x00\\x00eX\"\\x00\\x00\\x00randGTS{key1=info1,key2=info2}.lonq\\x05]q\\x06(G?\\xbdP\\x03\\x80\\x00\\x00\\x00G?\\xce\\x9c\\xbdx\\x00\\x00\\x00G?\\xeaL\\x9a\\x95\\x00\\x00\\x00G?\\xd5\\xc4n0\\x00\\x00\\x00G?\\x9c\"_\\x80\\x00\\x00\\x00G?\\xbaU\\xb3(\\x00\\x00\\x00G?\\xe0)\\xd0P\\x00\\x00\\x00G?\\xd7\\xed\\x82\\x1e\\x00\\x00\\x00G?\\xe0\\x80^\\x98\\x00\\x00\\x00G?\\xa5-l`\\x00\\x00\\x00eX\\x1e\\x00\\x00\\x00randGTS{key1=info1,key2=info2}q\\x07]q\\x08(G?\\xe3\\x05s\\xd0\\xc9\\xb5_G?\\xeb\\x02\\x9cTv\\x87\\x87G?\\xe6x\\x9e\\xfc\\xaa\\xb5+G?\\xd0.VFY\\xef\\x06G?\\xd0\\x08\\xb0\\xc9\\xffd\\xb0G?\\xc0\\x8b\\x1dwy\\x10\\xecG?\\xcf\\xa8\\xd7&\\xd5\\x944G?\\x90*\\x08X1* G?\\xe85\\xfb\\xb1\\x0f\\x80PG?\\xcb\\xea-\\xc5i\\xc9Heu.'\n",
      "\n"
     ]
    }
   ],
   "source": [
    "%%w -s s\n",
    "NEWGTS 'randGTS' RENAME 1 10 <% h RAND RAND NaN RAND ADDVALUE %> FOR\n",
    "{ 'key1' 'info1' 'key2' 'info2' } RELABEL\n",
    "true\n",
    "@GTStoPickledDict"
   ]
  },
  {
   "cell_type": "code",
   "execution_count": 8,
   "metadata": {},
   "outputs": [
    {
     "data": {
      "text/html": [
       "<div>\n",
       "<style scoped>\n",
       "    .dataframe tbody tr th:only-of-type {\n",
       "        vertical-align: middle;\n",
       "    }\n",
       "\n",
       "    .dataframe tbody tr th {\n",
       "        vertical-align: top;\n",
       "    }\n",
       "\n",
       "    .dataframe thead th {\n",
       "        text-align: right;\n",
       "    }\n",
       "</style>\n",
       "<table border=\"1\" class=\"dataframe\">\n",
       "  <thead>\n",
       "    <tr style=\"text-align: right;\">\n",
       "      <th></th>\n",
       "      <th>timestamps</th>\n",
       "      <th>randGTS{key1=info1,key2=info2}.lat</th>\n",
       "      <th>randGTS{key1=info1,key2=info2}.lon</th>\n",
       "      <th>randGTS{key1=info1,key2=info2}</th>\n",
       "    </tr>\n",
       "  </thead>\n",
       "  <tbody>\n",
       "    <tr>\n",
       "      <th>0</th>\n",
       "      <td>3600000000</td>\n",
       "      <td>0.180664</td>\n",
       "      <td>0.114502</td>\n",
       "      <td>0.594416</td>\n",
       "    </tr>\n",
       "    <tr>\n",
       "      <th>1</th>\n",
       "      <td>7200000000</td>\n",
       "      <td>0.994284</td>\n",
       "      <td>0.239158</td>\n",
       "      <td>0.844069</td>\n",
       "    </tr>\n",
       "    <tr>\n",
       "      <th>2</th>\n",
       "      <td>10800000000</td>\n",
       "      <td>0.776727</td>\n",
       "      <td>0.821851</td>\n",
       "      <td>0.702224</td>\n",
       "    </tr>\n",
       "    <tr>\n",
       "      <th>3</th>\n",
       "      <td>14400000000</td>\n",
       "      <td>0.961607</td>\n",
       "      <td>0.340114</td>\n",
       "      <td>0.252828</td>\n",
       "    </tr>\n",
       "    <tr>\n",
       "      <th>4</th>\n",
       "      <td>18000000000</td>\n",
       "      <td>0.601127</td>\n",
       "      <td>0.027475</td>\n",
       "      <td>0.250530</td>\n",
       "    </tr>\n",
       "    <tr>\n",
       "      <th>5</th>\n",
       "      <td>21600000000</td>\n",
       "      <td>0.889345</td>\n",
       "      <td>0.102870</td>\n",
       "      <td>0.129245</td>\n",
       "    </tr>\n",
       "    <tr>\n",
       "      <th>6</th>\n",
       "      <td>25200000000</td>\n",
       "      <td>0.622586</td>\n",
       "      <td>0.505104</td>\n",
       "      <td>0.247340</td>\n",
       "    </tr>\n",
       "    <tr>\n",
       "      <th>7</th>\n",
       "      <td>28800000000</td>\n",
       "      <td>0.966652</td>\n",
       "      <td>0.373871</td>\n",
       "      <td>0.015785</td>\n",
       "    </tr>\n",
       "    <tr>\n",
       "      <th>8</th>\n",
       "      <td>32400000000</td>\n",
       "      <td>0.556783</td>\n",
       "      <td>0.515670</td>\n",
       "      <td>0.756590</td>\n",
       "    </tr>\n",
       "    <tr>\n",
       "      <th>9</th>\n",
       "      <td>36000000000</td>\n",
       "      <td>0.182062</td>\n",
       "      <td>0.041362</td>\n",
       "      <td>0.218084</td>\n",
       "    </tr>\n",
       "  </tbody>\n",
       "</table>\n",
       "</div>"
      ],
      "text/plain": [
       "    timestamps  randGTS{key1=info1,key2=info2}.lat  \\\n",
       "0   3600000000                            0.180664   \n",
       "1   7200000000                            0.994284   \n",
       "2  10800000000                            0.776727   \n",
       "3  14400000000                            0.961607   \n",
       "4  18000000000                            0.601127   \n",
       "5  21600000000                            0.889345   \n",
       "6  25200000000                            0.622586   \n",
       "7  28800000000                            0.966652   \n",
       "8  32400000000                            0.556783   \n",
       "9  36000000000                            0.182062   \n",
       "\n",
       "   randGTS{key1=info1,key2=info2}.lon  randGTS{key1=info1,key2=info2}  \n",
       "0                            0.114502                        0.594416  \n",
       "1                            0.239158                        0.844069  \n",
       "2                            0.821851                        0.702224  \n",
       "3                            0.340114                        0.252828  \n",
       "4                            0.027475                        0.250530  \n",
       "5                            0.102870                        0.129245  \n",
       "6                            0.505104                        0.247340  \n",
       "7                            0.373871                        0.015785  \n",
       "8                            0.515670                        0.756590  \n",
       "9                            0.041362                        0.218084  "
      ]
     },
     "execution_count": 8,
     "metadata": {},
     "output_type": "execute_result"
    }
   ],
   "source": [
    "gts2 = s.pop()\n",
    "df2 = pd.DataFrame.from_dict(pkl.loads(gts2))\n",
    "df2"
   ]
  },
  {
   "cell_type": "markdown",
   "metadata": {},
   "source": [
    "We can also not use geo information."
   ]
  },
  {
   "cell_type": "code",
   "execution_count": 9,
   "metadata": {},
   "outputs": [
    {
     "name": "stdout",
     "output_type": "stream",
     "text": [
      "top: \tb'\\x80\\x02}q\\x00(X\\n\\x00\\x00\\x00timestampsq\\x01]q\\x02(I7200000000\\nI10800000000\\nI14400000000\\nI18000000000\\nI21600000000\\nI25200000000\\nI28800000000\\nI32400000000\\nI36000000000\\nI39600000000\\neX\\x06\\x00\\x00\\x00randTSq\\x03]q\\x04(G?\\xebd\\x8c\\xb9\\xa7F\\x1bG?\\xd22\\xc2R:\\x87\\xb4G?\\xef\\xd3\\xf2\\xdeH*\\xcdG?\\xee\\xa80F\\x16\\x95)G?\\xeb\\x85\\xdd\\x04Gh\\xb3G?\\xd1Un\\x0f\\xdd\\x13\\x0cG?\\xaed.y|\\xbe\\x80G?\\xee\\\\\\xb8+%\\xe9\\x9cG?\\xe3\\xfe\\xf0*~F1G?\\xbe\\x98\\t\\x11\\xe9\\x15\\x88eu.'\n",
      "\n"
     ]
    }
   ],
   "source": [
    "%%w -s s\n",
    "NEWGTS 'randTS' RENAME 2 11 <% h NaN NaN NaN RAND ADDVALUE %> FOR\n",
    "false\n",
    "@GTStoPickledDict"
   ]
  },
  {
   "cell_type": "code",
   "execution_count": 10,
   "metadata": {},
   "outputs": [
    {
     "data": {
      "text/html": [
       "<div>\n",
       "<style scoped>\n",
       "    .dataframe tbody tr th:only-of-type {\n",
       "        vertical-align: middle;\n",
       "    }\n",
       "\n",
       "    .dataframe tbody tr th {\n",
       "        vertical-align: top;\n",
       "    }\n",
       "\n",
       "    .dataframe thead th {\n",
       "        text-align: right;\n",
       "    }\n",
       "</style>\n",
       "<table border=\"1\" class=\"dataframe\">\n",
       "  <thead>\n",
       "    <tr style=\"text-align: right;\">\n",
       "      <th></th>\n",
       "      <th>timestamps</th>\n",
       "      <th>randTS</th>\n",
       "    </tr>\n",
       "  </thead>\n",
       "  <tbody>\n",
       "    <tr>\n",
       "      <th>0</th>\n",
       "      <td>7200000000</td>\n",
       "      <td>0.856024</td>\n",
       "    </tr>\n",
       "    <tr>\n",
       "      <th>1</th>\n",
       "      <td>10800000000</td>\n",
       "      <td>0.284348</td>\n",
       "    </tr>\n",
       "    <tr>\n",
       "      <th>2</th>\n",
       "      <td>14400000000</td>\n",
       "      <td>0.994623</td>\n",
       "    </tr>\n",
       "    <tr>\n",
       "      <th>3</th>\n",
       "      <td>18000000000</td>\n",
       "      <td>0.958031</td>\n",
       "    </tr>\n",
       "    <tr>\n",
       "      <th>4</th>\n",
       "      <td>21600000000</td>\n",
       "      <td>0.860091</td>\n",
       "    </tr>\n",
       "    <tr>\n",
       "      <th>5</th>\n",
       "      <td>25200000000</td>\n",
       "      <td>0.270839</td>\n",
       "    </tr>\n",
       "    <tr>\n",
       "      <th>6</th>\n",
       "      <td>28800000000</td>\n",
       "      <td>0.059358</td>\n",
       "    </tr>\n",
       "    <tr>\n",
       "      <th>7</th>\n",
       "      <td>32400000000</td>\n",
       "      <td>0.948818</td>\n",
       "    </tr>\n",
       "    <tr>\n",
       "      <th>8</th>\n",
       "      <td>36000000000</td>\n",
       "      <td>0.624870</td>\n",
       "    </tr>\n",
       "    <tr>\n",
       "      <th>9</th>\n",
       "      <td>39600000000</td>\n",
       "      <td>0.119507</td>\n",
       "    </tr>\n",
       "  </tbody>\n",
       "</table>\n",
       "</div>"
      ],
      "text/plain": [
       "    timestamps    randTS\n",
       "0   7200000000  0.856024\n",
       "1  10800000000  0.284348\n",
       "2  14400000000  0.994623\n",
       "3  18000000000  0.958031\n",
       "4  21600000000  0.860091\n",
       "5  25200000000  0.270839\n",
       "6  28800000000  0.059358\n",
       "7  32400000000  0.948818\n",
       "8  36000000000  0.624870\n",
       "9  39600000000  0.119507"
      ]
     },
     "execution_count": 10,
     "metadata": {},
     "output_type": "execute_result"
    }
   ],
   "source": [
    "gts3 = s.pop()\n",
    "df3 = pd.DataFrame.from_dict(pkl.loads(gts3))\n",
    "df3"
   ]
  },
  {
   "cell_type": "markdown",
   "metadata": {},
   "source": [
    "### 2. Revert a DataFrame to a GTS"
   ]
  },
  {
   "cell_type": "markdown",
   "metadata": {},
   "source": [
    "To revert a DataFrame to a GTS, we first need to convert the DataFrame into a dict."
   ]
  },
  {
   "cell_type": "code",
   "execution_count": 11,
   "metadata": {},
   "outputs": [
    {
     "data": {
      "text/plain": [
       "{'timestamps': [3600000000,\n",
       "  7200000000,\n",
       "  10800000000,\n",
       "  14400000000,\n",
       "  18000000000,\n",
       "  21600000000,\n",
       "  25200000000,\n",
       "  28800000000,\n",
       "  32400000000,\n",
       "  36000000000],\n",
       " 'randGTS.lat': [0.27260664850473404,\n",
       "  0.5842867121100426,\n",
       "  0.6046369252726436,\n",
       "  0.6186779960989952,\n",
       "  0.08569938596338034,\n",
       "  0.6371199013665318,\n",
       "  0.6975674629211426,\n",
       "  0.5758295813575387,\n",
       "  0.7437430741265416,\n",
       "  0.8840371901169419],\n",
       " 'randGTS.lon': [0.39479970932006836,\n",
       "  0.40827998891472816,\n",
       "  0.709684593603015,\n",
       "  0.9720467124134302,\n",
       "  0.2816749457269907,\n",
       "  0.8002843335270882,\n",
       "  0.4884675610810518,\n",
       "  0.437627462670207,\n",
       "  0.6953606754541397,\n",
       "  0.36209159530699253],\n",
       " 'randGTS': [0.41477674214479143,\n",
       "  0.2609694957931291,\n",
       "  0.44999036354314426,\n",
       "  0.6767167345196989,\n",
       "  0.5496269483968684,\n",
       "  0.19824845076202535,\n",
       "  0.24366989666504424,\n",
       "  0.1589185385000157,\n",
       "  0.5966953663182542,\n",
       "  0.30628282751016445]}"
      ]
     },
     "execution_count": 11,
     "metadata": {},
     "output_type": "execute_result"
    }
   ],
   "source": [
    "gts1b = df1.to_dict('list')\n",
    "gts1b"
   ]
  },
  {
   "cell_type": "markdown",
   "metadata": {},
   "source": [
    "We can push this dict directly onto the stack, since it will be automatically converted in the JVM."
   ]
  },
  {
   "cell_type": "code",
   "execution_count": 12,
   "metadata": {},
   "outputs": [
    {
     "data": {
      "text/plain": [
       "top: \t{'randGTS.lat': [0.27260664850473404, 0.5842867121100426, 0.6046369252726436, 0.6186779960989952, 0.08569938596338034, 0.6371199013665318, 0.6975674629211426, 0.5758295813575387, 0.7437430741265416, 0.8840371901169419], 'timestamps': [3600000000, 7200000000, 10800000000, 14400000000, 18000000000, 21600000000, 25200000000, 28800000000, 32400000000, 36000000000], 'randGTS': [0.41477674214479143, 0.2609694957931291, 0.44999036354314426, 0.6767167345196989, 0.5496269483968684, 0.19824845076202535, 0.24366989666504424, 0.1589185385000157, 0.5966953663182542, 0.30628282751016445], 'randGTS.lon': [0.39479970932006836, 0.40827998891472816, 0.709684593603015, 0.9720467124134302, 0.2816749457269907, 0.8002843335270882, 0.4884675610810518, 0.437627462670207, 0.6953606754541397, 0.36209159530699253]}"
      ]
     },
     "execution_count": 12,
     "metadata": {},
     "output_type": "execute_result"
    }
   ],
   "source": [
    "s.push(gts1b)\n",
    "s"
   ]
  },
  {
   "cell_type": "markdown",
   "metadata": {},
   "source": [
    "Now we can use the lists contained in this map to populate a GTS."
   ]
  },
  {
   "cell_type": "code",
   "execution_count": 13,
   "metadata": {},
   "outputs": [
    {
     "name": "stdout",
     "output_type": "stream",
     "text": [
      "top: \t<GTS with 10 values>\n",
      "\n"
     ]
    }
   ],
   "source": [
    "%%w -s s\n",
    "'dict' STORE\n",
    "$dict 'timestamps' GET\n",
    "$dict 'randGTS.lat' GET\n",
    "$dict 'randGTS.lon' GET\n",
    "[] // no elevation\n",
    "$dict 'randGTS' GET\n",
    "MAKEGTS 'randGTS' RENAME"
   ]
  },
  {
   "cell_type": "code",
   "execution_count": 14,
   "metadata": {},
   "outputs": [
    {
     "name": "stdout",
     "output_type": "stream",
     "text": [
      "randGTS{}\n",
      "=3600000000/0.27260664850473404:0.39479970932006836/ 0.41477674214479143\n",
      "=7200000000/0.5842867121100426:0.40827998891472816/ 0.2609694957931291\n",
      "=10800000000/0.6046369252726436:0.709684593603015/ 0.44999036354314426\n",
      "=14400000000/0.6186779960989952:0.9720467124134302/ 0.6767167345196989\n",
      "=18000000000/0.08569938596338034:0.2816749457269907/ 0.5496269483968684\n",
      "=21600000000/0.6371199013665318:0.8002843335270882/ 0.19824845076202535\n",
      "=25200000000/0.6975674629211426:0.4884675610810518/ 0.24366989666504424\n",
      "=28800000000/0.5758295813575387:0.437627462670207/ 0.1589185385000157\n",
      "=32400000000/0.7437430741265416:0.6953606754541397/ 0.5966953663182542\n",
      "=36000000000/0.8840371901169419:0.36209159530699253/ 0.30628282751016445\n",
      "\n"
     ]
    }
   ],
   "source": [
    "print(s.pop().toString())"
   ]
  },
  {
   "cell_type": "markdown",
   "metadata": {},
   "source": [
    "### 3. From a list of GTS to a DataFrame"
   ]
  },
  {
   "cell_type": "markdown",
   "metadata": {},
   "source": [
    "We want to put every GTS of a list in a same DataFrame with a single `timestamps` column.<br/>\n",
    "Since every GTS don't have values for the same timestamps, we need to handle missing values,<br/>\n",
    "and we need to make the assumption that each GTS can have at most one value per timestamp.<br/>\n",
    "It is more efficient to do that in WarpScript, as done in by the macro `ListGTStoPickledDict`."
   ]
  },
  {
   "cell_type": "code",
   "execution_count": 15,
   "metadata": {},
   "outputs": [
    {
     "name": "stdout",
     "output_type": "stream",
     "text": [
      "Creating a new WarpScript stack accessible under variable \"s\".\n",
      "\n"
     ]
    }
   ],
   "source": [
    "%%w -s s -o\n",
    "<%\n",
    "    # Documenting the macro\n",
    "    '[GTS] BOOLEAN @ListGTStoPickledDict' DOC\n",
    "\n",
    "    # Check there is two arguments on the stack\n",
    "    <% DEPTH 2 < %> <% 'Macro takes two arguments' MSGFAIL %> IFT\n",
    "        \n",
    "    # Check that top is a boolean indicating whether to use GTS classname or selector\n",
    "    <% 1 PICK TYPEOF 'BOOLEAN' != %> <% 'First argument must be a boolean indicating whether to use GTS selector (true) or classname (false)' MSGFAIL %> IFT\n",
    "    \n",
    "    # Check that second argument is a list of GTS\n",
    "    <% 2 PICK TYPEOF 'LIST' != %> <% 'Second argument must be a List of GTS' MSGFAIL %> IFT\n",
    "    2 PICK <% <% TYPEOF 'GTS' != %> <% 'Second argument is a list that has an element that is not a GTS' MSGFAIL %> IFT %> FOREACH\n",
    "    \n",
    "    # Store the arguments\n",
    "    'withSelector' STORE\n",
    "    'gtsList' STORE\n",
    "    \n",
    "    # make tickbase of all GTS\n",
    "    $gtsList TICKS 'ticks' STORE\n",
    "    $ticks [] [] [] $ticks MAKEGTS 'baseGTS' STORE\n",
    "    \n",
    "    # macro: check not all NaN (for locations and elevations)\n",
    "    <% UNIQUE DUP SIZE 1 == SWAP 0 GET ISNaN && %> 'isAllNaN' STORE\n",
    "        \n",
    "    # Return pickled dict for pandas\n",
    "    {\n",
    "        # ticks\n",
    "        'timestamps' $ticks\n",
    "        \n",
    "        # loop over list of GTS\n",
    "        $gtsList\n",
    "        <%\n",
    "            'gts' STORE\n",
    "            \n",
    "            # Make name\n",
    "            $gts <% $withSelector %> <% TOSELECTOR %> <% NAME %> IFTE\n",
    "            'name' STORE\n",
    "        \n",
    "            # Put on the same tick base and fill missing values with NaN\n",
    "            [ $gts true mapper.replace 0 0 0 ] MAP\n",
    "            'mask' STORE\n",
    "            [ $mask [ $baseGTS ] [] op.negmask ] APPLY\n",
    "            [ SWAP NaN mapper.replace 0 0 0 ] MAP\n",
    "            0 GET 'residualSeries' STORE\n",
    "            [ $gts $residualSeries ] MERGE SORT\n",
    "            'gts' STORE\n",
    "        \n",
    "            # locations\n",
    "            $gts LOCATIONS 'lon' STORE 'lat' STORE\n",
    "            <% $lat @isAllNaN ! %> <% $name '.lat' + $lat %> IFT\n",
    "            <% $lon @isAllNaN ! %> <% $name '.lon' + $lon %> IFT\n",
    "        \n",
    "            # elevations\n",
    "            $gts ELEVATIONS 'elev' STORE\n",
    "            <% $elev @isAllNaN ! %> <% $name '.elev' + $elev %> IFT\n",
    "        \n",
    "            # values        \n",
    "            $name $gts VALUES\n",
    "        %>\n",
    "        FOREACH\n",
    "    }\n",
    "    ->PICKLE\n",
    "%>\n",
    "'ListGTStoPickledDict' STORE"
   ]
  },
  {
   "cell_type": "markdown",
   "metadata": {},
   "source": [
    "We apply the macro `ListGTStoPickledDict` similarly than `GTStoPickledDict`,<br/>\n",
    "except that it takes a list of GTS instead of a single GTS as second argument."
   ]
  },
  {
   "cell_type": "code",
   "execution_count": 16,
   "metadata": {},
   "outputs": [
    {
     "name": "stdout",
     "output_type": "stream",
     "text": [
      "top: \tb'\\x80\\x02}q\\x00(X\\n\\x00\\x00\\x00timestampsq\\x01]q\\x02(I3600000000\\nI7200000000\\nI10800000000\\nI14400000000\\nI18000000000\\nI21600000000\\nI25200000000\\nI28800000000\\nI32400000000\\nI36000000000\\nI39600000000\\neX\\x0b\\x00\\x00\\x00randGTS.latq\\x03]q\\x04(G?\\xae\\x9b\\xee\\xc0\\x00\\x00\\x00G?\\xbe\\x08I\\x90\\x00\\x00\\x00G?\\xed\\x04\\x9b\\xa4\\x80\\x00\\x00G?\\xbf\\xb7_\\xd8\\x00\\x00\\x00G?\\xe5\\x94h\\xd6\\x80\\x00\\x00G?\\xd5a\\xd0O\\x00\\x00\\x00G?\\x8cS\\xcf\\xc0\\x00\\x00\\x00G?\\xe5\\xb0L\\xe5\\x80\\x00\\x00G?\\xc9L\\xa0\\xea\\x00\\x00\\x00G?\\xef\\x12\\xcf\\xd8\\x80\\x00\\x00G\\x7f\\xf8\\x00\\x00\\x00\\x00\\x00\\x00eX\\x0b\\x00\\x00\\x00randGTS.lonq\\x05]q\\x06(G?\\xeb~jG\\x00\\x00\\x00G?\\xd1Pn\\x12\\x00\\x00\\x00G?\\xc48\\xff,\\x00\\x00\\x00G?\\xec\\x07sK\\x00\\x00\\x00G?\\xc3\\xbd\\x0b\\xd8\\x00\\x00\\x00G?\\xebk\\xb3/\\x00\\x00\\x00G?\\xe3\\xb8\\x1cT\\x00\\x00\\x00G?\\xd7[\\xab\\xf0\\x00\\x00\\x00G?\\xb6I4\\xa8\\x00\\x00\\x00G?\\xcc \\x9e4\\x00\\x00\\x00G\\x7f\\xf8\\x00\\x00\\x00\\x00\\x00\\x00eX\\x07\\x00\\x00\\x00randGTSq\\x07]q\\x08(G?\\xd5\\xb1 \\x1c\\x18\\x82DG?\\xe9\\xc4\\x9f7\\xa2\\xf1\\xe6G?\\xb8\\xd44\\x05\\x12\\xfb G?\\xe4y\\xf4\\xec\\xfd\\x9fnG?\\xe5\\x83\\xf9\\xe6[I\\xc8G?\\xe0\\xfe\\xb3\\xbeZ\\x96\\xf8G?\\xe8P\\x9b\"$\\xaf!G?\\xa7\\x00j\\xb8W\\x15\\xd0G?\\xef\\xfe/8k\\xde\\x8fG?\\xe2\\xed\\xe7t\\xb2g\\xf9G\\x7f\\xf8\\x00\\x00\\x00\\x00\\x00\\x00eX\\x06\\x00\\x00\\x00randTSq\\t]q\\n(G\\x7f\\xf8\\x00\\x00\\x00\\x00\\x00\\x00G?\\xc5p\\xc8\\xfc\\x98*\\xf4G?\\xbf\\xa8\\xc7y\\xa2n\\x18G?\\x95\\xb6:\\xe6#\\x1d\\xc0G?\\xa9\\xbc\\xc1\\xa8\\xab\\x100G?\\xd4\\x87P\\xf4\\xd6\\xff\\xe0G?\\xa8nH;\\x8bQ\\xc0G?\\xe5\\\\5Y\\xadn\\x8fG?\\xee\\xf5W\\xc3\\xdb\\xae\\xcbG?\\xdd\\xa8S\\x80 \\xd9 G?\\xe7\\xbe\\xabJ~k\\x1eeX\\x08\\x00\\x00\\x00stringTSq\\x0b]q\\x0c(X\\x03\\x00\\x00\\x00NaNq\\rh\\rh\\rh\\rX\\x08\\x00\\x00\\x00a stringq\\x0eh\\x0eh\\x0eh\\x0eh\\rh\\rh\\reu.'\n",
      "\n"
     ]
    }
   ],
   "source": [
    "%%w -s s\n",
    "[ NEWGTS 'randGTS' RENAME 1 10 <% h RAND RAND NaN RAND ADDVALUE %> FOR\n",
    "  NEWGTS 'randTS' RENAME 2 11 <% h NaN NaN NaN RAND ADDVALUE %> FOR\n",
    "  NEWGTS 'stringTS' RENAME 5 8 <% h NaN NaN NaN 'a string' ADDVALUE %> FOR ]\n",
    "false\n",
    "@ListGTStoPickledDict"
   ]
  },
  {
   "cell_type": "markdown",
   "metadata": {},
   "source": [
    "Contrary to our first example with a single GTS, the following cell will raise<br/>\n",
    "an error if a GTS of the list has a timestamp with multiple values."
   ]
  },
  {
   "cell_type": "code",
   "execution_count": 17,
   "metadata": {},
   "outputs": [
    {
     "data": {
      "text/html": [
       "<div>\n",
       "<style scoped>\n",
       "    .dataframe tbody tr th:only-of-type {\n",
       "        vertical-align: middle;\n",
       "    }\n",
       "\n",
       "    .dataframe tbody tr th {\n",
       "        vertical-align: top;\n",
       "    }\n",
       "\n",
       "    .dataframe thead th {\n",
       "        text-align: right;\n",
       "    }\n",
       "</style>\n",
       "<table border=\"1\" class=\"dataframe\">\n",
       "  <thead>\n",
       "    <tr style=\"text-align: right;\">\n",
       "      <th></th>\n",
       "      <th>timestamps</th>\n",
       "      <th>randGTS.lat</th>\n",
       "      <th>randGTS.lon</th>\n",
       "      <th>randGTS</th>\n",
       "      <th>randTS</th>\n",
       "      <th>stringTS</th>\n",
       "    </tr>\n",
       "  </thead>\n",
       "  <tbody>\n",
       "    <tr>\n",
       "      <th>0</th>\n",
       "      <td>3600000000</td>\n",
       "      <td>0.059783</td>\n",
       "      <td>0.859182</td>\n",
       "      <td>0.338936</td>\n",
       "      <td>NaN</td>\n",
       "      <td>NaN</td>\n",
       "    </tr>\n",
       "    <tr>\n",
       "      <th>1</th>\n",
       "      <td>7200000000</td>\n",
       "      <td>0.117314</td>\n",
       "      <td>0.270534</td>\n",
       "      <td>0.805252</td>\n",
       "      <td>0.167504</td>\n",
       "      <td>NaN</td>\n",
       "    </tr>\n",
       "    <tr>\n",
       "      <th>2</th>\n",
       "      <td>10800000000</td>\n",
       "      <td>0.906812</td>\n",
       "      <td>0.157989</td>\n",
       "      <td>0.096988</td>\n",
       "      <td>0.123669</td>\n",
       "      <td>NaN</td>\n",
       "    </tr>\n",
       "    <tr>\n",
       "      <th>3</th>\n",
       "      <td>14400000000</td>\n",
       "      <td>0.123892</td>\n",
       "      <td>0.875909</td>\n",
       "      <td>0.639887</td>\n",
       "      <td>0.021203</td>\n",
       "      <td>NaN</td>\n",
       "    </tr>\n",
       "    <tr>\n",
       "      <th>4</th>\n",
       "      <td>18000000000</td>\n",
       "      <td>0.674366</td>\n",
       "      <td>0.154207</td>\n",
       "      <td>0.672360</td>\n",
       "      <td>0.050268</td>\n",
       "      <td>a string</td>\n",
       "    </tr>\n",
       "    <tr>\n",
       "      <th>5</th>\n",
       "      <td>21600000000</td>\n",
       "      <td>0.334095</td>\n",
       "      <td>0.856897</td>\n",
       "      <td>0.531092</td>\n",
       "      <td>0.320759</td>\n",
       "      <td>a string</td>\n",
       "    </tr>\n",
       "    <tr>\n",
       "      <th>6</th>\n",
       "      <td>25200000000</td>\n",
       "      <td>0.013832</td>\n",
       "      <td>0.616224</td>\n",
       "      <td>0.759840</td>\n",
       "      <td>0.047716</td>\n",
       "      <td>a string</td>\n",
       "    </tr>\n",
       "    <tr>\n",
       "      <th>7</th>\n",
       "      <td>28800000000</td>\n",
       "      <td>0.677771</td>\n",
       "      <td>0.364970</td>\n",
       "      <td>0.044925</td>\n",
       "      <td>0.667506</td>\n",
       "      <td>a string</td>\n",
       "    </tr>\n",
       "    <tr>\n",
       "      <th>8</th>\n",
       "      <td>32400000000</td>\n",
       "      <td>0.197651</td>\n",
       "      <td>0.087055</td>\n",
       "      <td>0.999778</td>\n",
       "      <td>0.967449</td>\n",
       "      <td>NaN</td>\n",
       "    </tr>\n",
       "    <tr>\n",
       "      <th>9</th>\n",
       "      <td>36000000000</td>\n",
       "      <td>0.971046</td>\n",
       "      <td>0.219745</td>\n",
       "      <td>0.591541</td>\n",
       "      <td>0.463399</td>\n",
       "      <td>NaN</td>\n",
       "    </tr>\n",
       "    <tr>\n",
       "      <th>10</th>\n",
       "      <td>39600000000</td>\n",
       "      <td>NaN</td>\n",
       "      <td>NaN</td>\n",
       "      <td>NaN</td>\n",
       "      <td>0.742025</td>\n",
       "      <td>NaN</td>\n",
       "    </tr>\n",
       "  </tbody>\n",
       "</table>\n",
       "</div>"
      ],
      "text/plain": [
       "     timestamps  randGTS.lat  randGTS.lon   randGTS    randTS  stringTS\n",
       "0    3600000000     0.059783     0.859182  0.338936       NaN       NaN\n",
       "1    7200000000     0.117314     0.270534  0.805252  0.167504       NaN\n",
       "2   10800000000     0.906812     0.157989  0.096988  0.123669       NaN\n",
       "3   14400000000     0.123892     0.875909  0.639887  0.021203       NaN\n",
       "4   18000000000     0.674366     0.154207  0.672360  0.050268  a string\n",
       "5   21600000000     0.334095     0.856897  0.531092  0.320759  a string\n",
       "6   25200000000     0.013832     0.616224  0.759840  0.047716  a string\n",
       "7   28800000000     0.677771     0.364970  0.044925  0.667506  a string\n",
       "8   32400000000     0.197651     0.087055  0.999778  0.967449       NaN\n",
       "9   36000000000     0.971046     0.219745  0.591541  0.463399       NaN\n",
       "10  39600000000          NaN          NaN       NaN  0.742025       NaN"
      ]
     },
     "execution_count": 17,
     "metadata": {},
     "output_type": "execute_result"
    }
   ],
   "source": [
    "listGts = s.pop()\n",
    "df4 = pd.DataFrame.from_dict(pkl.loads(listGts))\n",
    "df4"
   ]
  }
 ],
 "metadata": {
  "kernelspec": {
   "display_name": "Python 3",
   "language": "python",
   "name": "python3"
  },
  "language_info": {
   "codemirror_mode": {
    "name": "ipython",
    "version": 3
   },
   "file_extension": ".py",
   "mimetype": "text/x-python",
   "name": "python",
   "nbconvert_exporter": "python",
   "pygments_lexer": "ipython3",
   "version": "3.6.6"
  },
  "toc": {
   "base_numbering": 1,
   "nav_menu": {},
   "number_sections": false,
   "sideBar": false,
   "skip_h1_title": false,
   "title_cell": "Table of Contents",
   "title_sidebar": "Contents",
   "toc_cell": false,
   "toc_position": {},
   "toc_section_display": false,
   "toc_window_display": false
  }
 },
 "nbformat": 4,
 "nbformat_minor": 2
}
