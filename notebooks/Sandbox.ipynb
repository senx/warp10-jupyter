{
 "cells": [
  {
   "cell_type": "code",
   "execution_count": 1,
   "metadata": {},
   "outputs": [],
   "source": [
    "%reload_ext warpscript_cellmagic"
   ]
  },
  {
   "cell_type": "code",
   "execution_count": 2,
   "metadata": {},
   "outputs": [
    {
     "name": "stdout",
     "output_type": "stream",
     "text": [
      "Starting connection with 127.0.0.1:25333.\n",
      "Creating a new WarpScript stack accessible under variable \"s\".\n",
      "top: \t3\n",
      "1: \t2\n",
      "2: \t1\n",
      "3: \t'ex'\n",
      "4: \t50\n",
      "\n"
     ]
    }
   ],
   "source": [
    "%%warpscript -s s\n",
    "50\n",
    "'ex'\n",
    "1 3 <% %> FOR"
   ]
  },
  {
   "cell_type": "code",
   "execution_count": 3,
   "metadata": {},
   "outputs": [
    {
     "name": "stdout",
     "output_type": "stream",
     "text": [
      "top: \t<GTS with 50 values>\n",
      "1: \t3\n",
      "2: \t2\n",
      "3: \t1\n",
      "4: \t'ex'\n",
      "5: \t50\n",
      "\n"
     ]
    }
   ],
   "source": [
    "%%warpscript -s s\n",
    "NEWGTS 1 50 <% NaN NaN NaN 'hi' ADDVALUE %> FOR\n",
    "'test' RENAME\n",
    "{ 'key' 'val' } RELABEL"
   ]
  },
  {
   "cell_type": "code",
   "execution_count": 4,
   "metadata": {},
   "outputs": [],
   "source": [
    "g = s.peek()"
   ]
  },
  {
   "cell_type": "code",
   "execution_count": 5,
   "metadata": {},
   "outputs": [
    {
     "data": {
      "text/plain": [
       "<GTS with 50 values>"
      ]
     },
     "execution_count": 5,
     "metadata": {},
     "output_type": "execute_result"
    }
   ],
   "source": [
    "g"
   ]
  },
  {
   "cell_type": "code",
   "execution_count": 6,
   "metadata": {},
   "outputs": [
    {
     "data": {
      "text/plain": [
       "50"
      ]
     },
     "execution_count": 6,
     "metadata": {},
     "output_type": "execute_result"
    }
   ],
   "source": [
    "len(g)"
   ]
  },
  {
   "cell_type": "code",
   "execution_count": 7,
   "metadata": {},
   "outputs": [
    {
     "name": "stdout",
     "output_type": "stream",
     "text": [
      "Variable   Type     Data/Info\n",
      "-----------------------------\n",
      "g          Gts      Gts(test{key=val}, 1// 'h<...>i', 49// 'hi', 50// 'hi')\n",
      "s          Stack    Stack([50, 'ex', 1, 2, 3, <GTS with 50 values>])\n"
     ]
    }
   ],
   "source": [
    "%whos"
   ]
  },
  {
   "cell_type": "code",
   "execution_count": 8,
   "metadata": {},
   "outputs": [
    {
     "data": {
      "text/plain": [
       "['_ipython_canary_method_should_not_exist_',\n",
       " 'clone',\n",
       " 'cloneEmpty',\n",
       " 'dump',\n",
       " 'equals',\n",
       " 'getClass',\n",
       " 'getClassId',\n",
       " 'getLabel',\n",
       " 'getLabels',\n",
       " 'getLabelsId',\n",
       " 'getMetadata',\n",
       " 'getName',\n",
       " 'getType',\n",
       " 'hasElevations',\n",
       " 'hasLabel',\n",
       " 'hasLocations',\n",
       " 'hashCode',\n",
       " 'isRenamed',\n",
       " 'notify',\n",
       " 'notifyAll',\n",
       " 'reset',\n",
       " 'safeSetMetadata',\n",
       " 'setClassId',\n",
       " 'setLabel',\n",
       " 'setLabels',\n",
       " 'setLabelsId',\n",
       " 'setMetadata',\n",
       " 'setName',\n",
       " 'setRenamed',\n",
       " 'setSizeHint',\n",
       " 'setType',\n",
       " 'size',\n",
       " 'toString',\n",
       " 'wait']"
      ]
     },
     "execution_count": 8,
     "metadata": {},
     "output_type": "execute_result"
    }
   ],
   "source": [
    "dir(g)"
   ]
  },
  {
   "cell_type": "code",
   "execution_count": 9,
   "metadata": {},
   "outputs": [
    {
     "data": {
      "text/plain": [
       "warpscript_cellmagic.Gts"
      ]
     },
     "execution_count": 9,
     "metadata": {},
     "output_type": "execute_result"
    }
   ],
   "source": [
    "type(g)"
   ]
  },
  {
   "cell_type": "code",
   "execution_count": 10,
   "metadata": {},
   "outputs": [
    {
     "data": {
      "text/plain": [
       "6"
      ]
     },
     "execution_count": 10,
     "metadata": {},
     "output_type": "execute_result"
    }
   ],
   "source": [
    "len(s)"
   ]
  },
  {
   "cell_type": "code",
   "execution_count": 11,
   "metadata": {},
   "outputs": [
    {
     "data": {
      "text/plain": [
       "top: \t<GTS with 50 values>\n",
       "1: \t3\n",
       "2: \t2\n",
       "3: \t1\n",
       "4: \t'ex'\n",
       "5: \t50"
      ]
     },
     "execution_count": 11,
     "metadata": {},
     "output_type": "execute_result"
    }
   ],
   "source": [
    "s"
   ]
  },
  {
   "cell_type": "code",
   "execution_count": 12,
   "metadata": {},
   "outputs": [
    {
     "name": "stdout",
     "output_type": "stream",
     "text": [
      "Stack([50, 'ex', 1, 2, 3, <GTS with 50 values>])\n"
     ]
    }
   ],
   "source": [
    "print(s)"
   ]
  },
  {
   "cell_type": "code",
   "execution_count": 13,
   "metadata": {},
   "outputs": [
    {
     "data": {
      "text/plain": [
       "['__call__',\n",
       " '__class__',\n",
       " '__delattr__',\n",
       " '__dict__',\n",
       " '__dir__',\n",
       " '__doc__',\n",
       " '__eq__',\n",
       " '__format__',\n",
       " '__ge__',\n",
       " '__getattribute__',\n",
       " '__gt__',\n",
       " '__hash__',\n",
       " '__init__',\n",
       " '__init_subclass__',\n",
       " '__le__',\n",
       " '__lt__',\n",
       " '__module__',\n",
       " '__ne__',\n",
       " '__new__',\n",
       " '__reduce__',\n",
       " '__reduce_ex__',\n",
       " '__repr__',\n",
       " '__setattr__',\n",
       " '__sizeof__',\n",
       " '__str__',\n",
       " '__subclasshook__',\n",
       " '__weakref__',\n",
       " '_build_args',\n",
       " '_gateway_doc',\n",
       " '_get_args',\n",
       " 'command_header',\n",
       " 'container',\n",
       " 'converters',\n",
       " 'gateway_client',\n",
       " 'name',\n",
       " 'pool',\n",
       " 'stream',\n",
       " 'target_id']"
      ]
     },
     "execution_count": 13,
     "metadata": {},
     "output_type": "execute_result"
    }
   ],
   "source": [
    "dir(s.list)"
   ]
  },
  {
   "cell_type": "code",
   "execution_count": 14,
   "metadata": {},
   "outputs": [
    {
     "name": "stdout",
     "output_type": "stream",
     "text": [
      "io.warp10.script.MemoryWarpScriptStack@4e30e345\n"
     ]
    }
   ],
   "source": [
    "print(s.toString())"
   ]
  },
  {
   "cell_type": "code",
   "execution_count": 15,
   "metadata": {},
   "outputs": [
    {
     "data": {
      "text/plain": [
       "<py4j.java_gateway.JavaMember at 0x7f79d77d14a8>"
      ]
     },
     "execution_count": 15,
     "metadata": {},
     "output_type": "execute_result"
    }
   ],
   "source": [
    "s.list"
   ]
  },
  {
   "cell_type": "code",
   "execution_count": 16,
   "metadata": {},
   "outputs": [
    {
     "name": "stdout",
     "output_type": "stream",
     "text": [
      "top: \t<GTS with 0 values>\n",
      "1: \t<GTS with 50 values>\n",
      "2: \t3\n",
      "3: \t2\n",
      "4: \t1\n",
      "5: \t'ex'\n",
      "6: \t50\n",
      "\n"
     ]
    }
   ],
   "source": [
    "%%warpscript -s s\n",
    "NEWGTS"
   ]
  },
  {
   "cell_type": "code",
   "execution_count": 17,
   "metadata": {},
   "outputs": [
    {
     "data": {
      "text/plain": [
       "warpscript_cellmagic.Gts"
      ]
     },
     "execution_count": 17,
     "metadata": {},
     "output_type": "execute_result"
    }
   ],
   "source": [
    "type(s.pop())"
   ]
  },
  {
   "cell_type": "code",
   "execution_count": 18,
   "metadata": {},
   "outputs": [
    {
     "name": "stdout",
     "output_type": "stream",
     "text": [
      "top: \t<GTS with 0 values>\n",
      "1: \t<GTS with 50 values>\n",
      "2: \t3\n",
      "3: \t2\n",
      "4: \t1\n",
      "5: \t'ex'\n",
      "6: \t50\n",
      "\n"
     ]
    }
   ],
   "source": [
    "%%warpscript -s s\n",
    "NEWGTS"
   ]
  },
  {
   "cell_type": "code",
   "execution_count": 19,
   "metadata": {},
   "outputs": [
    {
     "name": "stdout",
     "output_type": "stream",
     "text": [
      "top: \t[]\n",
      "1: \t<GTS with 50 values>\n",
      "2: \t3\n",
      "3: \t2\n",
      "4: \t1\n",
      "5: \t'ex'\n",
      "6: \t50\n",
      "\n"
     ]
    }
   ],
   "source": [
    "%%warpscript -s s\n",
    "VALUES"
   ]
  },
  {
   "cell_type": "code",
   "execution_count": 20,
   "metadata": {},
   "outputs": [],
   "source": [
    "a = s.pop()"
   ]
  },
  {
   "cell_type": "code",
   "execution_count": 21,
   "metadata": {},
   "outputs": [
    {
     "data": {
      "text/plain": [
       "py4j.java_collections.JavaList"
      ]
     },
     "execution_count": 21,
     "metadata": {},
     "output_type": "execute_result"
    }
   ],
   "source": [
    "type(a)"
   ]
  },
  {
   "cell_type": "code",
   "execution_count": 22,
   "metadata": {},
   "outputs": [
    {
     "data": {
      "text/plain": [
       "[]"
      ]
     },
     "execution_count": 22,
     "metadata": {},
     "output_type": "execute_result"
    }
   ],
   "source": [
    "a"
   ]
  },
  {
   "cell_type": "code",
   "execution_count": 23,
   "metadata": {},
   "outputs": [
    {
     "name": "stdout",
     "output_type": "stream",
     "text": [
      "top: \t<GTS with 50 values>\n",
      "1: \t3\n",
      "2: \t2\n",
      "3: \t1\n",
      "4: \t'ex'\n",
      "5: \t50\n",
      "\n"
     ]
    }
   ],
   "source": [
    "%%warpscript -s s\n",
    "[ 4 5 ] 'l' STORE"
   ]
  },
  {
   "cell_type": "code",
   "execution_count": 24,
   "metadata": {},
   "outputs": [],
   "source": [
    "l = s.load('l')"
   ]
  },
  {
   "cell_type": "code",
   "execution_count": 25,
   "metadata": {},
   "outputs": [
    {
     "data": {
      "text/plain": [
       "py4j.java_collections.JavaList"
      ]
     },
     "execution_count": 25,
     "metadata": {},
     "output_type": "execute_result"
    }
   ],
   "source": [
    "type(l)"
   ]
  },
  {
   "cell_type": "code",
   "execution_count": 26,
   "metadata": {},
   "outputs": [
    {
     "data": {
      "text/plain": [
       "4"
      ]
     },
     "execution_count": 26,
     "metadata": {},
     "output_type": "execute_result"
    }
   ],
   "source": [
    "l[0]"
   ]
  },
  {
   "cell_type": "code",
   "execution_count": 27,
   "metadata": {},
   "outputs": [
    {
     "data": {
      "text/plain": [
       "4"
      ]
     },
     "execution_count": 27,
     "metadata": {},
     "output_type": "execute_result"
    }
   ],
   "source": [
    "l.get(0)"
   ]
  },
  {
   "cell_type": "code",
   "execution_count": 28,
   "metadata": {},
   "outputs": [
    {
     "name": "stdout",
     "output_type": "stream",
     "text": [
      "'list' object has no attribute '_get_object_id'\n"
     ]
    }
   ],
   "source": [
    "try:\n",
    "    l = l + [6]\n",
    "except Exception as er:\n",
    "    print(er)"
   ]
  },
  {
   "cell_type": "code",
   "execution_count": 29,
   "metadata": {},
   "outputs": [
    {
     "data": {
      "text/plain": [
       "[4, 5, 6]"
      ]
     },
     "execution_count": 29,
     "metadata": {},
     "output_type": "execute_result"
    }
   ],
   "source": [
    "[4, 5] + [6]"
   ]
  },
  {
   "cell_type": "code",
   "execution_count": 30,
   "metadata": {},
   "outputs": [],
   "source": [
    "l.append(6)"
   ]
  },
  {
   "cell_type": "code",
   "execution_count": 31,
   "metadata": {},
   "outputs": [
    {
     "data": {
      "text/plain": [
       "[4, 5, 6]"
      ]
     },
     "execution_count": 31,
     "metadata": {},
     "output_type": "execute_result"
    }
   ],
   "source": [
    "l"
   ]
  },
  {
   "cell_type": "code",
   "execution_count": 32,
   "metadata": {},
   "outputs": [
    {
     "data": {
      "text/plain": [
       "['_ipython_canary_method_should_not_exist_',\n",
       " 'checkBalanced',\n",
       " 'clear',\n",
       " 'define',\n",
       " 'depth',\n",
       " 'drop',\n",
       " 'dropn',\n",
       " 'dump',\n",
       " 'dup',\n",
       " 'dupn',\n",
       " 'equals',\n",
       " 'exec',\n",
       " 'execMulti',\n",
       " 'find',\n",
       " 'forget',\n",
       " 'get',\n",
       " 'getAttribute',\n",
       " 'getClass',\n",
       " 'getCounter',\n",
       " 'getDefined',\n",
       " 'getDirectoryClient',\n",
       " 'getGeoDirectoryClient',\n",
       " 'getStoreClient',\n",
       " 'getSubStack',\n",
       " 'getSymbolTable',\n",
       " 'getUUID',\n",
       " 'hashCode',\n",
       " 'inMultiline',\n",
       " 'incOps',\n",
       " 'isAuthenticated',\n",
       " 'list',\n",
       " 'load',\n",
       " 'maxLimits',\n",
       " 'notify',\n",
       " 'notifyAll',\n",
       " 'peek',\n",
       " 'peekn',\n",
       " 'pick',\n",
       " 'pop',\n",
       " 'popn',\n",
       " 'progress',\n",
       " 'push',\n",
       " 'reset',\n",
       " 'restore',\n",
       " 'roll',\n",
       " 'rolld',\n",
       " 'rot',\n",
       " 'run',\n",
       " 'save',\n",
       " 'setAttribute',\n",
       " 'store',\n",
       " 'swap',\n",
       " 'toString',\n",
       " 'wait']"
      ]
     },
     "execution_count": 32,
     "metadata": {},
     "output_type": "execute_result"
    }
   ],
   "source": [
    "dir(s)"
   ]
  },
  {
   "cell_type": "code",
   "execution_count": 33,
   "metadata": {},
   "outputs": [
    {
     "name": "stdout",
     "output_type": "stream",
     "text": [
      "top: \t[50, 'ex', 1, 2, 3, <GTS with 50 values>]\n",
      "\n"
     ]
    }
   ],
   "source": [
    "%%warpscript -s s\n",
    "DEPTH ->LIST"
   ]
  },
  {
   "cell_type": "code",
   "execution_count": 34,
   "metadata": {},
   "outputs": [
    {
     "data": {
      "text/plain": [
       "[50, 'ex', 1, 2, 3, <GTS with 50 values>]"
      ]
     },
     "execution_count": 34,
     "metadata": {},
     "output_type": "execute_result"
    }
   ],
   "source": [
    "s.pop()"
   ]
  },
  {
   "cell_type": "code",
   "execution_count": 35,
   "metadata": {},
   "outputs": [
    {
     "name": "stdout",
     "output_type": "stream",
     "text": [
      "top: \t[1, 4, 5, 7, <GTS with 0 values>, 7, 'dr7', 5.0]\n",
      "\n"
     ]
    }
   ],
   "source": [
    "%%warpscript -s s\n",
    "1 4 5 7 NEWGTS 7 'dr7' 5.0 DEPTH ->LIST"
   ]
  },
  {
   "cell_type": "code",
   "execution_count": 36,
   "metadata": {},
   "outputs": [],
   "source": [
    "q = s.pop()"
   ]
  },
  {
   "cell_type": "code",
   "execution_count": 37,
   "metadata": {},
   "outputs": [
    {
     "data": {
      "text/plain": [
       "[1, 4, 5, 7, <GTS with 0 values>, 7, 'dr7', 5.0]"
      ]
     },
     "execution_count": 37,
     "metadata": {},
     "output_type": "execute_result"
    }
   ],
   "source": [
    "q"
   ]
  },
  {
   "cell_type": "code",
   "execution_count": 38,
   "metadata": {},
   "outputs": [
    {
     "name": "stdout",
     "output_type": "stream",
     "text": [
      "top: \t[1, 4, [5, 7], <GTS with 0 values>, [7, []], 'dr7', 5.0]\n",
      "\n"
     ]
    }
   ],
   "source": [
    "%%warpscript -s s\n",
    "1 4 [ 5 7 ] NEWGTS [ 7 [] ] 'dr7' 5.0 DEPTH ->LIST"
   ]
  },
  {
   "cell_type": "code",
   "execution_count": 39,
   "metadata": {},
   "outputs": [],
   "source": [
    "s.clear()"
   ]
  },
  {
   "cell_type": "code",
   "execution_count": 40,
   "metadata": {},
   "outputs": [
    {
     "name": "stdout",
     "output_type": "stream",
     "text": [
      "top: \t[5, 6]\n",
      "1: \t4\n",
      "\n"
     ]
    }
   ],
   "source": [
    "%%warpscript -s s\n",
    "4 [ 5 6 ]"
   ]
  },
  {
   "cell_type": "code",
   "execution_count": 41,
   "metadata": {},
   "outputs": [],
   "source": [
    "a = s.peek()"
   ]
  },
  {
   "cell_type": "code",
   "execution_count": 42,
   "metadata": {},
   "outputs": [
    {
     "data": {
      "text/plain": [
       "[5, 6]"
      ]
     },
     "execution_count": 42,
     "metadata": {},
     "output_type": "execute_result"
    }
   ],
   "source": [
    "a"
   ]
  },
  {
   "cell_type": "code",
   "execution_count": 43,
   "metadata": {},
   "outputs": [],
   "source": [
    "a.append(7)"
   ]
  },
  {
   "cell_type": "code",
   "execution_count": 44,
   "metadata": {},
   "outputs": [
    {
     "name": "stdout",
     "output_type": "stream",
     "text": [
      "top: \t[4, [5, 6, 7]]\n",
      "\n"
     ]
    }
   ],
   "source": [
    "%%warpscript -s s\n",
    "DEPTH ->LIST"
   ]
  },
  {
   "cell_type": "code",
   "execution_count": 45,
   "metadata": {},
   "outputs": [
    {
     "data": {
      "text/plain": [
       "[4, [5, 6, 7]]"
      ]
     },
     "execution_count": 45,
     "metadata": {},
     "output_type": "execute_result"
    }
   ],
   "source": [
    "s.peek()"
   ]
  },
  {
   "cell_type": "code",
   "execution_count": 46,
   "metadata": {},
   "outputs": [
    {
     "data": {
      "text/plain": [
       "['_ipython_canary_method_should_not_exist_',\n",
       " 'checkBalanced',\n",
       " 'clear',\n",
       " 'define',\n",
       " 'depth',\n",
       " 'drop',\n",
       " 'dropn',\n",
       " 'dump',\n",
       " 'dup',\n",
       " 'dupn',\n",
       " 'equals',\n",
       " 'exec',\n",
       " 'execMulti',\n",
       " 'find',\n",
       " 'forget',\n",
       " 'get',\n",
       " 'getAttribute',\n",
       " 'getClass',\n",
       " 'getCounter',\n",
       " 'getDefined',\n",
       " 'getDirectoryClient',\n",
       " 'getGeoDirectoryClient',\n",
       " 'getStoreClient',\n",
       " 'getSubStack',\n",
       " 'getSymbolTable',\n",
       " 'getUUID',\n",
       " 'hashCode',\n",
       " 'inMultiline',\n",
       " 'incOps',\n",
       " 'isAuthenticated',\n",
       " 'list',\n",
       " 'load',\n",
       " 'maxLimits',\n",
       " 'notify',\n",
       " 'notifyAll',\n",
       " 'peek',\n",
       " 'peekn',\n",
       " 'pick',\n",
       " 'pop',\n",
       " 'popn',\n",
       " 'progress',\n",
       " 'push',\n",
       " 'reset',\n",
       " 'restore',\n",
       " 'roll',\n",
       " 'rolld',\n",
       " 'rot',\n",
       " 'run',\n",
       " 'save',\n",
       " 'setAttribute',\n",
       " 'store',\n",
       " 'swap',\n",
       " 'toString',\n",
       " 'wait']"
      ]
     },
     "execution_count": 46,
     "metadata": {},
     "output_type": "execute_result"
    }
   ],
   "source": [
    "dir(s)"
   ]
  },
  {
   "cell_type": "code",
   "execution_count": 47,
   "metadata": {},
   "outputs": [],
   "source": [
    "s.push(5)"
   ]
  },
  {
   "cell_type": "code",
   "execution_count": 48,
   "metadata": {},
   "outputs": [],
   "source": [
    "s.push(6)"
   ]
  },
  {
   "cell_type": "code",
   "execution_count": 49,
   "metadata": {},
   "outputs": [],
   "source": [
    "s.exec('+')"
   ]
  },
  {
   "cell_type": "code",
   "execution_count": 50,
   "metadata": {},
   "outputs": [
    {
     "data": {
      "text/plain": [
       "11"
      ]
     },
     "execution_count": 50,
     "metadata": {},
     "output_type": "execute_result"
    }
   ],
   "source": [
    "s.peek()"
   ]
  },
  {
   "cell_type": "code",
   "execution_count": 51,
   "metadata": {},
   "outputs": [],
   "source": [
    "s.push([5,6])"
   ]
  },
  {
   "cell_type": "code",
   "execution_count": 52,
   "metadata": {},
   "outputs": [],
   "source": [
    "s.exec('TYPEOF')"
   ]
  },
  {
   "cell_type": "code",
   "execution_count": 53,
   "metadata": {},
   "outputs": [
    {
     "data": {
      "text/plain": [
       "'LIST'"
      ]
     },
     "execution_count": 53,
     "metadata": {},
     "output_type": "execute_result"
    }
   ],
   "source": [
    "s.peek()"
   ]
  },
  {
   "cell_type": "code",
   "execution_count": 54,
   "metadata": {},
   "outputs": [],
   "source": [
    "import numpy as np"
   ]
  },
  {
   "cell_type": "code",
   "execution_count": 55,
   "metadata": {},
   "outputs": [],
   "source": [
    "a = np.arange(10)"
   ]
  },
  {
   "cell_type": "code",
   "execution_count": 56,
   "metadata": {},
   "outputs": [],
   "source": [
    "s.push([1,2])"
   ]
  },
  {
   "cell_type": "code",
   "execution_count": 57,
   "metadata": {},
   "outputs": [],
   "source": [
    "s.get(0).append(4)"
   ]
  },
  {
   "cell_type": "code",
   "execution_count": 58,
   "metadata": {},
   "outputs": [
    {
     "data": {
      "text/plain": [
       "[1, 2, 4]"
      ]
     },
     "execution_count": 58,
     "metadata": {},
     "output_type": "execute_result"
    }
   ],
   "source": [
    "s.peek()"
   ]
  },
  {
   "cell_type": "code",
   "execution_count": 59,
   "metadata": {},
   "outputs": [
    {
     "data": {
      "text/plain": [
       "4"
      ]
     },
     "execution_count": 59,
     "metadata": {},
     "output_type": "execute_result"
    }
   ],
   "source": [
    "s.depth()"
   ]
  },
  {
   "cell_type": "code",
   "execution_count": 60,
   "metadata": {},
   "outputs": [
    {
     "data": {
      "text/plain": [
       "'229eab94-a17c-4efc-bb6f-81456b6fc8c4'"
      ]
     },
     "execution_count": 60,
     "metadata": {},
     "output_type": "execute_result"
    }
   ],
   "source": [
    "s.getUUID()"
   ]
  },
  {
   "cell_type": "code",
   "execution_count": 61,
   "metadata": {},
   "outputs": [
    {
     "name": "stdout",
     "output_type": "stream",
     "text": [
      "top: \t{}\n",
      "1: \t<GTS with 0 values>\n",
      "2: \t[1, 2, 4]\n",
      "3: \t'LIST'\n",
      "4: \t11\n",
      "5: \t[4, [5, 6, 7]]\n",
      "\n"
     ]
    }
   ],
   "source": [
    "%%warpscript -s s\n",
    "NEWGTS\n",
    "{ }"
   ]
  },
  {
   "cell_type": "code",
   "execution_count": 62,
   "metadata": {},
   "outputs": [],
   "source": [
    "gts = s.peek()"
   ]
  },
  {
   "cell_type": "code",
   "execution_count": 63,
   "metadata": {},
   "outputs": [
    {
     "data": {
      "text/plain": [
       "'o1580'"
      ]
     },
     "execution_count": 63,
     "metadata": {},
     "output_type": "execute_result"
    }
   ],
   "source": [
    "gts._target_id"
   ]
  },
  {
   "cell_type": "code",
   "execution_count": 64,
   "metadata": {},
   "outputs": [
    {
     "data": {
      "text/plain": [
       "<py4j.java_gateway.GatewayClient at 0x7f79d801dda0>"
      ]
     },
     "execution_count": 64,
     "metadata": {},
     "output_type": "execute_result"
    }
   ],
   "source": [
    "gts._gateway_client"
   ]
  },
  {
   "cell_type": "code",
   "execution_count": 65,
   "metadata": {},
   "outputs": [
    {
     "data": {
      "text/plain": [
       "['clear',\n",
       " 'clone',\n",
       " 'compute',\n",
       " 'computeIfAbsent',\n",
       " 'computeIfPresent',\n",
       " 'containsKey',\n",
       " 'containsValue',\n",
       " 'entrySet',\n",
       " 'equals',\n",
       " 'forEach',\n",
       " 'get',\n",
       " 'getClass',\n",
       " 'getOrDefault',\n",
       " 'hashCode',\n",
       " 'isEmpty',\n",
       " 'keySet',\n",
       " 'merge',\n",
       " 'notify',\n",
       " 'notifyAll',\n",
       " 'put',\n",
       " 'putAll',\n",
       " 'putIfAbsent',\n",
       " 'remove',\n",
       " 'replace',\n",
       " 'replaceAll',\n",
       " 'size',\n",
       " 'toString',\n",
       " 'values',\n",
       " 'wait']"
      ]
     },
     "execution_count": 65,
     "metadata": {},
     "output_type": "execute_result"
    }
   ],
   "source": [
    "dir(gts)"
   ]
  },
  {
   "cell_type": "code",
   "execution_count": 66,
   "metadata": {},
   "outputs": [
    {
     "data": {
      "text/plain": [
       "'{}'"
      ]
     },
     "execution_count": 66,
     "metadata": {},
     "output_type": "execute_result"
    }
   ],
   "source": [
    "gts.toString()"
   ]
  },
  {
   "cell_type": "code",
   "execution_count": 67,
   "metadata": {},
   "outputs": [
    {
     "data": {
      "text/plain": [
       "<py4j.java_gateway.JavaMember at 0x7f79d77d56d8>"
      ]
     },
     "execution_count": 67,
     "metadata": {},
     "output_type": "execute_result"
    }
   ],
   "source": [
    "gts.type"
   ]
  },
  {
   "cell_type": "code",
   "execution_count": 68,
   "metadata": {},
   "outputs": [
    {
     "name": "stdout",
     "output_type": "stream",
     "text": [
      "top: \t{}\n",
      "1: \t<GTS with 0 values>\n",
      "2: \t[1, 2, 4]\n",
      "3: \t'LIST'\n",
      "4: \t11\n",
      "5: \t[4, [5, 6, 7]]\n",
      "\n"
     ]
    }
   ],
   "source": [
    "%%warpscript -s s\n",
    "  "
   ]
  },
  {
   "cell_type": "code",
   "execution_count": 69,
   "metadata": {},
   "outputs": [
    {
     "data": {
      "text/plain": [
       "collections.abc.ValuesView"
      ]
     },
     "execution_count": 69,
     "metadata": {},
     "output_type": "execute_result"
    }
   ],
   "source": [
    "type(gts.values())"
   ]
  },
  {
   "cell_type": "code",
   "execution_count": 70,
   "metadata": {},
   "outputs": [
    {
     "name": "stdout",
     "output_type": "stream",
     "text": [
      "top: \t<GTS with 50 values>\n",
      "1: \t{}\n",
      "2: \t<GTS with 0 values>\n",
      "3: \t[1, 2, 4]\n",
      "4: \t'LIST'\n",
      "5: \t11\n",
      "6: \t[4, [5, 6, 7]]\n",
      "\n"
     ]
    }
   ],
   "source": [
    "%%warpscript -s s\n",
    "NEWGTS 1 50 <% NaN NaN NaN 'hi' ADDVALUE %> FOR\n",
    "'test' RENAME\n",
    "{ 'key' 'val' } RELABEL"
   ]
  },
  {
   "cell_type": "code",
   "execution_count": 71,
   "metadata": {},
   "outputs": [],
   "source": [
    "gts = s.peek()"
   ]
  },
  {
   "cell_type": "code",
   "execution_count": 72,
   "metadata": {},
   "outputs": [
    {
     "data": {
      "text/plain": [
       "['clone',\n",
       " 'cloneEmpty',\n",
       " 'dump',\n",
       " 'equals',\n",
       " 'getClass',\n",
       " 'getClassId',\n",
       " 'getLabel',\n",
       " 'getLabels',\n",
       " 'getLabelsId',\n",
       " 'getMetadata',\n",
       " 'getName',\n",
       " 'getType',\n",
       " 'hasElevations',\n",
       " 'hasLabel',\n",
       " 'hasLocations',\n",
       " 'hashCode',\n",
       " 'isRenamed',\n",
       " 'notify',\n",
       " 'notifyAll',\n",
       " 'reset',\n",
       " 'safeSetMetadata',\n",
       " 'setClassId',\n",
       " 'setLabel',\n",
       " 'setLabels',\n",
       " 'setLabelsId',\n",
       " 'setMetadata',\n",
       " 'setName',\n",
       " 'setRenamed',\n",
       " 'setSizeHint',\n",
       " 'setType',\n",
       " 'size',\n",
       " 'toString',\n",
       " 'wait']"
      ]
     },
     "execution_count": 72,
     "metadata": {},
     "output_type": "execute_result"
    }
   ],
   "source": [
    "dir(gts)"
   ]
  },
  {
   "cell_type": "code",
   "execution_count": 73,
   "metadata": {},
   "outputs": [
    {
     "data": {
      "text/plain": [
       "<py4j.java_gateway.GatewayClient at 0x7f79d801dda0>"
      ]
     },
     "execution_count": 73,
     "metadata": {},
     "output_type": "execute_result"
    }
   ],
   "source": [
    "gts._gateway_client"
   ]
  },
  {
   "cell_type": "code",
   "execution_count": 74,
   "metadata": {},
   "outputs": [
    {
     "name": "stdout",
     "output_type": "stream",
     "text": [
      "Created `%%w` as an alias for `%%warpscript`.\n"
     ]
    }
   ],
   "source": [
    "%alias_magic w warpscript"
   ]
  },
  {
   "cell_type": "code",
   "execution_count": 75,
   "metadata": {},
   "outputs": [
    {
     "name": "stdout",
     "output_type": "stream",
     "text": [
      "top: \t0\n",
      "1: \t<GTS with 50 values>\n",
      "2: \t{}\n",
      "3: \t<GTS with 0 values>\n",
      "4: \t[1, 2, 4]\n",
      "5: \t'LIST'\n",
      "6: \t11\n",
      "7: \t[4, [5, 6, 7]]\n",
      "\n"
     ]
    }
   ],
   "source": [
    "%%w -s s\n",
    "0"
   ]
  },
  {
   "cell_type": "code",
   "execution_count": 76,
   "metadata": {},
   "outputs": [],
   "source": [
    "import py4j"
   ]
  },
  {
   "cell_type": "code",
   "execution_count": 77,
   "metadata": {},
   "outputs": [],
   "source": [
    "gt = py4j.java_gateway.JavaGateway(gts._gateway_client)"
   ]
  },
  {
   "cell_type": "code",
   "execution_count": 78,
   "metadata": {},
   "outputs": [
    {
     "name": "stdout",
     "output_type": "stream",
     "text": [
      "Creating a new WarpScript stack accessible under variable \"s\".\n",
      "top: \t0\n",
      "\n"
     ]
    }
   ],
   "source": [
    "%%w -s s -o\n",
    "0"
   ]
  },
  {
   "cell_type": "code",
   "execution_count": 79,
   "metadata": {},
   "outputs": [
    {
     "data": {
      "text/plain": [
       "<py4j.java_gateway.JavaGateway at 0x7f79d778d7f0>"
      ]
     },
     "execution_count": 79,
     "metadata": {},
     "output_type": "execute_result"
    }
   ],
   "source": [
    "gt"
   ]
  },
  {
   "cell_type": "code",
   "execution_count": 80,
   "metadata": {},
   "outputs": [
    {
     "data": {
      "text/plain": [
       "1541168153019"
      ]
     },
     "execution_count": 80,
     "metadata": {},
     "output_type": "execute_result"
    }
   ],
   "source": [
    "gt.jvm.System.currentTimeMillis()"
   ]
  },
  {
   "cell_type": "code",
   "execution_count": 81,
   "metadata": {},
   "outputs": [
    {
     "data": {
      "text/plain": [
       "'hi'"
      ]
     },
     "execution_count": 81,
     "metadata": {},
     "output_type": "execute_result"
    }
   ],
   "source": [
    "gt.jvm.io.warp10.continuum.gts.GTSHelper.valueAtIndex(gts,0)"
   ]
  },
  {
   "cell_type": "code",
   "execution_count": 82,
   "metadata": {},
   "outputs": [
    {
     "data": {
      "text/plain": [
       "'hi'"
      ]
     },
     "execution_count": 82,
     "metadata": {},
     "output_type": "execute_result"
    }
   ],
   "source": [
    "gt.jvm.io.warp10.continuum.gts.GTSHelper.valueAtTick(gts,1)"
   ]
  },
  {
   "cell_type": "code",
   "execution_count": 83,
   "metadata": {},
   "outputs": [],
   "source": [
    "%reload_ext warpscript_cellmagic"
   ]
  },
  {
   "cell_type": "code",
   "execution_count": 84,
   "metadata": {},
   "outputs": [
    {
     "name": "stdout",
     "output_type": "stream",
     "text": [
      "Starting connection with 127.0.0.1:25333.\n",
      "Creating a new WarpScript stack accessible under variable \"s\".\n",
      "top: \t1\n",
      "\n"
     ]
    }
   ],
   "source": [
    "%%w -s s -o\n",
    "1"
   ]
  },
  {
   "cell_type": "code",
   "execution_count": null,
   "metadata": {},
   "outputs": [],
   "source": []
  }
 ],
 "metadata": {
  "kernelspec": {
   "display_name": "Python 3",
   "language": "python",
   "name": "python3"
  },
  "language_info": {
   "codemirror_mode": {
    "name": "ipython",
    "version": 3
   },
   "file_extension": ".py",
   "mimetype": "text/x-python",
   "name": "python",
   "nbconvert_exporter": "python",
   "pygments_lexer": "ipython3",
   "version": "3.6.6"
  },
  "toc": {
   "base_numbering": 1,
   "nav_menu": {},
   "number_sections": false,
   "sideBar": false,
   "skip_h1_title": false,
   "title_cell": "Table of Contents",
   "title_sidebar": "Contents",
   "toc_cell": false,
   "toc_position": {},
   "toc_section_display": false,
   "toc_window_display": false
  }
 },
 "nbformat": 4,
 "nbformat_minor": 2
}
