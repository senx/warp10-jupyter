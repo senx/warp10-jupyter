{
 "cells": [
  {
   "cell_type": "markdown",
   "metadata": {},
   "source": [
    "### This notebook shows how to use cell magics with WarpScript code "
   ]
  },
  {
   "cell_type": "markdown",
   "metadata": {},
   "source": [
    "The extension consists in a cell magic `%%warpscript`.<br/>\n",
    "After installation, it can be loaded as in the following cell."
   ]
  },
  {
   "cell_type": "code",
   "execution_count": 1,
   "metadata": {},
   "outputs": [],
   "source": [
    "%load_ext warpscript"
   ]
  },
  {
   "cell_type": "markdown",
   "metadata": {},
   "source": [
    "The cell magic `%%warpscript` executes Warp Script code on a JVM through a gateway.<br/>\n",
    "The reference of the Warp Script stack is stored under a variable that can be reused in this notebook.<br/>"
   ]
  },
  {
   "cell_type": "markdown",
   "metadata": {},
   "source": [
    "```\n",
    "%%warpscript [--stack STACK] [--overwrite] [--address ADDRESS] [--port PORT] [--not-verbose]\n",
    "\n",
    "Executes WarpScript code.\n",
    "\n",
    "optional arguments:\n",
    "  --stack STACK, -s STACK        The variable that store the resulting WarpScript\n",
    "                                 stack. For each connection, a new variable name\n",
    "                                 creates a new stack. Default to \"stack_<gateway_id>\".\n",
    "  --overwrite, -o                If flag is used, overwrite existing stack stored under\n",
    "                                 used variable with a new one.\n",
    "  --address ADDRESS, -a ADDRESS  The ip address of the gateway connected to the Warp 10\n",
    "                                 platform or WarpScript module. Default to 127.0.0.1.\n",
    "  --port PORT, -p PORT           The corresponding port of the gateway. Default to\n",
    "                                 25333.\n",
    "  --not-verbose, -v              If flag is used, do not print the stack and log\n",
    "                                 messages.\n",
    "  --replace, -r                  If flag is used, file paths surrounded by % are\n",
    "                                 replaced by their content. For example, %token_file%\n",
    "                                 can be used not to expose a token in the notebook.\n",
    "```"
   ]
  },
  {
   "cell_type": "code",
   "execution_count": 2,
   "metadata": {},
   "outputs": [
    {
     "name": "stdout",
     "output_type": "stream",
     "text": [
      "Starting connection with 127.0.0.1:25333.\n",
      "Creating a new WarpScript stack accessible under variable \"stack_0\".\n",
      "top: \t50\n",
      "1: \t3.141592653589793\n",
      "\n"
     ]
    }
   ],
   "source": [
    "%%warpscript\n",
    "'hello' 'a' STORE\n",
    "PI\n",
    "50"
   ]
  },
  {
   "cell_type": "markdown",
   "metadata": {},
   "source": [
    "stack_0 contains a java object. Its java methods can be accessed."
   ]
  },
  {
   "cell_type": "code",
   "execution_count": 3,
   "metadata": {},
   "outputs": [
    {
     "name": "stdout",
     "output_type": "stream",
     "text": [
      "Variable   Type     Data/Info\n",
      "-----------------------------\n",
      "stack_0    Stack    Stack([3.141592653589793, 50])\n"
     ]
    }
   ],
   "source": [
    "%whos"
   ]
  },
  {
   "cell_type": "markdown",
   "metadata": {},
   "source": [
    "The pop method extract the top of the stack."
   ]
  },
  {
   "cell_type": "code",
   "execution_count": 4,
   "metadata": {},
   "outputs": [
    {
     "data": {
      "text/plain": [
       "50"
      ]
     },
     "execution_count": 4,
     "metadata": {},
     "output_type": "execute_result"
    }
   ],
   "source": [
    "stack_0.pop()"
   ]
  },
  {
   "cell_type": "markdown",
   "metadata": {},
   "source": [
    "The peek method gets the top of the stack. Contrary to pop, the object is still on the stack."
   ]
  },
  {
   "cell_type": "code",
   "execution_count": 5,
   "metadata": {},
   "outputs": [
    {
     "data": {
      "text/plain": [
       "3.141592653589793"
      ]
     },
     "execution_count": 5,
     "metadata": {},
     "output_type": "execute_result"
    }
   ],
   "source": [
    "stack_0.peek()"
   ]
  },
  {
   "cell_type": "markdown",
   "metadata": {},
   "source": [
    "We can use the load method to retrieve a value stored by the stack."
   ]
  },
  {
   "cell_type": "code",
   "execution_count": 6,
   "metadata": {},
   "outputs": [
    {
     "data": {
      "text/plain": [
       "'hello'"
      ]
     },
     "execution_count": 6,
     "metadata": {},
     "output_type": "execute_result"
    }
   ],
   "source": [
    "stack_0.load('a')"
   ]
  },
  {
   "cell_type": "markdown",
   "metadata": {},
   "source": [
    "A same WarpScript stack can be reused."
   ]
  },
  {
   "cell_type": "code",
   "execution_count": 7,
   "metadata": {},
   "outputs": [
    {
     "name": "stdout",
     "output_type": "stream",
     "text": [
      "top: \t'hello'\n",
      "1: \t3.141592653589793\n",
      "\n"
     ]
    }
   ],
   "source": [
    "%%warpscript\n",
    "$a"
   ]
  },
  {
   "cell_type": "markdown",
   "metadata": {},
   "source": [
    "A connection can hold mutiple WarpScript stacks."
   ]
  },
  {
   "cell_type": "code",
   "execution_count": 8,
   "metadata": {},
   "outputs": [
    {
     "name": "stdout",
     "output_type": "stream",
     "text": [
      "Creating a new WarpScript stack accessible under variable \"another_stack\".\n",
      "top: \t100\n",
      "1: \t50\n",
      "\n"
     ]
    }
   ],
   "source": [
    "%%warpscript --stack another_stack\n",
    "50 100"
   ]
  },
  {
   "cell_type": "code",
   "execution_count": 9,
   "metadata": {},
   "outputs": [
    {
     "name": "stdout",
     "output_type": "stream",
     "text": [
      "top: \t150\n",
      "\n"
     ]
    }
   ],
   "source": [
    "%%warpscript -s another_stack\n",
    "+"
   ]
  },
  {
   "cell_type": "markdown",
   "metadata": {},
   "source": [
    "TIP: you can use %alias_magic to create aliases for cell magics"
   ]
  },
  {
   "cell_type": "code",
   "execution_count": 10,
   "metadata": {},
   "outputs": [
    {
     "name": "stdout",
     "output_type": "stream",
     "text": [
      "Created `%%w` as an alias for `%%warpscript`.\n"
     ]
    }
   ],
   "source": [
    "%alias_magic w warpscript"
   ]
  }
 ],
 "metadata": {
  "kernelspec": {
   "display_name": "Python 3",
   "language": "python",
   "name": "python3"
  },
  "language_info": {
   "codemirror_mode": {
    "name": "ipython",
    "version": 3
   },
   "file_extension": ".py",
   "mimetype": "text/x-python",
   "name": "python",
   "nbconvert_exporter": "python",
   "pygments_lexer": "ipython3",
   "version": "3.6.6"
  },
  "toc": {
   "base_numbering": 1,
   "nav_menu": {},
   "number_sections": false,
   "sideBar": false,
   "skip_h1_title": false,
   "title_cell": "Table of Contents",
   "title_sidebar": "Contents",
   "toc_cell": false,
   "toc_position": {},
   "toc_section_display": false,
   "toc_window_display": false
  }
 },
 "nbformat": 4,
 "nbformat_minor": 2
}
