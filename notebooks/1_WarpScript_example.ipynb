{
 "cells": [
  {
   "cell_type": "markdown",
   "metadata": {},
   "source": [
    "### This notebook shows how to use cell magics with WarpScript code "
   ]
  },
  {
   "cell_type": "markdown",
   "metadata": {},
   "source": [
    "The extension consists in a cell magic `%%warpscript`.<br/>\n",
    "After installation, it can be loaded as in the following cell."
   ]
  },
  {
   "cell_type": "code",
   "execution_count": 1,
   "metadata": {},
   "outputs": [],
   "source": [
    "%load_ext warpscript"
   ]
  },
  {
   "cell_type": "markdown",
   "metadata": {},
   "source": [
    "The cell magic `%%warpscript` executes Warp Script code on a JVM through a gateway.<br/>\n",
    "The reference of the Warp Script stack is stored under a variable that can be reused in this notebook.<br/>"
   ]
  },
  {
   "cell_type": "markdown",
   "metadata": {},
   "source": [
    "```\n",
    "Docstring:\n",
    "::\n",
    "\n",
    "  %%warpscript [--stack STACK] [--overwrite] [--local] [--address ADDRESS]\n",
    "                  [--port PORT] [--not-verbose] [--replace] [--file FILE]\n",
    "\n",
    "Instanciates or retrieves a WarpScript execution environment (a stack) and execute code with it.\n",
    "\n",
    "optional arguments:\n",
    "  --stack STACK, -s STACK\n",
    "                        The variable that references the WarpScript stack.\n",
    "                        Default to \"stack\".\n",
    "  --overwrite, -o       If flag is used, overwrite any object referenced under\n",
    "                        given variable with a new stack.\n",
    "  --local, -l           Launch a local gateway instead of trying to connect to\n",
    "                        one. If launched this way, it is not connected to a\n",
    "                        Warp 10 database.\n",
    "  --address ADDRESS, -a ADDRESS\n",
    "                        The ip address of the gateway to connect to. Default\n",
    "                        to 127.0.0.1.\n",
    "  --port PORT, -p PORT  The corresponding port of the gateway. Default to\n",
    "                        25333.\n",
    "  --not-verbose, -v     Do not print stack and log messages.\n",
    "  --replace, -r         If used, file paths surrounded by % are replaced by\n",
    "                        their content. For example, %token_file% can be used\n",
    "                        not to expose a token in the notebook.\n",
    "  --file FILE, -f FILE  A file path. WarpScript code from this file will be\n",
    "                        executed before any WarpScript code from the cell.\n",
    "```"
   ]
  },
  {
   "cell_type": "code",
   "execution_count": 2,
   "metadata": {},
   "outputs": [
    {
     "name": "stdout",
     "output_type": "stream",
     "text": [
      "Local gateway launched on port 42583\n",
      "Creating a new WarpScript stack accessible under variable \"stack\".\n"
     ]
    },
    {
     "data": {
      "text/plain": [
       "top: \t50\n",
       "2: \t3.141592653589793"
      ]
     },
     "execution_count": 2,
     "metadata": {},
     "output_type": "execute_result"
    }
   ],
   "source": [
    "%%warpscript --local\n",
    "'hello' 'a' STORE\n",
    "PI\n",
    "50"
   ]
  },
  {
   "cell_type": "markdown",
   "metadata": {},
   "source": [
    "stack_0 contains a java object. Its java methods can be accessed."
   ]
  },
  {
   "cell_type": "code",
   "execution_count": 3,
   "metadata": {},
   "outputs": [
    {
     "name": "stdout",
     "output_type": "stream",
     "text": [
      "Variable   Type     Data/Info\n",
      "-----------------------------\n",
      "stack      Stack    Stack([3.141592653589793, 50])\n"
     ]
    }
   ],
   "source": [
    "%whos"
   ]
  },
  {
   "cell_type": "markdown",
   "metadata": {},
   "source": [
    "The pop method extract the top of the stack."
   ]
  },
  {
   "cell_type": "code",
   "execution_count": 4,
   "metadata": {},
   "outputs": [
    {
     "data": {
      "text/plain": [
       "50"
      ]
     },
     "execution_count": 4,
     "metadata": {},
     "output_type": "execute_result"
    }
   ],
   "source": [
    "stack.pop()"
   ]
  },
  {
   "cell_type": "markdown",
   "metadata": {},
   "source": [
    "The peek method gets the top of the stack. Contrary to pop, the object is still on the stack."
   ]
  },
  {
   "cell_type": "code",
   "execution_count": 5,
   "metadata": {},
   "outputs": [
    {
     "data": {
      "text/plain": [
       "3.141592653589793"
      ]
     },
     "execution_count": 5,
     "metadata": {},
     "output_type": "execute_result"
    }
   ],
   "source": [
    "stack.peek()"
   ]
  },
  {
   "cell_type": "markdown",
   "metadata": {},
   "source": [
    "We can use the load method to retrieve a value stored by the stack."
   ]
  },
  {
   "cell_type": "code",
   "execution_count": 6,
   "metadata": {},
   "outputs": [
    {
     "data": {
      "text/plain": [
       "'hello'"
      ]
     },
     "execution_count": 6,
     "metadata": {},
     "output_type": "execute_result"
    }
   ],
   "source": [
    "stack.load('a')"
   ]
  },
  {
   "cell_type": "markdown",
   "metadata": {},
   "source": [
    "A same WarpScript stack can be reused."
   ]
  },
  {
   "cell_type": "code",
   "execution_count": 7,
   "metadata": {},
   "outputs": [
    {
     "data": {
      "text/plain": [
       "top: \t'hello'\n",
       "2: \t3.141592653589793"
      ]
     },
     "execution_count": 7,
     "metadata": {},
     "output_type": "execute_result"
    }
   ],
   "source": [
    "%%warpscript\n",
    "$a"
   ]
  },
  {
   "cell_type": "markdown",
   "metadata": {},
   "source": [
    "A connection can hold mutiple WarpScript stacks."
   ]
  },
  {
   "cell_type": "code",
   "execution_count": 8,
   "metadata": {},
   "outputs": [
    {
     "name": "stdout",
     "output_type": "stream",
     "text": [
      "Creating a new WarpScript stack accessible under variable \"another_stack\".\n"
     ]
    },
    {
     "data": {
      "text/plain": [
       "top: \t100\n",
       "2: \t50"
      ]
     },
     "execution_count": 8,
     "metadata": {},
     "output_type": "execute_result"
    }
   ],
   "source": [
    "%%warpscript -l --stack another_stack\n",
    "50 100"
   ]
  },
  {
   "cell_type": "code",
   "execution_count": 9,
   "metadata": {},
   "outputs": [
    {
     "data": {
      "text/plain": [
       "top: \t150"
      ]
     },
     "execution_count": 9,
     "metadata": {},
     "output_type": "execute_result"
    }
   ],
   "source": [
    "%%warpscript -s another_stack\n",
    "+"
   ]
  },
  {
   "cell_type": "markdown",
   "metadata": {},
   "source": [
    "TIP: you can use %alias_magic to create aliases for cell magics"
   ]
  },
  {
   "cell_type": "code",
   "execution_count": 10,
   "metadata": {},
   "outputs": [
    {
     "name": "stdout",
     "output_type": "stream",
     "text": [
      "Created `%w` as an alias for `%warpscript`.\n",
      "Created `%%w` as an alias for `%%warpscript`.\n"
     ]
    }
   ],
   "source": [
    "%alias_magic w warpscript"
   ]
  }
 ],
 "metadata": {
  "kernelspec": {
   "display_name": "Python 3",
   "language": "python",
   "name": "python3"
  },
  "language_info": {
   "codemirror_mode": {
    "name": "ipython",
    "version": 3
   },
   "file_extension": ".py",
   "mimetype": "text/x-python",
   "name": "python",
   "nbconvert_exporter": "python",
   "pygments_lexer": "ipython3",
   "version": "3.6.8"
  },
  "toc": {
   "base_numbering": 1,
   "nav_menu": {},
   "number_sections": false,
   "sideBar": false,
   "skip_h1_title": false,
   "title_cell": "Table of Contents",
   "title_sidebar": "Contents",
   "toc_cell": false,
   "toc_position": {},
   "toc_section_display": false,
   "toc_window_display": false
  }
 },
 "nbformat": 4,
 "nbformat_minor": 2
}
