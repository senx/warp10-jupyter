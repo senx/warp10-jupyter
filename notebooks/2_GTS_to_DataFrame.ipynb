{
 "cells": [
  {
   "cell_type": "markdown",
   "metadata": {},
   "source": [
    "### This notebook shows how to make a Pandas DataFrame from WarpScript GTS"
   ]
  },
  {
   "cell_type": "markdown",
   "metadata": {},
   "source": [
    "### 1. From a single GTS to a DataFrame"
   ]
  },
  {
   "cell_type": "code",
   "execution_count": 1,
   "metadata": {},
   "outputs": [
    {
     "name": "stdout",
     "output_type": "stream",
     "text": [
      "Created `%w` as an alias for `%warpscript`.\n",
      "Created `%%w` as an alias for `%%warpscript`.\n"
     ]
    }
   ],
   "source": [
    "%load_ext warpscript\n",
    "%alias_magic w warpscript"
   ]
  },
  {
   "cell_type": "markdown",
   "metadata": {},
   "source": [
    "We will need pandas and pickle libraries."
   ]
  },
  {
   "cell_type": "code",
   "execution_count": 2,
   "metadata": {},
   "outputs": [],
   "source": [
    "from __future__ import print_function\n",
    "import pandas as pd\n",
    "import pickle as pkl"
   ]
  },
  {
   "cell_type": "markdown",
   "metadata": {},
   "source": [
    "We first create a random GTS."
   ]
  },
  {
   "cell_type": "code",
   "execution_count": 3,
   "metadata": {},
   "outputs": [
    {
     "name": "stdout",
     "output_type": "stream",
     "text": [
      "Local gateway launched on port 38481\n",
      "Creating a new WarpScript stack accessible under variable \"s\".\n"
     ]
    },
    {
     "data": {
      "text/plain": [
       "top: \trandGTS{}<DOUBLE, 10 values>"
      ]
     },
     "execution_count": 3,
     "metadata": {},
     "output_type": "execute_result"
    }
   ],
   "source": [
    "%%w -s s -l\n",
    "NEWGTS 'randGTS' RENAME 1 10 <% h RAND RAND NaN RAND ADDVALUE %> FOR"
   ]
  },
  {
   "cell_type": "markdown",
   "metadata": {},
   "source": [
    "In order to make a GTS understood by a python interpreter, we store its content in a map of lists and pickle it as a dict.<br/>\n",
    "The macro `GTStoPickledDict` does this. To load it, you can place the file `macros/GTStoPickledDict.mc2`<br/>\n",
    "in the macros folder of the Warp 10 platform you are sending requests to, or you can execute the following cell."
   ]
  },
  {
   "cell_type": "code",
   "execution_count": 4,
   "metadata": {},
   "outputs": [
    {
     "data": {
      "text/plain": [
       "top: \trandGTS{}<DOUBLE, 10 values>"
      ]
     },
     "execution_count": 4,
     "metadata": {},
     "output_type": "execute_result"
    }
   ],
   "source": [
    "%%w -s s\n",
    "<%\n",
    "    # Documenting the macro\n",
    "    'GTS BOOLEAN @GTStoPickledDict, more doc in macros/GTStoPickledDict.mc2' DOC\n",
    "\n",
    "    # Check there is two arguments on the stack\n",
    "    <% DEPTH 2 < %> <% 'Macro takes two arguments' MSGFAIL %> IFT\n",
    "        \n",
    "    # Check that top is a boolean indicating whether to use GTS classname or selector\n",
    "    <% 1 PICK TYPEOF 'BOOLEAN' != %> <% 'First argument must be a boolean indicating whether to use GTS selector (true) or classname (false)' MSGFAIL %> IFT\n",
    "    \n",
    "    # Check that second argument is a GTS\n",
    "    <% 2 PICK TYPEOF 'GTS' != %> <% 'Second argument must be a GTS' MSGFAIL %> IFT\n",
    "    \n",
    "    # Store the arguments\n",
    "    'withSelector' STORE\n",
    "    'gts' STORE\n",
    "    \n",
    "    # Make name\n",
    "    $gts <% $withSelector %> <% TOSELECTOR %> <% NAME %> IFTE\n",
    "    'name' STORE\n",
    "    \n",
    "    # macro: check not all NaN (for locations and elevations)\n",
    "    <% UNIQUE DUP SIZE 1 == SWAP 0 GET ISNaN && %> 'isAllNaN' STORE\n",
    "        \n",
    "    # Return pickled dict for pandas\n",
    "    {\n",
    "        # ticks\n",
    "        'timestamps' $gts TICKLIST\n",
    "        \n",
    "        # locations\n",
    "        $gts LOCATIONS 'lon' STORE 'lat' STORE\n",
    "        <% $lat @isAllNaN ! %> <% $name '.lat' + $lat %> IFT\n",
    "        <% $lon @isAllNaN ! %> <% $name '.lon' + $lon %> IFT\n",
    "        \n",
    "        # elevations\n",
    "        $gts ELEVATIONS 'elev' STORE\n",
    "        <% $elev @isAllNaN ! %> <% $name '.elev' + $elev %> IFT\n",
    "        \n",
    "        # values        \n",
    "        $name $gts VALUES\n",
    "    }\n",
    "    ->PICKLE\n",
    "%>\n",
    "'GTStoPickledDict' STORE"
   ]
  },
  {
   "cell_type": "markdown",
   "metadata": {},
   "source": [
    "We evaluate the macro on the random GTS that was left on the stack.<br/>\n",
    "Setting the first argument to false means we drop its labels for its pickled representation."
   ]
  },
  {
   "cell_type": "code",
   "execution_count": 5,
   "metadata": {},
   "outputs": [
    {
     "data": {
      "text/plain": [
       "top: \tb'\\x80\\x02}q\\x00(X\\n\\x00\\x00\\x00timestampsq\\x01]q\\x02(I3600000000\\nI7200000000\\nI10800000000\\nI14400000000\\nI18000000000\\nI21600000000\\nI25200000000\\nI28800000000\\nI32400000000\\nI36000000000\\neX\\x0b\\x00\\x00\\x00randGTS.latq\\x03]q\\x04(G?\\xd1\\x17`;\\x00\\x00\\x00G?\\xd6\\x14 \\x97\\x00\\x00\\x00G?\\xe4\\x1c\\xa7\\\\\\x80\\x00\\x00G?\\xd0\\xaf\\xbe\\xcc\\x00\\x00\\x00G?\\xe4z\\xb9!\\x00\\x00\\x00G?\\xeaDwO\\x80\\x00\\x00G?\\xe2\\xadD\\x0b\\x00\\x00\\x00G?\\xc3\\x13\\xfcd\\x00\\x00\\x00G?\\xc6\\x8b\\xfb\\x08\\x00\\x00\\x00G?\\xd2\\r\\xcc\\x9b\\x00\\x00\\x00eX\\x0b\\x00\\x00\\x00randGTS.lonq\\x05]q\\x06(G?\\xe8\\xab6\\x9c\\x00\\x00\\x00G?\\xed\\x14\\x87\\x92\\x00\\x00\\x00G?\\xe8\\xcd\\xd0:\\x00\\x00\\x00G?\\xd9\\xda\\x0b\\xc4\\x00\\x00\\x00G?\\xe8;\\x12\\xb8\\x00\\x00\\x00G?\\xde(\\xb3\\xd8\\x00\\x00\\x00G?\\xefD<~\\x00\\x00\\x00G?\\xe0\\x8b\\xceh\\x00\\x00\\x00G?\\xe6\\xc6\\xb8=\\x00\\x00\\x00G?\\xe9\\xa2\\xf9;\\x00\\x00\\x00eX\\x07\\x00\\x00\\x00randGTSq\\x07]q\\x08(G?\\xd1W\\'\\x86h\\txG?\\xea\\r\\xed\\x99\\xa0\\x9b\\xdfG?\\xd5\\xaf\"v\\xc35\\xd8G?\\xe2OqAr\\x08\\x0fG?\\xd7\\x19<\\xef\\x1a\\x97\\xdeG?\\xa7\\x0c\\t$\\xac\\xf9\\xf0G?\\xecR;\\x05\\xc5\\xd0\\xa9G?\\xe1\\x89\\xde\\xda\\xb6\\x84EG?\\xea+\\xdd_\\x04\\x88\\xecG?\\xde\\x13\\xd6D\\xabB\\x9aeu.'"
      ]
     },
     "execution_count": 5,
     "metadata": {},
     "output_type": "execute_result"
    }
   ],
   "source": [
    "%%w -s s\n",
    "false\n",
    "@GTStoPickledDict # use instead '@./GTStoPickledDict' if GTStoPickledDict.mc2 is in the macros folder"
   ]
  },
  {
   "cell_type": "markdown",
   "metadata": {},
   "source": [
    "We then load the dict from its pickled representation and create a pandas dataframe with it."
   ]
  },
  {
   "cell_type": "code",
   "execution_count": 6,
   "metadata": {},
   "outputs": [
    {
     "data": {
      "text/html": [
       "<div>\n",
       "<style scoped>\n",
       "    .dataframe tbody tr th:only-of-type {\n",
       "        vertical-align: middle;\n",
       "    }\n",
       "\n",
       "    .dataframe tbody tr th {\n",
       "        vertical-align: top;\n",
       "    }\n",
       "\n",
       "    .dataframe thead th {\n",
       "        text-align: right;\n",
       "    }\n",
       "</style>\n",
       "<table border=\"1\" class=\"dataframe\">\n",
       "  <thead>\n",
       "    <tr style=\"text-align: right;\">\n",
       "      <th></th>\n",
       "      <th>timestamps</th>\n",
       "      <th>randGTS.lat</th>\n",
       "      <th>randGTS.lon</th>\n",
       "      <th>randGTS</th>\n",
       "    </tr>\n",
       "  </thead>\n",
       "  <tbody>\n",
       "    <tr>\n",
       "      <th>0</th>\n",
       "      <td>3600000000</td>\n",
       "      <td>0.267052</td>\n",
       "      <td>0.770900</td>\n",
       "      <td>0.270944</td>\n",
       "    </tr>\n",
       "    <tr>\n",
       "      <th>1</th>\n",
       "      <td>7200000000</td>\n",
       "      <td>0.344978</td>\n",
       "      <td>0.908756</td>\n",
       "      <td>0.814200</td>\n",
       "    </tr>\n",
       "    <tr>\n",
       "      <th>2</th>\n",
       "      <td>10800000000</td>\n",
       "      <td>0.628498</td>\n",
       "      <td>0.775124</td>\n",
       "      <td>0.338814</td>\n",
       "    </tr>\n",
       "    <tr>\n",
       "      <th>3</th>\n",
       "      <td>14400000000</td>\n",
       "      <td>0.260727</td>\n",
       "      <td>0.403933</td>\n",
       "      <td>0.572198</td>\n",
       "    </tr>\n",
       "    <tr>\n",
       "      <th>4</th>\n",
       "      <td>18000000000</td>\n",
       "      <td>0.639981</td>\n",
       "      <td>0.757211</td>\n",
       "      <td>0.360915</td>\n",
       "    </tr>\n",
       "    <tr>\n",
       "      <th>5</th>\n",
       "      <td>21600000000</td>\n",
       "      <td>0.820858</td>\n",
       "      <td>0.471234</td>\n",
       "      <td>0.045014</td>\n",
       "    </tr>\n",
       "    <tr>\n",
       "      <th>6</th>\n",
       "      <td>25200000000</td>\n",
       "      <td>0.583651</td>\n",
       "      <td>0.977080</td>\n",
       "      <td>0.885038</td>\n",
       "    </tr>\n",
       "    <tr>\n",
       "      <th>7</th>\n",
       "      <td>28800000000</td>\n",
       "      <td>0.149047</td>\n",
       "      <td>0.517066</td>\n",
       "      <td>0.548080</td>\n",
       "    </tr>\n",
       "    <tr>\n",
       "      <th>8</th>\n",
       "      <td>32400000000</td>\n",
       "      <td>0.176147</td>\n",
       "      <td>0.711758</td>\n",
       "      <td>0.817855</td>\n",
       "    </tr>\n",
       "    <tr>\n",
       "      <th>9</th>\n",
       "      <td>36000000000</td>\n",
       "      <td>0.282092</td>\n",
       "      <td>0.801144</td>\n",
       "      <td>0.469961</td>\n",
       "    </tr>\n",
       "  </tbody>\n",
       "</table>\n",
       "</div>"
      ],
      "text/plain": [
       "    timestamps  randGTS.lat  randGTS.lon   randGTS\n",
       "0   3600000000     0.267052     0.770900  0.270944\n",
       "1   7200000000     0.344978     0.908756  0.814200\n",
       "2  10800000000     0.628498     0.775124  0.338814\n",
       "3  14400000000     0.260727     0.403933  0.572198\n",
       "4  18000000000     0.639981     0.757211  0.360915\n",
       "5  21600000000     0.820858     0.471234  0.045014\n",
       "6  25200000000     0.583651     0.977080  0.885038\n",
       "7  28800000000     0.149047     0.517066  0.548080\n",
       "8  32400000000     0.176147     0.711758  0.817855\n",
       "9  36000000000     0.282092     0.801144  0.469961"
      ]
     },
     "execution_count": 6,
     "metadata": {},
     "output_type": "execute_result"
    }
   ],
   "source": [
    "gts1 = s.pop()\n",
    "df1 = pd.DataFrame.from_dict(pkl.loads(gts1))\n",
    "df1"
   ]
  },
  {
   "cell_type": "markdown",
   "metadata": {},
   "source": [
    "In the following example, we choose to keep label information."
   ]
  },
  {
   "cell_type": "code",
   "execution_count": 7,
   "metadata": {},
   "outputs": [
    {
     "data": {
      "text/plain": [
       "top: \tb'\\x80\\x02}q\\x00(X\\n\\x00\\x00\\x00timestampsq\\x01]q\\x02(I3600000000\\nI7200000000\\nI10800000000\\nI14400000000\\nI18000000000\\nI21600000000\\nI25200000000\\nI28800000000\\nI32400000000\\nI36000000000\\neX\"\\x00\\x00\\x00randGTS{key1=info1,key2=info2}.latq\\x03]q\\x04(G?\\xea\\x8b9\\n\\x80\\x00\\x00G?\\xea\\x1f\\xea\\x1f\\x80\\x00\\x00G?\\xe8,\\x9fg\\x00\\x00\\x00G?\\xe2\\xdfi\\x86\\x00\\x00\\x00G?\\xe1\\xd3\\xe5\\xf0\\x80\\x00\\x00G?\\xe0\\xc9 \\xe7\\x00\\x00\\x00G?\\xdbk@\\x0c\\x00\\x00\\x00G?\\xef\\xdc>\\xc5\\x00\\x00\\x00G?\\xb4\\x0b\\x98\\x84\\x00\\x00\\x00G?\\xefb\\xe3\\xce\\x80\\x00\\x00eX\"\\x00\\x00\\x00randGTS{key1=info1,key2=info2}.lonq\\x05]q\\x06(G?\\xe9\\x0eu\\x81\\x00\\x00\\x00G?\\xdc\\xfeh\\x9a\\x00\\x00\\x00G?\\xbasj\\xf8\\x00\\x00\\x00G?\\xe8\\x19\\x7f1\\x00\\x00\\x00G?\\xe8\\x13\\xb5\\x01\\x00\\x00\\x00G?\\xe6\\x91\\x02t\\x00\\x00\\x00G?\\xe8[/!\\x00\\x00\\x00G?\\xc0h7P\\x00\\x00\\x00G?\\xe3\\xa4\\x95I\\x00\\x00\\x00G?\\x9a\\x07\\x08@\\x00\\x00\\x00eX\\x1e\\x00\\x00\\x00randGTS{key1=info1,key2=info2}q\\x07]q\\x08(G?\\xe5\\x170\\xc5\\xa1n8G?\\xe0/\\xfe)@KpG?\\xe7\\xaa\\x1bA\\x9at\\x1aG?\\xcb\\x89\\x0bx\\x12\\xcf(G?\\xcf!\\xca\\\\s\\xf4\\xb4G?\\xdc\\x05X\\x9cxn\\x80G?\\xe7\\x9fTG\\xa4\\xb9\\x8dG?\\xcaw\\xef!\\xc3\\xd3\\x80G?\\xe7\\x11\\x8c\\xbf\\x8e\\rqG?\\xd2:\\x9c\\x1f~~~eu.'"
      ]
     },
     "execution_count": 7,
     "metadata": {},
     "output_type": "execute_result"
    }
   ],
   "source": [
    "%%w -s s\n",
    "NEWGTS 'randGTS' RENAME 1 10 <% h RAND RAND NaN RAND ADDVALUE %> FOR\n",
    "{ 'key1' 'info1' 'key2' 'info2' } RELABEL\n",
    "true\n",
    "@GTStoPickledDict # use instead '@./GTStoPickledDict' if GTStoPickledDict.mc2 is in the macros folder"
   ]
  },
  {
   "cell_type": "code",
   "execution_count": 8,
   "metadata": {},
   "outputs": [
    {
     "data": {
      "text/html": [
       "<div>\n",
       "<style scoped>\n",
       "    .dataframe tbody tr th:only-of-type {\n",
       "        vertical-align: middle;\n",
       "    }\n",
       "\n",
       "    .dataframe tbody tr th {\n",
       "        vertical-align: top;\n",
       "    }\n",
       "\n",
       "    .dataframe thead th {\n",
       "        text-align: right;\n",
       "    }\n",
       "</style>\n",
       "<table border=\"1\" class=\"dataframe\">\n",
       "  <thead>\n",
       "    <tr style=\"text-align: right;\">\n",
       "      <th></th>\n",
       "      <th>timestamps</th>\n",
       "      <th>randGTS{key1=info1,key2=info2}.lat</th>\n",
       "      <th>randGTS{key1=info1,key2=info2}.lon</th>\n",
       "      <th>randGTS{key1=info1,key2=info2}</th>\n",
       "    </tr>\n",
       "  </thead>\n",
       "  <tbody>\n",
       "    <tr>\n",
       "      <th>0</th>\n",
       "      <td>3600000000</td>\n",
       "      <td>0.829495</td>\n",
       "      <td>0.783015</td>\n",
       "      <td>0.659081</td>\n",
       "    </tr>\n",
       "    <tr>\n",
       "      <th>1</th>\n",
       "      <td>7200000000</td>\n",
       "      <td>0.816396</td>\n",
       "      <td>0.453028</td>\n",
       "      <td>0.505858</td>\n",
       "    </tr>\n",
       "    <tr>\n",
       "      <th>2</th>\n",
       "      <td>10800000000</td>\n",
       "      <td>0.755447</td>\n",
       "      <td>0.103324</td>\n",
       "      <td>0.739515</td>\n",
       "    </tr>\n",
       "    <tr>\n",
       "      <th>3</th>\n",
       "      <td>14400000000</td>\n",
       "      <td>0.589772</td>\n",
       "      <td>0.753112</td>\n",
       "      <td>0.215120</td>\n",
       "    </tr>\n",
       "    <tr>\n",
       "      <th>4</th>\n",
       "      <td>18000000000</td>\n",
       "      <td>0.557116</td>\n",
       "      <td>0.752406</td>\n",
       "      <td>0.243219</td>\n",
       "    </tr>\n",
       "    <tr>\n",
       "      <th>5</th>\n",
       "      <td>21600000000</td>\n",
       "      <td>0.524552</td>\n",
       "      <td>0.705201</td>\n",
       "      <td>0.437826</td>\n",
       "    </tr>\n",
       "    <tr>\n",
       "      <th>6</th>\n",
       "      <td>25200000000</td>\n",
       "      <td>0.428421</td>\n",
       "      <td>0.761131</td>\n",
       "      <td>0.738199</td>\n",
       "    </tr>\n",
       "    <tr>\n",
       "      <th>7</th>\n",
       "      <td>28800000000</td>\n",
       "      <td>0.995635</td>\n",
       "      <td>0.128180</td>\n",
       "      <td>0.206785</td>\n",
       "    </tr>\n",
       "    <tr>\n",
       "      <th>8</th>\n",
       "      <td>32400000000</td>\n",
       "      <td>0.078302</td>\n",
       "      <td>0.613841</td>\n",
       "      <td>0.720892</td>\n",
       "    </tr>\n",
       "    <tr>\n",
       "      <th>9</th>\n",
       "      <td>36000000000</td>\n",
       "      <td>0.980822</td>\n",
       "      <td>0.025417</td>\n",
       "      <td>0.284827</td>\n",
       "    </tr>\n",
       "  </tbody>\n",
       "</table>\n",
       "</div>"
      ],
      "text/plain": [
       "    timestamps  randGTS{key1=info1,key2=info2}.lat  \\\n",
       "0   3600000000                            0.829495   \n",
       "1   7200000000                            0.816396   \n",
       "2  10800000000                            0.755447   \n",
       "3  14400000000                            0.589772   \n",
       "4  18000000000                            0.557116   \n",
       "5  21600000000                            0.524552   \n",
       "6  25200000000                            0.428421   \n",
       "7  28800000000                            0.995635   \n",
       "8  32400000000                            0.078302   \n",
       "9  36000000000                            0.980822   \n",
       "\n",
       "   randGTS{key1=info1,key2=info2}.lon  randGTS{key1=info1,key2=info2}  \n",
       "0                            0.783015                        0.659081  \n",
       "1                            0.453028                        0.505858  \n",
       "2                            0.103324                        0.739515  \n",
       "3                            0.753112                        0.215120  \n",
       "4                            0.752406                        0.243219  \n",
       "5                            0.705201                        0.437826  \n",
       "6                            0.761131                        0.738199  \n",
       "7                            0.128180                        0.206785  \n",
       "8                            0.613841                        0.720892  \n",
       "9                            0.025417                        0.284827  "
      ]
     },
     "execution_count": 8,
     "metadata": {},
     "output_type": "execute_result"
    }
   ],
   "source": [
    "gts2 = s.pop()\n",
    "df2 = pd.DataFrame.from_dict(pkl.loads(gts2))\n",
    "df2"
   ]
  },
  {
   "cell_type": "markdown",
   "metadata": {},
   "source": [
    "We can also not use geo information."
   ]
  },
  {
   "cell_type": "code",
   "execution_count": 9,
   "metadata": {},
   "outputs": [
    {
     "data": {
      "text/plain": [
       "top: \tb'\\x80\\x02}q\\x00(X\\n\\x00\\x00\\x00timestampsq\\x01]q\\x02(I7200000000\\nI10800000000\\nI14400000000\\nI18000000000\\nI21600000000\\nI25200000000\\nI28800000000\\nI32400000000\\nI36000000000\\nI39600000000\\neX\\x06\\x00\\x00\\x00randTSq\\x03]q\\x04(G?\\xc4\\xf6\\x0b\\xb7\\xe7\\x11\\xecG?\\x89\\x80/P~\\x10\\xc0G?\\xe51\\xd42\\xa8\\xc3SG?\\xe8T*F\\xd0\\xe3XG?\\xeb\\xc7%u\\xca\\x1b\\x93G?\\xd1\\xb2\\xf8\\x10/\\xb8:G?\\xd2\\xe1D\\x9eD\\xf6,G?\\xe6\\xa7\\tD\\xf8GSG?\\xc0\\x13V$\\xf5+,G?\\xbd&\\xac\\xcd\\xa6\\xbbpeu.'"
      ]
     },
     "execution_count": 9,
     "metadata": {},
     "output_type": "execute_result"
    }
   ],
   "source": [
    "%%w -s s\n",
    "NEWGTS 'randTS' RENAME 2 11 <% h NaN NaN NaN RAND ADDVALUE %> FOR\n",
    "false\n",
    "@GTStoPickledDict # use instead '@./GTStoPickledDict' if GTStoPickledDict.mc2 is in the macros folder"
   ]
  },
  {
   "cell_type": "code",
   "execution_count": 10,
   "metadata": {},
   "outputs": [
    {
     "data": {
      "text/html": [
       "<div>\n",
       "<style scoped>\n",
       "    .dataframe tbody tr th:only-of-type {\n",
       "        vertical-align: middle;\n",
       "    }\n",
       "\n",
       "    .dataframe tbody tr th {\n",
       "        vertical-align: top;\n",
       "    }\n",
       "\n",
       "    .dataframe thead th {\n",
       "        text-align: right;\n",
       "    }\n",
       "</style>\n",
       "<table border=\"1\" class=\"dataframe\">\n",
       "  <thead>\n",
       "    <tr style=\"text-align: right;\">\n",
       "      <th></th>\n",
       "      <th>timestamps</th>\n",
       "      <th>randTS</th>\n",
       "    </tr>\n",
       "  </thead>\n",
       "  <tbody>\n",
       "    <tr>\n",
       "      <th>0</th>\n",
       "      <td>7200000000</td>\n",
       "      <td>0.163759</td>\n",
       "    </tr>\n",
       "    <tr>\n",
       "      <th>1</th>\n",
       "      <td>10800000000</td>\n",
       "      <td>0.012452</td>\n",
       "    </tr>\n",
       "    <tr>\n",
       "      <th>2</th>\n",
       "      <td>14400000000</td>\n",
       "      <td>0.662333</td>\n",
       "    </tr>\n",
       "    <tr>\n",
       "      <th>3</th>\n",
       "      <td>18000000000</td>\n",
       "      <td>0.760274</td>\n",
       "    </tr>\n",
       "    <tr>\n",
       "      <th>4</th>\n",
       "      <td>21600000000</td>\n",
       "      <td>0.868060</td>\n",
       "    </tr>\n",
       "    <tr>\n",
       "      <th>5</th>\n",
       "      <td>25200000000</td>\n",
       "      <td>0.276548</td>\n",
       "    </tr>\n",
       "    <tr>\n",
       "      <th>6</th>\n",
       "      <td>28800000000</td>\n",
       "      <td>0.294999</td>\n",
       "    </tr>\n",
       "    <tr>\n",
       "      <th>7</th>\n",
       "      <td>32400000000</td>\n",
       "      <td>0.707890</td>\n",
       "    </tr>\n",
       "    <tr>\n",
       "      <th>8</th>\n",
       "      <td>36000000000</td>\n",
       "      <td>0.125590</td>\n",
       "    </tr>\n",
       "    <tr>\n",
       "      <th>9</th>\n",
       "      <td>39600000000</td>\n",
       "      <td>0.113871</td>\n",
       "    </tr>\n",
       "  </tbody>\n",
       "</table>\n",
       "</div>"
      ],
      "text/plain": [
       "    timestamps    randTS\n",
       "0   7200000000  0.163759\n",
       "1  10800000000  0.012452\n",
       "2  14400000000  0.662333\n",
       "3  18000000000  0.760274\n",
       "4  21600000000  0.868060\n",
       "5  25200000000  0.276548\n",
       "6  28800000000  0.294999\n",
       "7  32400000000  0.707890\n",
       "8  36000000000  0.125590\n",
       "9  39600000000  0.113871"
      ]
     },
     "execution_count": 10,
     "metadata": {},
     "output_type": "execute_result"
    }
   ],
   "source": [
    "gts3 = s.pop()\n",
    "df3 = pd.DataFrame.from_dict(pkl.loads(gts3))\n",
    "df3"
   ]
  },
  {
   "cell_type": "markdown",
   "metadata": {},
   "source": [
    "### 2. Revert a DataFrame to a GTS"
   ]
  },
  {
   "cell_type": "markdown",
   "metadata": {},
   "source": [
    "To revert a DataFrame to a GTS, we first need to convert the DataFrame into a dict."
   ]
  },
  {
   "cell_type": "code",
   "execution_count": 11,
   "metadata": {},
   "outputs": [
    {
     "data": {
      "text/plain": [
       "{'timestamps': [3600000000,\n",
       "  7200000000,\n",
       "  10800000000,\n",
       "  14400000000,\n",
       "  18000000000,\n",
       "  21600000000,\n",
       "  25200000000,\n",
       "  28800000000,\n",
       "  32400000000,\n",
       "  36000000000],\n",
       " 'randGTS.lat': [0.26705175172537565,\n",
       "  0.34497847314924,\n",
       "  0.6284977728500962,\n",
       "  0.2607266418635845,\n",
       "  0.6399808544665575,\n",
       "  0.8208576729521155,\n",
       "  0.5836506094783545,\n",
       "  0.14904742129147053,\n",
       "  0.17614686861634254,\n",
       "  0.2820922387763858],\n",
       " 'randGTS.lon': [0.7709000632166862,\n",
       "  0.9087560512125492,\n",
       "  0.7751237042248249,\n",
       "  0.40393346920609474,\n",
       "  0.7572110742330551,\n",
       "  0.4712342843413353,\n",
       "  0.977079626172781,\n",
       "  0.5170661956071854,\n",
       "  0.7117577735334635,\n",
       "  0.8011442329734564],\n",
       " 'randGTS': [0.2709444820940443,\n",
       "  0.8142002106222853,\n",
       "  0.3388143691816743,\n",
       "  0.5721975591879999,\n",
       "  0.36091540670383704,\n",
       "  0.0450137002248886,\n",
       "  0.8850379097698539,\n",
       "  0.5480798980462472,\n",
       "  0.8178545814337475,\n",
       "  0.46996075349765365]}"
      ]
     },
     "execution_count": 11,
     "metadata": {},
     "output_type": "execute_result"
    }
   ],
   "source": [
    "gts1b = df1.to_dict('list')\n",
    "gts1b"
   ]
  },
  {
   "cell_type": "markdown",
   "metadata": {},
   "source": [
    "We can push this dict directly onto the stack, since it will be automatically converted in the JVM."
   ]
  },
  {
   "cell_type": "code",
   "execution_count": 12,
   "metadata": {},
   "outputs": [
    {
     "data": {
      "text/plain": [
       "top: \t{'randGTS.lat': [0.26705175172537565, 0.34497847314924, 0.6284977728500962, 0.2607266418635845, 0.6399808544665575, 0.8208576729521155, 0.5836506094783545, 0.14904742129147053, 0.17614686861634254, 0.2820922387763858], 'timestamps': [3600000000, 7200000000, 10800000000, 14400000000, 18000000000, 21600000000, 25200000000, 28800000000, 32400000000, 36000000000], 'randGTS': [0.2709444820940443, 0.8142002106222853, 0.3388143691816743, 0.5721975591879999, 0.36091540670383704, 0.0450137002248886, 0.8850379097698539, 0.5480798980462472, 0.8178545814337475, 0.46996075349765365], 'randGTS.lon': [0.7709000632166862, 0.9087560512125492, 0.7751237042248249, 0.40393346920609474, 0.7572110742330551, 0.4712342843413353, 0.977079626172781, 0.5170661956071854, 0.7117577735334635, 0.8011442329734564]}"
      ]
     },
     "execution_count": 12,
     "metadata": {},
     "output_type": "execute_result"
    }
   ],
   "source": [
    "s.push(gts1b)\n",
    "s"
   ]
  },
  {
   "cell_type": "markdown",
   "metadata": {},
   "source": [
    "Now we can use the lists contained in this map to populate a GTS."
   ]
  },
  {
   "cell_type": "code",
   "execution_count": 13,
   "metadata": {},
   "outputs": [
    {
     "data": {
      "text/plain": [
       "top: \trandGTS{}<DOUBLE, 10 values>"
      ]
     },
     "execution_count": 13,
     "metadata": {},
     "output_type": "execute_result"
    }
   ],
   "source": [
    "%%w -s s\n",
    "'dict' STORE\n",
    "$dict 'timestamps' GET\n",
    "$dict 'randGTS.lat' GET\n",
    "$dict 'randGTS.lon' GET\n",
    "[] // no elevation\n",
    "$dict 'randGTS' GET\n",
    "MAKEGTS 'randGTS' RENAME"
   ]
  },
  {
   "cell_type": "code",
   "execution_count": 14,
   "metadata": {},
   "outputs": [
    {
     "name": "stdout",
     "output_type": "stream",
     "text": [
      "randGTS{}\n",
      "=3600000000/0.26705175172537565:0.7709000632166862/ 0.2709444820940443\n",
      "=7200000000/0.34497847314924:0.9087560512125492/ 0.8142002106222853\n",
      "=10800000000/0.6284977728500962:0.7751237042248249/ 0.3388143691816743\n",
      "=14400000000/0.2607266418635845:0.40393346920609474/ 0.5721975591879999\n",
      "=18000000000/0.6399808544665575:0.7572110742330551/ 0.36091540670383704\n",
      "=21600000000/0.8208576729521155:0.4712342843413353/ 0.0450137002248886\n",
      "=25200000000/0.5836506094783545:0.977079626172781/ 0.8850379097698539\n",
      "=28800000000/0.14904742129147053:0.5170661956071854/ 0.5480798980462472\n",
      "=32400000000/0.17614686861634254:0.7117577735334635/ 0.8178545814337475\n",
      "=36000000000/0.2820922387763858:0.8011442329734564/ 0.46996075349765365\n",
      "\n"
     ]
    }
   ],
   "source": [
    "print(s.pop().toString())"
   ]
  },
  {
   "cell_type": "markdown",
   "metadata": {},
   "source": [
    "### 3. From a list of GTS to a DataFrame"
   ]
  },
  {
   "cell_type": "markdown",
   "metadata": {},
   "source": [
    "We want to put every GTS of a list in a same DataFrame with a single `timestamps` column.<br/>\n",
    "Since every GTS don't have values for the same timestamps, we need to handle missing values,<br/>\n",
    "and we need to make the assumption that each GTS can have at most one value per timestamp.<br/>\n",
    "It is more efficient to do that in WarpScript, as done by the macro `ListGTStoPickledDict`."
   ]
  },
  {
   "cell_type": "markdown",
   "metadata": {},
   "source": [
    "If there are many unaligned ticks, consider converting to lists of single column dataFrame or Series instead."
   ]
  },
  {
   "cell_type": "code",
   "execution_count": 15,
   "metadata": {},
   "outputs": [
    {
     "name": "stdout",
     "output_type": "stream",
     "text": [
      "Creating a new WarpScript stack accessible under variable \"s\".\n"
     ]
    },
    {
     "data": {
      "text/plain": []
     },
     "execution_count": 15,
     "metadata": {},
     "output_type": "execute_result"
    }
   ],
   "source": [
    "%%w -s s -o -l\n",
    "<%\n",
    "    # Documenting the macro\n",
    "    '[GTS] BOOLEAN @ListGTStoPickledDict , more doc in macros/ListGTStoPickledDict.mc2' DOC\n",
    "\n",
    "    # Check there is two arguments on the stack\n",
    "    <% DEPTH 2 < %> <% 'Macro takes two arguments' MSGFAIL %> IFT\n",
    "        \n",
    "    # Check that top is a boolean indicating whether to use GTS classname or selector\n",
    "    <% 1 PICK TYPEOF 'BOOLEAN' != %> <% 'First argument must be a boolean indicating whether to use GTS selector (true) or classname (false)' MSGFAIL %> IFT\n",
    "    \n",
    "    # Check that second argument is a list of GTS\n",
    "    <% 2 PICK TYPEOF 'LIST' != %> <% 'Second argument must be a List of GTS' MSGFAIL %> IFT\n",
    "    2 PICK <% <% TYPEOF 'GTS' != %> <% 'Second argument is a list that has an element that is not a GTS' MSGFAIL %> IFT %> FOREACH\n",
    "    \n",
    "    # Store the arguments\n",
    "    'withSelector' STORE\n",
    "    'gtsList' STORE\n",
    "    \n",
    "    # make tickbase of all GTS\n",
    "    $gtsList TICKS 'ticks' STORE\n",
    "    $ticks [] [] [] $ticks MAKEGTS 'baseGTS' STORE\n",
    "    \n",
    "    # macro: check not all NaN (for locations and elevations)\n",
    "    <% UNIQUE DUP SIZE 1 == SWAP 0 GET ISNaN && %> 'isAllNaN' STORE\n",
    "        \n",
    "    # Return pickled dict for pandas\n",
    "    {\n",
    "        # ticks\n",
    "        'timestamps' $ticks\n",
    "        \n",
    "        # loop over list of GTS\n",
    "        $gtsList\n",
    "        <%\n",
    "            'gts' STORE\n",
    "            \n",
    "            # Make name\n",
    "            $gts <% $withSelector %> <% TOSELECTOR %> <% NAME %> IFTE\n",
    "            'name' STORE\n",
    "        \n",
    "            # Put on the same tick base and fill missing values with NaN\n",
    "            [ $gts true mapper.replace 0 0 0 ] MAP\n",
    "            'mask' STORE\n",
    "            [ $mask [ $baseGTS ] [] op.negmask ] APPLY\n",
    "            [ SWAP NaN mapper.replace 0 0 0 ] MAP\n",
    "            0 GET 'residualSeries' STORE\n",
    "            [ $gts $residualSeries ] MERGE SORT\n",
    "            'gts' STORE\n",
    "        \n",
    "            # locations\n",
    "            $gts LOCATIONS 'lon' STORE 'lat' STORE\n",
    "            <% $lat @isAllNaN ! %> <% $name '.lat' + $lat %> IFT\n",
    "            <% $lon @isAllNaN ! %> <% $name '.lon' + $lon %> IFT\n",
    "        \n",
    "            # elevations\n",
    "            $gts ELEVATIONS 'elev' STORE\n",
    "            <% $elev @isAllNaN ! %> <% $name '.elev' + $elev %> IFT\n",
    "        \n",
    "            # values        \n",
    "            $name $gts VALUES\n",
    "        %>\n",
    "        FOREACH\n",
    "    }\n",
    "    ->PICKLE\n",
    "%>\n",
    "'ListGTStoPickledDict' STORE"
   ]
  },
  {
   "cell_type": "markdown",
   "metadata": {},
   "source": [
    "We apply the macro `ListGTStoPickledDict` similarly than `GTStoPickledDict`,<br/>\n",
    "except that it takes a list of GTS instead of a single GTS as second argument."
   ]
  },
  {
   "cell_type": "code",
   "execution_count": 16,
   "metadata": {},
   "outputs": [
    {
     "data": {
      "text/plain": [
       "top: \tb\"\\x80\\x02}q\\x00(X\\n\\x00\\x00\\x00timestampsq\\x01]q\\x02(I3600000000\\nI7200000000\\nI10800000000\\nI14400000000\\nI18000000000\\nI21600000000\\nI25200000000\\nI28800000000\\nI32400000000\\nI36000000000\\nI39600000000\\neX\\x0b\\x00\\x00\\x00randGTS.latq\\x03]q\\x04(G?\\xd4\\x15\\xc4\\x8a\\x00\\x00\\x00G?\\xe3w\\x83\\xb5\\x00\\x00\\x00G?\\xe0\\x84\\x03\\x8d\\x80\\x00\\x00G?\\xc0l\\x1c\\xb2\\x00\\x00\\x00G?\\xd4\\x89~\\x89\\x00\\x00\\x00G?\\xd4Hb\\xc8\\x00\\x00\\x00G?\\xe4X06\\x00\\x00\\x00G?\\xe8\\xe2\\\\\\xeb\\x80\\x00\\x00G?\\xdd2\\xa1\\x1e\\x00\\x00\\x00G?\\xe2\\x86-+\\x00\\x00\\x00G\\x7f\\xf8\\x00\\x00\\x00\\x00\\x00\\x00eX\\x0b\\x00\\x00\\x00randGTS.lonq\\x05]q\\x06(G?\\xea*\\xe7\\x97\\x00\\x00\\x00G?\\xe8\\x8d\\x98\\x1c\\x00\\x00\\x00G?\\xef\\xde\\xe4;\\x00\\x00\\x00G?\\xd2\\xfaY\\xc6\\x00\\x00\\x00G?\\xef}\\xb82\\x00\\x00\\x00G?\\xd2\\xe8\\x95\\xf6\\x00\\x00\\x00G?\\xeb\\xe3D\\x80\\x00\\x00\\x00G?\\xc3*K,\\x00\\x00\\x00G?\\xe5d+=\\x00\\x00\\x00G?\\xe1\\xcf%E\\x00\\x00\\x00G\\x7f\\xf8\\x00\\x00\\x00\\x00\\x00\\x00eX\\x07\\x00\\x00\\x00randGTSq\\x07]q\\x08(G?\\xa5\\x87Vq\\x9b\\x120G?\\xeew\\xc2P\\xad\\xc1\\xd1G?\\x83\\x1d\\xfd\\xc3\\xea\\xfe\\xc0G?\\xc3\\x95@\\x80\\x0cZLG?\\xda\\xb2\\x90mYh\\xe0G?\\xc2!x\\x9c\\x06o\\xe0G?\\xee\\x96\\xdf\\x979\\xfc\\xb4G?\\xeb\\xed\\x89\\xa0\\xc0p\\x89G?\\xe4\\xd2\\x8f\\xc5\\r\\xef\\xceG?\\xd4\\xfd|\\r\\xe14:G\\x7f\\xf8\\x00\\x00\\x00\\x00\\x00\\x00eX\\x06\\x00\\x00\\x00randTSq\\t]q\\n(G\\x7f\\xf8\\x00\\x00\\x00\\x00\\x00\\x00G?\\xda\\xad\\xcf\\xd51CnG?\\xb8!\\x92\\xad\\x93\\xea\\xd8G?\\xc7'^\\xac\\xdcs\\xb4G?\\xe4k\\x8fTI\\xcfkG?\\xe8\\x89\\n\\x8b\\xf9oFG?\\xe0*\\xb3\\xc9\\x8cPRG?\\xdfl\\x80\\xb7\\x08\\xff\\xf0G?\\xd4\\xc4\\x17j\\x15\\x02\\xf8G?\\xe0\\xbf.^\\xab\\xb12G?\\xdc\\xc4A\\xf23\\xea\\xe0eX\\x08\\x00\\x00\\x00stringTSq\\x0b]q\\x0c(X\\x03\\x00\\x00\\x00NaNq\\rh\\rh\\rh\\rX\\x08\\x00\\x00\\x00a stringq\\x0eh\\x0eh\\x0eh\\x0eh\\rh\\rh\\reu.\""
      ]
     },
     "execution_count": 16,
     "metadata": {},
     "output_type": "execute_result"
    }
   ],
   "source": [
    "%%w -s s\n",
    "[ NEWGTS 'randGTS' RENAME 1 10 <% h RAND RAND NaN RAND ADDVALUE %> FOR\n",
    "  NEWGTS 'randTS' RENAME 2 11 <% h NaN NaN NaN RAND ADDVALUE %> FOR\n",
    "  NEWGTS 'stringTS' RENAME 5 8 <% h NaN NaN NaN 'a string' ADDVALUE %> FOR ]\n",
    "false\n",
    "@ListGTStoPickledDict  # use instead '@./ListGTStoPickledDict' if ListGTStoPickledDict.mc2 is in the macros folder"
   ]
  },
  {
   "cell_type": "markdown",
   "metadata": {},
   "source": [
    "Contrary to our first example with a single GTS, the following cell will raise<br/>\n",
    "an error if a GTS of the list has a timestamp with multiple values."
   ]
  },
  {
   "cell_type": "code",
   "execution_count": 17,
   "metadata": {},
   "outputs": [
    {
     "data": {
      "text/html": [
       "<div>\n",
       "<style scoped>\n",
       "    .dataframe tbody tr th:only-of-type {\n",
       "        vertical-align: middle;\n",
       "    }\n",
       "\n",
       "    .dataframe tbody tr th {\n",
       "        vertical-align: top;\n",
       "    }\n",
       "\n",
       "    .dataframe thead th {\n",
       "        text-align: right;\n",
       "    }\n",
       "</style>\n",
       "<table border=\"1\" class=\"dataframe\">\n",
       "  <thead>\n",
       "    <tr style=\"text-align: right;\">\n",
       "      <th></th>\n",
       "      <th>timestamps</th>\n",
       "      <th>randGTS.lat</th>\n",
       "      <th>randGTS.lon</th>\n",
       "      <th>randGTS</th>\n",
       "      <th>randTS</th>\n",
       "      <th>stringTS</th>\n",
       "    </tr>\n",
       "  </thead>\n",
       "  <tbody>\n",
       "    <tr>\n",
       "      <th>0</th>\n",
       "      <td>3600000000</td>\n",
       "      <td>0.313829</td>\n",
       "      <td>0.817737</td>\n",
       "      <td>0.042048</td>\n",
       "      <td>NaN</td>\n",
       "      <td>NaN</td>\n",
       "    </tr>\n",
       "    <tr>\n",
       "      <th>1</th>\n",
       "      <td>7200000000</td>\n",
       "      <td>0.608339</td>\n",
       "      <td>0.767284</td>\n",
       "      <td>0.952119</td>\n",
       "      <td>0.416859</td>\n",
       "      <td>NaN</td>\n",
       "    </tr>\n",
       "    <tr>\n",
       "      <th>2</th>\n",
       "      <td>10800000000</td>\n",
       "      <td>0.516115</td>\n",
       "      <td>0.995958</td>\n",
       "      <td>0.009335</td>\n",
       "      <td>0.094262</td>\n",
       "      <td>NaN</td>\n",
       "    </tr>\n",
       "    <tr>\n",
       "      <th>3</th>\n",
       "      <td>14400000000</td>\n",
       "      <td>0.128299</td>\n",
       "      <td>0.296530</td>\n",
       "      <td>0.152992</td>\n",
       "      <td>0.180889</td>\n",
       "      <td>NaN</td>\n",
       "    </tr>\n",
       "    <tr>\n",
       "      <th>4</th>\n",
       "      <td>18000000000</td>\n",
       "      <td>0.320892</td>\n",
       "      <td>0.984097</td>\n",
       "      <td>0.417149</td>\n",
       "      <td>0.638130</td>\n",
       "      <td>a string</td>\n",
       "    </tr>\n",
       "    <tr>\n",
       "      <th>5</th>\n",
       "      <td>21600000000</td>\n",
       "      <td>0.316918</td>\n",
       "      <td>0.295446</td>\n",
       "      <td>0.141646</td>\n",
       "      <td>0.766729</td>\n",
       "      <td>a string</td>\n",
       "    </tr>\n",
       "    <tr>\n",
       "      <th>6</th>\n",
       "      <td>25200000000</td>\n",
       "      <td>0.635765</td>\n",
       "      <td>0.871493</td>\n",
       "      <td>0.955917</td>\n",
       "      <td>0.505213</td>\n",
       "      <td>a string</td>\n",
       "    </tr>\n",
       "    <tr>\n",
       "      <th>7</th>\n",
       "      <td>28800000000</td>\n",
       "      <td>0.777632</td>\n",
       "      <td>0.149728</td>\n",
       "      <td>0.872746</td>\n",
       "      <td>0.490997</td>\n",
       "      <td>a string</td>\n",
       "    </tr>\n",
       "    <tr>\n",
       "      <th>8</th>\n",
       "      <td>32400000000</td>\n",
       "      <td>0.456215</td>\n",
       "      <td>0.668478</td>\n",
       "      <td>0.650703</td>\n",
       "      <td>0.324468</td>\n",
       "      <td>NaN</td>\n",
       "    </tr>\n",
       "    <tr>\n",
       "      <th>9</th>\n",
       "      <td>36000000000</td>\n",
       "      <td>0.578879</td>\n",
       "      <td>0.556536</td>\n",
       "      <td>0.327971</td>\n",
       "      <td>0.523338</td>\n",
       "      <td>NaN</td>\n",
       "    </tr>\n",
       "    <tr>\n",
       "      <th>10</th>\n",
       "      <td>39600000000</td>\n",
       "      <td>NaN</td>\n",
       "      <td>NaN</td>\n",
       "      <td>NaN</td>\n",
       "      <td>0.449479</td>\n",
       "      <td>NaN</td>\n",
       "    </tr>\n",
       "  </tbody>\n",
       "</table>\n",
       "</div>"
      ],
      "text/plain": [
       "     timestamps  randGTS.lat  randGTS.lon   randGTS    randTS  stringTS\n",
       "0    3600000000     0.313829     0.817737  0.042048       NaN       NaN\n",
       "1    7200000000     0.608339     0.767284  0.952119  0.416859       NaN\n",
       "2   10800000000     0.516115     0.995958  0.009335  0.094262       NaN\n",
       "3   14400000000     0.128299     0.296530  0.152992  0.180889       NaN\n",
       "4   18000000000     0.320892     0.984097  0.417149  0.638130  a string\n",
       "5   21600000000     0.316918     0.295446  0.141646  0.766729  a string\n",
       "6   25200000000     0.635765     0.871493  0.955917  0.505213  a string\n",
       "7   28800000000     0.777632     0.149728  0.872746  0.490997  a string\n",
       "8   32400000000     0.456215     0.668478  0.650703  0.324468       NaN\n",
       "9   36000000000     0.578879     0.556536  0.327971  0.523338       NaN\n",
       "10  39600000000          NaN          NaN       NaN  0.449479       NaN"
      ]
     },
     "execution_count": 17,
     "metadata": {},
     "output_type": "execute_result"
    }
   ],
   "source": [
    "listGts = s.pop()\n",
    "df4 = pd.DataFrame.from_dict(pkl.loads(listGts))\n",
    "df4"
   ]
  }
 ],
 "metadata": {
  "kernelspec": {
   "display_name": "Python 3",
   "language": "python",
   "name": "python3"
  },
  "language_info": {
   "codemirror_mode": {
    "name": "ipython",
    "version": 3
   },
   "file_extension": ".py",
   "mimetype": "text/x-python",
   "name": "python",
   "nbconvert_exporter": "python",
   "pygments_lexer": "ipython3",
   "version": "3.6.8"
  },
  "toc": {
   "base_numbering": 1,
   "nav_menu": {},
   "number_sections": false,
   "sideBar": false,
   "skip_h1_title": false,
   "title_cell": "Table of Contents",
   "title_sidebar": "Contents",
   "toc_cell": false,
   "toc_position": {},
   "toc_section_display": false,
   "toc_window_display": false
  }
 },
 "nbformat": 4,
 "nbformat_minor": 2
}
