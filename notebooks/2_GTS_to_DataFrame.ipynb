{
 "cells": [
  {
   "cell_type": "markdown",
   "metadata": {},
   "source": [
    "### This notebook shows how to make a Pandas DataFrame from WarpScript GTS"
   ]
  },
  {
   "cell_type": "markdown",
   "metadata": {},
   "source": [
    "### 1. From a single GTS to a DataFrame"
   ]
  },
  {
   "cell_type": "code",
   "execution_count": 1,
   "metadata": {},
   "outputs": [
    {
     "name": "stdout",
     "output_type": "stream",
     "text": [
      "Created `%w` as an alias for `%warpscript`.\n",
      "Created `%%w` as an alias for `%%warpscript`.\n"
     ]
    }
   ],
   "source": [
    "%load_ext warpscript\n",
    "%alias_magic w warpscript"
   ]
  },
  {
   "cell_type": "markdown",
   "metadata": {},
   "source": [
    "We will need pandas and pickle libraries."
   ]
  },
  {
   "cell_type": "code",
   "execution_count": 2,
   "metadata": {},
   "outputs": [],
   "source": [
    "from __future__ import print_function\n",
    "import pandas as pd\n",
    "import pickle as pkl"
   ]
  },
  {
   "cell_type": "markdown",
   "metadata": {},
   "source": [
    "We first create a random GTS."
   ]
  },
  {
   "cell_type": "code",
   "execution_count": 3,
   "metadata": {},
   "outputs": [
    {
     "name": "stdout",
     "output_type": "stream",
     "text": [
      "Local gateway launched on port 33909\n",
      "Creating a new WarpScript stack accessible under variable \"s\".\n"
     ]
    },
    {
     "data": {
      "text/plain": [
       "top: \trandGTS{}<DOUBLE, 10 values>"
      ]
     },
     "execution_count": 3,
     "metadata": {},
     "output_type": "execute_result"
    }
   ],
   "source": [
    "%%w -s s -l\n",
    "NEWGTS 'randGTS' RENAME 1 10 <% h RAND RAND NaN RAND ADDVALUE %> FOR"
   ]
  },
  {
   "cell_type": "markdown",
   "metadata": {},
   "source": [
    "In order to make a GTS understood by a python interpreter, we store its content in a map of lists and pickle it as a dict.<br/>\n",
    "The macro `GTStoPickledDict` does this. To load it, you can place the file `macros/GTStoPickledDict.mc2`<br/>\n",
    "in the macros folder of the Warp 10 platform you are sending requests to, or you can execute the following cell."
   ]
  },
  {
   "cell_type": "code",
   "execution_count": 4,
   "metadata": {},
   "outputs": [
    {
     "data": {
      "text/plain": [
       "top: \trandGTS{}<DOUBLE, 10 values>"
      ]
     },
     "execution_count": 4,
     "metadata": {},
     "output_type": "execute_result"
    }
   ],
   "source": [
    "%%w -s s\n",
    "<%\n",
    "    # Documenting the macro\n",
    "    'GTS BOOLEAN @GTStoPickledDict, more doc in macros/GTStoPickledDict.mc2' DOC\n",
    "\n",
    "    # Check there is two arguments on the stack\n",
    "    <% DEPTH 2 < %> <% 'Macro takes two arguments' MSGFAIL %> IFT\n",
    "        \n",
    "    # Check that top is a boolean indicating whether to use GTS classname or selector\n",
    "    <% 1 PICK TYPEOF 'BOOLEAN' != %> <% 'First argument must be a boolean indicating whether to use GTS selector (true) or classname (false)' MSGFAIL %> IFT\n",
    "    \n",
    "    # Check that second argument is a GTS\n",
    "    <% 2 PICK TYPEOF 'GTS' != %> <% 'Second argument must be a GTS' MSGFAIL %> IFT\n",
    "    \n",
    "    # Store the arguments\n",
    "    'withSelector' STORE\n",
    "    'gts' STORE\n",
    "    \n",
    "    # Make name\n",
    "    $gts <% $withSelector %> <% TOSELECTOR %> <% NAME %> IFTE\n",
    "    'name' STORE\n",
    "    \n",
    "    # macro: check not all NaN (for locations and elevations)\n",
    "    <% UNIQUE DUP SIZE 1 == SWAP 0 GET ISNaN && %> 'isAllNaN' STORE\n",
    "        \n",
    "    # Return pickled dict for pandas\n",
    "    {\n",
    "        # ticks\n",
    "        'timestamps' $gts TICKLIST\n",
    "        \n",
    "        # locations\n",
    "        $gts LOCATIONS 'lon' STORE 'lat' STORE\n",
    "        <% $lat @isAllNaN ! %> <% $name '.lat' + $lat %> IFT\n",
    "        <% $lon @isAllNaN ! %> <% $name '.lon' + $lon %> IFT\n",
    "        \n",
    "        # elevations\n",
    "        $gts ELEVATIONS 'elev' STORE\n",
    "        <% $elev @isAllNaN ! %> <% $name '.elev' + $elev %> IFT\n",
    "        \n",
    "        # values        \n",
    "        $name $gts VALUES\n",
    "    }\n",
    "    ->PICKLE\n",
    "%>\n",
    "'GTStoPickledDict' STORE"
   ]
  },
  {
   "cell_type": "markdown",
   "metadata": {},
   "source": [
    "We evaluate the macro on the random GTS that was left on the stack.<br/>\n",
    "Setting the first argument to false means we drop its labels for its pickled representation."
   ]
  },
  {
   "cell_type": "code",
   "execution_count": 5,
   "metadata": {},
   "outputs": [
    {
     "data": {
      "text/plain": [
       "top: \tb'\\x80\\x02}q\\x00(X\\n\\x00\\x00\\x00timestampsq\\x01]q\\x02(I3600000000\\nI7200000000\\nI10800000000\\nI14400000000\\nI18000000000\\nI21600000000\\nI25200000000\\nI28800000000\\nI32400000000\\nI36000000000\\neX\\x0b\\x00\\x00\\x00randGTS.latq\\x03]q\\x04(G?\\xc7\\xe0\\\\B\\x00\\x00\\x00G?\\xa7\\x99k\\x98\\x00\\x00\\x00G?\\xe3\\x15\\xbb\\xaa\\x80\\x00\\x00G?\\xee(r\\x8a\\x80\\x00\\x00G?\\xeb%k[\\x80\\x00\\x00G?\\xb5\\x96,(\\x00\\x00\\x00G?\\xd3\\xeb\\xf5\\xec\\x00\\x00\\x00G?\\xb6\\xe8\\x99\\xd0\\x00\\x00\\x00G?\\xed>\\xa4\\xac\\x80\\x00\\x00G?\\xc6\\x1e\\xf5\\x8a\\x00\\x00\\x00eX\\x0b\\x00\\x00\\x00randGTS.lonq\\x05]q\\x06(G?\\xd5\\x02\\xeb\\xde\\x00\\x00\\x00G?\\xc1\\xaa\\xcc\\xa4\\x00\\x00\\x00G?\\xd1\\xd1u\\xd4\\x00\\x00\\x00G?\\xe1\\x12\\xde\\x94\\x00\\x00\\x00G?\\xd7K\\xa7P\\x00\\x00\\x00G?\\xe5\\xe2\\xf8i\\x00\\x00\\x00G?\\xe2k\\x1aJ\\x00\\x00\\x00G?\\xbf\\x9f\\xfe\\xd8\\x00\\x00\\x00G?\\xe0s\\xd0\\xf6\\x00\\x00\\x00G?\\xc9\\x15N8\\x00\\x00\\x00eX\\x07\\x00\\x00\\x00randGTSq\\x07]q\\x08(G?\\xb1\\x96\\xf8\\x01\\x82\\xf6\\x90G?\\xec\\x8a\\x91\\xd4*+wG?\\xe5\\xfdy;U\\xab\\xc3G?\\xeb\\xac\\x85g.\\x8d\\xa5G?\\xec\\xe0\\xed\\xa7\\xf3\\x9d)G?\\xd7\\xdfzI\\x8c\\x83xG?\\xec6\\x17\\xc8-0\\xf6G?\\xe9\\x99\\xbe1$i\\xbcG?\\xd82\\x17)\\xe6y\\xfeG?\\xd9\\xafwX\\xe6E\\neu.'"
      ]
     },
     "execution_count": 5,
     "metadata": {},
     "output_type": "execute_result"
    }
   ],
   "source": [
    "%%w -s s\n",
    "false\n",
    "@GTStoPickledDict # use instead '@./GTStoPickledDict' if GTStoPickledDict.mc2 is in the macros folder"
   ]
  },
  {
   "cell_type": "markdown",
   "metadata": {},
   "source": [
    "We then load the dict from its pickled representation and create a pandas dataframe with it."
   ]
  },
  {
   "cell_type": "code",
   "execution_count": 6,
   "metadata": {},
   "outputs": [
    {
     "data": {
      "text/html": [
       "<div>\n",
       "<style scoped>\n",
       "    .dataframe tbody tr th:only-of-type {\n",
       "        vertical-align: middle;\n",
       "    }\n",
       "\n",
       "    .dataframe tbody tr th {\n",
       "        vertical-align: top;\n",
       "    }\n",
       "\n",
       "    .dataframe thead th {\n",
       "        text-align: right;\n",
       "    }\n",
       "</style>\n",
       "<table border=\"1\" class=\"dataframe\">\n",
       "  <thead>\n",
       "    <tr style=\"text-align: right;\">\n",
       "      <th></th>\n",
       "      <th>timestamps</th>\n",
       "      <th>randGTS.lat</th>\n",
       "      <th>randGTS.lon</th>\n",
       "      <th>randGTS</th>\n",
       "    </tr>\n",
       "  </thead>\n",
       "  <tbody>\n",
       "    <tr>\n",
       "      <th>0</th>\n",
       "      <td>3600000000</td>\n",
       "      <td>0.186534</td>\n",
       "      <td>0.328303</td>\n",
       "      <td>0.068710</td>\n",
       "    </tr>\n",
       "    <tr>\n",
       "      <th>1</th>\n",
       "      <td>7200000000</td>\n",
       "      <td>0.046092</td>\n",
       "      <td>0.138025</td>\n",
       "      <td>0.891915</td>\n",
       "    </tr>\n",
       "    <tr>\n",
       "      <th>2</th>\n",
       "      <td>10800000000</td>\n",
       "      <td>0.596403</td>\n",
       "      <td>0.278409</td>\n",
       "      <td>0.687192</td>\n",
       "    </tr>\n",
       "    <tr>\n",
       "      <th>3</th>\n",
       "      <td>14400000000</td>\n",
       "      <td>0.942437</td>\n",
       "      <td>0.533553</td>\n",
       "      <td>0.864810</td>\n",
       "    </tr>\n",
       "    <tr>\n",
       "      <th>4</th>\n",
       "      <td>18000000000</td>\n",
       "      <td>0.848318</td>\n",
       "      <td>0.363993</td>\n",
       "      <td>0.902457</td>\n",
       "    </tr>\n",
       "    <tr>\n",
       "      <th>5</th>\n",
       "      <td>21600000000</td>\n",
       "      <td>0.084323</td>\n",
       "      <td>0.683956</td>\n",
       "      <td>0.373015</td>\n",
       "    </tr>\n",
       "    <tr>\n",
       "      <th>6</th>\n",
       "      <td>25200000000</td>\n",
       "      <td>0.311277</td>\n",
       "      <td>0.575574</td>\n",
       "      <td>0.881603</td>\n",
       "    </tr>\n",
       "    <tr>\n",
       "      <th>7</th>\n",
       "      <td>28800000000</td>\n",
       "      <td>0.089487</td>\n",
       "      <td>0.123535</td>\n",
       "      <td>0.800017</td>\n",
       "    </tr>\n",
       "    <tr>\n",
       "      <th>8</th>\n",
       "      <td>32400000000</td>\n",
       "      <td>0.913897</td>\n",
       "      <td>0.514138</td>\n",
       "      <td>0.378057</td>\n",
       "    </tr>\n",
       "    <tr>\n",
       "      <th>9</th>\n",
       "      <td>36000000000</td>\n",
       "      <td>0.172820</td>\n",
       "      <td>0.195963</td>\n",
       "      <td>0.401335</td>\n",
       "    </tr>\n",
       "  </tbody>\n",
       "</table>\n",
       "</div>"
      ],
      "text/plain": [
       "    timestamps  randGTS.lat  randGTS.lon   randGTS\n",
       "0   3600000000     0.186534     0.328303  0.068710\n",
       "1   7200000000     0.046092     0.138025  0.891915\n",
       "2  10800000000     0.596403     0.278409  0.687192\n",
       "3  14400000000     0.942437     0.533553  0.864810\n",
       "4  18000000000     0.848318     0.363993  0.902457\n",
       "5  21600000000     0.084323     0.683956  0.373015\n",
       "6  25200000000     0.311277     0.575574  0.881603\n",
       "7  28800000000     0.089487     0.123535  0.800017\n",
       "8  32400000000     0.913897     0.514138  0.378057\n",
       "9  36000000000     0.172820     0.195963  0.401335"
      ]
     },
     "execution_count": 6,
     "metadata": {},
     "output_type": "execute_result"
    }
   ],
   "source": [
    "gts1 = s.pop()\n",
    "df1 = pd.DataFrame.from_dict(pkl.loads(gts1))\n",
    "df1"
   ]
  },
  {
   "cell_type": "markdown",
   "metadata": {},
   "source": [
    "In the following example, we choose to keep label information."
   ]
  },
  {
   "cell_type": "code",
   "execution_count": 7,
   "metadata": {},
   "outputs": [
    {
     "data": {
      "text/plain": [
       "top: \tb'\\x80\\x02}q\\x00(X\\n\\x00\\x00\\x00timestampsq\\x01]q\\x02(I3600000000\\nI7200000000\\nI10800000000\\nI14400000000\\nI18000000000\\nI21600000000\\nI25200000000\\nI28800000000\\nI32400000000\\nI36000000000\\neX\"\\x00\\x00\\x00randGTS{key1=info1,key2=info2}.latq\\x03]q\\x04(G?\\xa8lE\\x18\\x00\\x00\\x00G?\\xe8\\xa5d)\\x00\\x00\\x00G?\\xe9{S\\xe2\\x80\\x00\\x00G?\\xae\\xf4\\x90\\x98\\x00\\x00\\x00G?\\xe3\\xfe\\xa3,\\x00\\x00\\x00G?\\xd2\\xa3\"\\x91\\x00\\x00\\x00G?\\xd2\\x1b\\xab\\xbd\\x00\\x00\\x00G?\\xe7)\\x94\\xb2\\x00\\x00\\x00G?\\xedFbX\\x00\\x00\\x00G?\\xc9\\xf4\\x84|\\x00\\x00\\x00eX\"\\x00\\x00\\x00randGTS{key1=info1,key2=info2}.lonq\\x05]q\\x06(G?\\xe2\\xa3Vl\\x00\\x00\\x00G?\\xd5@\\xbf\\x90\\x00\\x00\\x00G?\\x9b\\\\\\x88\\x00\\x00\\x00\\x00G?\\xda\\xdc\\xc8@\\x00\\x00\\x00G?\\xeb\\xe5u\\xc5\\x00\\x00\\x00G?\\xefiI\\x1f\\x00\\x00\\x00G?\\xecgU\\x90\\x00\\x00\\x00G?\\xde\\xc99H\\x00\\x00\\x00G?\\xba!`\\xa0\\x00\\x00\\x00G?\\xc6\\x9e\\x0eL\\x00\\x00\\x00eX\\x1e\\x00\\x00\\x00randGTS{key1=info1,key2=info2}q\\x07]q\\x08(G?\\xef\\x18\\x92R\\xcc\\x8e\\x1eG?\\xd6\\xb5\\xce\\xea\\x1c\\xe1\\xc0G?\\xd7\\x95I\\xdc\\xbb\\xd9\\x9cG?\\xe3\\x8d*\\x85\\xa9\\x0f\\xf1G?\\xedO\\xb8\\xb9\\x1b\\trG?\\xe2;H\\x18\\xdd\\x81\\xc0G?\\xe5\\x1e \\xfc8\\xecwG?\\xdd|\\x9c\\xd3QFnG?\\xeb\\x98\\x10\\x02\\xc8\\x080G?BU\\xe3T\\x9a$\\x00eu.'"
      ]
     },
     "execution_count": 7,
     "metadata": {},
     "output_type": "execute_result"
    }
   ],
   "source": [
    "%%w -s s\n",
    "NEWGTS 'randGTS' RENAME 1 10 <% h RAND RAND NaN RAND ADDVALUE %> FOR\n",
    "{ 'key1' 'info1' 'key2' 'info2' } RELABEL\n",
    "true\n",
    "@GTStoPickledDict # use instead '@./GTStoPickledDict' if GTStoPickledDict.mc2 is in the macros folder"
   ]
  },
  {
   "cell_type": "code",
   "execution_count": 8,
   "metadata": {},
   "outputs": [
    {
     "data": {
      "text/html": [
       "<div>\n",
       "<style scoped>\n",
       "    .dataframe tbody tr th:only-of-type {\n",
       "        vertical-align: middle;\n",
       "    }\n",
       "\n",
       "    .dataframe tbody tr th {\n",
       "        vertical-align: top;\n",
       "    }\n",
       "\n",
       "    .dataframe thead th {\n",
       "        text-align: right;\n",
       "    }\n",
       "</style>\n",
       "<table border=\"1\" class=\"dataframe\">\n",
       "  <thead>\n",
       "    <tr style=\"text-align: right;\">\n",
       "      <th></th>\n",
       "      <th>timestamps</th>\n",
       "      <th>randGTS{key1=info1,key2=info2}.lat</th>\n",
       "      <th>randGTS{key1=info1,key2=info2}.lon</th>\n",
       "      <th>randGTS{key1=info1,key2=info2}</th>\n",
       "    </tr>\n",
       "  </thead>\n",
       "  <tbody>\n",
       "    <tr>\n",
       "      <th>0</th>\n",
       "      <td>3600000000</td>\n",
       "      <td>0.047701</td>\n",
       "      <td>0.582439</td>\n",
       "      <td>0.971749</td>\n",
       "    </tr>\n",
       "    <tr>\n",
       "      <th>1</th>\n",
       "      <td>7200000000</td>\n",
       "      <td>0.770189</td>\n",
       "      <td>0.332077</td>\n",
       "      <td>0.354847</td>\n",
       "    </tr>\n",
       "    <tr>\n",
       "      <th>2</th>\n",
       "      <td>10800000000</td>\n",
       "      <td>0.796305</td>\n",
       "      <td>0.026720</td>\n",
       "      <td>0.368487</td>\n",
       "    </tr>\n",
       "    <tr>\n",
       "      <th>3</th>\n",
       "      <td>14400000000</td>\n",
       "      <td>0.060460</td>\n",
       "      <td>0.419725</td>\n",
       "      <td>0.610982</td>\n",
       "    </tr>\n",
       "    <tr>\n",
       "      <th>4</th>\n",
       "      <td>18000000000</td>\n",
       "      <td>0.624834</td>\n",
       "      <td>0.871760</td>\n",
       "      <td>0.915982</td>\n",
       "    </tr>\n",
       "    <tr>\n",
       "      <th>5</th>\n",
       "      <td>21600000000</td>\n",
       "      <td>0.291207</td>\n",
       "      <td>0.981602</td>\n",
       "      <td>0.569737</td>\n",
       "    </tr>\n",
       "    <tr>\n",
       "      <th>6</th>\n",
       "      <td>25200000000</td>\n",
       "      <td>0.282939</td>\n",
       "      <td>0.887614</td>\n",
       "      <td>0.659928</td>\n",
       "    </tr>\n",
       "    <tr>\n",
       "      <th>7</th>\n",
       "      <td>28800000000</td>\n",
       "      <td>0.723826</td>\n",
       "      <td>0.481032</td>\n",
       "      <td>0.460731</td>\n",
       "    </tr>\n",
       "    <tr>\n",
       "      <th>8</th>\n",
       "      <td>32400000000</td>\n",
       "      <td>0.914842</td>\n",
       "      <td>0.102072</td>\n",
       "      <td>0.862312</td>\n",
       "    </tr>\n",
       "    <tr>\n",
       "      <th>9</th>\n",
       "      <td>36000000000</td>\n",
       "      <td>0.202775</td>\n",
       "      <td>0.176698</td>\n",
       "      <td>0.000560</td>\n",
       "    </tr>\n",
       "  </tbody>\n",
       "</table>\n",
       "</div>"
      ],
      "text/plain": [
       "    timestamps  randGTS{key1=info1,key2=info2}.lat  \\\n",
       "0   3600000000                            0.047701   \n",
       "1   7200000000                            0.770189   \n",
       "2  10800000000                            0.796305   \n",
       "3  14400000000                            0.060460   \n",
       "4  18000000000                            0.624834   \n",
       "5  21600000000                            0.291207   \n",
       "6  25200000000                            0.282939   \n",
       "7  28800000000                            0.723826   \n",
       "8  32400000000                            0.914842   \n",
       "9  36000000000                            0.202775   \n",
       "\n",
       "   randGTS{key1=info1,key2=info2}.lon  randGTS{key1=info1,key2=info2}  \n",
       "0                            0.582439                        0.971749  \n",
       "1                            0.332077                        0.354847  \n",
       "2                            0.026720                        0.368487  \n",
       "3                            0.419725                        0.610982  \n",
       "4                            0.871760                        0.915982  \n",
       "5                            0.981602                        0.569737  \n",
       "6                            0.887614                        0.659928  \n",
       "7                            0.481032                        0.460731  \n",
       "8                            0.102072                        0.862312  \n",
       "9                            0.176698                        0.000560  "
      ]
     },
     "execution_count": 8,
     "metadata": {},
     "output_type": "execute_result"
    }
   ],
   "source": [
    "gts2 = s.pop()\n",
    "df2 = pd.DataFrame.from_dict(pkl.loads(gts2))\n",
    "df2"
   ]
  },
  {
   "cell_type": "markdown",
   "metadata": {},
   "source": [
    "We can also not use geo information."
   ]
  },
  {
   "cell_type": "code",
   "execution_count": 9,
   "metadata": {},
   "outputs": [
    {
     "data": {
      "text/plain": [
       "top: \tb'\\x80\\x02}q\\x00(X\\n\\x00\\x00\\x00timestampsq\\x01]q\\x02(I7200000000\\nI10800000000\\nI14400000000\\nI18000000000\\nI21600000000\\nI25200000000\\nI28800000000\\nI32400000000\\nI36000000000\\nI39600000000\\neX\\x06\\x00\\x00\\x00randTSq\\x03]q\\x04(G?\\xec5\\xe2\\x97)D[G?\\xdaf\\x1c\\x0b=\\x00^G?\\xef\\xcc\\xd5\\xd5\\xde\\xa09G?\\xd5\\xdc\\x02.\\xf9\\x82`G?\\xef\\xbc\\xd4\\xed\"|JG?\\xea{\\x93\\xb5|E\\xd1G?\\xe2$r\\xf7Ao\\nG?\\xe2\\x11\\xa0\\xf0\\xd3\\xe7\\xb0G?\\xc2\\x1b\\xaa\\x81?\\x12\\xb4G?\\xe07Wx\\xb5\\xadJeu.'"
      ]
     },
     "execution_count": 9,
     "metadata": {},
     "output_type": "execute_result"
    }
   ],
   "source": [
    "%%w -s s\n",
    "NEWGTS 'randTS' RENAME 2 11 <% h NaN NaN NaN RAND ADDVALUE %> FOR\n",
    "false\n",
    "@GTStoPickledDict # use instead '@./GTStoPickledDict' if GTStoPickledDict.mc2 is in the macros folder"
   ]
  },
  {
   "cell_type": "code",
   "execution_count": 10,
   "metadata": {},
   "outputs": [
    {
     "data": {
      "text/html": [
       "<div>\n",
       "<style scoped>\n",
       "    .dataframe tbody tr th:only-of-type {\n",
       "        vertical-align: middle;\n",
       "    }\n",
       "\n",
       "    .dataframe tbody tr th {\n",
       "        vertical-align: top;\n",
       "    }\n",
       "\n",
       "    .dataframe thead th {\n",
       "        text-align: right;\n",
       "    }\n",
       "</style>\n",
       "<table border=\"1\" class=\"dataframe\">\n",
       "  <thead>\n",
       "    <tr style=\"text-align: right;\">\n",
       "      <th></th>\n",
       "      <th>timestamps</th>\n",
       "      <th>randTS</th>\n",
       "    </tr>\n",
       "  </thead>\n",
       "  <tbody>\n",
       "    <tr>\n",
       "      <th>0</th>\n",
       "      <td>7200000000</td>\n",
       "      <td>0.881578</td>\n",
       "    </tr>\n",
       "    <tr>\n",
       "      <th>1</th>\n",
       "      <td>10800000000</td>\n",
       "      <td>0.412482</td>\n",
       "    </tr>\n",
       "    <tr>\n",
       "      <th>2</th>\n",
       "      <td>14400000000</td>\n",
       "      <td>0.993754</td>\n",
       "    </tr>\n",
       "    <tr>\n",
       "      <th>3</th>\n",
       "      <td>18000000000</td>\n",
       "      <td>0.341553</td>\n",
       "    </tr>\n",
       "    <tr>\n",
       "      <th>4</th>\n",
       "      <td>21600000000</td>\n",
       "      <td>0.991801</td>\n",
       "    </tr>\n",
       "    <tr>\n",
       "      <th>5</th>\n",
       "      <td>25200000000</td>\n",
       "      <td>0.827585</td>\n",
       "    </tr>\n",
       "    <tr>\n",
       "      <th>6</th>\n",
       "      <td>28800000000</td>\n",
       "      <td>0.566949</td>\n",
       "    </tr>\n",
       "    <tr>\n",
       "      <th>7</th>\n",
       "      <td>32400000000</td>\n",
       "      <td>0.564652</td>\n",
       "    </tr>\n",
       "    <tr>\n",
       "      <th>8</th>\n",
       "      <td>36000000000</td>\n",
       "      <td>0.141469</td>\n",
       "    </tr>\n",
       "    <tr>\n",
       "      <th>9</th>\n",
       "      <td>39600000000</td>\n",
       "      <td>0.506756</td>\n",
       "    </tr>\n",
       "  </tbody>\n",
       "</table>\n",
       "</div>"
      ],
      "text/plain": [
       "    timestamps    randTS\n",
       "0   7200000000  0.881578\n",
       "1  10800000000  0.412482\n",
       "2  14400000000  0.993754\n",
       "3  18000000000  0.341553\n",
       "4  21600000000  0.991801\n",
       "5  25200000000  0.827585\n",
       "6  28800000000  0.566949\n",
       "7  32400000000  0.564652\n",
       "8  36000000000  0.141469\n",
       "9  39600000000  0.506756"
      ]
     },
     "execution_count": 10,
     "metadata": {},
     "output_type": "execute_result"
    }
   ],
   "source": [
    "gts3 = s.pop()\n",
    "df3 = pd.DataFrame.from_dict(pkl.loads(gts3))\n",
    "df3"
   ]
  },
  {
   "cell_type": "markdown",
   "metadata": {},
   "source": [
    "### 2. Revert a DataFrame to a GTS"
   ]
  },
  {
   "cell_type": "markdown",
   "metadata": {},
   "source": [
    "To revert a DataFrame to a GTS, we first need to convert the DataFrame into a dict."
   ]
  },
  {
   "cell_type": "code",
   "execution_count": 11,
   "metadata": {},
   "outputs": [
    {
     "data": {
      "text/plain": [
       "{'timestamps': [3600000000,\n",
       "  7200000000,\n",
       "  10800000000,\n",
       "  14400000000,\n",
       "  18000000000,\n",
       "  21600000000,\n",
       "  25200000000,\n",
       "  28800000000,\n",
       "  32400000000,\n",
       "  36000000000],\n",
       " 'randGTS.lat': [0.18653443548828363,\n",
       "  0.04609237890690565,\n",
       "  0.5964029626920819,\n",
       "  0.9424374299123883,\n",
       "  0.8483177935704589,\n",
       "  0.08432270027697086,\n",
       "  0.3112768940627575,\n",
       "  0.08948670700192451,\n",
       "  0.9138968819752336,\n",
       "  0.1728197978809476],\n",
       " 'randGTS.lon': [0.32830330543220043,\n",
       "  0.13802488334476948,\n",
       "  0.2784094400703907,\n",
       "  0.5335533991456032,\n",
       "  0.36399252712726593,\n",
       "  0.683956341817975,\n",
       "  0.5755740590393543,\n",
       "  0.12353508733212948,\n",
       "  0.514137726277113,\n",
       "  0.19596269354224205],\n",
       " 'randGTS': [0.06870985066322022,\n",
       "  0.8919152397005367,\n",
       "  0.6871915968780445,\n",
       "  0.8648097052832112,\n",
       "  0.9024570732407585,\n",
       "  0.37301499540813365,\n",
       "  0.8816031369874782,\n",
       "  0.8000174484071105,\n",
       "  0.37805728046251363,\n",
       "  0.4013346069487659]}"
      ]
     },
     "execution_count": 11,
     "metadata": {},
     "output_type": "execute_result"
    }
   ],
   "source": [
    "gts1b = df1.to_dict('list')\n",
    "gts1b"
   ]
  },
  {
   "cell_type": "markdown",
   "metadata": {},
   "source": [
    "We can push this dict directly onto the stack, since it will be automatically converted in the JVM."
   ]
  },
  {
   "cell_type": "code",
   "execution_count": 12,
   "metadata": {},
   "outputs": [
    {
     "data": {
      "text/plain": [
       "top: \t{'randGTS.lat': [0.18653443548828363, 0.04609237890690565, 0.5964029626920819, 0.9424374299123883, 0.8483177935704589, 0.08432270027697086, 0.3112768940627575, 0.08948670700192451, 0.9138968819752336, 0.1728197978809476], 'timestamps': [3600000000, 7200000000, 10800000000, 14400000000, 18000000000, 21600000000, 25200000000, 28800000000, 32400000000, 36000000000], 'randGTS': [0.06870985066322022, 0.8919152397005367, 0.6871915968780445, 0.8648097052832112, 0.9024570732407585, 0.37301499540813365, 0.8816031369874782, 0.8000174484071105, 0.37805728046251363, 0.4013346069487659], 'randGTS.lon': [0.32830330543220043, 0.13802488334476948, 0.2784094400703907, 0.5335533991456032, 0.36399252712726593, 0.683956341817975, 0.5755740590393543, 0.12353508733212948, 0.514137726277113, 0.19596269354224205]}"
      ]
     },
     "execution_count": 12,
     "metadata": {},
     "output_type": "execute_result"
    }
   ],
   "source": [
    "s.push(gts1b)\n",
    "s"
   ]
  },
  {
   "cell_type": "markdown",
   "metadata": {},
   "source": [
    "Now we can use the lists contained in this map to populate a GTS."
   ]
  },
  {
   "cell_type": "code",
   "execution_count": 13,
   "metadata": {},
   "outputs": [
    {
     "data": {
      "text/plain": [
       "top: \trandGTS{}<DOUBLE, 10 values>"
      ]
     },
     "execution_count": 13,
     "metadata": {},
     "output_type": "execute_result"
    }
   ],
   "source": [
    "%%w -s s\n",
    "'dict' STORE\n",
    "$dict 'timestamps' GET\n",
    "$dict 'randGTS.lat' GET\n",
    "$dict 'randGTS.lon' GET\n",
    "[] // no elevation\n",
    "$dict 'randGTS' GET\n",
    "MAKEGTS 'randGTS' RENAME"
   ]
  },
  {
   "cell_type": "code",
   "execution_count": 14,
   "metadata": {},
   "outputs": [
    {
     "name": "stdout",
     "output_type": "stream",
     "text": [
      "randGTS{}\n",
      "=3600000000/0.18653443548828363:0.32830330543220043/ 0.06870985066322022\n",
      "=7200000000/0.04609237890690565:0.13802488334476948/ 0.8919152397005367\n",
      "=10800000000/0.5964029626920819:0.2784094400703907/ 0.6871915968780445\n",
      "=14400000000/0.9424374299123883:0.5335533991456032/ 0.8648097052832112\n",
      "=18000000000/0.8483177935704589:0.36399252712726593/ 0.9024570732407585\n",
      "=21600000000/0.08432270027697086:0.683956341817975/ 0.37301499540813365\n",
      "=25200000000/0.3112768940627575:0.5755740590393543/ 0.8816031369874782\n",
      "=28800000000/0.08948670700192451:0.12353508733212948/ 0.8000174484071105\n",
      "=32400000000/0.9138968819752336:0.514137726277113/ 0.37805728046251363\n",
      "=36000000000/0.1728197978809476:0.19596269354224205/ 0.4013346069487659\n",
      "\n"
     ]
    }
   ],
   "source": [
    "print(s.pop().toString())"
   ]
  },
  {
   "cell_type": "markdown",
   "metadata": {},
   "source": [
    "### 3. From a list of GTS to a DataFrame"
   ]
  },
  {
   "cell_type": "markdown",
   "metadata": {},
   "source": [
    "We want to put every GTS of a list in a same DataFrame with a single `timestamps` column.<br/>\n",
    "Since every GTS don't have values for the same timestamps, we need to handle missing values,<br/>\n",
    "and we need to make the assumption that each GTS can have at most one value per timestamp.<br/>\n",
    "It is more efficient to do that in WarpScript, as done by the macro `ListGTStoPickledDict`."
   ]
  },
  {
   "cell_type": "markdown",
   "metadata": {},
   "source": [
    "If there are many unaligned ticks, consider converting to lists of single column dataFrame or Series instead."
   ]
  },
  {
   "cell_type": "code",
   "execution_count": 15,
   "metadata": {},
   "outputs": [
    {
     "name": "stdout",
     "output_type": "stream",
     "text": [
      "Creating a new WarpScript stack accessible under variable \"s\".\n"
     ]
    },
    {
     "data": {
      "text/plain": []
     },
     "execution_count": 15,
     "metadata": {},
     "output_type": "execute_result"
    }
   ],
   "source": [
    "%%w -s s -o -l\n",
    "<%\n",
    "    # Documenting the macro\n",
    "    '[GTS] BOOLEAN @ListGTStoPickledDict , more doc in macros/ListGTStoPickledDict.mc2' DOC\n",
    "\n",
    "    # Check there is two arguments on the stack\n",
    "    <% DEPTH 2 < %> <% 'Macro takes two arguments' MSGFAIL %> IFT\n",
    "        \n",
    "    # Check that top is a boolean indicating whether to use GTS classname or selector\n",
    "    <% 1 PICK TYPEOF 'BOOLEAN' != %> <% 'First argument must be a boolean indicating whether to use GTS selector (true) or classname (false)' MSGFAIL %> IFT\n",
    "    \n",
    "    # Check that second argument is a list of GTS\n",
    "    <% 2 PICK TYPEOF 'LIST' != %> <% 'Second argument must be a List of GTS' MSGFAIL %> IFT\n",
    "    2 PICK <% <% TYPEOF 'GTS' != %> <% 'Second argument is a list that has an element that is not a GTS' MSGFAIL %> IFT %> FOREACH\n",
    "    \n",
    "    # Store the arguments\n",
    "    'withSelector' STORE\n",
    "    'gtsList' STORE\n",
    "    \n",
    "    # make tickbase of all GTS\n",
    "    $gtsList TICKS 'ticks' STORE\n",
    "    $ticks [] [] [] $ticks MAKEGTS 'baseGTS' STORE\n",
    "    \n",
    "    # macro: check not all NaN (for locations and elevations)\n",
    "    <% UNIQUE DUP SIZE 1 == SWAP 0 GET ISNaN && %> 'isAllNaN' STORE\n",
    "        \n",
    "    # Return pickled dict for pandas\n",
    "    {\n",
    "        # ticks\n",
    "        'timestamps' $ticks\n",
    "        \n",
    "        # loop over list of GTS\n",
    "        $gtsList\n",
    "        <%\n",
    "            'gts' STORE\n",
    "            \n",
    "            # Make name\n",
    "            $gts <% $withSelector %> <% TOSELECTOR %> <% NAME %> IFTE\n",
    "            'name' STORE\n",
    "        \n",
    "            # Put on the same tick base and fill missing values with NaN\n",
    "            [ $gts true mapper.replace 0 0 0 ] MAP\n",
    "            'mask' STORE\n",
    "            [ $mask [ $baseGTS ] [] op.negmask ] APPLY\n",
    "            [ SWAP NaN mapper.replace 0 0 0 ] MAP\n",
    "            0 GET 'residualSeries' STORE\n",
    "            [ $gts $residualSeries ] MERGE SORT\n",
    "            'gts' STORE\n",
    "        \n",
    "            # locations\n",
    "            $gts LOCATIONS 'lon' STORE 'lat' STORE\n",
    "            <% $lat @isAllNaN ! %> <% $name '.lat' + $lat %> IFT\n",
    "            <% $lon @isAllNaN ! %> <% $name '.lon' + $lon %> IFT\n",
    "        \n",
    "            # elevations\n",
    "            $gts ELEVATIONS 'elev' STORE\n",
    "            <% $elev @isAllNaN ! %> <% $name '.elev' + $elev %> IFT\n",
    "        \n",
    "            # values        \n",
    "            $name $gts VALUES\n",
    "        %>\n",
    "        FOREACH\n",
    "    }\n",
    "    ->PICKLE\n",
    "%>\n",
    "'ListGTStoPickledDict' STORE"
   ]
  },
  {
   "cell_type": "markdown",
   "metadata": {},
   "source": [
    "We apply the macro `ListGTStoPickledDict` similarly than `GTStoPickledDict`,<br/>\n",
    "except that it takes a list of GTS instead of a single GTS as second argument."
   ]
  },
  {
   "cell_type": "code",
   "execution_count": 16,
   "metadata": {},
   "outputs": [
    {
     "data": {
      "text/plain": [
       "top: \tb'\\x80\\x02}q\\x00(X\\n\\x00\\x00\\x00timestampsq\\x01]q\\x02(I3600000000\\nI7200000000\\nI10800000000\\nI14400000000\\nI18000000000\\nI21600000000\\nI25200000000\\nI28800000000\\nI32400000000\\nI36000000000\\nI39600000000\\neX\\x0b\\x00\\x00\\x00randGTS.latq\\x03]q\\x04(G?\\xe0\\xd3\\xe2m\\x80\\x00\\x00G?\\xc1\\xad\\xbdV\\x00\\x00\\x00G?\\xedH\\x1d\\x93\\x80\\x00\\x00G?\\xe3\\x11\\xab{\\x00\\x00\\x00G?\\xe9f0\\x8c\\x00\\x00\\x00G?n\\x9c\\xae\\x00\\x00\\x00\\x00G?\\xd4\\xe2\\xf0\\xae\\x00\\x00\\x00G?\\xec\\xa5(J\\x80\\x00\\x00G?\\xeeRv\\xf2\\x80\\x00\\x00G?\\xc80\\x9c\\x84\\x00\\x00\\x00G\\x7f\\xf8\\x00\\x00\\x00\\x00\\x00\\x00eX\\x0b\\x00\\x00\\x00randGTS.lonq\\x05]q\\x06(G?\\xed^\\x11\\xbe\\x00\\x00\\x00G?\\xb9$\\\\\\xc0\\x00\\x00\\x00G?\\xeeE{\\x8a\\x00\\x00\\x00G?\\xb1\\x01\\xd9P\\x00\\x00\\x00G?\\xcaZ\\x1b\\xac\\x00\\x00\\x00G?\\xda\\xd1]\\\\\\x00\\x00\\x00G?\\xe0\\x0f\\xd3\\xdf\\x00\\x00\\x00G?\\xd5\\xf9\\xc7V\\x00\\x00\\x00G?\\xab\\xd4\\xcf@\\x00\\x00\\x00G?\\xef\\x0csR\\x00\\x00\\x00G\\x7f\\xf8\\x00\\x00\\x00\\x00\\x00\\x00eX\\x07\\x00\\x00\\x00randGTSq\\x07]q\\x08(G?\\xca\\x84\\xf7\\x8f\\xb5\\xbeHG?\\xeb$@\\xd1\\xb2\\n\\x0cG?\\xe0X\\x84:p+\\xbaG?\\xbaL\\xed\\xe6\\xd3\\xb7\\xd8G?\\xe5J\\xcf\\x11\\xf1\\x0c\\xa3G?\\xeeg\\x96\\xad\\xc4\\x1a\\x11G?\\xed8\\x95n\\xc6\\x18iG?\\xef\\xffze-1\\xd6G?\\xec\\x04\\xf7\\xd7\\x0cH\\xdfG?\\xe9\\x0f\\xe4[=\\xf8lG\\x7f\\xf8\\x00\\x00\\x00\\x00\\x00\\x00eX\\x06\\x00\\x00\\x00randTSq\\t]q\\n(G\\x7f\\xf8\\x00\\x00\\x00\\x00\\x00\\x00G?\\xec3\\xa1Q^#WG?\\xd9\\xbf\\x13\\xbe\\xf8{\\x00G?\\xe6\\xbfh)\\x87\\xe7\\xdfG?\\xef\\x8d\\xeb^m\\xc8\\xe9G?\\xe5`\\xb1\\xfe5\\xef\\xfeG?\\xc8@h\\xd1\\xb9\\x90XG?\\xb1\\xb1\\xe3\\xda<\\xd1\\x18G?\\xdf\\n6\\xd45\\x11\\xa8G?\\xe0\\x1b\\xd0\\xbd\\x0b\\x17\\xb3G?\\xd6mW\\xcf7IXeX\\x08\\x00\\x00\\x00stringTSq\\x0b]q\\x0c(X\\x03\\x00\\x00\\x00NaNq\\rh\\rh\\rh\\rX\\x08\\x00\\x00\\x00a stringq\\x0eh\\x0eh\\x0eh\\x0eh\\rh\\rh\\reu.'"
      ]
     },
     "execution_count": 16,
     "metadata": {},
     "output_type": "execute_result"
    }
   ],
   "source": [
    "%%w -s s\n",
    "[ NEWGTS 'randGTS' RENAME 1 10 <% h RAND RAND NaN RAND ADDVALUE %> FOR\n",
    "  NEWGTS 'randTS' RENAME 2 11 <% h NaN NaN NaN RAND ADDVALUE %> FOR\n",
    "  NEWGTS 'stringTS' RENAME 5 8 <% h NaN NaN NaN 'a string' ADDVALUE %> FOR ]\n",
    "false\n",
    "@ListGTStoPickledDict  # use instead '@./ListGTStoPickledDict' if ListGTStoPickledDict.mc2 is in the macros folder"
   ]
  },
  {
   "cell_type": "markdown",
   "metadata": {},
   "source": [
    "Contrary to our first example with a single GTS, the following cell will raise<br/>\n",
    "an error if a GTS of the list has a timestamp with multiple values."
   ]
  },
  {
   "cell_type": "code",
   "execution_count": 17,
   "metadata": {},
   "outputs": [
    {
     "data": {
      "text/html": [
       "<div>\n",
       "<style scoped>\n",
       "    .dataframe tbody tr th:only-of-type {\n",
       "        vertical-align: middle;\n",
       "    }\n",
       "\n",
       "    .dataframe tbody tr th {\n",
       "        vertical-align: top;\n",
       "    }\n",
       "\n",
       "    .dataframe thead th {\n",
       "        text-align: right;\n",
       "    }\n",
       "</style>\n",
       "<table border=\"1\" class=\"dataframe\">\n",
       "  <thead>\n",
       "    <tr style=\"text-align: right;\">\n",
       "      <th></th>\n",
       "      <th>timestamps</th>\n",
       "      <th>randGTS.lat</th>\n",
       "      <th>randGTS.lon</th>\n",
       "      <th>randGTS</th>\n",
       "      <th>randTS</th>\n",
       "      <th>stringTS</th>\n",
       "    </tr>\n",
       "  </thead>\n",
       "  <tbody>\n",
       "    <tr>\n",
       "      <th>0</th>\n",
       "      <td>3600000000</td>\n",
       "      <td>0.525865</td>\n",
       "      <td>0.917733</td>\n",
       "      <td>0.207183</td>\n",
       "      <td>NaN</td>\n",
       "      <td>NaN</td>\n",
       "    </tr>\n",
       "    <tr>\n",
       "      <th>1</th>\n",
       "      <td>7200000000</td>\n",
       "      <td>0.138115</td>\n",
       "      <td>0.098211</td>\n",
       "      <td>0.848175</td>\n",
       "      <td>0.881303</td>\n",
       "      <td>NaN</td>\n",
       "    </tr>\n",
       "    <tr>\n",
       "      <th>2</th>\n",
       "      <td>10800000000</td>\n",
       "      <td>0.915053</td>\n",
       "      <td>0.945982</td>\n",
       "      <td>0.510805</td>\n",
       "      <td>0.402287</td>\n",
       "      <td>NaN</td>\n",
       "    </tr>\n",
       "    <tr>\n",
       "      <th>3</th>\n",
       "      <td>14400000000</td>\n",
       "      <td>0.595907</td>\n",
       "      <td>0.066434</td>\n",
       "      <td>0.102736</td>\n",
       "      <td>0.710865</td>\n",
       "      <td>NaN</td>\n",
       "    </tr>\n",
       "    <tr>\n",
       "      <th>4</th>\n",
       "      <td>18000000000</td>\n",
       "      <td>0.793724</td>\n",
       "      <td>0.205875</td>\n",
       "      <td>0.665382</td>\n",
       "      <td>0.986074</td>\n",
       "      <td>a string</td>\n",
       "    </tr>\n",
       "    <tr>\n",
       "      <th>5</th>\n",
       "      <td>21600000000</td>\n",
       "      <td>0.003737</td>\n",
       "      <td>0.419029</td>\n",
       "      <td>0.950145</td>\n",
       "      <td>0.668054</td>\n",
       "      <td>a string</td>\n",
       "    </tr>\n",
       "    <tr>\n",
       "      <th>6</th>\n",
       "      <td>25200000000</td>\n",
       "      <td>0.326351</td>\n",
       "      <td>0.501932</td>\n",
       "      <td>0.913157</td>\n",
       "      <td>0.189466</td>\n",
       "      <td>a string</td>\n",
       "    </tr>\n",
       "    <tr>\n",
       "      <th>7</th>\n",
       "      <td>28800000000</td>\n",
       "      <td>0.895161</td>\n",
       "      <td>0.343370</td>\n",
       "      <td>0.999936</td>\n",
       "      <td>0.069121</td>\n",
       "      <td>a string</td>\n",
       "    </tr>\n",
       "    <tr>\n",
       "      <th>8</th>\n",
       "      <td>32400000000</td>\n",
       "      <td>0.947566</td>\n",
       "      <td>0.054358</td>\n",
       "      <td>0.875606</td>\n",
       "      <td>0.484998</td>\n",
       "      <td>NaN</td>\n",
       "    </tr>\n",
       "    <tr>\n",
       "      <th>9</th>\n",
       "      <td>36000000000</td>\n",
       "      <td>0.188984</td>\n",
       "      <td>0.970270</td>\n",
       "      <td>0.783190</td>\n",
       "      <td>0.503395</td>\n",
       "      <td>NaN</td>\n",
       "    </tr>\n",
       "    <tr>\n",
       "      <th>10</th>\n",
       "      <td>39600000000</td>\n",
       "      <td>NaN</td>\n",
       "      <td>NaN</td>\n",
       "      <td>NaN</td>\n",
       "      <td>0.350424</td>\n",
       "      <td>NaN</td>\n",
       "    </tr>\n",
       "  </tbody>\n",
       "</table>\n",
       "</div>"
      ],
      "text/plain": [
       "     timestamps  randGTS.lat  randGTS.lon   randGTS    randTS  stringTS\n",
       "0    3600000000     0.525865     0.917733  0.207183       NaN       NaN\n",
       "1    7200000000     0.138115     0.098211  0.848175  0.881303       NaN\n",
       "2   10800000000     0.915053     0.945982  0.510805  0.402287       NaN\n",
       "3   14400000000     0.595907     0.066434  0.102736  0.710865       NaN\n",
       "4   18000000000     0.793724     0.205875  0.665382  0.986074  a string\n",
       "5   21600000000     0.003737     0.419029  0.950145  0.668054  a string\n",
       "6   25200000000     0.326351     0.501932  0.913157  0.189466  a string\n",
       "7   28800000000     0.895161     0.343370  0.999936  0.069121  a string\n",
       "8   32400000000     0.947566     0.054358  0.875606  0.484998       NaN\n",
       "9   36000000000     0.188984     0.970270  0.783190  0.503395       NaN\n",
       "10  39600000000          NaN          NaN       NaN  0.350424       NaN"
      ]
     },
     "execution_count": 17,
     "metadata": {},
     "output_type": "execute_result"
    }
   ],
   "source": [
    "listGts = s.pop()\n",
    "df4 = pd.DataFrame.from_dict(pkl.loads(listGts))\n",
    "df4"
   ]
  }
 ],
 "metadata": {
  "kernelspec": {
   "display_name": "Python 3",
   "language": "python",
   "name": "python3"
  },
  "language_info": {
   "codemirror_mode": {
    "name": "ipython",
    "version": 3
   },
   "file_extension": ".py",
   "mimetype": "text/x-python",
   "name": "python",
   "nbconvert_exporter": "python",
   "pygments_lexer": "ipython3",
   "version": "3.6.8"
  },
  "toc": {
   "base_numbering": 1,
   "nav_menu": {},
   "number_sections": false,
   "sideBar": false,
   "skip_h1_title": false,
   "title_cell": "Table of Contents",
   "title_sidebar": "Contents",
   "toc_cell": false,
   "toc_position": {},
   "toc_section_display": false,
   "toc_window_display": false
  }
 },
 "nbformat": 4,
 "nbformat_minor": 2
}
