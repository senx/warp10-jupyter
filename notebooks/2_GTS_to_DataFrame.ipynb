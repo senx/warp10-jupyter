{
 "cells": [
  {
   "cell_type": "markdown",
   "metadata": {},
   "source": [
    "### This notebook shows how to make a Pandas DataFrame from WarpScript GTS"
   ]
  },
  {
   "cell_type": "markdown",
   "metadata": {},
   "source": [
    "### 1. From a single GTS to a DataFrame"
   ]
  },
  {
   "cell_type": "code",
   "execution_count": 1,
   "metadata": {},
   "outputs": [
    {
     "name": "stdout",
     "output_type": "stream",
     "text": [
      "Created `%w` as an alias for `%warpscript`.\n",
      "Created `%%w` as an alias for `%%warpscript`.\n"
     ]
    }
   ],
   "source": [
    "%load_ext warpscript\n",
    "%alias_magic w warpscript"
   ]
  },
  {
   "cell_type": "markdown",
   "metadata": {},
   "source": [
    "We will need pandas and pickle libraries."
   ]
  },
  {
   "cell_type": "code",
   "execution_count": 2,
   "metadata": {},
   "outputs": [],
   "source": [
    "import pandas as pd\n",
    "import pickle as pkl"
   ]
  },
  {
   "cell_type": "markdown",
   "metadata": {},
   "source": [
    "We first create a random GTS."
   ]
  },
  {
   "cell_type": "code",
   "execution_count": 3,
   "metadata": {},
   "outputs": [
    {
     "name": "stdout",
     "output_type": "stream",
     "text": [
      "Local gateway launched on port 37937\n",
      "Creating a new WarpScript stack accessible under variable \"s\".\n"
     ]
    },
    {
     "data": {
      "text/plain": [
       "top: \trandGTS{}<DOUBLE, 10 values>"
      ]
     },
     "execution_count": 3,
     "metadata": {},
     "output_type": "execute_result"
    }
   ],
   "source": [
    "%%w -s s -l\n",
    "NEWGTS 'randGTS' RENAME 1 10 <% h RAND RAND NaN RAND ADDVALUE %> FOR"
   ]
  },
  {
   "cell_type": "markdown",
   "metadata": {},
   "source": [
    "In order to make a GTS understood by a python interpreter, we store its content in a map of lists and pickle it as a dict.<br/>\n",
    "The macro `GTStoPickledDict` does this. To load it, you can place the file `macros/GTStoPickledDict.mc2`<br/>\n",
    "in the macros folder of the Warp 10 platform you are sending requests to, or you can execute the following cell."
   ]
  },
  {
   "cell_type": "code",
   "execution_count": 4,
   "metadata": {},
   "outputs": [
    {
     "data": {
      "text/plain": [
       "top: \trandGTS{}<DOUBLE, 10 values>"
      ]
     },
     "execution_count": 4,
     "metadata": {},
     "output_type": "execute_result"
    }
   ],
   "source": [
    "%%w -s s\n",
    "<%\n",
    "    # Documenting the macro\n",
    "    'GTS BOOLEAN @GTStoPickledDict, more doc in macros/GTStoPickledDict.mc2' DOC\n",
    "\n",
    "    # Check there is two arguments on the stack\n",
    "    <% DEPTH 2 < %> <% 'Macro takes two arguments' MSGFAIL %> IFT\n",
    "        \n",
    "    # Check that top is a boolean indicating whether to use GTS classname or selector\n",
    "    <% 1 PICK TYPEOF 'BOOLEAN' != %> <% 'First argument must be a boolean indicating whether to use GTS selector (true) or classname (false)' MSGFAIL %> IFT\n",
    "    \n",
    "    # Check that second argument is a GTS\n",
    "    <% 2 PICK TYPEOF 'GTS' != %> <% 'Second argument must be a GTS' MSGFAIL %> IFT\n",
    "    \n",
    "    # Store the arguments\n",
    "    'withSelector' STORE\n",
    "    'gts' STORE\n",
    "    \n",
    "    # Make name\n",
    "    $gts <% $withSelector %> <% TOSELECTOR %> <% NAME %> IFTE\n",
    "    'name' STORE\n",
    "    \n",
    "    # macro: check not all NaN (for locations and elevations)\n",
    "    <% UNIQUE DUP SIZE 1 == SWAP 0 GET ISNaN && %> 'isAllNaN' STORE\n",
    "        \n",
    "    # Return pickled dict for pandas\n",
    "    {\n",
    "        # ticks\n",
    "        'timestamps' $gts TICKLIST\n",
    "        \n",
    "        # locations\n",
    "        $gts LOCATIONS 'lon' STORE 'lat' STORE\n",
    "        <% $lat @isAllNaN ! %> <% $name '.lat' + $lat %> IFT\n",
    "        <% $lon @isAllNaN ! %> <% $name '.lon' + $lon %> IFT\n",
    "        \n",
    "        # elevations\n",
    "        $gts ELEVATIONS 'elev' STORE\n",
    "        <% $elev @isAllNaN ! %> <% $name '.elev' + $elev %> IFT\n",
    "        \n",
    "        # values        \n",
    "        $name $gts VALUES\n",
    "    }\n",
    "    ->PICKLE\n",
    "%>\n",
    "'GTStoPickledDict' STORE"
   ]
  },
  {
   "cell_type": "markdown",
   "metadata": {},
   "source": [
    "We evaluate the macro on the random GTS that was left on the stack.<br/>\n",
    "Setting the first argument to false means we drop its labels for its pickled representation."
   ]
  },
  {
   "cell_type": "code",
   "execution_count": 5,
   "metadata": {},
   "outputs": [
    {
     "data": {
      "text/plain": [
       "top: \tb'\\x80\\x02}q\\x00(X\\n\\x00\\x00\\x00timestampsq\\x01]q\\x02(I3600000000\\nI7200000000\\nI10800000000\\nI14400000000\\nI18000000000\\nI21600000000\\nI25200000000\\nI28800000000\\nI32400000000\\nI36000000000\\neX\\x0b\\x00\\x00\\x00randGTS.latq\\x03]q\\x04(G?\\xda\\xed\\xe7.\\x00\\x00\\x00G?\\xd0X|\\xb1\\x00\\x00\\x00G?\\xd1C,p\\x00\\x00\\x00G?\\xd89\\xabl\\x00\\x00\\x00G?\\xde\"=\\x91\\x00\\x00\\x00G?\\xe5Z|\\xb9\\x00\\x00\\x00G?\\xe4R\\x97\\'\\x80\\x00\\x00G?\\xe3\\xbdl\\xe0\\x00\\x00\\x00G?\\xc8\\x92J\\xce\\x00\\x00\\x00G?\\x95\\xc1q0\\x00\\x00\\x00eX\\x0b\\x00\\x00\\x00randGTS.lonq\\x05]q\\x06(G?\\xe6\\xcf\\x12D\\x00\\x00\\x00G?\\xed\\x83\\x19\\xfa\\x00\\x00\\x00G?\\xe8\\x1ds\\xb1\\x00\\x00\\x00G?\\xcaU\\x8c|\\x00\\x00\\x00G?\\xe18N\\x86\\x00\\x00\\x00G?\\xe1e\\xbd\\x17\\x00\\x00\\x00G?\\xef\\x81Q\\xa4\\x00\\x00\\x00G?\\xe9\\xb2\\x82u\\x00\\x00\\x00G?\\xdc\\x89U\\x8c\\x00\\x00\\x00G?\\xe1\"o]\\x00\\x00\\x00eX\\x07\\x00\\x00\\x00randGTSq\\x07]q\\x08(G?\\xe9\\xdeH\\x07\\x0e\\xe0!G?\\xedz\\x80\\x06\\xe9\\x0b\\xebG?\\xe3\\xb0\\xa1\\xd5[\\xdbEG?\\xba\\x8b\\x93\\xec\\xeb\\x878G?\\xeb1k\\x8f\\xee\\xb6\\x89G?\\xe6tr@\\x9d\\xcddG?\\xc2\\xf5\\xc2s\\x8e\\xd5\\xf0G?\\xb3d\\x1e\\xae\\xc7%\\xc0G?\\xe5;\\x18\\xd6\\xc74\\x86G?\\xd0N\\x14\\x82E\\xc6\\x9aeu.'"
      ]
     },
     "execution_count": 5,
     "metadata": {},
     "output_type": "execute_result"
    }
   ],
   "source": [
    "%%w -s s\n",
    "false\n",
    "@GTStoPickledDict # use instead '@./GTStoPickledDict' if GTStoPickledDict.mc2 is in the macros folder"
   ]
  },
  {
   "cell_type": "markdown",
   "metadata": {},
   "source": [
    "We then load the dict from its pickled representation and create a pandas dataframe with it."
   ]
  },
  {
   "cell_type": "code",
   "execution_count": 6,
   "metadata": {},
   "outputs": [
    {
     "data": {
      "text/html": [
       "<div>\n",
       "<style scoped>\n",
       "    .dataframe tbody tr th:only-of-type {\n",
       "        vertical-align: middle;\n",
       "    }\n",
       "\n",
       "    .dataframe tbody tr th {\n",
       "        vertical-align: top;\n",
       "    }\n",
       "\n",
       "    .dataframe thead th {\n",
       "        text-align: right;\n",
       "    }\n",
       "</style>\n",
       "<table border=\"1\" class=\"dataframe\">\n",
       "  <thead>\n",
       "    <tr style=\"text-align: right;\">\n",
       "      <th></th>\n",
       "      <th>timestamps</th>\n",
       "      <th>randGTS.lat</th>\n",
       "      <th>randGTS.lon</th>\n",
       "      <th>randGTS</th>\n",
       "    </tr>\n",
       "  </thead>\n",
       "  <tbody>\n",
       "    <tr>\n",
       "      <th>0</th>\n",
       "      <td>3600000000</td>\n",
       "      <td>0.420770</td>\n",
       "      <td>0.712777</td>\n",
       "      <td>0.808384</td>\n",
       "    </tr>\n",
       "    <tr>\n",
       "      <th>1</th>\n",
       "      <td>7200000000</td>\n",
       "      <td>0.255401</td>\n",
       "      <td>0.922254</td>\n",
       "      <td>0.921204</td>\n",
       "    </tr>\n",
       "    <tr>\n",
       "      <th>2</th>\n",
       "      <td>10800000000</td>\n",
       "      <td>0.269725</td>\n",
       "      <td>0.753595</td>\n",
       "      <td>0.615312</td>\n",
       "    </tr>\n",
       "    <tr>\n",
       "      <th>3</th>\n",
       "      <td>14400000000</td>\n",
       "      <td>0.378520</td>\n",
       "      <td>0.205736</td>\n",
       "      <td>0.103692</td>\n",
       "    </tr>\n",
       "    <tr>\n",
       "      <th>4</th>\n",
       "      <td>18000000000</td>\n",
       "      <td>0.470840</td>\n",
       "      <td>0.538123</td>\n",
       "      <td>0.849783</td>\n",
       "    </tr>\n",
       "    <tr>\n",
       "      <th>5</th>\n",
       "      <td>21600000000</td>\n",
       "      <td>0.667296</td>\n",
       "      <td>0.543669</td>\n",
       "      <td>0.701715</td>\n",
       "    </tr>\n",
       "    <tr>\n",
       "      <th>6</th>\n",
       "      <td>25200000000</td>\n",
       "      <td>0.635082</td>\n",
       "      <td>0.984536</td>\n",
       "      <td>0.148125</td>\n",
       "    </tr>\n",
       "    <tr>\n",
       "      <th>7</th>\n",
       "      <td>28800000000</td>\n",
       "      <td>0.616873</td>\n",
       "      <td>0.803041</td>\n",
       "      <td>0.075746</td>\n",
       "    </tr>\n",
       "    <tr>\n",
       "      <th>8</th>\n",
       "      <td>32400000000</td>\n",
       "      <td>0.191964</td>\n",
       "      <td>0.445882</td>\n",
       "      <td>0.663464</td>\n",
       "    </tr>\n",
       "    <tr>\n",
       "      <th>9</th>\n",
       "      <td>36000000000</td>\n",
       "      <td>0.021246</td>\n",
       "      <td>0.535453</td>\n",
       "      <td>0.254766</td>\n",
       "    </tr>\n",
       "  </tbody>\n",
       "</table>\n",
       "</div>"
      ],
      "text/plain": [
       "    timestamps  randGTS.lat  randGTS.lon   randGTS\n",
       "0   3600000000     0.420770     0.712777  0.808384\n",
       "1   7200000000     0.255401     0.922254  0.921204\n",
       "2  10800000000     0.269725     0.753595  0.615312\n",
       "3  14400000000     0.378520     0.205736  0.103692\n",
       "4  18000000000     0.470840     0.538123  0.849783\n",
       "5  21600000000     0.667296     0.543669  0.701715\n",
       "6  25200000000     0.635082     0.984536  0.148125\n",
       "7  28800000000     0.616873     0.803041  0.075746\n",
       "8  32400000000     0.191964     0.445882  0.663464\n",
       "9  36000000000     0.021246     0.535453  0.254766"
      ]
     },
     "execution_count": 6,
     "metadata": {},
     "output_type": "execute_result"
    }
   ],
   "source": [
    "gts1 = s.pop()\n",
    "df1 = pd.DataFrame.from_dict(pkl.loads(gts1))\n",
    "df1"
   ]
  },
  {
   "cell_type": "markdown",
   "metadata": {},
   "source": [
    "In the following example, we choose to keep label information."
   ]
  },
  {
   "cell_type": "code",
   "execution_count": 7,
   "metadata": {},
   "outputs": [
    {
     "data": {
      "text/plain": [
       "top: \tb'\\x80\\x02}q\\x00(X\\n\\x00\\x00\\x00timestampsq\\x01]q\\x02(I3600000000\\nI7200000000\\nI10800000000\\nI14400000000\\nI18000000000\\nI21600000000\\nI25200000000\\nI28800000000\\nI32400000000\\nI36000000000\\neX\"\\x00\\x00\\x00randGTS{key1=info1,key2=info2}.latq\\x03]q\\x04(G?\\xbe;\\x0bP\\x00\\x00\\x00G?\\xc5lb\\x1c\\x00\\x00\\x00G?\\xee\\xecG\\x17\\x00\\x00\\x00G?\\xaf\\xac\\xd1\\x08\\x00\\x00\\x00G?\\xeb\\xde\\xe5c\\x80\\x00\\x00G?\\xe6\\xdey\\xa7\\x80\\x00\\x00G?\\xcf\\x8a\\xfe\\xc0\\x00\\x00\\x00G?\\xef\\xb8b\\xf2\\x00\\x00\\x00G?\\xe9\"$\\\\\\x80\\x00\\x00G?\\xe1\\xed\\xdc\\xc1\\x80\\x00\\x00eX\"\\x00\\x00\\x00randGTS{key1=info1,key2=info2}.lonq\\x05]q\\x06(G?\\xdf\\xd7R>\\x00\\x00\\x00G?\\xee\\xfaR\\xb2\\x00\\x00\\x00G?\\xeeu\\x1c\\x9b\\x00\\x00\\x00G?\\xda\\x94\\x08\\x94\\x00\\x00\\x00G?\\xdb\\xe0`\\xd0\\x00\\x00\\x00G?\\xd91\\xa1\\x8c\\x00\\x00\\x00G?\\xb7p\\x00x\\x00\\x00\\x00G?\\xef\\x13\"`\\x00\\x00\\x00G?\\xb3\\x8ccH\\x00\\x00\\x00G?\\xe6\\xe9>+\\x00\\x00\\x00eX\\x1e\\x00\\x00\\x00randGTS{key1=info1,key2=info2}q\\x07]q\\x08(G?\\xce\\xa5`1Z\\xf2\\x10G?\\xc7\\x9c\\xca\\x1f\\xa3\\x9b\\xe4G?\\xd5\\xcfPX\\xa6h\\xe0G?\\xed?;\\xd9\\x96\\xbb\\x95G?\\x85g\\xc9\\x18\\xba\\x94\\xc0G?\\xe0\\xea\\xa6\\xa3U\\x18\\x12G?\\xe5S\\x88_NK\\xafG?\\xe3D\\x99\\xb1\\xa3&\\xecG?\\xed\\xd8\\xa2\\xd8\\xb7`MG?\\xe8\\xb4\\x89Y\\xb5cReu.'"
      ]
     },
     "execution_count": 7,
     "metadata": {},
     "output_type": "execute_result"
    }
   ],
   "source": [
    "%%w -s s\n",
    "NEWGTS 'randGTS' RENAME 1 10 <% h RAND RAND NaN RAND ADDVALUE %> FOR\n",
    "{ 'key1' 'info1' 'key2' 'info2' } RELABEL\n",
    "true\n",
    "@GTStoPickledDict # use instead '@./GTStoPickledDict' if GTStoPickledDict.mc2 is in the macros folder"
   ]
  },
  {
   "cell_type": "code",
   "execution_count": 8,
   "metadata": {},
   "outputs": [
    {
     "data": {
      "text/html": [
       "<div>\n",
       "<style scoped>\n",
       "    .dataframe tbody tr th:only-of-type {\n",
       "        vertical-align: middle;\n",
       "    }\n",
       "\n",
       "    .dataframe tbody tr th {\n",
       "        vertical-align: top;\n",
       "    }\n",
       "\n",
       "    .dataframe thead th {\n",
       "        text-align: right;\n",
       "    }\n",
       "</style>\n",
       "<table border=\"1\" class=\"dataframe\">\n",
       "  <thead>\n",
       "    <tr style=\"text-align: right;\">\n",
       "      <th></th>\n",
       "      <th>timestamps</th>\n",
       "      <th>randGTS{key1=info1,key2=info2}.lat</th>\n",
       "      <th>randGTS{key1=info1,key2=info2}.lon</th>\n",
       "      <th>randGTS{key1=info1,key2=info2}</th>\n",
       "    </tr>\n",
       "  </thead>\n",
       "  <tbody>\n",
       "    <tr>\n",
       "      <th>0</th>\n",
       "      <td>3600000000</td>\n",
       "      <td>0.118088</td>\n",
       "      <td>0.497517</td>\n",
       "      <td>0.239422</td>\n",
       "    </tr>\n",
       "    <tr>\n",
       "      <th>1</th>\n",
       "      <td>7200000000</td>\n",
       "      <td>0.167370</td>\n",
       "      <td>0.968057</td>\n",
       "      <td>0.184472</td>\n",
       "    </tr>\n",
       "    <tr>\n",
       "      <th>2</th>\n",
       "      <td>10800000000</td>\n",
       "      <td>0.966342</td>\n",
       "      <td>0.951796</td>\n",
       "      <td>0.340778</td>\n",
       "    </tr>\n",
       "    <tr>\n",
       "      <th>3</th>\n",
       "      <td>14400000000</td>\n",
       "      <td>0.061865</td>\n",
       "      <td>0.415285</td>\n",
       "      <td>0.913969</td>\n",
       "    </tr>\n",
       "    <tr>\n",
       "      <th>4</th>\n",
       "      <td>18000000000</td>\n",
       "      <td>0.870959</td>\n",
       "      <td>0.435570</td>\n",
       "      <td>0.010452</td>\n",
       "    </tr>\n",
       "    <tr>\n",
       "      <th>5</th>\n",
       "      <td>21600000000</td>\n",
       "      <td>0.714658</td>\n",
       "      <td>0.393654</td>\n",
       "      <td>0.528644</td>\n",
       "    </tr>\n",
       "    <tr>\n",
       "      <th>6</th>\n",
       "      <td>25200000000</td>\n",
       "      <td>0.246429</td>\n",
       "      <td>0.091553</td>\n",
       "      <td>0.666447</td>\n",
       "    </tr>\n",
       "    <tr>\n",
       "      <th>7</th>\n",
       "      <td>28800000000</td>\n",
       "      <td>0.991258</td>\n",
       "      <td>0.971086</td>\n",
       "      <td>0.602124</td>\n",
       "    </tr>\n",
       "    <tr>\n",
       "      <th>8</th>\n",
       "      <td>32400000000</td>\n",
       "      <td>0.785418</td>\n",
       "      <td>0.076361</td>\n",
       "      <td>0.932695</td>\n",
       "    </tr>\n",
       "    <tr>\n",
       "      <th>9</th>\n",
       "      <td>36000000000</td>\n",
       "      <td>0.560286</td>\n",
       "      <td>0.715972</td>\n",
       "      <td>0.772038</td>\n",
       "    </tr>\n",
       "  </tbody>\n",
       "</table>\n",
       "</div>"
      ],
      "text/plain": [
       "    timestamps  randGTS{key1=info1,key2=info2}.lat  \\\n",
       "0   3600000000                            0.118088   \n",
       "1   7200000000                            0.167370   \n",
       "2  10800000000                            0.966342   \n",
       "3  14400000000                            0.061865   \n",
       "4  18000000000                            0.870959   \n",
       "5  21600000000                            0.714658   \n",
       "6  25200000000                            0.246429   \n",
       "7  28800000000                            0.991258   \n",
       "8  32400000000                            0.785418   \n",
       "9  36000000000                            0.560286   \n",
       "\n",
       "   randGTS{key1=info1,key2=info2}.lon  randGTS{key1=info1,key2=info2}  \n",
       "0                            0.497517                        0.239422  \n",
       "1                            0.968057                        0.184472  \n",
       "2                            0.951796                        0.340778  \n",
       "3                            0.415285                        0.913969  \n",
       "4                            0.435570                        0.010452  \n",
       "5                            0.393654                        0.528644  \n",
       "6                            0.091553                        0.666447  \n",
       "7                            0.971086                        0.602124  \n",
       "8                            0.076361                        0.932695  \n",
       "9                            0.715972                        0.772038  "
      ]
     },
     "execution_count": 8,
     "metadata": {},
     "output_type": "execute_result"
    }
   ],
   "source": [
    "gts2 = s.pop()\n",
    "df2 = pd.DataFrame.from_dict(pkl.loads(gts2))\n",
    "df2"
   ]
  },
  {
   "cell_type": "markdown",
   "metadata": {},
   "source": [
    "We can also not use geo information."
   ]
  },
  {
   "cell_type": "code",
   "execution_count": 9,
   "metadata": {},
   "outputs": [
    {
     "data": {
      "text/plain": [
       "top: \tb'\\x80\\x02}q\\x00(X\\n\\x00\\x00\\x00timestampsq\\x01]q\\x02(I7200000000\\nI10800000000\\nI14400000000\\nI18000000000\\nI21600000000\\nI25200000000\\nI28800000000\\nI32400000000\\nI36000000000\\nI39600000000\\neX\\x06\\x00\\x00\\x00randTSq\\x03]q\\x04(G?\\xbc\\xff\\x9d\\xf3\\x8d\\xc7\\xd8G?\\xed\\xc0[p\\xf7\\xf3\\xddG?\\xee\\xbb\\x1d\\xed`O\\x83G?\\xeb\\x1a\\xc8\\xc1f\\xad\\x10G?\\xee\\xb6-L4l\\x10G?\\xe7\\x1ca,o\\xfa<G?\\xe6\\x00->\\xda\\xce\\xdeG?\\xe2B\\x8b\\x0fR\\x04\\xedG?\\xea\\x057\\x96\\xb2f G?\\xc6\\x0c\\xa7(V\\t\\x1ceu.'"
      ]
     },
     "execution_count": 9,
     "metadata": {},
     "output_type": "execute_result"
    }
   ],
   "source": [
    "%%w -s s\n",
    "NEWGTS 'randTS' RENAME 2 11 <% h NaN NaN NaN RAND ADDVALUE %> FOR\n",
    "false\n",
    "@GTStoPickledDict # use instead '@./GTStoPickledDict' if GTStoPickledDict.mc2 is in the macros folder"
   ]
  },
  {
   "cell_type": "code",
   "execution_count": 10,
   "metadata": {},
   "outputs": [
    {
     "data": {
      "text/html": [
       "<div>\n",
       "<style scoped>\n",
       "    .dataframe tbody tr th:only-of-type {\n",
       "        vertical-align: middle;\n",
       "    }\n",
       "\n",
       "    .dataframe tbody tr th {\n",
       "        vertical-align: top;\n",
       "    }\n",
       "\n",
       "    .dataframe thead th {\n",
       "        text-align: right;\n",
       "    }\n",
       "</style>\n",
       "<table border=\"1\" class=\"dataframe\">\n",
       "  <thead>\n",
       "    <tr style=\"text-align: right;\">\n",
       "      <th></th>\n",
       "      <th>timestamps</th>\n",
       "      <th>randTS</th>\n",
       "    </tr>\n",
       "  </thead>\n",
       "  <tbody>\n",
       "    <tr>\n",
       "      <th>0</th>\n",
       "      <td>7200000000</td>\n",
       "      <td>0.113275</td>\n",
       "    </tr>\n",
       "    <tr>\n",
       "      <th>1</th>\n",
       "      <td>10800000000</td>\n",
       "      <td>0.929731</td>\n",
       "    </tr>\n",
       "    <tr>\n",
       "      <th>2</th>\n",
       "      <td>14400000000</td>\n",
       "      <td>0.960341</td>\n",
       "    </tr>\n",
       "    <tr>\n",
       "      <th>3</th>\n",
       "      <td>18000000000</td>\n",
       "      <td>0.847020</td>\n",
       "    </tr>\n",
       "    <tr>\n",
       "      <th>4</th>\n",
       "      <td>21600000000</td>\n",
       "      <td>0.959738</td>\n",
       "    </tr>\n",
       "    <tr>\n",
       "      <th>5</th>\n",
       "      <td>25200000000</td>\n",
       "      <td>0.722214</td>\n",
       "    </tr>\n",
       "    <tr>\n",
       "      <th>6</th>\n",
       "      <td>28800000000</td>\n",
       "      <td>0.687522</td>\n",
       "    </tr>\n",
       "    <tr>\n",
       "      <th>7</th>\n",
       "      <td>32400000000</td>\n",
       "      <td>0.570623</td>\n",
       "    </tr>\n",
       "    <tr>\n",
       "      <th>8</th>\n",
       "      <td>36000000000</td>\n",
       "      <td>0.813137</td>\n",
       "    </tr>\n",
       "    <tr>\n",
       "      <th>9</th>\n",
       "      <td>39600000000</td>\n",
       "      <td>0.172261</td>\n",
       "    </tr>\n",
       "  </tbody>\n",
       "</table>\n",
       "</div>"
      ],
      "text/plain": [
       "    timestamps    randTS\n",
       "0   7200000000  0.113275\n",
       "1  10800000000  0.929731\n",
       "2  14400000000  0.960341\n",
       "3  18000000000  0.847020\n",
       "4  21600000000  0.959738\n",
       "5  25200000000  0.722214\n",
       "6  28800000000  0.687522\n",
       "7  32400000000  0.570623\n",
       "8  36000000000  0.813137\n",
       "9  39600000000  0.172261"
      ]
     },
     "execution_count": 10,
     "metadata": {},
     "output_type": "execute_result"
    }
   ],
   "source": [
    "gts3 = s.pop()\n",
    "df3 = pd.DataFrame.from_dict(pkl.loads(gts3))\n",
    "df3"
   ]
  },
  {
   "cell_type": "markdown",
   "metadata": {},
   "source": [
    "### 2. Revert a DataFrame to a GTS"
   ]
  },
  {
   "cell_type": "markdown",
   "metadata": {},
   "source": [
    "To revert a DataFrame to a GTS, we first need to convert the DataFrame into a dict."
   ]
  },
  {
   "cell_type": "code",
   "execution_count": 11,
   "metadata": {},
   "outputs": [
    {
     "data": {
      "text/plain": [
       "{'timestamps': [3600000000,\n",
       "  7200000000,\n",
       "  10800000000,\n",
       "  14400000000,\n",
       "  18000000000,\n",
       "  21600000000,\n",
       "  25200000000,\n",
       "  28800000000,\n",
       "  32400000000,\n",
       "  36000000000],\n",
       " 'randGTS.lat': [0.4207704495638609,\n",
       "  0.2554008224979043,\n",
       "  0.2697249501943588,\n",
       "  0.3785198740661144,\n",
       "  0.4708398738875985,\n",
       "  0.6672958005219698,\n",
       "  0.6350818416103721,\n",
       "  0.6168732047080994,\n",
       "  0.19196448381990194,\n",
       "  0.021245735697448254],\n",
       " 'randGTS.lon': [0.7127772644162178,\n",
       "  0.9222535975277424,\n",
       "  0.7535952050238848,\n",
       "  0.20573574118316174,\n",
       "  0.5381233803927898,\n",
       "  0.5436692666262388,\n",
       "  0.9845359995961189,\n",
       "  0.8030407223850489,\n",
       "  0.4458822123706341,\n",
       "  0.5354534927755594],\n",
       " 'randGTS': [0.8083839547971402,\n",
       "  0.9212036261527577,\n",
       "  0.6153115431942316,\n",
       "  0.10369228872471303,\n",
       "  0.84978273498355,\n",
       "  0.7017146360434876,\n",
       "  0.1481249870536625,\n",
       "  0.07574645773924882,\n",
       "  0.6634639925847672,\n",
       "  0.25476563188485957]}"
      ]
     },
     "execution_count": 11,
     "metadata": {},
     "output_type": "execute_result"
    }
   ],
   "source": [
    "gts1b = df1.to_dict('list')\n",
    "gts1b"
   ]
  },
  {
   "cell_type": "markdown",
   "metadata": {},
   "source": [
    "We can push this dict directly onto the stack, since it will be automatically converted in the JVM."
   ]
  },
  {
   "cell_type": "code",
   "execution_count": 12,
   "metadata": {},
   "outputs": [
    {
     "data": {
      "text/plain": [
       "top: \t{'randGTS.lat': [0.4207704495638609, 0.2554008224979043, 0.2697249501943588, 0.3785198740661144, 0.4708398738875985, 0.6672958005219698, 0.6350818416103721, 0.6168732047080994, 0.19196448381990194, 0.021245735697448254], 'timestamps': [3600000000, 7200000000, 10800000000, 14400000000, 18000000000, 21600000000, 25200000000, 28800000000, 32400000000, 36000000000], 'randGTS': [0.8083839547971402, 0.9212036261527577, 0.6153115431942316, 0.10369228872471303, 0.84978273498355, 0.7017146360434876, 0.1481249870536625, 0.07574645773924882, 0.6634639925847672, 0.25476563188485957], 'randGTS.lon': [0.7127772644162178, 0.9222535975277424, 0.7535952050238848, 0.20573574118316174, 0.5381233803927898, 0.5436692666262388, 0.9845359995961189, 0.8030407223850489, 0.4458822123706341, 0.5354534927755594]}"
      ]
     },
     "execution_count": 12,
     "metadata": {},
     "output_type": "execute_result"
    }
   ],
   "source": [
    "s.push(gts1b)\n",
    "s"
   ]
  },
  {
   "cell_type": "markdown",
   "metadata": {},
   "source": [
    "Now we can use the lists contained in this map to populate a GTS."
   ]
  },
  {
   "cell_type": "code",
   "execution_count": 13,
   "metadata": {},
   "outputs": [
    {
     "data": {
      "text/plain": [
       "top: \trandGTS{}<DOUBLE, 10 values>"
      ]
     },
     "execution_count": 13,
     "metadata": {},
     "output_type": "execute_result"
    }
   ],
   "source": [
    "%%w -s s\n",
    "'dict' STORE\n",
    "$dict 'timestamps' GET\n",
    "$dict 'randGTS.lat' GET\n",
    "$dict 'randGTS.lon' GET\n",
    "[] // no elevation\n",
    "$dict 'randGTS' GET\n",
    "MAKEGTS 'randGTS' RENAME"
   ]
  },
  {
   "cell_type": "code",
   "execution_count": 14,
   "metadata": {},
   "outputs": [
    {
     "name": "stdout",
     "output_type": "stream",
     "text": [
      "randGTS{}\n",
      "=3600000000/0.4207704495638609:0.7127772644162178/ 0.8083839547971402\n",
      "=7200000000/0.2554008224979043:0.9222535975277424/ 0.9212036261527577\n",
      "=10800000000/0.2697249501943588:0.7535952050238848/ 0.6153115431942316\n",
      "=14400000000/0.3785198740661144:0.20573574118316174/ 0.10369228872471303\n",
      "=18000000000/0.4708398738875985:0.5381233803927898/ 0.84978273498355\n",
      "=21600000000/0.6672958005219698:0.5436692666262388/ 0.7017146360434876\n",
      "=25200000000/0.6350818416103721:0.9845359995961189/ 0.1481249870536625\n",
      "=28800000000/0.6168732047080994:0.8030407223850489/ 0.07574645773924882\n",
      "=32400000000/0.19196448381990194:0.4458822123706341/ 0.6634639925847672\n",
      "=36000000000/0.021245735697448254:0.5354534927755594/ 0.25476563188485957\n",
      "\n"
     ]
    }
   ],
   "source": [
    "print(s.pop().toString())"
   ]
  },
  {
   "cell_type": "markdown",
   "metadata": {},
   "source": [
    "### 3. From a list of GTS to a DataFrame"
   ]
  },
  {
   "cell_type": "markdown",
   "metadata": {},
   "source": [
    "We want to put every GTS of a list in a same DataFrame with a single `timestamps` column.<br/>\n",
    "Since every GTS don't have values for the same timestamps, we need to handle missing values,<br/>\n",
    "and we need to make the assumption that each GTS can have at most one value per timestamp.<br/>\n",
    "It is more efficient to do that in WarpScript, as done by the macro `ListGTStoPickledDict`."
   ]
  },
  {
   "cell_type": "markdown",
   "metadata": {},
   "source": [
    "If there are many unaligned ticks, consider converting to lists of single column dataFrame or Series instead."
   ]
  },
  {
   "cell_type": "code",
   "execution_count": 15,
   "metadata": {},
   "outputs": [
    {
     "name": "stdout",
     "output_type": "stream",
     "text": [
      "Creating a new WarpScript stack accessible under variable \"s\".\n"
     ]
    },
    {
     "data": {
      "text/plain": []
     },
     "execution_count": 15,
     "metadata": {},
     "output_type": "execute_result"
    }
   ],
   "source": [
    "%%w -s s -o -l\n",
    "<%\n",
    "    # Documenting the macro\n",
    "    '[GTS] BOOLEAN @ListGTStoPickledDict , more doc in macros/ListGTStoPickledDict.mc2' DOC\n",
    "\n",
    "    # Check there is two arguments on the stack\n",
    "    <% DEPTH 2 < %> <% 'Macro takes two arguments' MSGFAIL %> IFT\n",
    "        \n",
    "    # Check that top is a boolean indicating whether to use GTS classname or selector\n",
    "    <% 1 PICK TYPEOF 'BOOLEAN' != %> <% 'First argument must be a boolean indicating whether to use GTS selector (true) or classname (false)' MSGFAIL %> IFT\n",
    "    \n",
    "    # Check that second argument is a list of GTS\n",
    "    <% 2 PICK TYPEOF 'LIST' != %> <% 'Second argument must be a List of GTS' MSGFAIL %> IFT\n",
    "    2 PICK <% <% TYPEOF 'GTS' != %> <% 'Second argument is a list that has an element that is not a GTS' MSGFAIL %> IFT %> FOREACH\n",
    "    \n",
    "    # Store the arguments\n",
    "    'withSelector' STORE\n",
    "    'gtsList' STORE\n",
    "    \n",
    "    # make tickbase of all GTS\n",
    "    $gtsList TICKS 'ticks' STORE\n",
    "    $ticks [] [] [] $ticks MAKEGTS 'baseGTS' STORE\n",
    "    \n",
    "    # macro: check not all NaN (for locations and elevations)\n",
    "    <% UNIQUE DUP SIZE 1 == SWAP 0 GET ISNaN && %> 'isAllNaN' STORE\n",
    "        \n",
    "    # Return pickled dict for pandas\n",
    "    {\n",
    "        # ticks\n",
    "        'timestamps' $ticks\n",
    "        \n",
    "        # loop over list of GTS\n",
    "        $gtsList\n",
    "        <%\n",
    "            'gts' STORE\n",
    "            \n",
    "            # Make name\n",
    "            $gts <% $withSelector %> <% TOSELECTOR %> <% NAME %> IFTE\n",
    "            'name' STORE\n",
    "        \n",
    "            # Put on the same tick base and fill missing values with NaN\n",
    "            [ $gts true mapper.replace 0 0 0 ] MAP\n",
    "            'mask' STORE\n",
    "            [ $mask [ $baseGTS ] [] op.negmask ] APPLY\n",
    "            [ SWAP NaN mapper.replace 0 0 0 ] MAP\n",
    "            0 GET 'residualSeries' STORE\n",
    "            [ $gts $residualSeries ] MERGE SORT\n",
    "            'gts' STORE\n",
    "        \n",
    "            # locations\n",
    "            $gts LOCATIONS 'lon' STORE 'lat' STORE\n",
    "            <% $lat @isAllNaN ! %> <% $name '.lat' + $lat %> IFT\n",
    "            <% $lon @isAllNaN ! %> <% $name '.lon' + $lon %> IFT\n",
    "        \n",
    "            # elevations\n",
    "            $gts ELEVATIONS 'elev' STORE\n",
    "            <% $elev @isAllNaN ! %> <% $name '.elev' + $elev %> IFT\n",
    "        \n",
    "            # values        \n",
    "            $name $gts VALUES\n",
    "        %>\n",
    "        FOREACH\n",
    "    }\n",
    "    ->PICKLE\n",
    "%>\n",
    "'ListGTStoPickledDict' STORE"
   ]
  },
  {
   "cell_type": "markdown",
   "metadata": {},
   "source": [
    "We apply the macro `ListGTStoPickledDict` similarly than `GTStoPickledDict`,<br/>\n",
    "except that it takes a list of GTS instead of a single GTS as second argument."
   ]
  },
  {
   "cell_type": "code",
   "execution_count": 16,
   "metadata": {},
   "outputs": [
    {
     "data": {
      "text/plain": [
       "top: \tb'\\x80\\x02}q\\x00(X\\n\\x00\\x00\\x00timestampsq\\x01]q\\x02(I3600000000\\nI7200000000\\nI10800000000\\nI14400000000\\nI18000000000\\nI21600000000\\nI25200000000\\nI28800000000\\nI32400000000\\nI36000000000\\nI39600000000\\neX\\x0b\\x00\\x00\\x00randGTS.latq\\x03]q\\x04(G?\\xedy\\xb8\\xa1\\x00\\x00\\x00G?\\xe3\\xce\\x1d\\xda\\x80\\x00\\x00G?\\xe6\\x7f\\x03\\x94\\x00\\x00\\x00G?\\xe3Kt\\x00\\x00\\x00\\x00G?\\xbd\\n\\xe6\\x10\\x00\\x00\\x00G?\\xe2\\x91GI\\x80\\x00\\x00G?\\xe2\\xc9\\xe3\\x0b\\x80\\x00\\x00G?\\xd1\\xf5\\xe4A\\x00\\x00\\x00G?\\xe0o\\xd4\\xba\\x00\\x00\\x00G?\\xcbZ*\\x9c\\x00\\x00\\x00G\\x7f\\xf8\\x00\\x00\\x00\\x00\\x00\\x00eX\\x0b\\x00\\x00\\x00randGTS.lonq\\x05]q\\x06(G?\\xc2\\xfb\\xe0\\\\\\x00\\x00\\x00G?\\xeba\\x1bh\\x00\\x00\\x00G?\\xe3Yoo\\x00\\x00\\x00G?\\xee\\n\\x1f\\x9a\\x00\\x00\\x00G?\\xe7\\x1e\\xf2\\x8c\\x00\\x00\\x00G?\\xef\\xe2\\x98\\x0b\\x00\\x00\\x00G?\\xce\\xd2\\x1b\\xe4\\x00\\x00\\x00G?\\xec\\x8bYJ\\x00\\x00\\x00G?\\xee\\xf2\\x9b\\xcb\\x00\\x00\\x00G?\\xee\\xd4f\\x1f\\x00\\x00\\x00G\\x7f\\xf8\\x00\\x00\\x00\\x00\\x00\\x00eX\\x07\\x00\\x00\\x00randGTSq\\x07]q\\x08(G?\\xec\\x94t\\xa8\\x80\\x1a\\xfaG?\\xee \\xfcT\\xcc\\x0f\\xb6G?\\xe2\\x8eJ\\xca\\xc9\\xd6gG?\\xd4\"\\x1b\\r\\xe4\\xaftG?\\xed\\x93\\x8f\\xd6\\x18\\x19\\xaeG?\\xa8\\x97\\x19I\\xaf\\xae\\xd0G?\\xddh\\xb0|\\x9c\\xc2\\x12G?\\x81\\x88\\x07;G\\xe3\\x80G?t\\x8e96s\\xcb\\x00G?\\xe1\\'\\x87\\xb4H^0G\\x7f\\xf8\\x00\\x00\\x00\\x00\\x00\\x00eX\\x06\\x00\\x00\\x00randTSq\\t]q\\n(G\\x7f\\xf8\\x00\\x00\\x00\\x00\\x00\\x00G?\\xd8\\xe9\\xa1\\x88\\xcb\\xec\\xe8G?\\xd8\\'\\x8c\\n2\\x97\\xf6G?\\xcd\\xd4\\xe8\\x94\\x0cA\\x88G?\\xd4k\\xe5\\xb4\\xad\\xbd\\x8eG?\\xee-\\xaeU\\x1b\\xd4\\xf8G?\\xd8T]\\x8b\\xd8\\xe2XG?\\xef\\xa3\\x1bUGY\\xd7G?\\xe4\\xbd\\xcaKz\\xcaKG?\\xe80\\x88\\xef\\x82/\\x95G?\\xe9\\xab\\x08*\\xcc\\x8c\\xd8eX\\x08\\x00\\x00\\x00stringTSq\\x0b]q\\x0c(X\\x03\\x00\\x00\\x00NaNq\\rh\\rh\\rh\\rX\\x08\\x00\\x00\\x00a stringq\\x0eh\\x0eh\\x0eh\\x0eh\\rh\\rh\\reu.'"
      ]
     },
     "execution_count": 16,
     "metadata": {},
     "output_type": "execute_result"
    }
   ],
   "source": [
    "%%w -s s\n",
    "[ NEWGTS 'randGTS' RENAME 1 10 <% h RAND RAND NaN RAND ADDVALUE %> FOR\n",
    "  NEWGTS 'randTS' RENAME 2 11 <% h NaN NaN NaN RAND ADDVALUE %> FOR\n",
    "  NEWGTS 'stringTS' RENAME 5 8 <% h NaN NaN NaN 'a string' ADDVALUE %> FOR ]\n",
    "false\n",
    "@ListGTStoPickledDict  # use instead '@./ListGTStoPickledDict' if ListGTStoPickledDict.mc2 is in the macros folder"
   ]
  },
  {
   "cell_type": "markdown",
   "metadata": {},
   "source": [
    "Contrary to our first example with a single GTS, the following cell will raise<br/>\n",
    "an error if a GTS of the list has a timestamp with multiple values."
   ]
  },
  {
   "cell_type": "code",
   "execution_count": 17,
   "metadata": {},
   "outputs": [
    {
     "data": {
      "text/html": [
       "<div>\n",
       "<style scoped>\n",
       "    .dataframe tbody tr th:only-of-type {\n",
       "        vertical-align: middle;\n",
       "    }\n",
       "\n",
       "    .dataframe tbody tr th {\n",
       "        vertical-align: top;\n",
       "    }\n",
       "\n",
       "    .dataframe thead th {\n",
       "        text-align: right;\n",
       "    }\n",
       "</style>\n",
       "<table border=\"1\" class=\"dataframe\">\n",
       "  <thead>\n",
       "    <tr style=\"text-align: right;\">\n",
       "      <th></th>\n",
       "      <th>timestamps</th>\n",
       "      <th>randGTS.lat</th>\n",
       "      <th>randGTS.lon</th>\n",
       "      <th>randGTS</th>\n",
       "      <th>randTS</th>\n",
       "      <th>stringTS</th>\n",
       "    </tr>\n",
       "  </thead>\n",
       "  <tbody>\n",
       "    <tr>\n",
       "      <th>0</th>\n",
       "      <td>3600000000</td>\n",
       "      <td>0.921109</td>\n",
       "      <td>0.148312</td>\n",
       "      <td>0.893122</td>\n",
       "      <td>NaN</td>\n",
       "      <td>NaN</td>\n",
       "    </tr>\n",
       "    <tr>\n",
       "      <th>1</th>\n",
       "      <td>7200000000</td>\n",
       "      <td>0.618911</td>\n",
       "      <td>0.855604</td>\n",
       "      <td>0.941527</td>\n",
       "      <td>0.389260</td>\n",
       "      <td>NaN</td>\n",
       "    </tr>\n",
       "    <tr>\n",
       "      <th>2</th>\n",
       "      <td>10800000000</td>\n",
       "      <td>0.703005</td>\n",
       "      <td>0.604667</td>\n",
       "      <td>0.579870</td>\n",
       "      <td>0.377414</td>\n",
       "      <td>NaN</td>\n",
       "    </tr>\n",
       "    <tr>\n",
       "      <th>3</th>\n",
       "      <td>14400000000</td>\n",
       "      <td>0.602961</td>\n",
       "      <td>0.938736</td>\n",
       "      <td>0.314582</td>\n",
       "      <td>0.233060</td>\n",
       "      <td>NaN</td>\n",
       "    </tr>\n",
       "    <tr>\n",
       "      <th>4</th>\n",
       "      <td>18000000000</td>\n",
       "      <td>0.113448</td>\n",
       "      <td>0.722528</td>\n",
       "      <td>0.924263</td>\n",
       "      <td>0.319086</td>\n",
       "      <td>a string</td>\n",
       "    </tr>\n",
       "    <tr>\n",
       "      <th>5</th>\n",
       "      <td>21600000000</td>\n",
       "      <td>0.580234</td>\n",
       "      <td>0.996410</td>\n",
       "      <td>0.048028</td>\n",
       "      <td>0.943076</td>\n",
       "      <td>a string</td>\n",
       "    </tr>\n",
       "    <tr>\n",
       "      <th>6</th>\n",
       "      <td>25200000000</td>\n",
       "      <td>0.587144</td>\n",
       "      <td>0.240787</td>\n",
       "      <td>0.459515</td>\n",
       "      <td>0.380149</td>\n",
       "      <td>a string</td>\n",
       "    </tr>\n",
       "    <tr>\n",
       "      <th>7</th>\n",
       "      <td>28800000000</td>\n",
       "      <td>0.280633</td>\n",
       "      <td>0.892010</td>\n",
       "      <td>0.008560</td>\n",
       "      <td>0.988660</td>\n",
       "      <td>a string</td>\n",
       "    </tr>\n",
       "    <tr>\n",
       "      <th>8</th>\n",
       "      <td>32400000000</td>\n",
       "      <td>0.513651</td>\n",
       "      <td>0.967115</td>\n",
       "      <td>0.005018</td>\n",
       "      <td>0.648168</td>\n",
       "      <td>NaN</td>\n",
       "    </tr>\n",
       "    <tr>\n",
       "      <th>9</th>\n",
       "      <td>36000000000</td>\n",
       "      <td>0.213689</td>\n",
       "      <td>0.963428</td>\n",
       "      <td>0.536075</td>\n",
       "      <td>0.755925</td>\n",
       "      <td>NaN</td>\n",
       "    </tr>\n",
       "    <tr>\n",
       "      <th>10</th>\n",
       "      <td>39600000000</td>\n",
       "      <td>NaN</td>\n",
       "      <td>NaN</td>\n",
       "      <td>NaN</td>\n",
       "      <td>0.802128</td>\n",
       "      <td>NaN</td>\n",
       "    </tr>\n",
       "  </tbody>\n",
       "</table>\n",
       "</div>"
      ],
      "text/plain": [
       "     timestamps  randGTS.lat  randGTS.lon   randGTS    randTS  stringTS\n",
       "0    3600000000     0.921109     0.148312  0.893122       NaN       NaN\n",
       "1    7200000000     0.618911     0.855604  0.941527  0.389260       NaN\n",
       "2   10800000000     0.703005     0.604667  0.579870  0.377414       NaN\n",
       "3   14400000000     0.602961     0.938736  0.314582  0.233060       NaN\n",
       "4   18000000000     0.113448     0.722528  0.924263  0.319086  a string\n",
       "5   21600000000     0.580234     0.996410  0.048028  0.943076  a string\n",
       "6   25200000000     0.587144     0.240787  0.459515  0.380149  a string\n",
       "7   28800000000     0.280633     0.892010  0.008560  0.988660  a string\n",
       "8   32400000000     0.513651     0.967115  0.005018  0.648168       NaN\n",
       "9   36000000000     0.213689     0.963428  0.536075  0.755925       NaN\n",
       "10  39600000000          NaN          NaN       NaN  0.802128       NaN"
      ]
     },
     "execution_count": 17,
     "metadata": {},
     "output_type": "execute_result"
    }
   ],
   "source": [
    "listGts = s.pop()\n",
    "df4 = pd.DataFrame.from_dict(pkl.loads(listGts))\n",
    "df4"
   ]
  }
 ],
 "metadata": {
  "kernelspec": {
   "display_name": "Python 3",
   "language": "python",
   "name": "python3"
  },
  "language_info": {
   "codemirror_mode": {
    "name": "ipython",
    "version": 3
   },
   "file_extension": ".py",
   "mimetype": "text/x-python",
   "name": "python",
   "nbconvert_exporter": "python",
   "pygments_lexer": "ipython3",
   "version": "3.6.8"
  },
  "toc": {
   "base_numbering": 1,
   "nav_menu": {},
   "number_sections": false,
   "sideBar": false,
   "skip_h1_title": false,
   "title_cell": "Table of Contents",
   "title_sidebar": "Contents",
   "toc_cell": false,
   "toc_position": {},
   "toc_section_display": false,
   "toc_window_display": false
  }
 },
 "nbformat": 4,
 "nbformat_minor": 2
}
