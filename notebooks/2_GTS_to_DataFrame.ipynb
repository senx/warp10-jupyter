{
 "cells": [
  {
   "cell_type": "markdown",
   "metadata": {},
   "source": [
    "### This notebook shows how to make a Pandas DataFrame from WarpScript GTS"
   ]
  },
  {
   "cell_type": "markdown",
   "metadata": {},
   "source": [
    "### 1. From a single GTS to a DataFrame"
   ]
  },
  {
   "cell_type": "code",
   "execution_count": 1,
   "metadata": {},
   "outputs": [
    {
     "name": "stdout",
     "output_type": "stream",
     "text": [
      "Created `%w` as an alias for `%warpscript`.\n",
      "Created `%%w` as an alias for `%%warpscript`.\n"
     ]
    }
   ],
   "source": [
    "%load_ext warpscript\n",
    "%alias_magic w warpscript"
   ]
  },
  {
   "cell_type": "markdown",
   "metadata": {},
   "source": [
    "We will need pandas and pickle libraries."
   ]
  },
  {
   "cell_type": "code",
   "execution_count": 2,
   "metadata": {},
   "outputs": [],
   "source": [
    "import pandas as pd\n",
    "import pickle as pkl"
   ]
  },
  {
   "cell_type": "markdown",
   "metadata": {},
   "source": [
    "We first create a random GTS."
   ]
  },
  {
   "cell_type": "code",
   "execution_count": 3,
   "metadata": {},
   "outputs": [
    {
     "name": "stdout",
     "output_type": "stream",
     "text": [
      "Local gateway launched on port 34613\n",
      "Creating a new WarpScript stack accessible under variable \"s\".\n"
     ]
    },
    {
     "data": {
      "text/plain": [
       "top: \trandGTS{}<DOUBLE, 10 values>"
      ]
     },
     "execution_count": 3,
     "metadata": {},
     "output_type": "execute_result"
    }
   ],
   "source": [
    "%%w -s s -l\n",
    "NEWGTS 'randGTS' RENAME 1 10 <% h RAND RAND NaN RAND ADDVALUE %> FOR"
   ]
  },
  {
   "cell_type": "markdown",
   "metadata": {},
   "source": [
    "In order to make a GTS understood by a python interpreter, we store its content in a map of lists and pickle it as a dict.<br/>\n",
    "The macro `GTStoPickledDict` does this. To load it, you can place the file `macros/GTStoPickledDict.mc2`<br/>\n",
    "in the macros folder of the Warp 10 platform you are sending requests to, or you can execute the following cell."
   ]
  },
  {
   "cell_type": "code",
   "execution_count": 4,
   "metadata": {},
   "outputs": [
    {
     "data": {
      "text/plain": [
       "top: \trandGTS{}<DOUBLE, 10 values>"
      ]
     },
     "execution_count": 4,
     "metadata": {},
     "output_type": "execute_result"
    }
   ],
   "source": [
    "%%w -s s\n",
    "<%\n",
    "    # Documenting the macro\n",
    "    'GTS BOOLEAN @GTStoPickledDict, more doc in macros/GTStoPickledDict.mc2' DOC\n",
    "\n",
    "    # Check there is two arguments on the stack\n",
    "    <% DEPTH 2 < %> <% 'Macro takes two arguments' MSGFAIL %> IFT\n",
    "        \n",
    "    # Check that top is a boolean indicating whether to use GTS classname or selector\n",
    "    <% 1 PICK TYPEOF 'BOOLEAN' != %> <% 'First argument must be a boolean indicating whether to use GTS selector (true) or classname (false)' MSGFAIL %> IFT\n",
    "    \n",
    "    # Check that second argument is a GTS\n",
    "    <% 2 PICK TYPEOF 'GTS' != %> <% 'Second argument must be a GTS' MSGFAIL %> IFT\n",
    "    \n",
    "    # Store the arguments\n",
    "    'withSelector' STORE\n",
    "    'gts' STORE\n",
    "    \n",
    "    # Make name\n",
    "    $gts <% $withSelector %> <% TOSELECTOR %> <% NAME %> IFTE\n",
    "    'name' STORE\n",
    "    \n",
    "    # macro: check not all NaN (for locations and elevations)\n",
    "    <% UNIQUE DUP SIZE 1 == SWAP 0 GET ISNaN && %> 'isAllNaN' STORE\n",
    "        \n",
    "    # Return pickled dict for pandas\n",
    "    {\n",
    "        # ticks\n",
    "        'timestamps' $gts TICKLIST\n",
    "        \n",
    "        # locations\n",
    "        $gts LOCATIONS 'lon' STORE 'lat' STORE\n",
    "        <% $lat @isAllNaN ! %> <% $name '.lat' + $lat %> IFT\n",
    "        <% $lon @isAllNaN ! %> <% $name '.lon' + $lon %> IFT\n",
    "        \n",
    "        # elevations\n",
    "        $gts ELEVATIONS 'elev' STORE\n",
    "        <% $elev @isAllNaN ! %> <% $name '.elev' + $elev %> IFT\n",
    "        \n",
    "        # values        \n",
    "        $name $gts VALUES\n",
    "    }\n",
    "    ->PICKLE\n",
    "%>\n",
    "'GTStoPickledDict' STORE"
   ]
  },
  {
   "cell_type": "markdown",
   "metadata": {},
   "source": [
    "We evaluate the macro on the random GTS that was left on the stack.<br/>\n",
    "Setting the first argument to false means we drop its labels for its pickled representation."
   ]
  },
  {
   "cell_type": "code",
   "execution_count": 5,
   "metadata": {},
   "outputs": [
    {
     "data": {
      "text/plain": [
       "top: \tb'\\x80\\x02}q\\x00(X\\n\\x00\\x00\\x00timestampsq\\x01]q\\x02(I3600000000\\nI7200000000\\nI10800000000\\nI14400000000\\nI18000000000\\nI21600000000\\nI25200000000\\nI28800000000\\nI32400000000\\nI36000000000\\neX\\x0b\\x00\\x00\\x00randGTS.latq\\x03]q\\x04(G?\\xee\\xc8\\xb1\\xd7\\x80\\x00\\x00G?\\xc7\\xbb\\x1f\\xfe\\x00\\x00\\x00G?\\xda\\x1e\\x18\\n\\x00\\x00\\x00G?\\xc6\\x1aq\\x9a\\x00\\x00\\x00G?ru8@\\x00\\x00\\x00G?\\xd1K0\\xaf\\x00\\x00\\x00G?\\xdfa;5\\x00\\x00\\x00G?\\xde\\x00\\xffK\\x00\\x00\\x00G?\\xd0\\xb4\\xe2\\x85\\x00\\x00\\x00G?\\xef\\xfcwd\\x80\\x00\\x00eX\\x0b\\x00\\x00\\x00randGTS.lonq\\x05]q\\x06(G?\\xd1\\xff\\xd5\\n\\x00\\x00\\x00G?\\x9e\\x04\\t \\x00\\x00\\x00G?\\xe5\\x86;8\\x00\\x00\\x00G?\\xe3\\xd52?\\x00\\x00\\x00G?\\xc33\\xa9\\x88\\x00\\x00\\x00G?\\xe6l\\xf2?\\x00\\x00\\x00G?\\xdf\\x17\\xd6z\\x00\\x00\\x00G?\\xe7\\x92\\xf8{\\x00\\x00\\x00G?\\xcc\\xa8zH\\x00\\x00\\x00G?\\xd0\\x9at,\\x00\\x00\\x00eX\\x07\\x00\\x00\\x00randGTSq\\x07]q\\x08(G?\\xed+*\\xff\\xe7\\\\bG?\\xed$#\\xf4\\xc6\\x19\\x98G?\\xe7mp\\xe6C\\rXG?\\xc4\\xac\\xa0\\x1b<\\x0eDG?\\xeb\\x7f\\x87\\x8d\\x9e\\xde\\xe9G?\\xe4\\x01\\xdd\\xb7JnNG?\\xbc\\x95\\xccGG\\r\\xd8G?\\xd1\\xd2n/\\xca`\\xaeG?\\xea\\x929\\xd4C\\x1d\\xb1G?\\xec#Q\\x13F:jeu.'"
      ]
     },
     "execution_count": 5,
     "metadata": {},
     "output_type": "execute_result"
    }
   ],
   "source": [
    "%%w -s s\n",
    "false\n",
    "@GTStoPickledDict # use instead '@./GTStoPickledDict' if GTStoPickledDict.mc2 is in the macros folder"
   ]
  },
  {
   "cell_type": "markdown",
   "metadata": {},
   "source": [
    "We then load the dict from its pickled representation and create a pandas dataframe with it."
   ]
  },
  {
   "cell_type": "code",
   "execution_count": 6,
   "metadata": {},
   "outputs": [
    {
     "data": {
      "text/html": [
       "<div>\n",
       "<style scoped>\n",
       "    .dataframe tbody tr th:only-of-type {\n",
       "        vertical-align: middle;\n",
       "    }\n",
       "\n",
       "    .dataframe tbody tr th {\n",
       "        vertical-align: top;\n",
       "    }\n",
       "\n",
       "    .dataframe thead th {\n",
       "        text-align: right;\n",
       "    }\n",
       "</style>\n",
       "<table border=\"1\" class=\"dataframe\">\n",
       "  <thead>\n",
       "    <tr style=\"text-align: right;\">\n",
       "      <th></th>\n",
       "      <th>timestamps</th>\n",
       "      <th>randGTS.lat</th>\n",
       "      <th>randGTS.lon</th>\n",
       "      <th>randGTS</th>\n",
       "    </tr>\n",
       "  </thead>\n",
       "  <tbody>\n",
       "    <tr>\n",
       "      <th>0</th>\n",
       "      <td>3600000000</td>\n",
       "      <td>0.961999</td>\n",
       "      <td>0.281240</td>\n",
       "      <td>0.911520</td>\n",
       "    </tr>\n",
       "    <tr>\n",
       "      <th>1</th>\n",
       "      <td>7200000000</td>\n",
       "      <td>0.185398</td>\n",
       "      <td>0.029312</td>\n",
       "      <td>0.910662</td>\n",
       "    </tr>\n",
       "    <tr>\n",
       "      <th>2</th>\n",
       "      <td>10800000000</td>\n",
       "      <td>0.408087</td>\n",
       "      <td>0.672636</td>\n",
       "      <td>0.732109</td>\n",
       "    </tr>\n",
       "    <tr>\n",
       "      <th>3</th>\n",
       "      <td>14400000000</td>\n",
       "      <td>0.172682</td>\n",
       "      <td>0.619775</td>\n",
       "      <td>0.161518</td>\n",
       "    </tr>\n",
       "    <tr>\n",
       "      <th>4</th>\n",
       "      <td>18000000000</td>\n",
       "      <td>0.004506</td>\n",
       "      <td>0.150014</td>\n",
       "      <td>0.859318</td>\n",
       "    </tr>\n",
       "    <tr>\n",
       "      <th>5</th>\n",
       "      <td>21600000000</td>\n",
       "      <td>0.270214</td>\n",
       "      <td>0.700799</td>\n",
       "      <td>0.625228</td>\n",
       "    </tr>\n",
       "    <tr>\n",
       "      <th>6</th>\n",
       "      <td>25200000000</td>\n",
       "      <td>0.490310</td>\n",
       "      <td>0.485830</td>\n",
       "      <td>0.111661</td>\n",
       "    </tr>\n",
       "    <tr>\n",
       "      <th>7</th>\n",
       "      <td>28800000000</td>\n",
       "      <td>0.468811</td>\n",
       "      <td>0.736691</td>\n",
       "      <td>0.278469</td>\n",
       "    </tr>\n",
       "    <tr>\n",
       "      <th>8</th>\n",
       "      <td>32400000000</td>\n",
       "      <td>0.261040</td>\n",
       "      <td>0.223892</td>\n",
       "      <td>0.830350</td>\n",
       "    </tr>\n",
       "    <tr>\n",
       "      <th>9</th>\n",
       "      <td>36000000000</td>\n",
       "      <td>0.999569</td>\n",
       "      <td>0.259427</td>\n",
       "      <td>0.879311</td>\n",
       "    </tr>\n",
       "  </tbody>\n",
       "</table>\n",
       "</div>"
      ],
      "text/plain": [
       "    timestamps  randGTS.lat  randGTS.lon   randGTS\n",
       "0   3600000000     0.961999     0.281240  0.911520\n",
       "1   7200000000     0.185398     0.029312  0.910662\n",
       "2  10800000000     0.408087     0.672636  0.732109\n",
       "3  14400000000     0.172682     0.619775  0.161518\n",
       "4  18000000000     0.004506     0.150014  0.859318\n",
       "5  21600000000     0.270214     0.700799  0.625228\n",
       "6  25200000000     0.490310     0.485830  0.111661\n",
       "7  28800000000     0.468811     0.736691  0.278469\n",
       "8  32400000000     0.261040     0.223892  0.830350\n",
       "9  36000000000     0.999569     0.259427  0.879311"
      ]
     },
     "execution_count": 6,
     "metadata": {},
     "output_type": "execute_result"
    }
   ],
   "source": [
    "gts1 = s.pop()\n",
    "df1 = pd.DataFrame.from_dict(pkl.loads(gts1))\n",
    "df1"
   ]
  },
  {
   "cell_type": "markdown",
   "metadata": {},
   "source": [
    "In the following example, we choose to keep label information."
   ]
  },
  {
   "cell_type": "code",
   "execution_count": 7,
   "metadata": {},
   "outputs": [
    {
     "data": {
      "text/plain": [
       "top: \tb'\\x80\\x02}q\\x00(X\\n\\x00\\x00\\x00timestampsq\\x01]q\\x02(I3600000000\\nI7200000000\\nI10800000000\\nI14400000000\\nI18000000000\\nI21600000000\\nI25200000000\\nI28800000000\\nI32400000000\\nI36000000000\\neX\"\\x00\\x00\\x00randGTS{key1=info1,key2=info2}.latq\\x03]q\\x04(G?\\xc7j\\x18\\xc0\\x00\\x00\\x00G?\\xb5\\xf6UD\\x00\\x00\\x00G?\\xeb\\x13\\x1eo\\x80\\x00\\x00G?\\xa0IH\\xb8\\x00\\x00\\x00G?\\xed\\xc2\\x89\\xb4\\x00\\x00\\x00G?\\xda\\xcfd\\xb1\\x00\\x00\\x00G?\\xa6\\x87(X\\x00\\x00\\x00G?\\xcf\\xe1[\\x1c\\x00\\x00\\x00G?\\xe9R\\xdc\\xeb\\x80\\x00\\x00G?\\xbf)\\xf0l\\x00\\x00\\x00eX\"\\x00\\x00\\x00randGTS{key1=info1,key2=info2}.lonq\\x05]q\\x06(G?\\xca\\xaf\\xb4\\x90\\x00\\x00\\x00G?\\xd8\\xb1\\xa8~\\x00\\x00\\x00G?\\xe5\\xf9oE\\x00\\x00\\x00G?\\xeb\\x0f\\xd4[\\x00\\x00\\x00G?\\xc7*\\x0fd\\x00\\x00\\x00G?\\xd4\\x15\\xceb\\x00\\x00\\x00G?\\xder\\x92d\\x00\\x00\\x00G?\\xe4z\\xce\\x0c\\x00\\x00\\x00G?\\xe1\\x81\\xc1$\\x00\\x00\\x00G?\\xc1\\'\\xbf\\xbc\\x00\\x00\\x00eX\\x1e\\x00\\x00\\x00randGTS{key1=info1,key2=info2}q\\x07]q\\x08(G?\\xe9\\xeb\\xd2c(\\x10\\x14G?\\xba\\xfd\\xf5Z\\x01\\xa6\\x80G?\\xd5\\x04\\x16\\x03\\x83\\xff\\x06G?\\xeb\\xb4Z]L_\\xaeG?\\xed\\xb2\\xc8\\x95\\xd5-\\x89G?\\xaf*gS\\t\\xf2\\x80G?\\xda\\n*\\xf5\\xb2\\xfdXG?\\xd5t\\xb2\\xa6d\\xaf\\x90G?\\xc8i\\xadK\\xfe\\xd3\\xc0G?\\xb6\\x9a\\x08\\xd7\\xe9\\xa6\\xc8eu.'"
      ]
     },
     "execution_count": 7,
     "metadata": {},
     "output_type": "execute_result"
    }
   ],
   "source": [
    "%%w -s s\n",
    "NEWGTS 'randGTS' RENAME 1 10 <% h RAND RAND NaN RAND ADDVALUE %> FOR\n",
    "{ 'key1' 'info1' 'key2' 'info2' } RELABEL\n",
    "true\n",
    "@GTStoPickledDict # use instead '@./GTStoPickledDict' if GTStoPickledDict.mc2 is in the macros folder"
   ]
  },
  {
   "cell_type": "code",
   "execution_count": 8,
   "metadata": {},
   "outputs": [
    {
     "data": {
      "text/html": [
       "<div>\n",
       "<style scoped>\n",
       "    .dataframe tbody tr th:only-of-type {\n",
       "        vertical-align: middle;\n",
       "    }\n",
       "\n",
       "    .dataframe tbody tr th {\n",
       "        vertical-align: top;\n",
       "    }\n",
       "\n",
       "    .dataframe thead th {\n",
       "        text-align: right;\n",
       "    }\n",
       "</style>\n",
       "<table border=\"1\" class=\"dataframe\">\n",
       "  <thead>\n",
       "    <tr style=\"text-align: right;\">\n",
       "      <th></th>\n",
       "      <th>timestamps</th>\n",
       "      <th>randGTS{key1=info1,key2=info2}.lat</th>\n",
       "      <th>randGTS{key1=info1,key2=info2}.lon</th>\n",
       "      <th>randGTS{key1=info1,key2=info2}</th>\n",
       "    </tr>\n",
       "  </thead>\n",
       "  <tbody>\n",
       "    <tr>\n",
       "      <th>0</th>\n",
       "      <td>3600000000</td>\n",
       "      <td>0.182925</td>\n",
       "      <td>0.208487</td>\n",
       "      <td>0.810037</td>\n",
       "    </tr>\n",
       "    <tr>\n",
       "      <th>1</th>\n",
       "      <td>7200000000</td>\n",
       "      <td>0.085790</td>\n",
       "      <td>0.385843</td>\n",
       "      <td>0.105438</td>\n",
       "    </tr>\n",
       "    <tr>\n",
       "      <th>2</th>\n",
       "      <td>10800000000</td>\n",
       "      <td>0.846084</td>\n",
       "      <td>0.686699</td>\n",
       "      <td>0.328374</td>\n",
       "    </tr>\n",
       "    <tr>\n",
       "      <th>3</th>\n",
       "      <td>14400000000</td>\n",
       "      <td>0.031809</td>\n",
       "      <td>0.845682</td>\n",
       "      <td>0.865766</td>\n",
       "    </tr>\n",
       "    <tr>\n",
       "      <th>4</th>\n",
       "      <td>18000000000</td>\n",
       "      <td>0.929997</td>\n",
       "      <td>0.180971</td>\n",
       "      <td>0.928074</td>\n",
       "    </tr>\n",
       "    <tr>\n",
       "      <th>5</th>\n",
       "      <td>21600000000</td>\n",
       "      <td>0.418908</td>\n",
       "      <td>0.313831</td>\n",
       "      <td>0.060870</td>\n",
       "    </tr>\n",
       "    <tr>\n",
       "      <th>6</th>\n",
       "      <td>25200000000</td>\n",
       "      <td>0.044000</td>\n",
       "      <td>0.475743</td>\n",
       "      <td>0.406871</td>\n",
       "    </tr>\n",
       "    <tr>\n",
       "      <th>7</th>\n",
       "      <td>28800000000</td>\n",
       "      <td>0.249065</td>\n",
       "      <td>0.639991</td>\n",
       "      <td>0.335248</td>\n",
       "    </tr>\n",
       "    <tr>\n",
       "      <th>8</th>\n",
       "      <td>32400000000</td>\n",
       "      <td>0.791365</td>\n",
       "      <td>0.547089</td>\n",
       "      <td>0.190725</td>\n",
       "    </tr>\n",
       "    <tr>\n",
       "      <th>9</th>\n",
       "      <td>36000000000</td>\n",
       "      <td>0.121734</td>\n",
       "      <td>0.134026</td>\n",
       "      <td>0.088288</td>\n",
       "    </tr>\n",
       "  </tbody>\n",
       "</table>\n",
       "</div>"
      ],
      "text/plain": [
       "    timestamps  randGTS{key1=info1,key2=info2}.lat  \\\n",
       "0   3600000000                            0.182925   \n",
       "1   7200000000                            0.085790   \n",
       "2  10800000000                            0.846084   \n",
       "3  14400000000                            0.031809   \n",
       "4  18000000000                            0.929997   \n",
       "5  21600000000                            0.418908   \n",
       "6  25200000000                            0.044000   \n",
       "7  28800000000                            0.249065   \n",
       "8  32400000000                            0.791365   \n",
       "9  36000000000                            0.121734   \n",
       "\n",
       "   randGTS{key1=info1,key2=info2}.lon  randGTS{key1=info1,key2=info2}  \n",
       "0                            0.208487                        0.810037  \n",
       "1                            0.385843                        0.105438  \n",
       "2                            0.686699                        0.328374  \n",
       "3                            0.845682                        0.865766  \n",
       "4                            0.180971                        0.928074  \n",
       "5                            0.313831                        0.060870  \n",
       "6                            0.475743                        0.406871  \n",
       "7                            0.639991                        0.335248  \n",
       "8                            0.547089                        0.190725  \n",
       "9                            0.134026                        0.088288  "
      ]
     },
     "execution_count": 8,
     "metadata": {},
     "output_type": "execute_result"
    }
   ],
   "source": [
    "gts2 = s.pop()\n",
    "df2 = pd.DataFrame.from_dict(pkl.loads(gts2))\n",
    "df2"
   ]
  },
  {
   "cell_type": "markdown",
   "metadata": {},
   "source": [
    "We can also not use geo information."
   ]
  },
  {
   "cell_type": "code",
   "execution_count": 9,
   "metadata": {},
   "outputs": [
    {
     "data": {
      "text/plain": [
       "top: \tb'\\x80\\x02}q\\x00(X\\n\\x00\\x00\\x00timestampsq\\x01]q\\x02(I7200000000\\nI10800000000\\nI14400000000\\nI18000000000\\nI21600000000\\nI25200000000\\nI28800000000\\nI32400000000\\nI36000000000\\nI39600000000\\neX\\x06\\x00\\x00\\x00randTSq\\x03]q\\x04(G?\\xcdVJf\\xb9\\xa8\\x14G?\\xd1\\xf7\\xc4\\n{\\xb0>G?\\xc6T\\x12Q\\xd0\\xe7\\x94G?\\xe2\\xd1\\xa6\\xd0&\\xb5\\x0cG?\\xe0u\\xcfV\\xce\\xd7\\xf1G?\\xe5fL\"\\x96]\\x17G?\\xcb\\xe0[\\xea\\xe4\\xa1\\xc0G?\\x9a\\xe7\\xe0:=\\xf2@G?\\xdf\\xa4\\'{\\xa5r>G?\\xa6\\x96\\xc1\\xe1\\x10s0eu.'"
      ]
     },
     "execution_count": 9,
     "metadata": {},
     "output_type": "execute_result"
    }
   ],
   "source": [
    "%%w -s s\n",
    "NEWGTS 'randTS' RENAME 2 11 <% h NaN NaN NaN RAND ADDVALUE %> FOR\n",
    "false\n",
    "@GTStoPickledDict # use instead '@./GTStoPickledDict' if GTStoPickledDict.mc2 is in the macros folder"
   ]
  },
  {
   "cell_type": "code",
   "execution_count": 10,
   "metadata": {},
   "outputs": [
    {
     "data": {
      "text/html": [
       "<div>\n",
       "<style scoped>\n",
       "    .dataframe tbody tr th:only-of-type {\n",
       "        vertical-align: middle;\n",
       "    }\n",
       "\n",
       "    .dataframe tbody tr th {\n",
       "        vertical-align: top;\n",
       "    }\n",
       "\n",
       "    .dataframe thead th {\n",
       "        text-align: right;\n",
       "    }\n",
       "</style>\n",
       "<table border=\"1\" class=\"dataframe\">\n",
       "  <thead>\n",
       "    <tr style=\"text-align: right;\">\n",
       "      <th></th>\n",
       "      <th>timestamps</th>\n",
       "      <th>randTS</th>\n",
       "    </tr>\n",
       "  </thead>\n",
       "  <tbody>\n",
       "    <tr>\n",
       "      <th>0</th>\n",
       "      <td>7200000000</td>\n",
       "      <td>0.229196</td>\n",
       "    </tr>\n",
       "    <tr>\n",
       "      <th>1</th>\n",
       "      <td>10800000000</td>\n",
       "      <td>0.280747</td>\n",
       "    </tr>\n",
       "    <tr>\n",
       "      <th>2</th>\n",
       "      <td>14400000000</td>\n",
       "      <td>0.174441</td>\n",
       "    </tr>\n",
       "    <tr>\n",
       "      <th>3</th>\n",
       "      <td>18000000000</td>\n",
       "      <td>0.588092</td>\n",
       "    </tr>\n",
       "    <tr>\n",
       "      <th>4</th>\n",
       "      <td>21600000000</td>\n",
       "      <td>0.514381</td>\n",
       "    </tr>\n",
       "    <tr>\n",
       "      <th>5</th>\n",
       "      <td>25200000000</td>\n",
       "      <td>0.668737</td>\n",
       "    </tr>\n",
       "    <tr>\n",
       "      <th>6</th>\n",
       "      <td>28800000000</td>\n",
       "      <td>0.217784</td>\n",
       "    </tr>\n",
       "    <tr>\n",
       "      <th>7</th>\n",
       "      <td>32400000000</td>\n",
       "      <td>0.026275</td>\n",
       "    </tr>\n",
       "    <tr>\n",
       "      <th>8</th>\n",
       "      <td>36000000000</td>\n",
       "      <td>0.494394</td>\n",
       "    </tr>\n",
       "    <tr>\n",
       "      <th>9</th>\n",
       "      <td>39600000000</td>\n",
       "      <td>0.044119</td>\n",
       "    </tr>\n",
       "  </tbody>\n",
       "</table>\n",
       "</div>"
      ],
      "text/plain": [
       "    timestamps    randTS\n",
       "0   7200000000  0.229196\n",
       "1  10800000000  0.280747\n",
       "2  14400000000  0.174441\n",
       "3  18000000000  0.588092\n",
       "4  21600000000  0.514381\n",
       "5  25200000000  0.668737\n",
       "6  28800000000  0.217784\n",
       "7  32400000000  0.026275\n",
       "8  36000000000  0.494394\n",
       "9  39600000000  0.044119"
      ]
     },
     "execution_count": 10,
     "metadata": {},
     "output_type": "execute_result"
    }
   ],
   "source": [
    "gts3 = s.pop()\n",
    "df3 = pd.DataFrame.from_dict(pkl.loads(gts3))\n",
    "df3"
   ]
  },
  {
   "cell_type": "markdown",
   "metadata": {},
   "source": [
    "### 2. Revert a DataFrame to a GTS"
   ]
  },
  {
   "cell_type": "markdown",
   "metadata": {},
   "source": [
    "To revert a DataFrame to a GTS, we first need to convert the DataFrame into a dict."
   ]
  },
  {
   "cell_type": "code",
   "execution_count": 11,
   "metadata": {},
   "outputs": [
    {
     "data": {
      "text/plain": [
       "{'timestamps': [3600000000,\n",
       "  7200000000,\n",
       "  10800000000,\n",
       "  14400000000,\n",
       "  18000000000,\n",
       "  21600000000,\n",
       "  25200000000,\n",
       "  28800000000,\n",
       "  32400000000,\n",
       "  36000000000],\n",
       " 'randGTS.lat': [0.9619988640770316,\n",
       "  0.18539810087531805,\n",
       "  0.4080867860466242,\n",
       "  0.17268199939280748,\n",
       "  0.00450632069259882,\n",
       "  0.27021424379199743,\n",
       "  0.49030952621251345,\n",
       "  0.468810866586864,\n",
       "  0.2610403345897794,\n",
       "  0.9995686495676637],\n",
       " 'randGTS.lon': [0.2812397573143244,\n",
       "  0.029312269762158394,\n",
       "  0.6726356595754623,\n",
       "  0.6197749357670546,\n",
       "  0.15001410618424416,\n",
       "  0.7007991056889296,\n",
       "  0.48582994379103184,\n",
       "  0.7366907503455877,\n",
       "  0.22389153018593788,\n",
       "  0.25942711159586906],\n",
       " 'randGTS': [0.9115195272560295,\n",
       "  0.9106616764773205,\n",
       "  0.7321094987204715,\n",
       "  0.1615181096059236,\n",
       "  0.8593175664927603,\n",
       "  0.6252277927300811,\n",
       "  0.11166073551344569,\n",
       "  0.2784686533646078,\n",
       "  0.8303498407121223,\n",
       "  0.8793111206485495]}"
      ]
     },
     "execution_count": 11,
     "metadata": {},
     "output_type": "execute_result"
    }
   ],
   "source": [
    "gts1b = df1.to_dict('list')\n",
    "gts1b"
   ]
  },
  {
   "cell_type": "markdown",
   "metadata": {},
   "source": [
    "We can push this dict directly onto the stack, since it will be automatically converted in the JVM."
   ]
  },
  {
   "cell_type": "code",
   "execution_count": 12,
   "metadata": {},
   "outputs": [
    {
     "data": {
      "text/plain": [
       "top: \t{'randGTS.lat': [0.9619988640770316, 0.18539810087531805, 0.4080867860466242, 0.17268199939280748, 0.00450632069259882, 0.27021424379199743, 0.49030952621251345, 0.468810866586864, 0.2610403345897794, 0.9995686495676637], 'timestamps': [3600000000, 7200000000, 10800000000, 14400000000, 18000000000, 21600000000, 25200000000, 28800000000, 32400000000, 36000000000], 'randGTS': [0.9115195272560295, 0.9106616764773205, 0.7321094987204715, 0.1615181096059236, 0.8593175664927603, 0.6252277927300811, 0.11166073551344569, 0.2784686533646078, 0.8303498407121223, 0.8793111206485495], 'randGTS.lon': [0.2812397573143244, 0.029312269762158394, 0.6726356595754623, 0.6197749357670546, 0.15001410618424416, 0.7007991056889296, 0.48582994379103184, 0.7366907503455877, 0.22389153018593788, 0.25942711159586906]}"
      ]
     },
     "execution_count": 12,
     "metadata": {},
     "output_type": "execute_result"
    }
   ],
   "source": [
    "s.push(gts1b)\n",
    "s"
   ]
  },
  {
   "cell_type": "markdown",
   "metadata": {},
   "source": [
    "Now we can use the lists contained in this map to populate a GTS."
   ]
  },
  {
   "cell_type": "code",
   "execution_count": 13,
   "metadata": {},
   "outputs": [
    {
     "data": {
      "text/plain": [
       "top: \trandGTS{}<DOUBLE, 10 values>"
      ]
     },
     "execution_count": 13,
     "metadata": {},
     "output_type": "execute_result"
    }
   ],
   "source": [
    "%%w -s s\n",
    "'dict' STORE\n",
    "$dict 'timestamps' GET\n",
    "$dict 'randGTS.lat' GET\n",
    "$dict 'randGTS.lon' GET\n",
    "[] // no elevation\n",
    "$dict 'randGTS' GET\n",
    "MAKEGTS 'randGTS' RENAME"
   ]
  },
  {
   "cell_type": "code",
   "execution_count": 14,
   "metadata": {},
   "outputs": [
    {
     "name": "stdout",
     "output_type": "stream",
     "text": [
      "randGTS{}\n",
      "=3600000000/0.9619988640770316:0.2812397573143244/ 0.9115195272560295\n",
      "=7200000000/0.18539810087531805:0.029312269762158394/ 0.9106616764773205\n",
      "=10800000000/0.4080867860466242:0.6726356595754623/ 0.7321094987204715\n",
      "=14400000000/0.17268199939280748:0.6197749357670546/ 0.1615181096059236\n",
      "=18000000000/0.00450632069259882:0.15001410618424416/ 0.8593175664927603\n",
      "=21600000000/0.27021424379199743:0.7007991056889296/ 0.6252277927300811\n",
      "=25200000000/0.49030952621251345:0.48582994379103184/ 0.11166073551344569\n",
      "=28800000000/0.468810866586864:0.7366907503455877/ 0.2784686533646078\n",
      "=32400000000/0.2610403345897794:0.22389153018593788/ 0.8303498407121223\n",
      "=36000000000/0.9995686495676637:0.25942711159586906/ 0.8793111206485495\n",
      "\n"
     ]
    }
   ],
   "source": [
    "print(s.pop().toString())"
   ]
  },
  {
   "cell_type": "markdown",
   "metadata": {},
   "source": [
    "### 3. From a list of GTS to a DataFrame"
   ]
  },
  {
   "cell_type": "markdown",
   "metadata": {},
   "source": [
    "We want to put every GTS of a list in a same DataFrame with a single `timestamps` column.<br/>\n",
    "Since every GTS don't have values for the same timestamps, we need to handle missing values,<br/>\n",
    "and we need to make the assumption that each GTS can have at most one value per timestamp.<br/>\n",
    "It is more efficient to do that in WarpScript, as done by the macro `ListGTStoPickledDict`."
   ]
  },
  {
   "cell_type": "markdown",
   "metadata": {},
   "source": [
    "If there are many unaligned ticks, consider converting to lists of single column dataFrame or Series instead."
   ]
  },
  {
   "cell_type": "code",
   "execution_count": 15,
   "metadata": {},
   "outputs": [
    {
     "name": "stdout",
     "output_type": "stream",
     "text": [
      "Creating a new WarpScript stack accessible under variable \"s\".\n"
     ]
    },
    {
     "data": {
      "text/plain": []
     },
     "execution_count": 15,
     "metadata": {},
     "output_type": "execute_result"
    }
   ],
   "source": [
    "%%w -s s -o -l\n",
    "<%\n",
    "    # Documenting the macro\n",
    "    '[GTS] BOOLEAN @ListGTStoPickledDict , more doc in macros/ListGTStoPickledDict.mc2' DOC\n",
    "\n",
    "    # Check there is two arguments on the stack\n",
    "    <% DEPTH 2 < %> <% 'Macro takes two arguments' MSGFAIL %> IFT\n",
    "        \n",
    "    # Check that top is a boolean indicating whether to use GTS classname or selector\n",
    "    <% 1 PICK TYPEOF 'BOOLEAN' != %> <% 'First argument must be a boolean indicating whether to use GTS selector (true) or classname (false)' MSGFAIL %> IFT\n",
    "    \n",
    "    # Check that second argument is a list of GTS\n",
    "    <% 2 PICK TYPEOF 'LIST' != %> <% 'Second argument must be a List of GTS' MSGFAIL %> IFT\n",
    "    2 PICK <% <% TYPEOF 'GTS' != %> <% 'Second argument is a list that has an element that is not a GTS' MSGFAIL %> IFT %> FOREACH\n",
    "    \n",
    "    # Store the arguments\n",
    "    'withSelector' STORE\n",
    "    'gtsList' STORE\n",
    "    \n",
    "    # make tickbase of all GTS\n",
    "    $gtsList TICKS 'ticks' STORE\n",
    "    $ticks [] [] [] $ticks MAKEGTS 'baseGTS' STORE\n",
    "    \n",
    "    # macro: check not all NaN (for locations and elevations)\n",
    "    <% UNIQUE DUP SIZE 1 == SWAP 0 GET ISNaN && %> 'isAllNaN' STORE\n",
    "        \n",
    "    # Return pickled dict for pandas\n",
    "    {\n",
    "        # ticks\n",
    "        'timestamps' $ticks\n",
    "        \n",
    "        # loop over list of GTS\n",
    "        $gtsList\n",
    "        <%\n",
    "            'gts' STORE\n",
    "            \n",
    "            # Make name\n",
    "            $gts <% $withSelector %> <% TOSELECTOR %> <% NAME %> IFTE\n",
    "            'name' STORE\n",
    "        \n",
    "            # Put on the same tick base and fill missing values with NaN\n",
    "            [ $gts true mapper.replace 0 0 0 ] MAP\n",
    "            'mask' STORE\n",
    "            [ $mask [ $baseGTS ] [] op.negmask ] APPLY\n",
    "            [ SWAP NaN mapper.replace 0 0 0 ] MAP\n",
    "            0 GET 'residualSeries' STORE\n",
    "            [ $gts $residualSeries ] MERGE SORT\n",
    "            'gts' STORE\n",
    "        \n",
    "            # locations\n",
    "            $gts LOCATIONS 'lon' STORE 'lat' STORE\n",
    "            <% $lat @isAllNaN ! %> <% $name '.lat' + $lat %> IFT\n",
    "            <% $lon @isAllNaN ! %> <% $name '.lon' + $lon %> IFT\n",
    "        \n",
    "            # elevations\n",
    "            $gts ELEVATIONS 'elev' STORE\n",
    "            <% $elev @isAllNaN ! %> <% $name '.elev' + $elev %> IFT\n",
    "        \n",
    "            # values        \n",
    "            $name $gts VALUES\n",
    "        %>\n",
    "        FOREACH\n",
    "    }\n",
    "    ->PICKLE\n",
    "%>\n",
    "'ListGTStoPickledDict' STORE"
   ]
  },
  {
   "cell_type": "markdown",
   "metadata": {},
   "source": [
    "We apply the macro `ListGTStoPickledDict` similarly than `GTStoPickledDict`,<br/>\n",
    "except that it takes a list of GTS instead of a single GTS as second argument."
   ]
  },
  {
   "cell_type": "code",
   "execution_count": 16,
   "metadata": {},
   "outputs": [
    {
     "data": {
      "text/plain": [
       "top: \tb'\\x80\\x02}q\\x00(X\\n\\x00\\x00\\x00timestampsq\\x01]q\\x02(I3600000000\\nI7200000000\\nI10800000000\\nI14400000000\\nI18000000000\\nI21600000000\\nI25200000000\\nI28800000000\\nI32400000000\\nI36000000000\\nI39600000000\\neX\\x0b\\x00\\x00\\x00randGTS.latq\\x03]q\\x04(G?\\xe1\\xf2\\xc1_\\x80\\x00\\x00G?\\xa2\\xfc\\xa5\\xf0\\x00\\x00\\x00G?r\\xb0\\xa2@\\x00\\x00\\x00G?\\x82~\\xc1\\x80\\x00\\x00\\x00G?\\xb6\\x11\\xd3\\x8c\\x00\\x00\\x00G?\\xe6\\xe7\\xc2N\\x00\\x00\\x00G?\\xe2l\\xd4a\\x00\\x00\\x00G?\\x83\\xc8\\xbd\\xc0\\x00\\x00\\x00G?\\xe914\\t\\x00\\x00\\x00G?\\xe7~\\x9b\\x83\\x00\\x00\\x00G\\x7f\\xf8\\x00\\x00\\x00\\x00\\x00\\x00eX\\x0b\\x00\\x00\\x00randGTS.lonq\\x05]q\\x06(G?\\xce\\t\\xc8\\x10\\x00\\x00\\x00G?\\xd0\\xb4\\x8c\\x90\\x00\\x00\\x00G?\\xe6\\xc2\\x81\\xff\\x00\\x00\\x00G?\\xcew\\xc8\\xec\\x00\\x00\\x00G?\\xecs\\xa2\\x82\\x00\\x00\\x00G?\\xeaeB\\x89\\x00\\x00\\x00G?\\xccJ\\xda(\\x00\\x00\\x00G?\\xcc\\xdf\\xa3$\\x00\\x00\\x00G?\\xe5#\\xba+\\x00\\x00\\x00G?\\xde\\xce\\x9fF\\x00\\x00\\x00G\\x7f\\xf8\\x00\\x00\\x00\\x00\\x00\\x00eX\\x07\\x00\\x00\\x00randGTSq\\x07]q\\x08(G?\\xe5\\xfd\\r\\xb7\\xc3\\xe5\\xf3G?\\xd8\\xf4\\xef\\\\%\\xe6\\x9aG?\\xc4\\x92\\x1aud\\xc7XG?\\xd5q\\x1f^\\xbb\\xc3\\x82G?\\xe4\\n\\x80\\x9f\\x15\\xb9\\xe2G?\\xe4\\xa2yIp2\\xf1G?\\xe14\\x19\\x80\\xe5\\xfe\\xd5G?\\xdc\\xfc\\x19ve\\xdd\\x1eG?\\xec\\r\\xab5\\x08\\x91qG?\\xd1\\x8a\\xaf\\x03\\xdc\\xb0\\xcaG\\x7f\\xf8\\x00\\x00\\x00\\x00\\x00\\x00eX\\x06\\x00\\x00\\x00randTSq\\t]q\\n(G\\x7f\\xf8\\x00\\x00\\x00\\x00\\x00\\x00G?\\xe8\\x96N\\xe6v\\xd0MG?\\xee\\xc9\\xea\\xc8\\xa8\\x11<G?\\xb5\\xb1\\xa9zV\\x0exG?\\xed.k$\\xb8.\\xeeG?\\xef\\xdd\\xe6\\xc8\\xe0\\x91\\x18G?\\xe0\\x12\\xaf|P7\\x85G?\\xd7F\\xf5\\x9d\\xc4\\xcb`G?\\xe5\\x02\\xa7c\\xdb{uG?\\xe0$\\xe7J\\x19e\\xe9G?\\xd5I\\x19\\xba;\\xd2\\x16eX\\x08\\x00\\x00\\x00stringTSq\\x0b]q\\x0c(X\\x03\\x00\\x00\\x00NaNq\\rh\\rh\\rh\\rX\\x08\\x00\\x00\\x00a stringq\\x0eh\\x0eh\\x0eh\\x0eh\\rh\\rh\\reu.'"
      ]
     },
     "execution_count": 16,
     "metadata": {},
     "output_type": "execute_result"
    }
   ],
   "source": [
    "%%w -s s\n",
    "[ NEWGTS 'randGTS' RENAME 1 10 <% h RAND RAND NaN RAND ADDVALUE %> FOR\n",
    "  NEWGTS 'randTS' RENAME 2 11 <% h NaN NaN NaN RAND ADDVALUE %> FOR\n",
    "  NEWGTS 'stringTS' RENAME 5 8 <% h NaN NaN NaN 'a string' ADDVALUE %> FOR ]\n",
    "false\n",
    "@ListGTStoPickledDict  # use instead '@./ListGTStoPickledDict' if ListGTStoPickledDict.mc2 is in the macros folder"
   ]
  },
  {
   "cell_type": "markdown",
   "metadata": {},
   "source": [
    "Contrary to our first example with a single GTS, the following cell will raise<br/>\n",
    "an error if a GTS of the list has a timestamp with multiple values."
   ]
  },
  {
   "cell_type": "code",
   "execution_count": 17,
   "metadata": {},
   "outputs": [
    {
     "data": {
      "text/html": [
       "<div>\n",
       "<style scoped>\n",
       "    .dataframe tbody tr th:only-of-type {\n",
       "        vertical-align: middle;\n",
       "    }\n",
       "\n",
       "    .dataframe tbody tr th {\n",
       "        vertical-align: top;\n",
       "    }\n",
       "\n",
       "    .dataframe thead th {\n",
       "        text-align: right;\n",
       "    }\n",
       "</style>\n",
       "<table border=\"1\" class=\"dataframe\">\n",
       "  <thead>\n",
       "    <tr style=\"text-align: right;\">\n",
       "      <th></th>\n",
       "      <th>timestamps</th>\n",
       "      <th>randGTS.lat</th>\n",
       "      <th>randGTS.lon</th>\n",
       "      <th>randGTS</th>\n",
       "      <th>randTS</th>\n",
       "      <th>stringTS</th>\n",
       "    </tr>\n",
       "  </thead>\n",
       "  <tbody>\n",
       "    <tr>\n",
       "      <th>0</th>\n",
       "      <td>3600000000</td>\n",
       "      <td>0.560883</td>\n",
       "      <td>0.234674</td>\n",
       "      <td>0.687140</td>\n",
       "      <td>NaN</td>\n",
       "      <td>NaN</td>\n",
       "    </tr>\n",
       "    <tr>\n",
       "      <th>1</th>\n",
       "      <td>7200000000</td>\n",
       "      <td>0.037084</td>\n",
       "      <td>0.261020</td>\n",
       "      <td>0.389950</td>\n",
       "      <td>0.768348</td>\n",
       "      <td>NaN</td>\n",
       "    </tr>\n",
       "    <tr>\n",
       "      <th>2</th>\n",
       "      <td>10800000000</td>\n",
       "      <td>0.004563</td>\n",
       "      <td>0.711244</td>\n",
       "      <td>0.160709</td>\n",
       "      <td>0.962148</td>\n",
       "      <td>NaN</td>\n",
       "    </tr>\n",
       "    <tr>\n",
       "      <th>3</th>\n",
       "      <td>14400000000</td>\n",
       "      <td>0.009031</td>\n",
       "      <td>0.238031</td>\n",
       "      <td>0.335029</td>\n",
       "      <td>0.084742</td>\n",
       "      <td>NaN</td>\n",
       "    </tr>\n",
       "    <tr>\n",
       "      <th>4</th>\n",
       "      <td>18000000000</td>\n",
       "      <td>0.086210</td>\n",
       "      <td>0.889116</td>\n",
       "      <td>0.626282</td>\n",
       "      <td>0.911916</td>\n",
       "      <td>a string</td>\n",
       "    </tr>\n",
       "    <tr>\n",
       "      <th>5</th>\n",
       "      <td>21600000000</td>\n",
       "      <td>0.715791</td>\n",
       "      <td>0.824861</td>\n",
       "      <td>0.644833</td>\n",
       "      <td>0.995838</td>\n",
       "      <td>a string</td>\n",
       "    </tr>\n",
       "    <tr>\n",
       "      <th>6</th>\n",
       "      <td>25200000000</td>\n",
       "      <td>0.575785</td>\n",
       "      <td>0.221034</td>\n",
       "      <td>0.537610</td>\n",
       "      <td>0.502281</td>\n",
       "      <td>a string</td>\n",
       "    </tr>\n",
       "    <tr>\n",
       "      <th>7</th>\n",
       "      <td>28800000000</td>\n",
       "      <td>0.009660</td>\n",
       "      <td>0.225575</td>\n",
       "      <td>0.452887</td>\n",
       "      <td>0.363706</td>\n",
       "      <td>a string</td>\n",
       "    </tr>\n",
       "    <tr>\n",
       "      <th>8</th>\n",
       "      <td>32400000000</td>\n",
       "      <td>0.787256</td>\n",
       "      <td>0.660611</td>\n",
       "      <td>0.876669</td>\n",
       "      <td>0.656574</td>\n",
       "      <td>NaN</td>\n",
       "    </tr>\n",
       "    <tr>\n",
       "      <th>9</th>\n",
       "      <td>36000000000</td>\n",
       "      <td>0.734205</td>\n",
       "      <td>0.481361</td>\n",
       "      <td>0.274090</td>\n",
       "      <td>0.504505</td>\n",
       "      <td>NaN</td>\n",
       "    </tr>\n",
       "    <tr>\n",
       "      <th>10</th>\n",
       "      <td>39600000000</td>\n",
       "      <td>NaN</td>\n",
       "      <td>NaN</td>\n",
       "      <td>NaN</td>\n",
       "      <td>0.332587</td>\n",
       "      <td>NaN</td>\n",
       "    </tr>\n",
       "  </tbody>\n",
       "</table>\n",
       "</div>"
      ],
      "text/plain": [
       "     timestamps  randGTS.lat  randGTS.lon   randGTS    randTS  stringTS\n",
       "0    3600000000     0.560883     0.234674  0.687140       NaN       NaN\n",
       "1    7200000000     0.037084     0.261020  0.389950  0.768348       NaN\n",
       "2   10800000000     0.004563     0.711244  0.160709  0.962148       NaN\n",
       "3   14400000000     0.009031     0.238031  0.335029  0.084742       NaN\n",
       "4   18000000000     0.086210     0.889116  0.626282  0.911916  a string\n",
       "5   21600000000     0.715791     0.824861  0.644833  0.995838  a string\n",
       "6   25200000000     0.575785     0.221034  0.537610  0.502281  a string\n",
       "7   28800000000     0.009660     0.225575  0.452887  0.363706  a string\n",
       "8   32400000000     0.787256     0.660611  0.876669  0.656574       NaN\n",
       "9   36000000000     0.734205     0.481361  0.274090  0.504505       NaN\n",
       "10  39600000000          NaN          NaN       NaN  0.332587       NaN"
      ]
     },
     "execution_count": 17,
     "metadata": {},
     "output_type": "execute_result"
    }
   ],
   "source": [
    "listGts = s.pop()\n",
    "df4 = pd.DataFrame.from_dict(pkl.loads(listGts))\n",
    "df4"
   ]
  }
 ],
 "metadata": {
  "kernelspec": {
   "display_name": "Python 3",
   "language": "python",
   "name": "python3"
  },
  "language_info": {
   "codemirror_mode": {
    "name": "ipython",
    "version": 3
   },
   "file_extension": ".py",
   "mimetype": "text/x-python",
   "name": "python",
   "nbconvert_exporter": "python",
   "pygments_lexer": "ipython3",
   "version": "3.6.8"
  },
  "toc": {
   "base_numbering": 1,
   "nav_menu": {},
   "number_sections": false,
   "sideBar": false,
   "skip_h1_title": false,
   "title_cell": "Table of Contents",
   "title_sidebar": "Contents",
   "toc_cell": false,
   "toc_position": {},
   "toc_section_display": false,
   "toc_window_display": false
  }
 },
 "nbformat": 4,
 "nbformat_minor": 2
}
