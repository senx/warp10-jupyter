{
 "cells": [
  {
   "cell_type": "markdown",
   "metadata": {},
   "source": [
    "### This notebook shows how to make a Pandas DataFrame from WarpScript GTS"
   ]
  },
  {
   "cell_type": "markdown",
   "metadata": {},
   "source": [
    "### 1. From a single GTS to a DataFrame"
   ]
  },
  {
   "cell_type": "code",
   "execution_count": 1,
   "metadata": {},
   "outputs": [
    {
     "name": "stdout",
     "output_type": "stream",
     "text": [
      "Created `%%w` as an alias for `%%warpscript`.\n"
     ]
    }
   ],
   "source": [
    "%load_ext warpscript\n",
    "%alias_magic w warpscript"
   ]
  },
  {
   "cell_type": "markdown",
   "metadata": {},
   "source": [
    "We will need pandas and pickle libraries."
   ]
  },
  {
   "cell_type": "code",
   "execution_count": 2,
   "metadata": {},
   "outputs": [],
   "source": [
    "import pandas as pd\n",
    "import pickle as pkl"
   ]
  },
  {
   "cell_type": "markdown",
   "metadata": {},
   "source": [
    "We first create a random GTS."
   ]
  },
  {
   "cell_type": "code",
   "execution_count": 3,
   "metadata": {},
   "outputs": [
    {
     "name": "stdout",
     "output_type": "stream",
     "text": [
      "Starting connection with 127.0.0.1:25333.\n",
      "Creating a new WarpScript stack accessible under variable \"s\".\n",
      "top: \trandGTS{}<DOUBLE, 10 values>\n",
      "\n"
     ]
    }
   ],
   "source": [
    "%%w -s s\n",
    "NEWGTS 'randGTS' RENAME 1 10 <% h RAND RAND NaN RAND ADDVALUE %> FOR"
   ]
  },
  {
   "cell_type": "markdown",
   "metadata": {},
   "source": [
    "In order to make a GTS understood by a python interpreter, we store its content in a map of lists and pickle it as a dict.<br/>\n",
    "The macro `GTStoPickledDict` does this. To load it, you can place the file `macros/GTStoPickledDict.mc2`<br/>\n",
    "in the macros folder of the Warp 10 platform you are sending requests to, or you can execute the following cell."
   ]
  },
  {
   "cell_type": "code",
   "execution_count": 4,
   "metadata": {},
   "outputs": [
    {
     "name": "stdout",
     "output_type": "stream",
     "text": [
      "top: \trandGTS{}<DOUBLE, 10 values>\n",
      "\n"
     ]
    }
   ],
   "source": [
    "%%w -s s\n",
    "<%\n",
    "    # Documenting the macro\n",
    "    'GTS BOOLEAN @GTStoPickledDict, more doc in macros/GTStoPickledDict.mc2' DOC\n",
    "\n",
    "    # Check there is two arguments on the stack\n",
    "    <% DEPTH 2 < %> <% 'Macro takes two arguments' MSGFAIL %> IFT\n",
    "        \n",
    "    # Check that top is a boolean indicating whether to use GTS classname or selector\n",
    "    <% 1 PICK TYPEOF 'BOOLEAN' != %> <% 'First argument must be a boolean indicating whether to use GTS selector (true) or classname (false)' MSGFAIL %> IFT\n",
    "    \n",
    "    # Check that second argument is a GTS\n",
    "    <% 2 PICK TYPEOF 'GTS' != %> <% 'Second argument must be a GTS' MSGFAIL %> IFT\n",
    "    \n",
    "    # Store the arguments\n",
    "    'withSelector' STORE\n",
    "    'gts' STORE\n",
    "    \n",
    "    # Make name\n",
    "    $gts <% $withSelector %> <% TOSELECTOR %> <% NAME %> IFTE\n",
    "    'name' STORE\n",
    "    \n",
    "    # macro: check not all NaN (for locations and elevations)\n",
    "    <% UNIQUE DUP SIZE 1 == SWAP 0 GET ISNaN && %> 'isAllNaN' STORE\n",
    "        \n",
    "    # Return pickled dict for pandas\n",
    "    {\n",
    "        # ticks\n",
    "        'timestamps' $gts TICKLIST\n",
    "        \n",
    "        # locations\n",
    "        $gts LOCATIONS 'lon' STORE 'lat' STORE\n",
    "        <% $lat @isAllNaN ! %> <% $name '.lat' + $lat %> IFT\n",
    "        <% $lon @isAllNaN ! %> <% $name '.lon' + $lon %> IFT\n",
    "        \n",
    "        # elevations\n",
    "        $gts ELEVATIONS 'elev' STORE\n",
    "        <% $elev @isAllNaN ! %> <% $name '.elev' + $elev %> IFT\n",
    "        \n",
    "        # values        \n",
    "        $name $gts VALUES\n",
    "    }\n",
    "    ->PICKLE\n",
    "%>\n",
    "'GTStoPickledDict' STORE"
   ]
  },
  {
   "cell_type": "markdown",
   "metadata": {},
   "source": [
    "We evaluate the macro on the random GTS that was left on the stack.<br/>\n",
    "Setting the first argument to false means we drop its labels for its pickled representation."
   ]
  },
  {
   "cell_type": "code",
   "execution_count": 5,
   "metadata": {},
   "outputs": [
    {
     "name": "stdout",
     "output_type": "stream",
     "text": [
      "top: \tb'\\x80\\x02}q\\x00(X\\n\\x00\\x00\\x00timestampsq\\x01]q\\x02(I3600000000\\nI7200000000\\nI10800000000\\nI14400000000\\nI18000000000\\nI21600000000\\nI25200000000\\nI28800000000\\nI32400000000\\nI36000000000\\neX\\x0b\\x00\\x00\\x00randGTS.latq\\x03]q\\x04(G?\\xebO\\xa1\\xf3\\x00\\x00\\x00G?\\xa9\\x12\\x02x\\x00\\x00\\x00G?\\xebG\\xbe\\x93\\x00\\x00\\x00G?\\xd5\\x8a\\x0c\\xbd\\x00\\x00\\x00G?\\xe4\\xa1\\xa0^\\x00\\x00\\x00G?\\xd5\\x02\\x87R\\x00\\x00\\x00G?\\xc8\\xfc\\xd3\\x9e\\x00\\x00\\x00G?\\x8fI\\xd8\\xa0\\x00\\x00\\x00G?\\xa9\\x9f\\xa6\\xa0\\x00\\x00\\x00G?\\xe8!b\\xbe\\x00\\x00\\x00eX\\x0b\\x00\\x00\\x00randGTS.lonq\\x05]q\\x06(G?\\xd1\\xdd\\x12\\xfe\\x00\\x00\\x00G?\\xb17^h\\x00\\x00\\x00G?\\xea!\\r\\xd5\\x00\\x00\\x00G?\\xd3]@\\xf4\\x00\\x00\\x00G?\\xc5v\\xe0\\x0c\\x00\\x00\\x00G?\\xee\\x85\\xe9\\xf9\\x00\\x00\\x00G?\\xde\\x1f=:\\x00\\x00\\x00G?\\xd5\\xa0\\x06D\\x00\\x00\\x00G?\\xe2u\\x14d\\x00\\x00\\x00G?\\xef\\xd1\\xfa#\\x00\\x00\\x00eX\\x07\\x00\\x00\\x00randGTSq\\x07]q\\x08(G?\\xd4q77\\xfa\\x90bG?\\xcc\\xd8v\\xbc\\xfe\\xd00G?\\xc8\\x07\\xd1<(\\xf0\\x0cG?\\xedT\\xc03=\\x0b\\xe0G?\\xed\\x0f{\\x8c@\\xe6[G?\\xe8\\xc5\\xf2\\x95(\\x0f\\x1eG?\\xef\\x8d\\x84K?\\xdc\\x92G?\\xc9\\x8f*\\xe1#0\\x1cG?\\xe6h\\xf3f\\xeb\\x1c\\x96G?\\xa7\\x8d\\xc6f\\xa8Ppeu.'\n",
      "\n"
     ]
    }
   ],
   "source": [
    "%%w -s s\n",
    "false\n",
    "@GTStoPickledDict # use instead '@./GTStoPickledDict' if GTStoPickledDict.mc2 is in the macros folder"
   ]
  },
  {
   "cell_type": "markdown",
   "metadata": {},
   "source": [
    "We then load the dict from its pickled representation and create a pandas dataframe with it."
   ]
  },
  {
   "cell_type": "code",
   "execution_count": 6,
   "metadata": {},
   "outputs": [
    {
     "data": {
      "text/html": [
       "<div>\n",
       "<style scoped>\n",
       "    .dataframe tbody tr th:only-of-type {\n",
       "        vertical-align: middle;\n",
       "    }\n",
       "\n",
       "    .dataframe tbody tr th {\n",
       "        vertical-align: top;\n",
       "    }\n",
       "\n",
       "    .dataframe thead th {\n",
       "        text-align: right;\n",
       "    }\n",
       "</style>\n",
       "<table border=\"1\" class=\"dataframe\">\n",
       "  <thead>\n",
       "    <tr style=\"text-align: right;\">\n",
       "      <th></th>\n",
       "      <th>timestamps</th>\n",
       "      <th>randGTS.lat</th>\n",
       "      <th>randGTS.lon</th>\n",
       "      <th>randGTS</th>\n",
       "    </tr>\n",
       "  </thead>\n",
       "  <tbody>\n",
       "    <tr>\n",
       "      <th>0</th>\n",
       "      <td>3600000000</td>\n",
       "      <td>0.853471</td>\n",
       "      <td>0.279118</td>\n",
       "      <td>0.319410</td>\n",
       "    </tr>\n",
       "    <tr>\n",
       "      <th>1</th>\n",
       "      <td>7200000000</td>\n",
       "      <td>0.048966</td>\n",
       "      <td>0.067251</td>\n",
       "      <td>0.225356</td>\n",
       "    </tr>\n",
       "    <tr>\n",
       "      <th>2</th>\n",
       "      <td>10800000000</td>\n",
       "      <td>0.852508</td>\n",
       "      <td>0.816535</td>\n",
       "      <td>0.187739</td>\n",
       "    </tr>\n",
       "    <tr>\n",
       "      <th>3</th>\n",
       "      <td>14400000000</td>\n",
       "      <td>0.336551</td>\n",
       "      <td>0.302567</td>\n",
       "      <td>0.916596</td>\n",
       "    </tr>\n",
       "    <tr>\n",
       "      <th>4</th>\n",
       "      <td>18000000000</td>\n",
       "      <td>0.644730</td>\n",
       "      <td>0.167690</td>\n",
       "      <td>0.908140</td>\n",
       "    </tr>\n",
       "    <tr>\n",
       "      <th>5</th>\n",
       "      <td>21600000000</td>\n",
       "      <td>0.328279</td>\n",
       "      <td>0.953847</td>\n",
       "      <td>0.774164</td>\n",
       "    </tr>\n",
       "    <tr>\n",
       "      <th>6</th>\n",
       "      <td>25200000000</td>\n",
       "      <td>0.195216</td>\n",
       "      <td>0.470657</td>\n",
       "      <td>0.986025</td>\n",
       "    </tr>\n",
       "    <tr>\n",
       "      <th>7</th>\n",
       "      <td>28800000000</td>\n",
       "      <td>0.015278</td>\n",
       "      <td>0.337892</td>\n",
       "      <td>0.199682</td>\n",
       "    </tr>\n",
       "    <tr>\n",
       "      <th>8</th>\n",
       "      <td>32400000000</td>\n",
       "      <td>0.050046</td>\n",
       "      <td>0.576792</td>\n",
       "      <td>0.700311</td>\n",
       "    </tr>\n",
       "    <tr>\n",
       "      <th>9</th>\n",
       "      <td>36000000000</td>\n",
       "      <td>0.754075</td>\n",
       "      <td>0.994382</td>\n",
       "      <td>0.046004</td>\n",
       "    </tr>\n",
       "  </tbody>\n",
       "</table>\n",
       "</div>"
      ],
      "text/plain": [
       "    timestamps  randGTS.lat  randGTS.lon   randGTS\n",
       "0   3600000000     0.853471     0.279118  0.319410\n",
       "1   7200000000     0.048966     0.067251  0.225356\n",
       "2  10800000000     0.852508     0.816535  0.187739\n",
       "3  14400000000     0.336551     0.302567  0.916596\n",
       "4  18000000000     0.644730     0.167690  0.908140\n",
       "5  21600000000     0.328279     0.953847  0.774164\n",
       "6  25200000000     0.195216     0.470657  0.986025\n",
       "7  28800000000     0.015278     0.337892  0.199682\n",
       "8  32400000000     0.050046     0.576792  0.700311\n",
       "9  36000000000     0.754075     0.994382  0.046004"
      ]
     },
     "execution_count": 6,
     "metadata": {},
     "output_type": "execute_result"
    }
   ],
   "source": [
    "gts1 = s.pop()\n",
    "df1 = pd.DataFrame.from_dict(pkl.loads(gts1))\n",
    "df1"
   ]
  },
  {
   "cell_type": "markdown",
   "metadata": {},
   "source": [
    "In the following example, we choose to keep label information."
   ]
  },
  {
   "cell_type": "code",
   "execution_count": 7,
   "metadata": {},
   "outputs": [
    {
     "name": "stdout",
     "output_type": "stream",
     "text": [
      "top: \tb'\\x80\\x02}q\\x00(X\\n\\x00\\x00\\x00timestampsq\\x01]q\\x02(I3600000000\\nI7200000000\\nI10800000000\\nI14400000000\\nI18000000000\\nI21600000000\\nI25200000000\\nI28800000000\\nI32400000000\\nI36000000000\\neX\"\\x00\\x00\\x00randGTS{key1=info1,key2=info2}.latq\\x03]q\\x04(G?\\xe0\\x1b0\\xb3\\x00\\x00\\x00G?\\xea\\xab\\x818\\x80\\x00\\x00G?\\xdb\\xf2i.\\x00\\x00\\x00G?\\xe9\\x17_\\x7f\\x00\\x00\\x00G?\\xecc\\xc5\\x9c\\x00\\x00\\x00G?\\xc5\\xa0\\xdf.\\x00\\x00\\x00G?\\xde\\x18T\\xb1\\x00\\x00\\x00G?\\xef\\x11\\x10\\xd5\\x80\\x00\\x00G?\\xe6&\\xdfk\\x00\\x00\\x00G?\\xdct\\xdfq\\x00\\x00\\x00eX\"\\x00\\x00\\x00randGTS{key1=info1,key2=info2}.lonq\\x05]q\\x06(G?\\xe5\\x82\\x8ae\\x00\\x00\\x00G?\\xe4\\x878Y\\x00\\x00\\x00G?\\xef\\xdb\\xee\\xca\\x00\\x00\\x00G?\\xeb\\x0e\\xff\"\\x00\\x00\\x00G?\\xe51k\\xc6\\x00\\x00\\x00G?\\xdbEbj\\x00\\x00\\x00G?\\xd2\\xbc\\xb5\\xe4\\x00\\x00\\x00G?\\xe7\\x0b\\xa4\\x1b\\x00\\x00\\x00G?\\xefg{\\xb2\\x00\\x00\\x00G?\\xe5d\\xde\\xe3\\x00\\x00\\x00eX\\x1e\\x00\\x00\\x00randGTS{key1=info1,key2=info2}q\\x07]q\\x08(G?\\xe9\\xe2{\\xf6\\xfeK\\xabG?\\xee\\x02\\x99\\xaciY\\xe5G?\\xda\\x82Y.\\xccG\\x92G?\\xd77\\xf1\\xd5!\\xb4\\xccG?\\xec}<\\xa3\\t5\\xf8G?\\xaf\\xddB\\xd6s4@G?\\xe9\\x7fqN\\x9f\\xf5\\tG?\\xea,\\xf0\\xc5K`\\x07G?\\xe4\\xf7s=\\xac\\xa8\\xacG?\\xea!`\\x00u\\xdc\\xb6eu.'\n",
      "\n"
     ]
    }
   ],
   "source": [
    "%%w -s s\n",
    "NEWGTS 'randGTS' RENAME 1 10 <% h RAND RAND NaN RAND ADDVALUE %> FOR\n",
    "{ 'key1' 'info1' 'key2' 'info2' } RELABEL\n",
    "true\n",
    "@GTStoPickledDict # use instead '@./GTStoPickledDict' if GTStoPickledDict.mc2 is in the macros folder"
   ]
  },
  {
   "cell_type": "code",
   "execution_count": 8,
   "metadata": {},
   "outputs": [
    {
     "data": {
      "text/html": [
       "<div>\n",
       "<style scoped>\n",
       "    .dataframe tbody tr th:only-of-type {\n",
       "        vertical-align: middle;\n",
       "    }\n",
       "\n",
       "    .dataframe tbody tr th {\n",
       "        vertical-align: top;\n",
       "    }\n",
       "\n",
       "    .dataframe thead th {\n",
       "        text-align: right;\n",
       "    }\n",
       "</style>\n",
       "<table border=\"1\" class=\"dataframe\">\n",
       "  <thead>\n",
       "    <tr style=\"text-align: right;\">\n",
       "      <th></th>\n",
       "      <th>timestamps</th>\n",
       "      <th>randGTS{key1=info1,key2=info2}.lat</th>\n",
       "      <th>randGTS{key1=info1,key2=info2}.lon</th>\n",
       "      <th>randGTS{key1=info1,key2=info2}</th>\n",
       "    </tr>\n",
       "  </thead>\n",
       "  <tbody>\n",
       "    <tr>\n",
       "      <th>0</th>\n",
       "      <td>3600000000</td>\n",
       "      <td>0.503319</td>\n",
       "      <td>0.672185</td>\n",
       "      <td>0.808897</td>\n",
       "    </tr>\n",
       "    <tr>\n",
       "      <th>1</th>\n",
       "      <td>7200000000</td>\n",
       "      <td>0.833436</td>\n",
       "      <td>0.641506</td>\n",
       "      <td>0.937817</td>\n",
       "    </tr>\n",
       "    <tr>\n",
       "      <th>2</th>\n",
       "      <td>10800000000</td>\n",
       "      <td>0.436671</td>\n",
       "      <td>0.995597</td>\n",
       "      <td>0.414206</td>\n",
       "    </tr>\n",
       "    <tr>\n",
       "      <th>3</th>\n",
       "      <td>14400000000</td>\n",
       "      <td>0.784103</td>\n",
       "      <td>0.845581</td>\n",
       "      <td>0.362790</td>\n",
       "    </tr>\n",
       "    <tr>\n",
       "      <th>4</th>\n",
       "      <td>18000000000</td>\n",
       "      <td>0.887179</td>\n",
       "      <td>0.662283</td>\n",
       "      <td>0.890288</td>\n",
       "    </tr>\n",
       "    <tr>\n",
       "      <th>5</th>\n",
       "      <td>21600000000</td>\n",
       "      <td>0.168972</td>\n",
       "      <td>0.426110</td>\n",
       "      <td>0.062235</td>\n",
       "    </tr>\n",
       "    <tr>\n",
       "      <th>6</th>\n",
       "      <td>25200000000</td>\n",
       "      <td>0.470235</td>\n",
       "      <td>0.292768</td>\n",
       "      <td>0.796807</td>\n",
       "    </tr>\n",
       "    <tr>\n",
       "      <th>7</th>\n",
       "      <td>28800000000</td>\n",
       "      <td>0.970833</td>\n",
       "      <td>0.720171</td>\n",
       "      <td>0.817986</td>\n",
       "    </tr>\n",
       "    <tr>\n",
       "      <th>8</th>\n",
       "      <td>32400000000</td>\n",
       "      <td>0.692245</td>\n",
       "      <td>0.981382</td>\n",
       "      <td>0.655206</td>\n",
       "    </tr>\n",
       "    <tr>\n",
       "      <th>9</th>\n",
       "      <td>36000000000</td>\n",
       "      <td>0.444633</td>\n",
       "      <td>0.668563</td>\n",
       "      <td>0.816574</td>\n",
       "    </tr>\n",
       "  </tbody>\n",
       "</table>\n",
       "</div>"
      ],
      "text/plain": [
       "    timestamps  randGTS{key1=info1,key2=info2}.lat  \\\n",
       "0   3600000000                            0.503319   \n",
       "1   7200000000                            0.833436   \n",
       "2  10800000000                            0.436671   \n",
       "3  14400000000                            0.784103   \n",
       "4  18000000000                            0.887179   \n",
       "5  21600000000                            0.168972   \n",
       "6  25200000000                            0.470235   \n",
       "7  28800000000                            0.970833   \n",
       "8  32400000000                            0.692245   \n",
       "9  36000000000                            0.444633   \n",
       "\n",
       "   randGTS{key1=info1,key2=info2}.lon  randGTS{key1=info1,key2=info2}  \n",
       "0                            0.672185                        0.808897  \n",
       "1                            0.641506                        0.937817  \n",
       "2                            0.995597                        0.414206  \n",
       "3                            0.845581                        0.362790  \n",
       "4                            0.662283                        0.890288  \n",
       "5                            0.426110                        0.062235  \n",
       "6                            0.292768                        0.796807  \n",
       "7                            0.720171                        0.817986  \n",
       "8                            0.981382                        0.655206  \n",
       "9                            0.668563                        0.816574  "
      ]
     },
     "execution_count": 8,
     "metadata": {},
     "output_type": "execute_result"
    }
   ],
   "source": [
    "gts2 = s.pop()\n",
    "df2 = pd.DataFrame.from_dict(pkl.loads(gts2))\n",
    "df2"
   ]
  },
  {
   "cell_type": "markdown",
   "metadata": {},
   "source": [
    "We can also not use geo information."
   ]
  },
  {
   "cell_type": "code",
   "execution_count": 9,
   "metadata": {},
   "outputs": [
    {
     "name": "stdout",
     "output_type": "stream",
     "text": [
      "top: \tb'\\x80\\x02}q\\x00(X\\n\\x00\\x00\\x00timestampsq\\x01]q\\x02(I7200000000\\nI10800000000\\nI14400000000\\nI18000000000\\nI21600000000\\nI25200000000\\nI28800000000\\nI32400000000\\nI36000000000\\nI39600000000\\neX\\x06\\x00\\x00\\x00randTSq\\x03]q\\x04(G?\\xde\\x99\\xa9\\x07\\xde\\xc1DG?\\xefpT.\\x08\\xf9\\xbcG?\\xeaOt)w#UG?\\xda\\x92^~\\xe1|`G?\\xeaT\\xce \\x96\\x97DG?\\xe2w\\xb4\\x06\\x83zmG?\\xeb\\xcd\\xa6\\xfc\\xe4\\xde\\x80G?\\xe0!\\xa8T\\xb4\\xbe\\x19G?\\xd1\\xea\\x07\\xc3\\x95\\x86LG?\\xe7\\x9a\\xe0d=W3eu.'\n",
      "\n"
     ]
    }
   ],
   "source": [
    "%%w -s s\n",
    "NEWGTS 'randTS' RENAME 2 11 <% h NaN NaN NaN RAND ADDVALUE %> FOR\n",
    "false\n",
    "@GTStoPickledDict # use instead '@./GTStoPickledDict' if GTStoPickledDict.mc2 is in the macros folder"
   ]
  },
  {
   "cell_type": "code",
   "execution_count": 10,
   "metadata": {},
   "outputs": [
    {
     "data": {
      "text/html": [
       "<div>\n",
       "<style scoped>\n",
       "    .dataframe tbody tr th:only-of-type {\n",
       "        vertical-align: middle;\n",
       "    }\n",
       "\n",
       "    .dataframe tbody tr th {\n",
       "        vertical-align: top;\n",
       "    }\n",
       "\n",
       "    .dataframe thead th {\n",
       "        text-align: right;\n",
       "    }\n",
       "</style>\n",
       "<table border=\"1\" class=\"dataframe\">\n",
       "  <thead>\n",
       "    <tr style=\"text-align: right;\">\n",
       "      <th></th>\n",
       "      <th>timestamps</th>\n",
       "      <th>randTS</th>\n",
       "    </tr>\n",
       "  </thead>\n",
       "  <tbody>\n",
       "    <tr>\n",
       "      <th>0</th>\n",
       "      <td>7200000000</td>\n",
       "      <td>0.478129</td>\n",
       "    </tr>\n",
       "    <tr>\n",
       "      <th>1</th>\n",
       "      <td>10800000000</td>\n",
       "      <td>0.982462</td>\n",
       "    </tr>\n",
       "    <tr>\n",
       "      <th>2</th>\n",
       "      <td>14400000000</td>\n",
       "      <td>0.822199</td>\n",
       "    </tr>\n",
       "    <tr>\n",
       "      <th>3</th>\n",
       "      <td>18000000000</td>\n",
       "      <td>0.415184</td>\n",
       "    </tr>\n",
       "    <tr>\n",
       "      <th>4</th>\n",
       "      <td>21600000000</td>\n",
       "      <td>0.822852</td>\n",
       "    </tr>\n",
       "    <tr>\n",
       "      <th>5</th>\n",
       "      <td>25200000000</td>\n",
       "      <td>0.577112</td>\n",
       "    </tr>\n",
       "    <tr>\n",
       "      <th>6</th>\n",
       "      <td>28800000000</td>\n",
       "      <td>0.868854</td>\n",
       "    </tr>\n",
       "    <tr>\n",
       "      <th>7</th>\n",
       "      <td>32400000000</td>\n",
       "      <td>0.504109</td>\n",
       "    </tr>\n",
       "    <tr>\n",
       "      <th>8</th>\n",
       "      <td>36000000000</td>\n",
       "      <td>0.279909</td>\n",
       "    </tr>\n",
       "    <tr>\n",
       "      <th>9</th>\n",
       "      <td>39600000000</td>\n",
       "      <td>0.737656</td>\n",
       "    </tr>\n",
       "  </tbody>\n",
       "</table>\n",
       "</div>"
      ],
      "text/plain": [
       "    timestamps    randTS\n",
       "0   7200000000  0.478129\n",
       "1  10800000000  0.982462\n",
       "2  14400000000  0.822199\n",
       "3  18000000000  0.415184\n",
       "4  21600000000  0.822852\n",
       "5  25200000000  0.577112\n",
       "6  28800000000  0.868854\n",
       "7  32400000000  0.504109\n",
       "8  36000000000  0.279909\n",
       "9  39600000000  0.737656"
      ]
     },
     "execution_count": 10,
     "metadata": {},
     "output_type": "execute_result"
    }
   ],
   "source": [
    "gts3 = s.pop()\n",
    "df3 = pd.DataFrame.from_dict(pkl.loads(gts3))\n",
    "df3"
   ]
  },
  {
   "cell_type": "markdown",
   "metadata": {},
   "source": [
    "### 2. Revert a DataFrame to a GTS"
   ]
  },
  {
   "cell_type": "markdown",
   "metadata": {},
   "source": [
    "To revert a DataFrame to a GTS, we first need to convert the DataFrame into a dict."
   ]
  },
  {
   "cell_type": "code",
   "execution_count": 11,
   "metadata": {},
   "outputs": [
    {
     "data": {
      "text/plain": [
       "{'timestamps': [3600000000,\n",
       "  7200000000,\n",
       "  10800000000,\n",
       "  14400000000,\n",
       "  18000000000,\n",
       "  21600000000,\n",
       "  25200000000,\n",
       "  28800000000,\n",
       "  32400000000,\n",
       "  36000000000],\n",
       " 'randGTS.lat': [0.853470778092742,\n",
       "  0.048965527676045895,\n",
       "  0.8525078650563955,\n",
       "  0.3365508886054158,\n",
       "  0.6447297893464565,\n",
       "  0.32827933318912983,\n",
       "  0.1952156564220786,\n",
       "  0.015277569182217121,\n",
       "  0.0500461645424366,\n",
       "  0.7540754042565823],\n",
       " 'randGTS.lon': [0.2791182976216078,\n",
       "  0.06725111044943333,\n",
       "  0.8165349159389734,\n",
       "  0.3025667555630207,\n",
       "  0.16769028268754482,\n",
       "  0.9538469184190035,\n",
       "  0.4706566873937845,\n",
       "  0.3378921188414097,\n",
       "  0.576791949570179,\n",
       "  0.994381969794631],\n",
       " 'randGTS': [0.3194101378123887,\n",
       "  0.22535595157899158,\n",
       "  0.18773856580253356,\n",
       "  0.9165955544234485,\n",
       "  0.9081399669004883,\n",
       "  0.7741635239803804,\n",
       "  0.9860249967304233,\n",
       "  0.19968162529983224,\n",
       "  0.7003113756299111,\n",
       "  0.04600353243964228]}"
      ]
     },
     "execution_count": 11,
     "metadata": {},
     "output_type": "execute_result"
    }
   ],
   "source": [
    "gts1b = df1.to_dict('list')\n",
    "gts1b"
   ]
  },
  {
   "cell_type": "markdown",
   "metadata": {},
   "source": [
    "We can push this dict directly onto the stack, since it will be automatically converted in the JVM."
   ]
  },
  {
   "cell_type": "code",
   "execution_count": 12,
   "metadata": {},
   "outputs": [
    {
     "data": {
      "text/plain": [
       "top: \t{'randGTS.lat': [0.853470778092742, 0.048965527676045895, 0.8525078650563955, 0.3365508886054158, 0.6447297893464565, 0.32827933318912983, 0.1952156564220786, 0.015277569182217121, 0.0500461645424366, 0.7540754042565823], 'timestamps': [3600000000, 7200000000, 10800000000, 14400000000, 18000000000, 21600000000, 25200000000, 28800000000, 32400000000, 36000000000], 'randGTS': [0.3194101378123887, 0.22535595157899158, 0.18773856580253356, 0.9165955544234485, 0.9081399669004883, 0.7741635239803804, 0.9860249967304233, 0.19968162529983224, 0.7003113756299111, 0.04600353243964228], 'randGTS.lon': [0.2791182976216078, 0.06725111044943333, 0.8165349159389734, 0.3025667555630207, 0.16769028268754482, 0.9538469184190035, 0.4706566873937845, 0.3378921188414097, 0.576791949570179, 0.994381969794631]}"
      ]
     },
     "execution_count": 12,
     "metadata": {},
     "output_type": "execute_result"
    }
   ],
   "source": [
    "s.push(gts1b)\n",
    "s"
   ]
  },
  {
   "cell_type": "markdown",
   "metadata": {},
   "source": [
    "Now we can use the lists contained in this map to populate a GTS."
   ]
  },
  {
   "cell_type": "code",
   "execution_count": 13,
   "metadata": {},
   "outputs": [
    {
     "name": "stdout",
     "output_type": "stream",
     "text": [
      "top: \trandGTS{}<DOUBLE, 10 values>\n",
      "\n"
     ]
    }
   ],
   "source": [
    "%%w -s s\n",
    "'dict' STORE\n",
    "$dict 'timestamps' GET\n",
    "$dict 'randGTS.lat' GET\n",
    "$dict 'randGTS.lon' GET\n",
    "[] // no elevation\n",
    "$dict 'randGTS' GET\n",
    "MAKEGTS 'randGTS' RENAME"
   ]
  },
  {
   "cell_type": "code",
   "execution_count": 14,
   "metadata": {},
   "outputs": [
    {
     "name": "stdout",
     "output_type": "stream",
     "text": [
      "randGTS{}\n",
      "=3600000000/0.853470778092742:0.2791182976216078/ 0.3194101378123887\n",
      "=7200000000/0.048965527676045895:0.06725111044943333/ 0.22535595157899158\n",
      "=10800000000/0.8525078650563955:0.8165349159389734/ 0.18773856580253356\n",
      "=14400000000/0.3365508886054158:0.3025667555630207/ 0.9165955544234485\n",
      "=18000000000/0.6447297893464565:0.16769028268754482/ 0.9081399669004883\n",
      "=21600000000/0.32827933318912983:0.9538469184190035/ 0.7741635239803804\n",
      "=25200000000/0.1952156564220786:0.4706566873937845/ 0.9860249967304233\n",
      "=28800000000/0.015277569182217121:0.3378921188414097/ 0.19968162529983224\n",
      "=32400000000/0.0500461645424366:0.576791949570179/ 0.7003113756299111\n",
      "=36000000000/0.7540754042565823:0.994381969794631/ 0.04600353243964228\n",
      "\n"
     ]
    }
   ],
   "source": [
    "print(s.pop().toString())"
   ]
  },
  {
   "cell_type": "markdown",
   "metadata": {},
   "source": [
    "### 3. From a list of GTS to a DataFrame"
   ]
  },
  {
   "cell_type": "markdown",
   "metadata": {},
   "source": [
    "We want to put every GTS of a list in a same DataFrame with a single `timestamps` column.<br/>\n",
    "Since every GTS don't have values for the same timestamps, we need to handle missing values,<br/>\n",
    "and we need to make the assumption that each GTS can have at most one value per timestamp.<br/>\n",
    "It is more efficient to do that in WarpScript, as done by the macro `ListGTStoPickledDict`."
   ]
  },
  {
   "cell_type": "code",
   "execution_count": 15,
   "metadata": {},
   "outputs": [
    {
     "name": "stdout",
     "output_type": "stream",
     "text": [
      "Creating a new WarpScript stack accessible under variable \"s\".\n",
      "\n"
     ]
    }
   ],
   "source": [
    "%%w -s s -o\n",
    "<%\n",
    "    # Documenting the macro\n",
    "    '[GTS] BOOLEAN @ListGTStoPickledDict , more doc in macros/ListGTStoPickledDict.mc2' DOC\n",
    "\n",
    "    # Check there is two arguments on the stack\n",
    "    <% DEPTH 2 < %> <% 'Macro takes two arguments' MSGFAIL %> IFT\n",
    "        \n",
    "    # Check that top is a boolean indicating whether to use GTS classname or selector\n",
    "    <% 1 PICK TYPEOF 'BOOLEAN' != %> <% 'First argument must be a boolean indicating whether to use GTS selector (true) or classname (false)' MSGFAIL %> IFT\n",
    "    \n",
    "    # Check that second argument is a list of GTS\n",
    "    <% 2 PICK TYPEOF 'LIST' != %> <% 'Second argument must be a List of GTS' MSGFAIL %> IFT\n",
    "    2 PICK <% <% TYPEOF 'GTS' != %> <% 'Second argument is a list that has an element that is not a GTS' MSGFAIL %> IFT %> FOREACH\n",
    "    \n",
    "    # Store the arguments\n",
    "    'withSelector' STORE\n",
    "    'gtsList' STORE\n",
    "    \n",
    "    # make tickbase of all GTS\n",
    "    $gtsList TICKS 'ticks' STORE\n",
    "    $ticks [] [] [] $ticks MAKEGTS 'baseGTS' STORE\n",
    "    \n",
    "    # macro: check not all NaN (for locations and elevations)\n",
    "    <% UNIQUE DUP SIZE 1 == SWAP 0 GET ISNaN && %> 'isAllNaN' STORE\n",
    "        \n",
    "    # Return pickled dict for pandas\n",
    "    {\n",
    "        # ticks\n",
    "        'timestamps' $ticks\n",
    "        \n",
    "        # loop over list of GTS\n",
    "        $gtsList\n",
    "        <%\n",
    "            'gts' STORE\n",
    "            \n",
    "            # Make name\n",
    "            $gts <% $withSelector %> <% TOSELECTOR %> <% NAME %> IFTE\n",
    "            'name' STORE\n",
    "        \n",
    "            # Put on the same tick base and fill missing values with NaN\n",
    "            [ $gts true mapper.replace 0 0 0 ] MAP\n",
    "            'mask' STORE\n",
    "            [ $mask [ $baseGTS ] [] op.negmask ] APPLY\n",
    "            [ SWAP NaN mapper.replace 0 0 0 ] MAP\n",
    "            0 GET 'residualSeries' STORE\n",
    "            [ $gts $residualSeries ] MERGE SORT\n",
    "            'gts' STORE\n",
    "        \n",
    "            # locations\n",
    "            $gts LOCATIONS 'lon' STORE 'lat' STORE\n",
    "            <% $lat @isAllNaN ! %> <% $name '.lat' + $lat %> IFT\n",
    "            <% $lon @isAllNaN ! %> <% $name '.lon' + $lon %> IFT\n",
    "        \n",
    "            # elevations\n",
    "            $gts ELEVATIONS 'elev' STORE\n",
    "            <% $elev @isAllNaN ! %> <% $name '.elev' + $elev %> IFT\n",
    "        \n",
    "            # values        \n",
    "            $name $gts VALUES\n",
    "        %>\n",
    "        FOREACH\n",
    "    }\n",
    "    ->PICKLE\n",
    "%>\n",
    "'ListGTStoPickledDict' STORE"
   ]
  },
  {
   "cell_type": "markdown",
   "metadata": {},
   "source": [
    "We apply the macro `ListGTStoPickledDict` similarly than `GTStoPickledDict`,<br/>\n",
    "except that it takes a list of GTS instead of a single GTS as second argument."
   ]
  },
  {
   "cell_type": "code",
   "execution_count": 16,
   "metadata": {},
   "outputs": [
    {
     "name": "stdout",
     "output_type": "stream",
     "text": [
      "top: \tb'\\x80\\x02}q\\x00(X\\n\\x00\\x00\\x00timestampsq\\x01]q\\x02(I3600000000\\nI7200000000\\nI10800000000\\nI14400000000\\nI18000000000\\nI21600000000\\nI25200000000\\nI28800000000\\nI32400000000\\nI36000000000\\nI39600000000\\neX\\x0b\\x00\\x00\\x00randGTS.latq\\x03]q\\x04(G?\\xd9\\xc5\\xea\\xea\\x00\\x00\\x00G?\\xe6\\x86f\\x1b\\x00\\x00\\x00G?\\xe8\\xbd<\\x13\\x80\\x00\\x00G?\\xebu\\xb3\\x9d\\x00\\x00\\x00G?\\xc0~\\xe5^\\x00\\x00\\x00G?\\x8cW\\x91\\xa0\\x00\\x00\\x00G?\\xcf\\xea\\x8c\\x1e\\x00\\x00\\x00G?\\xd6\\xa9\\x08V\\x00\\x00\\x00G?\\xcdZ\\xabF\\x00\\x00\\x00G?\\xd3nMm\\x00\\x00\\x00G\\x7f\\xf8\\x00\\x00\\x00\\x00\\x00\\x00eX\\x0b\\x00\\x00\\x00randGTS.lonq\\x05]q\\x06(G?\\xdc\\xb8\\xcd\\xa8\\x00\\x00\\x00G?\\xdb\\xc1\\x91\\x82\\x00\\x00\\x00G?\\xa0\\xc5i\\xc0\\x00\\x00\\x00G?\\xe1o\\xd5@\\x00\\x00\\x00G?\\xda\\xca\\xd5T\\x00\\x00\\x00G?\\xe2p\\xaf\\xbe\\x00\\x00\\x00G?\\xe7\\x18N\\x91\\x00\\x00\\x00G?\\xdb\\xbc\\xaan\\x00\\x00\\x00G?\\xe9;\\xae\\xcf\\x00\\x00\\x00G?\\xe3p\\xe7I\\x00\\x00\\x00G\\x7f\\xf8\\x00\\x00\\x00\\x00\\x00\\x00eX\\x07\\x00\\x00\\x00randGTSq\\x07]q\\x08(G?\\xe33h2\\xef\\xb7pG?\\xd8\\xab\\xd2B\\x9b\\x8f4G?\\xe0\\x15\\xd1\\x80\\xc2\\x14\\xcaG?\\xec\\xaeJ6\\xe8==G?\\xd1\\xaf\\x0e\\x8c\\xfd\\xd4\\xd8G?\\xe7\\xa6{\\xf9\\x06\\xaaaG?\\xef1T\\xc7\\xe9\\xd0\"G?\\xef0q\\xd7b\\x01\\xbcG?\\xcb\"m\\x7f\"\\r(G?\\xda\\xff\\xd4L\\x94w\\xd6G\\x7f\\xf8\\x00\\x00\\x00\\x00\\x00\\x00eX\\x06\\x00\\x00\\x00randTSq\\t]q\\n(G\\x7f\\xf8\\x00\\x00\\x00\\x00\\x00\\x00G?\\xd2\\xc9bZx\\xfddG?\\xc2RS\\xd6\\x1c\\xf5\\xe4G?\\xee5E\\xe1\\x9d\\xc8\\x7fG?\\xdf\\xa8YU|\\xf7\\xf2G?\\x85\\x8c\\xd0b+u@G?\\x96\\x8fF;M\\xba`G?\\xd9\\x10\\xbd\\xc8S\\xeb\\xd8G?\\xe5F)*\\xa1\\xd6\\x11G?\\xe7\\x90`\\xa5\\x8d\\xad\\x16G?\\xc7\\x05\\xb1\\x9a\\xa2\\x0b\\xeceX\\x08\\x00\\x00\\x00stringTSq\\x0b]q\\x0c(X\\x03\\x00\\x00\\x00NaNq\\rh\\rh\\rh\\rX\\x08\\x00\\x00\\x00a stringq\\x0eh\\x0eh\\x0eh\\x0eh\\rh\\rh\\reu.'\n",
      "\n"
     ]
    }
   ],
   "source": [
    "%%w -s s\n",
    "[ NEWGTS 'randGTS' RENAME 1 10 <% h RAND RAND NaN RAND ADDVALUE %> FOR\n",
    "  NEWGTS 'randTS' RENAME 2 11 <% h NaN NaN NaN RAND ADDVALUE %> FOR\n",
    "  NEWGTS 'stringTS' RENAME 5 8 <% h NaN NaN NaN 'a string' ADDVALUE %> FOR ]\n",
    "false\n",
    "@ListGTStoPickledDict  # use instead '@./ListGTStoPickledDict' if ListGTStoPickledDict.mc2 is in the macros folder"
   ]
  },
  {
   "cell_type": "markdown",
   "metadata": {},
   "source": [
    "Contrary to our first example with a single GTS, the following cell will raise<br/>\n",
    "an error if a GTS of the list has a timestamp with multiple values."
   ]
  },
  {
   "cell_type": "code",
   "execution_count": 17,
   "metadata": {},
   "outputs": [
    {
     "data": {
      "text/html": [
       "<div>\n",
       "<style scoped>\n",
       "    .dataframe tbody tr th:only-of-type {\n",
       "        vertical-align: middle;\n",
       "    }\n",
       "\n",
       "    .dataframe tbody tr th {\n",
       "        vertical-align: top;\n",
       "    }\n",
       "\n",
       "    .dataframe thead th {\n",
       "        text-align: right;\n",
       "    }\n",
       "</style>\n",
       "<table border=\"1\" class=\"dataframe\">\n",
       "  <thead>\n",
       "    <tr style=\"text-align: right;\">\n",
       "      <th></th>\n",
       "      <th>timestamps</th>\n",
       "      <th>randGTS.lat</th>\n",
       "      <th>randGTS.lon</th>\n",
       "      <th>randGTS</th>\n",
       "      <th>randTS</th>\n",
       "      <th>stringTS</th>\n",
       "    </tr>\n",
       "  </thead>\n",
       "  <tbody>\n",
       "    <tr>\n",
       "      <th>0</th>\n",
       "      <td>3600000000</td>\n",
       "      <td>0.402705</td>\n",
       "      <td>0.448780</td>\n",
       "      <td>0.600025</td>\n",
       "      <td>NaN</td>\n",
       "      <td>NaN</td>\n",
       "    </tr>\n",
       "    <tr>\n",
       "      <th>1</th>\n",
       "      <td>7200000000</td>\n",
       "      <td>0.703906</td>\n",
       "      <td>0.433689</td>\n",
       "      <td>0.385487</td>\n",
       "      <td>0.293542</td>\n",
       "      <td>NaN</td>\n",
       "    </tr>\n",
       "    <tr>\n",
       "      <th>2</th>\n",
       "      <td>10800000000</td>\n",
       "      <td>0.773100</td>\n",
       "      <td>0.032756</td>\n",
       "      <td>0.502663</td>\n",
       "      <td>0.143137</td>\n",
       "      <td>NaN</td>\n",
       "    </tr>\n",
       "    <tr>\n",
       "      <th>3</th>\n",
       "      <td>14400000000</td>\n",
       "      <td>0.858118</td>\n",
       "      <td>0.544901</td>\n",
       "      <td>0.896276</td>\n",
       "      <td>0.944003</td>\n",
       "      <td>NaN</td>\n",
       "    </tr>\n",
       "    <tr>\n",
       "      <th>4</th>\n",
       "      <td>18000000000</td>\n",
       "      <td>0.128873</td>\n",
       "      <td>0.418630</td>\n",
       "      <td>0.276310</td>\n",
       "      <td>0.494650</td>\n",
       "      <td>a string</td>\n",
       "    </tr>\n",
       "    <tr>\n",
       "      <th>5</th>\n",
       "      <td>21600000000</td>\n",
       "      <td>0.013839</td>\n",
       "      <td>0.576256</td>\n",
       "      <td>0.739073</td>\n",
       "      <td>0.010522</td>\n",
       "      <td>a string</td>\n",
       "    </tr>\n",
       "    <tr>\n",
       "      <th>6</th>\n",
       "      <td>25200000000</td>\n",
       "      <td>0.249345</td>\n",
       "      <td>0.721717</td>\n",
       "      <td>0.974772</td>\n",
       "      <td>0.022031</td>\n",
       "      <td>a string</td>\n",
       "    </tr>\n",
       "    <tr>\n",
       "      <th>7</th>\n",
       "      <td>28800000000</td>\n",
       "      <td>0.354067</td>\n",
       "      <td>0.433390</td>\n",
       "      <td>0.974664</td>\n",
       "      <td>0.391647</td>\n",
       "      <td>a string</td>\n",
       "    </tr>\n",
       "    <tr>\n",
       "      <th>8</th>\n",
       "      <td>32400000000</td>\n",
       "      <td>0.229329</td>\n",
       "      <td>0.788536</td>\n",
       "      <td>0.211988</td>\n",
       "      <td>0.664815</td>\n",
       "      <td>NaN</td>\n",
       "    </tr>\n",
       "    <tr>\n",
       "      <th>9</th>\n",
       "      <td>36000000000</td>\n",
       "      <td>0.303607</td>\n",
       "      <td>0.607532</td>\n",
       "      <td>0.421865</td>\n",
       "      <td>0.736374</td>\n",
       "      <td>NaN</td>\n",
       "    </tr>\n",
       "    <tr>\n",
       "      <th>10</th>\n",
       "      <td>39600000000</td>\n",
       "      <td>NaN</td>\n",
       "      <td>NaN</td>\n",
       "      <td>NaN</td>\n",
       "      <td>0.179861</td>\n",
       "      <td>NaN</td>\n",
       "    </tr>\n",
       "  </tbody>\n",
       "</table>\n",
       "</div>"
      ],
      "text/plain": [
       "     timestamps  randGTS.lat  randGTS.lon   randGTS    randTS  stringTS\n",
       "0    3600000000     0.402705     0.448780  0.600025       NaN       NaN\n",
       "1    7200000000     0.703906     0.433689  0.385487  0.293542       NaN\n",
       "2   10800000000     0.773100     0.032756  0.502663  0.143137       NaN\n",
       "3   14400000000     0.858118     0.544901  0.896276  0.944003       NaN\n",
       "4   18000000000     0.128873     0.418630  0.276310  0.494650  a string\n",
       "5   21600000000     0.013839     0.576256  0.739073  0.010522  a string\n",
       "6   25200000000     0.249345     0.721717  0.974772  0.022031  a string\n",
       "7   28800000000     0.354067     0.433390  0.974664  0.391647  a string\n",
       "8   32400000000     0.229329     0.788536  0.211988  0.664815       NaN\n",
       "9   36000000000     0.303607     0.607532  0.421865  0.736374       NaN\n",
       "10  39600000000          NaN          NaN       NaN  0.179861       NaN"
      ]
     },
     "execution_count": 17,
     "metadata": {},
     "output_type": "execute_result"
    }
   ],
   "source": [
    "listGts = s.pop()\n",
    "df4 = pd.DataFrame.from_dict(pkl.loads(listGts))\n",
    "df4"
   ]
  }
 ],
 "metadata": {
  "kernelspec": {
   "display_name": "Python 3",
   "language": "python",
   "name": "python3"
  },
  "language_info": {
   "codemirror_mode": {
    "name": "ipython",
    "version": 3
   },
   "file_extension": ".py",
   "mimetype": "text/x-python",
   "name": "python",
   "nbconvert_exporter": "python",
   "pygments_lexer": "ipython3",
   "version": "3.6.6"
  },
  "toc": {
   "base_numbering": 1,
   "nav_menu": {},
   "number_sections": false,
   "sideBar": false,
   "skip_h1_title": false,
   "title_cell": "Table of Contents",
   "title_sidebar": "Contents",
   "toc_cell": false,
   "toc_position": {},
   "toc_section_display": false,
   "toc_window_display": false
  }
 },
 "nbformat": 4,
 "nbformat_minor": 2
}
