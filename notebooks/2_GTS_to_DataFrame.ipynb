{
 "cells": [
  {
   "cell_type": "markdown",
   "metadata": {},
   "source": [
    "### This notebook shows how to make a Pandas DataFrame from WarpScript GTS"
   ]
  },
  {
   "cell_type": "markdown",
   "metadata": {},
   "source": [
    "### 1. From a single GTS to a DataFrame"
   ]
  },
  {
   "cell_type": "code",
   "execution_count": 1,
   "metadata": {},
   "outputs": [
    {
     "name": "stdout",
     "output_type": "stream",
     "text": [
      "Created `%w` as an alias for `%warpscript`.\n",
      "Created `%%w` as an alias for `%%warpscript`.\n"
     ]
    }
   ],
   "source": [
    "%load_ext warpscript\n",
    "%alias_magic w warpscript"
   ]
  },
  {
   "cell_type": "markdown",
   "metadata": {},
   "source": [
    "We will need pandas and pickle libraries."
   ]
  },
  {
   "cell_type": "code",
   "execution_count": 2,
   "metadata": {},
   "outputs": [
    {
     "ename": "ImportError",
     "evalue": "No module named pandas",
     "output_type": "error",
     "traceback": [
      "\u001b[0;31m---------------------------------------------------------------------------\u001b[0m",
      "\u001b[0;31mImportError\u001b[0m                               Traceback (most recent call last)",
      "\u001b[0;32m<ipython-input-2-95af8af8d215>\u001b[0m in \u001b[0;36m<module>\u001b[0;34m()\u001b[0m\n\u001b[1;32m      1\u001b[0m \u001b[0;32mfrom\u001b[0m \u001b[0m__future__\u001b[0m \u001b[0;32mimport\u001b[0m \u001b[0mprint_function\u001b[0m\u001b[0;34m\u001b[0m\u001b[0m\n\u001b[0;32m----> 2\u001b[0;31m \u001b[0;32mimport\u001b[0m \u001b[0mpandas\u001b[0m \u001b[0;32mas\u001b[0m \u001b[0mpd\u001b[0m\u001b[0;34m\u001b[0m\u001b[0m\n\u001b[0m\u001b[1;32m      3\u001b[0m \u001b[0;32mimport\u001b[0m \u001b[0mpickle\u001b[0m \u001b[0;32mas\u001b[0m \u001b[0mpkl\u001b[0m\u001b[0;34m\u001b[0m\u001b[0m\n",
      "\u001b[0;31mImportError\u001b[0m: No module named pandas"
     ]
    }
   ],
   "source": [
    "from __future__ import print_function\n",
    "import pandas as pd\n",
    "import pickle as pkl"
   ]
  },
  {
   "cell_type": "markdown",
   "metadata": {},
   "source": [
    "We first create a random GTS."
   ]
  },
  {
   "cell_type": "code",
   "execution_count": null,
   "metadata": {},
   "outputs": [],
   "source": [
    "%%w -s s -l\n",
    "NEWGTS 'randGTS' RENAME 1 10 <% h RAND RAND NaN RAND ADDVALUE %> FOR"
   ]
  },
  {
   "cell_type": "markdown",
   "metadata": {},
   "source": [
    "In order to make a GTS understood by a python interpreter, we store its content in a map of lists and pickle it as a dict.<br/>\n",
    "The macro `GTStoPickledDict` does this. To load it, you can place the file `macros/GTStoPickledDict.mc2`<br/>\n",
    "in the macros folder of the Warp 10 platform you are sending requests to, or you can execute the following cell."
   ]
  },
  {
   "cell_type": "code",
   "execution_count": null,
   "metadata": {},
   "outputs": [],
   "source": [
    "%%w -s s\n",
    "<%\n",
    "    # Documenting the macro\n",
    "    'GTS BOOLEAN @GTStoPickledDict, more doc in macros/GTStoPickledDict.mc2' DOC\n",
    "\n",
    "    # Check there is two arguments on the stack\n",
    "    <% DEPTH 2 < %> <% 'Macro takes two arguments' MSGFAIL %> IFT\n",
    "        \n",
    "    # Check that top is a boolean indicating whether to use GTS classname or selector\n",
    "    <% 1 PICK TYPEOF 'BOOLEAN' != %> <% 'First argument must be a boolean indicating whether to use GTS selector (true) or classname (false)' MSGFAIL %> IFT\n",
    "    \n",
    "    # Check that second argument is a GTS\n",
    "    <% 2 PICK TYPEOF 'GTS' != %> <% 'Second argument must be a GTS' MSGFAIL %> IFT\n",
    "    \n",
    "    # Store the arguments\n",
    "    'withSelector' STORE\n",
    "    'gts' STORE\n",
    "    \n",
    "    # Make name\n",
    "    $gts <% $withSelector %> <% TOSELECTOR %> <% NAME %> IFTE\n",
    "    'name' STORE\n",
    "    \n",
    "    # macro: check not all NaN (for locations and elevations)\n",
    "    <% UNIQUE DUP SIZE 1 == SWAP 0 GET ISNaN && %> 'isAllNaN' STORE\n",
    "        \n",
    "    # Return pickled dict for pandas\n",
    "    {\n",
    "        # ticks\n",
    "        'timestamps' $gts TICKLIST\n",
    "        \n",
    "        # locations\n",
    "        $gts LOCATIONS 'lon' STORE 'lat' STORE\n",
    "        <% $lat @isAllNaN ! %> <% $name '.lat' + $lat %> IFT\n",
    "        <% $lon @isAllNaN ! %> <% $name '.lon' + $lon %> IFT\n",
    "        \n",
    "        # elevations\n",
    "        $gts ELEVATIONS 'elev' STORE\n",
    "        <% $elev @isAllNaN ! %> <% $name '.elev' + $elev %> IFT\n",
    "        \n",
    "        # values        \n",
    "        $name $gts VALUES\n",
    "    }\n",
    "    ->PICKLE\n",
    "%>\n",
    "'GTStoPickledDict' STORE"
   ]
  },
  {
   "cell_type": "markdown",
   "metadata": {},
   "source": [
    "We evaluate the macro on the random GTS that was left on the stack.<br/>\n",
    "Setting the first argument to false means we drop its labels for its pickled representation."
   ]
  },
  {
   "cell_type": "code",
   "execution_count": null,
   "metadata": {},
   "outputs": [],
   "source": [
    "%%w -s s\n",
    "false\n",
    "@GTStoPickledDict # use instead '@./GTStoPickledDict' if GTStoPickledDict.mc2 is in the macros folder"
   ]
  },
  {
   "cell_type": "markdown",
   "metadata": {},
   "source": [
    "We then load the dict from its pickled representation and create a pandas dataframe with it."
   ]
  },
  {
   "cell_type": "code",
   "execution_count": null,
   "metadata": {},
   "outputs": [],
   "source": [
    "gts1 = s.pop()\n",
    "df1 = pd.DataFrame.from_dict(pkl.loads(gts1))\n",
    "df1"
   ]
  },
  {
   "cell_type": "markdown",
   "metadata": {},
   "source": [
    "In the following example, we choose to keep label information."
   ]
  },
  {
   "cell_type": "code",
   "execution_count": null,
   "metadata": {},
   "outputs": [],
   "source": [
    "%%w -s s\n",
    "NEWGTS 'randGTS' RENAME 1 10 <% h RAND RAND NaN RAND ADDVALUE %> FOR\n",
    "{ 'key1' 'info1' 'key2' 'info2' } RELABEL\n",
    "true\n",
    "@GTStoPickledDict # use instead '@./GTStoPickledDict' if GTStoPickledDict.mc2 is in the macros folder"
   ]
  },
  {
   "cell_type": "code",
   "execution_count": null,
   "metadata": {},
   "outputs": [],
   "source": [
    "gts2 = s.pop()\n",
    "df2 = pd.DataFrame.from_dict(pkl.loads(gts2))\n",
    "df2"
   ]
  },
  {
   "cell_type": "markdown",
   "metadata": {},
   "source": [
    "We can also not use geo information."
   ]
  },
  {
   "cell_type": "code",
   "execution_count": null,
   "metadata": {},
   "outputs": [],
   "source": [
    "%%w -s s\n",
    "NEWGTS 'randTS' RENAME 2 11 <% h NaN NaN NaN RAND ADDVALUE %> FOR\n",
    "false\n",
    "@GTStoPickledDict # use instead '@./GTStoPickledDict' if GTStoPickledDict.mc2 is in the macros folder"
   ]
  },
  {
   "cell_type": "code",
   "execution_count": null,
   "metadata": {},
   "outputs": [],
   "source": [
    "gts3 = s.pop()\n",
    "df3 = pd.DataFrame.from_dict(pkl.loads(gts3))\n",
    "df3"
   ]
  },
  {
   "cell_type": "markdown",
   "metadata": {},
   "source": [
    "### 2. Revert a DataFrame to a GTS"
   ]
  },
  {
   "cell_type": "markdown",
   "metadata": {},
   "source": [
    "To revert a DataFrame to a GTS, we first need to convert the DataFrame into a dict."
   ]
  },
  {
   "cell_type": "code",
   "execution_count": null,
   "metadata": {},
   "outputs": [],
   "source": [
    "gts1b = df1.to_dict('list')\n",
    "gts1b"
   ]
  },
  {
   "cell_type": "markdown",
   "metadata": {},
   "source": [
    "We can push this dict directly onto the stack, since it will be automatically converted in the JVM."
   ]
  },
  {
   "cell_type": "code",
   "execution_count": null,
   "metadata": {},
   "outputs": [],
   "source": [
    "s.push(gts1b)\n",
    "s"
   ]
  },
  {
   "cell_type": "markdown",
   "metadata": {},
   "source": [
    "Now we can use the lists contained in this map to populate a GTS."
   ]
  },
  {
   "cell_type": "code",
   "execution_count": null,
   "metadata": {},
   "outputs": [],
   "source": [
    "%%w -s s\n",
    "'dict' STORE\n",
    "$dict 'timestamps' GET\n",
    "$dict 'randGTS.lat' GET\n",
    "$dict 'randGTS.lon' GET\n",
    "[] // no elevation\n",
    "$dict 'randGTS' GET\n",
    "MAKEGTS 'randGTS' RENAME"
   ]
  },
  {
   "cell_type": "code",
   "execution_count": null,
   "metadata": {},
   "outputs": [],
   "source": [
    "print(s.pop().toString())"
   ]
  },
  {
   "cell_type": "markdown",
   "metadata": {},
   "source": [
    "### 3. From a list of GTS to a DataFrame"
   ]
  },
  {
   "cell_type": "markdown",
   "metadata": {},
   "source": [
    "We want to put every GTS of a list in a same DataFrame with a single `timestamps` column.<br/>\n",
    "Since every GTS don't have values for the same timestamps, we need to handle missing values,<br/>\n",
    "and we need to make the assumption that each GTS can have at most one value per timestamp.<br/>\n",
    "It is more efficient to do that in WarpScript, as done by the macro `ListGTStoPickledDict`."
   ]
  },
  {
   "cell_type": "markdown",
   "metadata": {},
   "source": [
    "If there are many unaligned ticks, consider converting to lists of single column dataFrame or Series instead."
   ]
  },
  {
   "cell_type": "code",
   "execution_count": null,
   "metadata": {},
   "outputs": [],
   "source": [
    "%%w -s s -o -l\n",
    "<%\n",
    "    # Documenting the macro\n",
    "    '[GTS] BOOLEAN @ListGTStoPickledDict , more doc in macros/ListGTStoPickledDict.mc2' DOC\n",
    "\n",
    "    # Check there is two arguments on the stack\n",
    "    <% DEPTH 2 < %> <% 'Macro takes two arguments' MSGFAIL %> IFT\n",
    "        \n",
    "    # Check that top is a boolean indicating whether to use GTS classname or selector\n",
    "    <% 1 PICK TYPEOF 'BOOLEAN' != %> <% 'First argument must be a boolean indicating whether to use GTS selector (true) or classname (false)' MSGFAIL %> IFT\n",
    "    \n",
    "    # Check that second argument is a list of GTS\n",
    "    <% 2 PICK TYPEOF 'LIST' != %> <% 'Second argument must be a List of GTS' MSGFAIL %> IFT\n",
    "    2 PICK <% <% TYPEOF 'GTS' != %> <% 'Second argument is a list that has an element that is not a GTS' MSGFAIL %> IFT %> FOREACH\n",
    "    \n",
    "    # Store the arguments\n",
    "    'withSelector' STORE\n",
    "    'gtsList' STORE\n",
    "    \n",
    "    # make tickbase of all GTS\n",
    "    $gtsList TICKS 'ticks' STORE\n",
    "    $ticks [] [] [] $ticks MAKEGTS 'baseGTS' STORE\n",
    "    \n",
    "    # macro: check not all NaN (for locations and elevations)\n",
    "    <% UNIQUE DUP SIZE 1 == SWAP 0 GET ISNaN && %> 'isAllNaN' STORE\n",
    "        \n",
    "    # Return pickled dict for pandas\n",
    "    {\n",
    "        # ticks\n",
    "        'timestamps' $ticks\n",
    "        \n",
    "        # loop over list of GTS\n",
    "        $gtsList\n",
    "        <%\n",
    "            'gts' STORE\n",
    "            \n",
    "            # Make name\n",
    "            $gts <% $withSelector %> <% TOSELECTOR %> <% NAME %> IFTE\n",
    "            'name' STORE\n",
    "        \n",
    "            # Put on the same tick base and fill missing values with NaN\n",
    "            [ $gts true mapper.replace 0 0 0 ] MAP\n",
    "            'mask' STORE\n",
    "            [ $mask [ $baseGTS ] [] op.negmask ] APPLY\n",
    "            [ SWAP NaN mapper.replace 0 0 0 ] MAP\n",
    "            0 GET 'residualSeries' STORE\n",
    "            [ $gts $residualSeries ] MERGE SORT\n",
    "            'gts' STORE\n",
    "        \n",
    "            # locations\n",
    "            $gts LOCATIONS 'lon' STORE 'lat' STORE\n",
    "            <% $lat @isAllNaN ! %> <% $name '.lat' + $lat %> IFT\n",
    "            <% $lon @isAllNaN ! %> <% $name '.lon' + $lon %> IFT\n",
    "        \n",
    "            # elevations\n",
    "            $gts ELEVATIONS 'elev' STORE\n",
    "            <% $elev @isAllNaN ! %> <% $name '.elev' + $elev %> IFT\n",
    "        \n",
    "            # values        \n",
    "            $name $gts VALUES\n",
    "        %>\n",
    "        FOREACH\n",
    "    }\n",
    "    ->PICKLE\n",
    "%>\n",
    "'ListGTStoPickledDict' STORE"
   ]
  },
  {
   "cell_type": "markdown",
   "metadata": {},
   "source": [
    "We apply the macro `ListGTStoPickledDict` similarly than `GTStoPickledDict`,<br/>\n",
    "except that it takes a list of GTS instead of a single GTS as second argument."
   ]
  },
  {
   "cell_type": "code",
   "execution_count": null,
   "metadata": {},
   "outputs": [],
   "source": [
    "%%w -s s\n",
    "[ NEWGTS 'randGTS' RENAME 1 10 <% h RAND RAND NaN RAND ADDVALUE %> FOR\n",
    "  NEWGTS 'randTS' RENAME 2 11 <% h NaN NaN NaN RAND ADDVALUE %> FOR\n",
    "  NEWGTS 'stringTS' RENAME 5 8 <% h NaN NaN NaN 'a string' ADDVALUE %> FOR ]\n",
    "false\n",
    "@ListGTStoPickledDict  # use instead '@./ListGTStoPickledDict' if ListGTStoPickledDict.mc2 is in the macros folder"
   ]
  },
  {
   "cell_type": "markdown",
   "metadata": {},
   "source": [
    "Contrary to our first example with a single GTS, the following cell will raise<br/>\n",
    "an error if a GTS of the list has a timestamp with multiple values."
   ]
  },
  {
   "cell_type": "code",
   "execution_count": null,
   "metadata": {},
   "outputs": [],
   "source": [
    "listGts = s.pop()\n",
    "df4 = pd.DataFrame.from_dict(pkl.loads(listGts))\n",
    "df4"
   ]
  }
 ],
 "metadata": {
  "kernelspec": {
   "display_name": "Python 2",
   "language": "python",
   "name": "python2"
  },
  "language_info": {
   "codemirror_mode": {
    "name": "ipython",
    "version": 2
   },
   "file_extension": ".py",
   "mimetype": "text/x-python",
   "name": "python",
   "nbconvert_exporter": "python",
   "pygments_lexer": "ipython2",
   "version": "2.7.16"
  },
  "toc": {
   "base_numbering": 1,
   "nav_menu": {},
   "number_sections": false,
   "sideBar": false,
   "skip_h1_title": false,
   "title_cell": "Table of Contents",
   "title_sidebar": "Contents",
   "toc_cell": false,
   "toc_position": {},
   "toc_section_display": false,
   "toc_window_display": false
  }
 },
 "nbformat": 4,
 "nbformat_minor": 2
}
