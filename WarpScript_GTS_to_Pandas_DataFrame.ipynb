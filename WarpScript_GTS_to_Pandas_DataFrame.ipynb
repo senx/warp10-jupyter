{
 "cells": [
  {
   "cell_type": "markdown",
   "metadata": {},
   "source": [
    "### This notebook shows how to make a pandas DataFrame from a WarpScript GTS"
   ]
  },
  {
   "cell_type": "code",
   "execution_count": 1,
   "metadata": {},
   "outputs": [
    {
     "name": "stdout",
     "output_type": "stream",
     "text": [
      "Created `%%w` as an alias for `%%warpscript`.\n"
     ]
    }
   ],
   "source": [
    "%load_ext warpscript_cellmagic\n",
    "%alias_magic w warpscript"
   ]
  },
  {
   "cell_type": "code",
   "execution_count": 2,
   "metadata": {},
   "outputs": [],
   "source": [
    "import pandas as pd\n",
    "import pickle as pkl"
   ]
  },
  {
   "cell_type": "code",
   "execution_count": 3,
   "metadata": {},
   "outputs": [
    {
     "name": "stdout",
     "output_type": "stream",
     "text": [
      "Starting connection with 127.0.0.1:25333.\n",
      "Creating a new WarpScript stack accessible under variable \"s\".\n",
      "top: \t<GTS with 10 values>\n",
      "1: \t<GTS with 10 values>\n",
      "\n"
     ]
    }
   ],
   "source": [
    "%%w -s s\n",
    "NEWGTS 'randGTS' RENAME 1 10 <% h RAND RAND NaN RAND ADDVALUE %> FOR\n",
    "NEWGTS 'nogeoTS' RENAME 2 11 <% h NaN NaN NaN RAND ADDVALUE %> FOR"
   ]
  },
  {
   "cell_type": "code",
   "execution_count": 4,
   "metadata": {},
   "outputs": [
    {
     "name": "stdout",
     "output_type": "stream",
     "text": [
      "Creating a new WarpScript stack accessible under variable \"s\".\n",
      "\n"
     ]
    }
   ],
   "source": [
    "%%w -s s -o\n",
    "<%\n",
    "    # Check there is at least two params\n",
    "    <% DEPTH 2 < %> <% 'Macro takes at least 2 arguments' MSGFAIL %> IFT\n",
    "        \n",
    "    # Check that top is a boolean indicating whether to use GTS classname or selector\n",
    "    <% 1 PICK TYPEOF 'BOOLEAN' != %> <% 'Top of the stack must be a boolean' MSGFAIL %> IFT\n",
    "    \n",
    "    # Check that the top is a GTS\n",
    "    <% 2 PICK TYPEOF 'GTS' != %> <% 'Below top of the stack must be a GTS' MSGFAIL %> IFT\n",
    "    \n",
    "    # Store the arguments\n",
    "    'withSelector' STORE\n",
    "    'gts' STORE\n",
    "    \n",
    "    # Make name\n",
    "    # $gts NAME <% $withSelector %> <% $gts LABELS ->JSON + %> IFT\n",
    "    $gts <% $withSelector %> <% TOSELECTOR %> <% NAME %> IFTE\n",
    "    'name' STORE\n",
    "    \n",
    "    # macro: check not all NaN (for locations and elevations)\n",
    "    <% UNIQUE DUP SIZE 1 == SWAP 0 GET ISNaN && %> 'isAllNaN' STORE\n",
    "        \n",
    "    # Return dict for pandas\n",
    "    {\n",
    "        # ticks\n",
    "        'timestamps' $gts TICKS\n",
    "        \n",
    "        # locations\n",
    "        $gts LOCATIONS 'lon' STORE 'lat' STORE\n",
    "        <% $lat @isAllNaN ! %> <% $name '.lat' + $lat %> IFT\n",
    "        <% $lon @isAllNaN ! %> <% $name '.lon' + $lon %> IFT\n",
    "        \n",
    "        # elevations\n",
    "        $gts ELEVATIONS 'elev' STORE\n",
    "        <% $elev @isAllNaN ! %> <% $name '.elev' + $elev %> IFT\n",
    "        \n",
    "        # values        \n",
    "        $name $gts VALUES\n",
    "    }\n",
    "    ->PICKLE\n",
    "%>\n",
    "'GTStoPickledDict' STORE"
   ]
  },
  {
   "cell_type": "code",
   "execution_count": 5,
   "metadata": {},
   "outputs": [
    {
     "name": "stdout",
     "output_type": "stream",
     "text": [
      "top: \tb\"\\x80\\x02}q\\x00(X\\n\\x00\\x00\\x00timestampsq\\x01]q\\x02(I3600000000\\nI7200000000\\nI10800000000\\nI14400000000\\nI18000000000\\nI21600000000\\nI25200000000\\nI28800000000\\nI32400000000\\nI36000000000\\neX\\x0b\\x00\\x00\\x00randGTS.latq\\x03]q\\x04(G?\\xedQ\\xf9q\\x80\\x00\\x00G?\\xc8\\x88\\x7fv\\x00\\x00\\x00G?\\xc9\\x1e\\xa3\\x16\\x00\\x00\\x00G?\\xe5\\xa2y\\xa1\\x00\\x00\\x00G?\\xe7\\x1ft/\\x80\\x00\\x00G?\\xe2\\xf3\\x8b\\xde\\x80\\x00\\x00G?\\xdb\\xd4\\xa9\\xcf\\x00\\x00\\x00G?\\xe5{\\x04\\x02\\x00\\x00\\x00G?\\xeb\\\\\\x8b\\xde\\x00\\x00\\x00G?\\xda\\xee\\xe0\\x16\\x00\\x00\\x00eX\\x0b\\x00\\x00\\x00randGTS.lonq\\x05]q\\x06(G?\\xe37\\xb2l\\x00\\x00\\x00G?\\xd3Bn\\xf0\\x00\\x00\\x00G?\\xdf\\x05*\\xfc\\x00\\x00\\x00G?\\xd9@p\\x18\\x00\\x00\\x00G?\\xd6\\x06\\x0b$\\x00\\x00\\x00G?\\xe2\\x03\\n\\x1d\\x00\\x00\\x00G?\\xd3\\xa9\\xfeD\\x00\\x00\\x00G?\\xe2\\xf4\\x90\\xd1\\x00\\x00\\x00G?\\xd7A&\\xea\\x00\\x00\\x00G?\\xb3\\xcb\\xa5\\xa8\\x00\\x00\\x00eX\\x07\\x00\\x00\\x00randGTSq\\x07]q\\x08(G?\\xe1\\xe3\\xe9`/\\xde5G?\\xd6'\\xa7u`\\xd9\\xe6G?\\xbcf\\xbf\\xc3\\xa7Q8G?\\xe8v\\x92\\x82\\x1b\\x9f,G?\\xdf\\x99X\\xaf\\xd7O\\x18G?\\xda6Ac\\x8f\\x92\\xc2G?\\xee:\\xa5k\\xc6\\x1e\\xe2G?\\xea\\x0b\\xa8tJ\\xb8hG?\\xbd\\xf0\\xec\\x03\\xa7\\x87\\xa8G?\\xc0h\\xef\\x00\\xb8\\x8a\\xc0eu.\"\n",
      "\n"
     ]
    }
   ],
   "source": [
    "%%w -s s\n",
    "NEWGTS 'randGTS' RENAME 1 10 <% h RAND RAND NaN RAND ADDVALUE %> FOR\n",
    "false\n",
    "@GTStoPickledDict"
   ]
  },
  {
   "cell_type": "code",
   "execution_count": 6,
   "metadata": {},
   "outputs": [
    {
     "name": "stdout",
     "output_type": "stream",
     "text": [
      "top: \tb\"\\x80\\x02}q\\x00(X\\n\\x00\\x00\\x00timestampsq\\x01]q\\x02(I3600000000\\nI7200000000\\nI10800000000\\nI14400000000\\nI18000000000\\nI21600000000\\nI25200000000\\nI28800000000\\nI32400000000\\nI36000000000\\neX\\x1a\\x00\\x00\\x00randGTS{k=v,key=value}.latq\\x03]q\\x04(G?\\xe50\\x1b\\xf1\\x80\\x00\\x00G?\\xe5\\xe8\\x05u\\x00\\x00\\x00G?\\xd8;\\x07\\x1e\\x00\\x00\\x00G?\\xee\\xb4X\\xd4\\x00\\x00\\x00G?\\xee\\x80\\xaf\\xc0\\x00\\x00\\x00G?\\xe1V\\x05\\xb8\\x80\\x00\\x00G?\\xd1\\xf04\\x15\\x00\\x00\\x00G?\\xd5\\xf0e\\xa3\\x00\\x00\\x00G?\\xd8\\xa2\\x89p\\x00\\x00\\x00G?\\xec\\xb6 \\xd0\\x00\\x00\\x00eX\\x1a\\x00\\x00\\x00randGTS{k=v,key=value}.lonq\\x05]q\\x06(G?\\xe8\\xd5\\x84$\\x00\\x00\\x00G?\\xc5\\xc3\\x93\\x84\\x00\\x00\\x00G?\\xe2\\xa8}|\\x00\\x00\\x00G?\\x95\\x12\\x11@\\x00\\x00\\x00G?\\xed\\xc5C4\\x00\\x00\\x00G?\\x90\\xea\\x9c\\xe0\\x00\\x00\\x00G?\\xd8\\xf7\\xe8R\\x00\\x00\\x00G?\\xe9\\xbeo\\xc7\\x00\\x00\\x00G?\\xd5|\\x17H\\x00\\x00\\x00G?\\xcb\\xf7\\x9b$\\x00\\x00\\x00eX\\x16\\x00\\x00\\x00randGTS{k=v,key=value}q\\x07]q\\x08(G?\\xe4{*\\xce\\x12\\xff\\xeaG?\\x8e\\xd1B>ph\\x80G?\\xd7\\r\\xab\\xa1]\\xfc\\xcaG?\\xcc\\\\\\xd1\\x81\\xae'PG?\\xdc\\xd2Es\\xce\\x0f>G?\\xe0\\xf9\\xcc\\x91\\x0e\\xf3\\x1dG?\\xd7\\xbco\\x1c)\\x92\\xeeG?\\xe3\\x1ec\\x0e\\xa8z\\x0eG?\\xc2%\\xe8)`U0G?\\xd33\\r'\\x97\\xc6\\xdaeu.\"\n",
      "1: \tb\"\\x80\\x02}q\\x00(X\\n\\x00\\x00\\x00timestampsq\\x01]q\\x02(I3600000000\\nI7200000000\\nI10800000000\\nI14400000000\\nI18000000000\\nI21600000000\\nI25200000000\\nI28800000000\\nI32400000000\\nI36000000000\\neX\\x0b\\x00\\x00\\x00randGTS.latq\\x03]q\\x04(G?\\xedQ\\xf9q\\x80\\x00\\x00G?\\xc8\\x88\\x7fv\\x00\\x00\\x00G?\\xc9\\x1e\\xa3\\x16\\x00\\x00\\x00G?\\xe5\\xa2y\\xa1\\x00\\x00\\x00G?\\xe7\\x1ft/\\x80\\x00\\x00G?\\xe2\\xf3\\x8b\\xde\\x80\\x00\\x00G?\\xdb\\xd4\\xa9\\xcf\\x00\\x00\\x00G?\\xe5{\\x04\\x02\\x00\\x00\\x00G?\\xeb\\\\\\x8b\\xde\\x00\\x00\\x00G?\\xda\\xee\\xe0\\x16\\x00\\x00\\x00eX\\x0b\\x00\\x00\\x00randGTS.lonq\\x05]q\\x06(G?\\xe37\\xb2l\\x00\\x00\\x00G?\\xd3Bn\\xf0\\x00\\x00\\x00G?\\xdf\\x05*\\xfc\\x00\\x00\\x00G?\\xd9@p\\x18\\x00\\x00\\x00G?\\xd6\\x06\\x0b$\\x00\\x00\\x00G?\\xe2\\x03\\n\\x1d\\x00\\x00\\x00G?\\xd3\\xa9\\xfeD\\x00\\x00\\x00G?\\xe2\\xf4\\x90\\xd1\\x00\\x00\\x00G?\\xd7A&\\xea\\x00\\x00\\x00G?\\xb3\\xcb\\xa5\\xa8\\x00\\x00\\x00eX\\x07\\x00\\x00\\x00randGTSq\\x07]q\\x08(G?\\xe1\\xe3\\xe9`/\\xde5G?\\xd6'\\xa7u`\\xd9\\xe6G?\\xbcf\\xbf\\xc3\\xa7Q8G?\\xe8v\\x92\\x82\\x1b\\x9f,G?\\xdf\\x99X\\xaf\\xd7O\\x18G?\\xda6Ac\\x8f\\x92\\xc2G?\\xee:\\xa5k\\xc6\\x1e\\xe2G?\\xea\\x0b\\xa8tJ\\xb8hG?\\xbd\\xf0\\xec\\x03\\xa7\\x87\\xa8G?\\xc0h\\xef\\x00\\xb8\\x8a\\xc0eu.\"\n",
      "\n"
     ]
    }
   ],
   "source": [
    "%%w -s s\n",
    "NEWGTS 'randGTS' RENAME 1 10 <% h RAND RAND NaN RAND ADDVALUE %> FOR\n",
    "{ 'key' 'value' 'k' 'v' } RELABEL\n",
    "true\n",
    "@GTStoPickledDict"
   ]
  },
  {
   "cell_type": "code",
   "execution_count": 7,
   "metadata": {},
   "outputs": [
    {
     "name": "stdout",
     "output_type": "stream",
     "text": [
      "top: \tb'\\x80\\x02}q\\x00(X\\n\\x00\\x00\\x00timestampsq\\x01]q\\x02(I7200000000\\nI10800000000\\nI14400000000\\nI18000000000\\nI21600000000\\nI25200000000\\nI28800000000\\nI32400000000\\nI36000000000\\nI39600000000\\neX\\x07\\x00\\x00\\x00nogeoTSq\\x03]q\\x04(G?\\xe1U\\xf5/\\xef\\xbd\\x82G?\\xe7\\xf7I\\x14\\xdb\\x9b\\xc0G?\\xed\\xc6\\x85\\xba\\xce\\x16\\xf5G?\\xbc\\x9d\\xc2V\\xc8.hG?v\\xebZ;\\xc1H\\x00G?\\xd1\\xb1\\xdfB{\\x16pG?\\xcfGu\\xbd\\xf1\\x8a,G?\\xd6uR+P\\xbd\\xa8G?\\xe5\\xa5(\\x9b\\x9e\\xc2\\xafG?\\x94\\xd0;=\\x18L\\x00eu.'\n",
      "1: \tb\"\\x80\\x02}q\\x00(X\\n\\x00\\x00\\x00timestampsq\\x01]q\\x02(I3600000000\\nI7200000000\\nI10800000000\\nI14400000000\\nI18000000000\\nI21600000000\\nI25200000000\\nI28800000000\\nI32400000000\\nI36000000000\\neX\\x1a\\x00\\x00\\x00randGTS{k=v,key=value}.latq\\x03]q\\x04(G?\\xe50\\x1b\\xf1\\x80\\x00\\x00G?\\xe5\\xe8\\x05u\\x00\\x00\\x00G?\\xd8;\\x07\\x1e\\x00\\x00\\x00G?\\xee\\xb4X\\xd4\\x00\\x00\\x00G?\\xee\\x80\\xaf\\xc0\\x00\\x00\\x00G?\\xe1V\\x05\\xb8\\x80\\x00\\x00G?\\xd1\\xf04\\x15\\x00\\x00\\x00G?\\xd5\\xf0e\\xa3\\x00\\x00\\x00G?\\xd8\\xa2\\x89p\\x00\\x00\\x00G?\\xec\\xb6 \\xd0\\x00\\x00\\x00eX\\x1a\\x00\\x00\\x00randGTS{k=v,key=value}.lonq\\x05]q\\x06(G?\\xe8\\xd5\\x84$\\x00\\x00\\x00G?\\xc5\\xc3\\x93\\x84\\x00\\x00\\x00G?\\xe2\\xa8}|\\x00\\x00\\x00G?\\x95\\x12\\x11@\\x00\\x00\\x00G?\\xed\\xc5C4\\x00\\x00\\x00G?\\x90\\xea\\x9c\\xe0\\x00\\x00\\x00G?\\xd8\\xf7\\xe8R\\x00\\x00\\x00G?\\xe9\\xbeo\\xc7\\x00\\x00\\x00G?\\xd5|\\x17H\\x00\\x00\\x00G?\\xcb\\xf7\\x9b$\\x00\\x00\\x00eX\\x16\\x00\\x00\\x00randGTS{k=v,key=value}q\\x07]q\\x08(G?\\xe4{*\\xce\\x12\\xff\\xeaG?\\x8e\\xd1B>ph\\x80G?\\xd7\\r\\xab\\xa1]\\xfc\\xcaG?\\xcc\\\\\\xd1\\x81\\xae'PG?\\xdc\\xd2Es\\xce\\x0f>G?\\xe0\\xf9\\xcc\\x91\\x0e\\xf3\\x1dG?\\xd7\\xbco\\x1c)\\x92\\xeeG?\\xe3\\x1ec\\x0e\\xa8z\\x0eG?\\xc2%\\xe8)`U0G?\\xd33\\r'\\x97\\xc6\\xdaeu.\"\n",
      "2: \tb\"\\x80\\x02}q\\x00(X\\n\\x00\\x00\\x00timestampsq\\x01]q\\x02(I3600000000\\nI7200000000\\nI10800000000\\nI14400000000\\nI18000000000\\nI21600000000\\nI25200000000\\nI28800000000\\nI32400000000\\nI36000000000\\neX\\x0b\\x00\\x00\\x00randGTS.latq\\x03]q\\x04(G?\\xedQ\\xf9q\\x80\\x00\\x00G?\\xc8\\x88\\x7fv\\x00\\x00\\x00G?\\xc9\\x1e\\xa3\\x16\\x00\\x00\\x00G?\\xe5\\xa2y\\xa1\\x00\\x00\\x00G?\\xe7\\x1ft/\\x80\\x00\\x00G?\\xe2\\xf3\\x8b\\xde\\x80\\x00\\x00G?\\xdb\\xd4\\xa9\\xcf\\x00\\x00\\x00G?\\xe5{\\x04\\x02\\x00\\x00\\x00G?\\xeb\\\\\\x8b\\xde\\x00\\x00\\x00G?\\xda\\xee\\xe0\\x16\\x00\\x00\\x00eX\\x0b\\x00\\x00\\x00randGTS.lonq\\x05]q\\x06(G?\\xe37\\xb2l\\x00\\x00\\x00G?\\xd3Bn\\xf0\\x00\\x00\\x00G?\\xdf\\x05*\\xfc\\x00\\x00\\x00G?\\xd9@p\\x18\\x00\\x00\\x00G?\\xd6\\x06\\x0b$\\x00\\x00\\x00G?\\xe2\\x03\\n\\x1d\\x00\\x00\\x00G?\\xd3\\xa9\\xfeD\\x00\\x00\\x00G?\\xe2\\xf4\\x90\\xd1\\x00\\x00\\x00G?\\xd7A&\\xea\\x00\\x00\\x00G?\\xb3\\xcb\\xa5\\xa8\\x00\\x00\\x00eX\\x07\\x00\\x00\\x00randGTSq\\x07]q\\x08(G?\\xe1\\xe3\\xe9`/\\xde5G?\\xd6'\\xa7u`\\xd9\\xe6G?\\xbcf\\xbf\\xc3\\xa7Q8G?\\xe8v\\x92\\x82\\x1b\\x9f,G?\\xdf\\x99X\\xaf\\xd7O\\x18G?\\xda6Ac\\x8f\\x92\\xc2G?\\xee:\\xa5k\\xc6\\x1e\\xe2G?\\xea\\x0b\\xa8tJ\\xb8hG?\\xbd\\xf0\\xec\\x03\\xa7\\x87\\xa8G?\\xc0h\\xef\\x00\\xb8\\x8a\\xc0eu.\"\n",
      "\n"
     ]
    }
   ],
   "source": [
    "%%w -s s\n",
    "NEWGTS 'nogeoTS' RENAME 2 11 <% h NaN NaN NaN RAND ADDVALUE %> FOR\n",
    "false\n",
    "@GTStoPickledDict"
   ]
  },
  {
   "cell_type": "code",
   "execution_count": 8,
   "metadata": {},
   "outputs": [],
   "source": [
    "top  = s.pop()\n",
    "second = s.pop()\n",
    "third = s.pop()"
   ]
  },
  {
   "cell_type": "code",
   "execution_count": 9,
   "metadata": {},
   "outputs": [
    {
     "data": {
      "text/html": [
       "<div>\n",
       "<style scoped>\n",
       "    .dataframe tbody tr th:only-of-type {\n",
       "        vertical-align: middle;\n",
       "    }\n",
       "\n",
       "    .dataframe tbody tr th {\n",
       "        vertical-align: top;\n",
       "    }\n",
       "\n",
       "    .dataframe thead th {\n",
       "        text-align: right;\n",
       "    }\n",
       "</style>\n",
       "<table border=\"1\" class=\"dataframe\">\n",
       "  <thead>\n",
       "    <tr style=\"text-align: right;\">\n",
       "      <th></th>\n",
       "      <th>timestamps</th>\n",
       "      <th>nogeoTS</th>\n",
       "    </tr>\n",
       "  </thead>\n",
       "  <tbody>\n",
       "    <tr>\n",
       "      <th>0</th>\n",
       "      <td>7200000000</td>\n",
       "      <td>0.541743</td>\n",
       "    </tr>\n",
       "    <tr>\n",
       "      <th>1</th>\n",
       "      <td>10800000000</td>\n",
       "      <td>0.748936</td>\n",
       "    </tr>\n",
       "    <tr>\n",
       "      <th>2</th>\n",
       "      <td>14400000000</td>\n",
       "      <td>0.930484</td>\n",
       "    </tr>\n",
       "    <tr>\n",
       "      <th>3</th>\n",
       "      <td>18000000000</td>\n",
       "      <td>0.111782</td>\n",
       "    </tr>\n",
       "    <tr>\n",
       "      <th>4</th>\n",
       "      <td>21600000000</td>\n",
       "      <td>0.005596</td>\n",
       "    </tr>\n",
       "    <tr>\n",
       "      <th>5</th>\n",
       "      <td>25200000000</td>\n",
       "      <td>0.276481</td>\n",
       "    </tr>\n",
       "    <tr>\n",
       "      <th>6</th>\n",
       "      <td>28800000000</td>\n",
       "      <td>0.244368</td>\n",
       "    </tr>\n",
       "    <tr>\n",
       "      <th>7</th>\n",
       "      <td>32400000000</td>\n",
       "      <td>0.350911</td>\n",
       "    </tr>\n",
       "    <tr>\n",
       "      <th>8</th>\n",
       "      <td>36000000000</td>\n",
       "      <td>0.676411</td>\n",
       "    </tr>\n",
       "    <tr>\n",
       "      <th>9</th>\n",
       "      <td>39600000000</td>\n",
       "      <td>0.020326</td>\n",
       "    </tr>\n",
       "  </tbody>\n",
       "</table>\n",
       "</div>"
      ],
      "text/plain": [
       "    timestamps   nogeoTS\n",
       "0   7200000000  0.541743\n",
       "1  10800000000  0.748936\n",
       "2  14400000000  0.930484\n",
       "3  18000000000  0.111782\n",
       "4  21600000000  0.005596\n",
       "5  25200000000  0.276481\n",
       "6  28800000000  0.244368\n",
       "7  32400000000  0.350911\n",
       "8  36000000000  0.676411\n",
       "9  39600000000  0.020326"
      ]
     },
     "execution_count": 9,
     "metadata": {},
     "output_type": "execute_result"
    }
   ],
   "source": [
    "pd.DataFrame.from_dict(pkl.loads(top))"
   ]
  },
  {
   "cell_type": "code",
   "execution_count": 10,
   "metadata": {},
   "outputs": [
    {
     "data": {
      "text/html": [
       "<div>\n",
       "<style scoped>\n",
       "    .dataframe tbody tr th:only-of-type {\n",
       "        vertical-align: middle;\n",
       "    }\n",
       "\n",
       "    .dataframe tbody tr th {\n",
       "        vertical-align: top;\n",
       "    }\n",
       "\n",
       "    .dataframe thead th {\n",
       "        text-align: right;\n",
       "    }\n",
       "</style>\n",
       "<table border=\"1\" class=\"dataframe\">\n",
       "  <thead>\n",
       "    <tr style=\"text-align: right;\">\n",
       "      <th></th>\n",
       "      <th>timestamps</th>\n",
       "      <th>randGTS{k=v,key=value}.lat</th>\n",
       "      <th>randGTS{k=v,key=value}.lon</th>\n",
       "      <th>randGTS{k=v,key=value}</th>\n",
       "    </tr>\n",
       "  </thead>\n",
       "  <tbody>\n",
       "    <tr>\n",
       "      <th>0</th>\n",
       "      <td>3600000000</td>\n",
       "      <td>0.662123</td>\n",
       "      <td>0.776064</td>\n",
       "      <td>0.640035</td>\n",
       "    </tr>\n",
       "    <tr>\n",
       "      <th>1</th>\n",
       "      <td>7200000000</td>\n",
       "      <td>0.684573</td>\n",
       "      <td>0.170031</td>\n",
       "      <td>0.015048</td>\n",
       "    </tr>\n",
       "    <tr>\n",
       "      <th>2</th>\n",
       "      <td>10800000000</td>\n",
       "      <td>0.378603</td>\n",
       "      <td>0.583068</td>\n",
       "      <td>0.360209</td>\n",
       "    </tr>\n",
       "    <tr>\n",
       "      <th>3</th>\n",
       "      <td>14400000000</td>\n",
       "      <td>0.959515</td>\n",
       "      <td>0.020577</td>\n",
       "      <td>0.221583</td>\n",
       "    </tr>\n",
       "    <tr>\n",
       "      <th>4</th>\n",
       "      <td>18000000000</td>\n",
       "      <td>0.953209</td>\n",
       "      <td>0.930330</td>\n",
       "      <td>0.450334</td>\n",
       "    </tr>\n",
       "    <tr>\n",
       "      <th>5</th>\n",
       "      <td>21600000000</td>\n",
       "      <td>0.541751</td>\n",
       "      <td>0.016520</td>\n",
       "      <td>0.530493</td>\n",
       "    </tr>\n",
       "    <tr>\n",
       "      <th>6</th>\n",
       "      <td>25200000000</td>\n",
       "      <td>0.280286</td>\n",
       "      <td>0.390131</td>\n",
       "      <td>0.370876</td>\n",
       "    </tr>\n",
       "    <tr>\n",
       "      <th>7</th>\n",
       "      <td>28800000000</td>\n",
       "      <td>0.342798</td>\n",
       "      <td>0.804497</td>\n",
       "      <td>0.597459</td>\n",
       "    </tr>\n",
       "    <tr>\n",
       "      <th>8</th>\n",
       "      <td>32400000000</td>\n",
       "      <td>0.384920</td>\n",
       "      <td>0.335699</td>\n",
       "      <td>0.141782</td>\n",
       "    </tr>\n",
       "    <tr>\n",
       "      <th>9</th>\n",
       "      <td>36000000000</td>\n",
       "      <td>0.897232</td>\n",
       "      <td>0.218494</td>\n",
       "      <td>0.299991</td>\n",
       "    </tr>\n",
       "  </tbody>\n",
       "</table>\n",
       "</div>"
      ],
      "text/plain": [
       "    timestamps  randGTS{k=v,key=value}.lat  randGTS{k=v,key=value}.lon  \\\n",
       "0   3600000000                    0.662123                    0.776064   \n",
       "1   7200000000                    0.684573                    0.170031   \n",
       "2  10800000000                    0.378603                    0.583068   \n",
       "3  14400000000                    0.959515                    0.020577   \n",
       "4  18000000000                    0.953209                    0.930330   \n",
       "5  21600000000                    0.541751                    0.016520   \n",
       "6  25200000000                    0.280286                    0.390131   \n",
       "7  28800000000                    0.342798                    0.804497   \n",
       "8  32400000000                    0.384920                    0.335699   \n",
       "9  36000000000                    0.897232                    0.218494   \n",
       "\n",
       "   randGTS{k=v,key=value}  \n",
       "0                0.640035  \n",
       "1                0.015048  \n",
       "2                0.360209  \n",
       "3                0.221583  \n",
       "4                0.450334  \n",
       "5                0.530493  \n",
       "6                0.370876  \n",
       "7                0.597459  \n",
       "8                0.141782  \n",
       "9                0.299991  "
      ]
     },
     "execution_count": 10,
     "metadata": {},
     "output_type": "execute_result"
    }
   ],
   "source": [
    "pd.DataFrame.from_dict(pkl.loads(second))"
   ]
  },
  {
   "cell_type": "code",
   "execution_count": 11,
   "metadata": {},
   "outputs": [
    {
     "data": {
      "text/html": [
       "<div>\n",
       "<style scoped>\n",
       "    .dataframe tbody tr th:only-of-type {\n",
       "        vertical-align: middle;\n",
       "    }\n",
       "\n",
       "    .dataframe tbody tr th {\n",
       "        vertical-align: top;\n",
       "    }\n",
       "\n",
       "    .dataframe thead th {\n",
       "        text-align: right;\n",
       "    }\n",
       "</style>\n",
       "<table border=\"1\" class=\"dataframe\">\n",
       "  <thead>\n",
       "    <tr style=\"text-align: right;\">\n",
       "      <th></th>\n",
       "      <th>timestamps</th>\n",
       "      <th>randGTS.lat</th>\n",
       "      <th>randGTS.lon</th>\n",
       "      <th>randGTS</th>\n",
       "    </tr>\n",
       "  </thead>\n",
       "  <tbody>\n",
       "    <tr>\n",
       "      <th>0</th>\n",
       "      <td>3600000000</td>\n",
       "      <td>0.916257</td>\n",
       "      <td>0.600549</td>\n",
       "      <td>0.559071</td>\n",
       "    </tr>\n",
       "    <tr>\n",
       "      <th>1</th>\n",
       "      <td>7200000000</td>\n",
       "      <td>0.191666</td>\n",
       "      <td>0.300930</td>\n",
       "      <td>0.346170</td>\n",
       "    </tr>\n",
       "    <tr>\n",
       "      <th>2</th>\n",
       "      <td>10800000000</td>\n",
       "      <td>0.196247</td>\n",
       "      <td>0.484690</td>\n",
       "      <td>0.110943</td>\n",
       "    </tr>\n",
       "    <tr>\n",
       "      <th>3</th>\n",
       "      <td>14400000000</td>\n",
       "      <td>0.676083</td>\n",
       "      <td>0.394558</td>\n",
       "      <td>0.764474</td>\n",
       "    </tr>\n",
       "    <tr>\n",
       "      <th>4</th>\n",
       "      <td>18000000000</td>\n",
       "      <td>0.722590</td>\n",
       "      <td>0.344119</td>\n",
       "      <td>0.493735</td>\n",
       "    </tr>\n",
       "    <tr>\n",
       "      <th>5</th>\n",
       "      <td>21600000000</td>\n",
       "      <td>0.592230</td>\n",
       "      <td>0.562871</td>\n",
       "      <td>0.409561</td>\n",
       "    </tr>\n",
       "    <tr>\n",
       "      <th>6</th>\n",
       "      <td>25200000000</td>\n",
       "      <td>0.434855</td>\n",
       "      <td>0.307251</td>\n",
       "      <td>0.944659</td>\n",
       "    </tr>\n",
       "    <tr>\n",
       "      <th>7</th>\n",
       "      <td>28800000000</td>\n",
       "      <td>0.671267</td>\n",
       "      <td>0.592354</td>\n",
       "      <td>0.813923</td>\n",
       "    </tr>\n",
       "    <tr>\n",
       "      <th>8</th>\n",
       "      <td>32400000000</td>\n",
       "      <td>0.855047</td>\n",
       "      <td>0.363352</td>\n",
       "      <td>0.116957</td>\n",
       "    </tr>\n",
       "    <tr>\n",
       "      <th>9</th>\n",
       "      <td>36000000000</td>\n",
       "      <td>0.420830</td>\n",
       "      <td>0.077326</td>\n",
       "      <td>0.128202</td>\n",
       "    </tr>\n",
       "  </tbody>\n",
       "</table>\n",
       "</div>"
      ],
      "text/plain": [
       "    timestamps  randGTS.lat  randGTS.lon   randGTS\n",
       "0   3600000000     0.916257     0.600549  0.559071\n",
       "1   7200000000     0.191666     0.300930  0.346170\n",
       "2  10800000000     0.196247     0.484690  0.110943\n",
       "3  14400000000     0.676083     0.394558  0.764474\n",
       "4  18000000000     0.722590     0.344119  0.493735\n",
       "5  21600000000     0.592230     0.562871  0.409561\n",
       "6  25200000000     0.434855     0.307251  0.944659\n",
       "7  28800000000     0.671267     0.592354  0.813923\n",
       "8  32400000000     0.855047     0.363352  0.116957\n",
       "9  36000000000     0.420830     0.077326  0.128202"
      ]
     },
     "execution_count": 11,
     "metadata": {},
     "output_type": "execute_result"
    }
   ],
   "source": [
    "pd.DataFrame.from_dict(pkl.loads(third))"
   ]
  },
  {
   "cell_type": "code",
   "execution_count": 12,
   "metadata": {},
   "outputs": [],
   "source": [
    "s.push([])"
   ]
  },
  {
   "cell_type": "code",
   "execution_count": 13,
   "metadata": {},
   "outputs": [
    {
     "data": {
      "text/plain": [
       "top: \t[]"
      ]
     },
     "execution_count": 13,
     "metadata": {},
     "output_type": "execute_result"
    }
   ],
   "source": [
    "s"
   ]
  },
  {
   "cell_type": "code",
   "execution_count": 14,
   "metadata": {},
   "outputs": [
    {
     "name": "stdout",
     "output_type": "stream",
     "text": [
      "top: \t'LIST'\n",
      "\n"
     ]
    }
   ],
   "source": [
    "%%w -s s\n",
    "TYPEOF"
   ]
  },
  {
   "cell_type": "code",
   "execution_count": 15,
   "metadata": {},
   "outputs": [],
   "source": [
    "pp = pd.DataFrame.from_dict(pkl.loads(third)).to_dict('list')"
   ]
  },
  {
   "cell_type": "code",
   "execution_count": 16,
   "metadata": {},
   "outputs": [
    {
     "data": {
      "text/plain": [
       "{'timestamps': [3600000000,\n",
       "  7200000000,\n",
       "  10800000000,\n",
       "  14400000000,\n",
       "  18000000000,\n",
       "  21600000000,\n",
       "  25200000000,\n",
       "  28800000000,\n",
       "  32400000000,\n",
       "  36000000000],\n",
       " 'randGTS.lat': [0.916256639175117,\n",
       "  0.19166558515280485,\n",
       "  0.1962474687024951,\n",
       "  0.6760833878070116,\n",
       "  0.7225895812734962,\n",
       "  0.5922297807410359,\n",
       "  0.4348549386486411,\n",
       "  0.6712665595114231,\n",
       "  0.8550471626222134,\n",
       "  0.4208297934383154],\n",
       " 'randGTS.lon': [0.6005489453673363,\n",
       "  0.3009297698736191,\n",
       "  0.48469042405486107,\n",
       "  0.39455797523260117,\n",
       "  0.3441188670694828,\n",
       "  0.5628710333257914,\n",
       "  0.30725056305527687,\n",
       "  0.5923542100936174,\n",
       "  0.3633515629917383,\n",
       "  0.07732615806162357],\n",
       " 'randGTS': [0.5590712431575812,\n",
       "  0.3461702963135437,\n",
       "  0.11094282652567677,\n",
       "  0.7644741574449418,\n",
       "  0.49373452350595093,\n",
       "  0.409561488368393,\n",
       "  0.9446589570006518,\n",
       "  0.8139230986905774,\n",
       "  0.11695742692202649,\n",
       "  0.12820231948088257]}"
      ]
     },
     "execution_count": 16,
     "metadata": {},
     "output_type": "execute_result"
    }
   ],
   "source": [
    "pp"
   ]
  },
  {
   "cell_type": "code",
   "execution_count": 17,
   "metadata": {},
   "outputs": [],
   "source": [
    "s.push(pp)"
   ]
  },
  {
   "cell_type": "code",
   "execution_count": 18,
   "metadata": {},
   "outputs": [
    {
     "data": {
      "text/plain": [
       "top: \t{'randGTS.lat': [0.916256639175117, 0.19166558515280485, 0.1962474687024951, 0.6760833878070116, 0.7225895812734962, 0.5922297807410359, 0.4348549386486411, 0.6712665595114231, 0.8550471626222134, 0.4208297934383154], 'timestamps': [3600000000, 7200000000, 10800000000, 14400000000, 18000000000, 21600000000, 25200000000, 28800000000, 32400000000, 36000000000], 'randGTS': [0.5590712431575812, 0.3461702963135437, 0.11094282652567677, 0.7644741574449418, 0.49373452350595093, 0.409561488368393, 0.9446589570006518, 0.8139230986905774, 0.11695742692202649, 0.12820231948088257], 'randGTS.lon': [0.6005489453673363, 0.3009297698736191, 0.48469042405486107, 0.39455797523260117, 0.3441188670694828, 0.5628710333257914, 0.30725056305527687, 0.5923542100936174, 0.3633515629917383, 0.07732615806162357]}\n",
       "1: \t'LIST'"
      ]
     },
     "execution_count": 18,
     "metadata": {},
     "output_type": "execute_result"
    }
   ],
   "source": [
    "s"
   ]
  },
  {
   "cell_type": "code",
   "execution_count": null,
   "metadata": {},
   "outputs": [],
   "source": []
  }
 ],
 "metadata": {
  "kernelspec": {
   "display_name": "Python 3",
   "language": "python",
   "name": "python3"
  },
  "language_info": {
   "codemirror_mode": {
    "name": "ipython",
    "version": 3
   },
   "file_extension": ".py",
   "mimetype": "text/x-python",
   "name": "python",
   "nbconvert_exporter": "python",
   "pygments_lexer": "ipython3",
   "version": "3.6.6"
  },
  "toc": {
   "base_numbering": 1,
   "nav_menu": {},
   "number_sections": false,
   "sideBar": false,
   "skip_h1_title": false,
   "title_cell": "Table of Contents",
   "title_sidebar": "Contents",
   "toc_cell": false,
   "toc_position": {},
   "toc_section_display": false,
   "toc_window_display": false
  }
 },
 "nbformat": 4,
 "nbformat_minor": 2
}
